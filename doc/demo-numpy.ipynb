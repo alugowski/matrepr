{
 "cells": [
  {
   "cell_type": "markdown",
   "metadata": {
    "collapsed": false,
    "jupyter": {
     "outputs_hidden": false
    }
   },
   "source": [
    "# MatRepr numpy"
   ]
  },
  {
   "cell_type": "code",
   "execution_count": 1,
   "metadata": {
    "collapsed": false,
    "jupyter": {
     "outputs_hidden": false
    },
    "ExecuteTime": {
     "end_time": "2023-08-30T08:19:15.052572Z",
     "start_time": "2023-08-30T08:19:14.905945Z"
    }
   },
   "outputs": [],
   "source": [
    "import numpy as np\n",
    "np.random.seed(123)\n",
    "\n",
    "# so matrepr can be imported from the source tree.\n",
    "import sys\n",
    "sys.path.insert(0, '..')\n",
    "\n",
    "from matrepr import mdisplay"
   ]
  },
  {
   "cell_type": "markdown",
   "source": [
    "## NumPy\n",
    "\n",
    "Compare:\n",
    "\n",
    " * numpy's native `str`\n",
    " * MatRepr `str`\n",
    " * MatRepr HTML\n",
    " * MatRepr LaTeX"
   ],
   "metadata": {
    "collapsed": false
   }
  },
  {
   "cell_type": "code",
   "execution_count": 2,
   "outputs": [],
   "source": [
    "def render_all(mat):\n",
    "    print(f\"shape: {mat.shape}\")\n",
    "    print(mat)\n",
    "    mdisplay(mat, \"str\", txt_width=100)\n",
    "    mdisplay(mat, \"html\")\n",
    "    mdisplay(mat, \"latex\")"
   ],
   "metadata": {
    "collapsed": false,
    "ExecuteTime": {
     "end_time": "2023-08-30T08:19:15.069051Z",
     "start_time": "2023-08-30T08:19:15.055268Z"
    }
   }
  },
  {
   "cell_type": "markdown",
   "source": [
    "#### A long vector"
   ],
   "metadata": {
    "collapsed": false
   }
  },
  {
   "cell_type": "code",
   "execution_count": 3,
   "outputs": [
    {
     "name": "stdout",
     "output_type": "stream",
     "text": [
      "shape: (40,)\n",
      "[10 11 12 13 14 15 16 17 18 19 20 21 22 23 24 25 26 27 28 29 30 31 32 33\n",
      " 34 35 36 37 38 39 40 41 42 43 44 45 46 47 48 49]\n"
     ]
    },
    {
     "data": {
      "text/plain": "length=40, 40 'int64' elements, array\n  0    1    2    3    4    5    6         34    35    36    37    38    39\n[10   11   12   13   14   15   22   ...   44    45    46    47    48    49 ]"
     },
     "metadata": {},
     "output_type": "display_data"
    },
    {
     "data": {
      "text/plain": "<IPython.core.display.HTML object>",
      "text/html": "<div>\n<style scoped>\n    table.matreprmatrix  {\n        border-collapse: collapse;\n    }\n    table.matreprmatrix > thead  {\n        border: 0px;\n    }\n    table.matreprmatrix > tbody tr th {\n        font-size: smaller;\n        vertical-align: middle;\n        text-align: right;\n    }\n    table.matreprmatrix > thead tr th {\n        font-size: smaller;\n        vertical-align: middle;\n        text-align: center;\n    }\n    table.matreprmatrix > tbody tr td {\n        vertical-align: middle;\n        text-align: center;\n        position: relative;\n    }\n    table.matreprmatrix > tbody tr td:first-of-type {\n        border-left: solid 2px;\n    }\n    table.matreprmatrix > tbody tr td:last-of-type {\n        border-right: solid 2px;\n    }\n    table.matreprmatrix > tbody tr td:empty::before {\n        content: \"\\00a0\\00a0\\00a0\";\n        visibility: hidden;\n    }\n    table.matreprmatrix > tbody tr td:empty::after {\n        content: \"\\00a0\\00a0\\00a0\";\n        visibility: hidden;\n    }\n    table.matreprmatrix > tbody > tr:first-child > td:first-of-type::before {\n        content: \"\";\n        width: 4px;\n        position: absolute;\n        top: 0;\n        bottom: 0;\n        visibility: visible;\n        left: 0;\n        right: auto;\n        border-top: solid 2px;\n    }\n    table.matreprmatrix > tbody > tr:last-child > td:first-of-type::before {\n        content: \"\";\n        width: 4px;\n        position: absolute;\n        top: 0;\n        bottom: 0;\n        visibility: visible;\n        left: 0;\n        right: auto;\n        border-bottom: solid 2px;\n    }\n    table.matreprmatrix > tbody > tr:first-child > td:last-of-type::after {\n        content: \"\";\n        width: 4px;\n        position: absolute;\n        top: 0;\n        bottom: 0;\n        visibility: visible;\n        left: auto;\n        right: 0;\n        border-top: solid 2px;\n    }\n    table.matreprmatrix > tbody > tr:last-child > td:last-of-type::after {\n        content: \"\";\n        width: 4px;\n        position: absolute;\n        top: 0;\n        bottom: 0;\n        visibility: visible;\n        left: auto;\n        right: 0;\n        border-bottom: solid 2px;\n    }\n    table.matreprtensor > tbody tr th {\n        font-size: smaller;\n        vertical-align: middle;\n        text-align: right;\n    }\n    table.matreprtensor > thead tr th {\n        font-size: smaller;\n        vertical-align: middle;\n        text-align: center;\n    }\n    table.matreprtensor > tbody tr td {\n        vertical-align: middle;\n        text-align: center;\n        position: relative;\n    }\n    table.matreprtensor > tbody tr th:last-of-type {\n        border-right: solid 2px;\n    }\n</style>\n<p>length=40, 40 'int64' elements, array</p>\n<table class=\"matreprmatrix\">\n    <thead>\n    <tr>\n        <th style=\"text-align: center;\">0</th>\n        <th style=\"text-align: center;\">1</th>\n        <th style=\"text-align: center;\">2</th>\n        <th style=\"text-align: center;\">3</th>\n        <th style=\"text-align: center;\">4</th>\n        <th style=\"text-align: center;\">5</th>\n        <th style=\"text-align: center;\">6</th>\n        <th style=\"text-align: center;\"></th>\n        <th style=\"text-align: center;\">33</th>\n        <th style=\"text-align: center;\">34</th>\n        <th style=\"text-align: center;\">35</th>\n        <th style=\"text-align: center;\">36</th>\n        <th style=\"text-align: center;\">37</th>\n        <th style=\"text-align: center;\">38</th>\n        <th style=\"text-align: center;\">39</th>\n    </tr>\n    </thead>\n    <tbody>\n    <tr>\n        <td>10</td>\n        <td>11</td>\n        <td>12</td>\n        <td>13</td>\n        <td>14</td>\n        <td>15</td>\n        <td>16</td>\n        <td>&ctdot;</td>\n        <td>43</td>\n        <td>44</td>\n        <td>45</td>\n        <td>46</td>\n        <td>47</td>\n        <td>48</td>\n        <td>49</td>\n    </tr>\n    </tbody>\n</table>\n</div>"
     },
     "metadata": {},
     "output_type": "display_data"
    },
    {
     "data": {
      "text/plain": "<IPython.core.display.Latex object>",
      "text/latex": "$\\begin{bmatrix}\n    \\textrm{10} & \\textrm{11} & \\textrm{12} & \\textrm{13} & \\textrm{14} & \\textrm{15} & \\textrm{16} & \\dots & \\textrm{43} & \\textrm{44} & \\textrm{45} & \\textrm{46} & \\textrm{47} & \\textrm{48} & \\textrm{49}\n\\end{bmatrix}$"
     },
     "metadata": {},
     "output_type": "display_data"
    }
   ],
   "source": [
    "v1 = np.arange(10, 50)\n",
    "render_all(v1)"
   ],
   "metadata": {
    "collapsed": false,
    "ExecuteTime": {
     "end_time": "2023-08-30T08:19:15.109014Z",
     "start_time": "2023-08-30T08:19:15.060487Z"
    }
   }
  },
  {
   "cell_type": "markdown",
   "source": [
    "#### A small 2D matrix"
   ],
   "metadata": {
    "collapsed": false
   }
  },
  {
   "cell_type": "code",
   "execution_count": 4,
   "metadata": {
    "collapsed": false,
    "jupyter": {
     "outputs_hidden": false
    },
    "ExecuteTime": {
     "end_time": "2023-08-30T08:19:15.114043Z",
     "start_time": "2023-08-30T08:19:15.083538Z"
    }
   },
   "outputs": [
    {
     "name": "stdout",
     "output_type": "stream",
     "text": [
      "shape: (2, 2)\n",
      "[[1 2]\n",
      " [3 4]]\n"
     ]
    },
    {
     "data": {
      "text/plain": "2×2, 4 'int64' elements, array\n     0     1\n  ┌           ┐\n0 │  1     2  │\n1 │  3     4  │\n  └           ┘"
     },
     "metadata": {},
     "output_type": "display_data"
    },
    {
     "data": {
      "text/plain": "<IPython.core.display.HTML object>",
      "text/html": "<div>\n<style scoped>\n    table.matreprmatrix  {\n        border-collapse: collapse;\n    }\n    table.matreprmatrix > thead  {\n        border: 0px;\n    }\n    table.matreprmatrix > tbody tr th {\n        font-size: smaller;\n        vertical-align: middle;\n        text-align: right;\n    }\n    table.matreprmatrix > thead tr th {\n        font-size: smaller;\n        vertical-align: middle;\n        text-align: center;\n    }\n    table.matreprmatrix > tbody tr td {\n        vertical-align: middle;\n        text-align: center;\n        position: relative;\n    }\n    table.matreprmatrix > tbody tr td:first-of-type {\n        border-left: solid 2px;\n    }\n    table.matreprmatrix > tbody tr td:last-of-type {\n        border-right: solid 2px;\n    }\n    table.matreprmatrix > tbody tr td:empty::before {\n        content: \"\\00a0\\00a0\\00a0\";\n        visibility: hidden;\n    }\n    table.matreprmatrix > tbody tr td:empty::after {\n        content: \"\\00a0\\00a0\\00a0\";\n        visibility: hidden;\n    }\n    table.matreprmatrix > tbody > tr:first-child > td:first-of-type::before {\n        content: \"\";\n        width: 4px;\n        position: absolute;\n        top: 0;\n        bottom: 0;\n        visibility: visible;\n        left: 0;\n        right: auto;\n        border-top: solid 2px;\n    }\n    table.matreprmatrix > tbody > tr:last-child > td:first-of-type::before {\n        content: \"\";\n        width: 4px;\n        position: absolute;\n        top: 0;\n        bottom: 0;\n        visibility: visible;\n        left: 0;\n        right: auto;\n        border-bottom: solid 2px;\n    }\n    table.matreprmatrix > tbody > tr:first-child > td:last-of-type::after {\n        content: \"\";\n        width: 4px;\n        position: absolute;\n        top: 0;\n        bottom: 0;\n        visibility: visible;\n        left: auto;\n        right: 0;\n        border-top: solid 2px;\n    }\n    table.matreprmatrix > tbody > tr:last-child > td:last-of-type::after {\n        content: \"\";\n        width: 4px;\n        position: absolute;\n        top: 0;\n        bottom: 0;\n        visibility: visible;\n        left: auto;\n        right: 0;\n        border-bottom: solid 2px;\n    }\n    table.matreprtensor > tbody tr th {\n        font-size: smaller;\n        vertical-align: middle;\n        text-align: right;\n    }\n    table.matreprtensor > thead tr th {\n        font-size: smaller;\n        vertical-align: middle;\n        text-align: center;\n    }\n    table.matreprtensor > tbody tr td {\n        vertical-align: middle;\n        text-align: center;\n        position: relative;\n    }\n    table.matreprtensor > tbody tr th:last-of-type {\n        border-right: solid 2px;\n    }\n</style>\n<p>2×2, 4 'int64' elements, array</p>\n<table class=\"matreprmatrix\">\n    <thead>\n    <tr>\n        <th></th>\n        <th style=\"text-align: center;\">0</th>\n        <th style=\"text-align: center;\">1</th>\n    </tr>\n    </thead>\n    <tbody>\n    <tr>\n        <th>0</th>\n        <td>1</td>\n        <td>2</td>\n    </tr>\n    <tr>\n        <th>1</th>\n        <td>3</td>\n        <td>4</td>\n    </tr>\n    </tbody>\n</table>\n</div>"
     },
     "metadata": {},
     "output_type": "display_data"
    },
    {
     "data": {
      "text/plain": "<IPython.core.display.Latex object>",
      "text/latex": "$\\begin{bmatrix}\n    \\textrm{1} & \\textrm{2} \\\\\n    \\textrm{3} & \\textrm{4}\n\\end{bmatrix}$"
     },
     "metadata": {},
     "output_type": "display_data"
    }
   ],
   "source": [
    "a1 = np.array([[1, 2], [3, 4]])\n",
    "render_all(a1)"
   ]
  },
  {
   "cell_type": "markdown",
   "source": [
    "#### A small 3D matrix"
   ],
   "metadata": {
    "collapsed": false
   }
  },
  {
   "cell_type": "code",
   "execution_count": 5,
   "outputs": [
    {
     "name": "stdout",
     "output_type": "stream",
     "text": [
      "shape: (2, 2, 2)\n",
      "[[[ 1  2]\n",
      "  [ 3  4]]\n",
      "\n",
      " [[10 20]\n",
      "  [30 40]]]\n"
     ]
    },
    {
     "data": {
      "text/plain": "shape=(2,2,2), 8 'int64' elements, array\n       0         1\n  ┌                   ┐\n0 │  [1 2]     [3 4]  │\n1 │ [10 20]   [30 40] │\n  └                   ┘"
     },
     "metadata": {},
     "output_type": "display_data"
    },
    {
     "data": {
      "text/plain": "<IPython.core.display.HTML object>",
      "text/html": "<div>\n<style scoped>\n    table.matreprmatrix  {\n        border-collapse: collapse;\n    }\n    table.matreprmatrix > thead  {\n        border: 0px;\n    }\n    table.matreprmatrix > tbody tr th {\n        font-size: smaller;\n        vertical-align: middle;\n        text-align: right;\n    }\n    table.matreprmatrix > thead tr th {\n        font-size: smaller;\n        vertical-align: middle;\n        text-align: center;\n    }\n    table.matreprmatrix > tbody tr td {\n        vertical-align: middle;\n        text-align: center;\n        position: relative;\n    }\n    table.matreprmatrix > tbody tr td:first-of-type {\n        border-left: solid 2px;\n    }\n    table.matreprmatrix > tbody tr td:last-of-type {\n        border-right: solid 2px;\n    }\n    table.matreprmatrix > tbody tr td:empty::before {\n        content: \"\\00a0\\00a0\\00a0\";\n        visibility: hidden;\n    }\n    table.matreprmatrix > tbody tr td:empty::after {\n        content: \"\\00a0\\00a0\\00a0\";\n        visibility: hidden;\n    }\n    table.matreprmatrix > tbody > tr:first-child > td:first-of-type::before {\n        content: \"\";\n        width: 4px;\n        position: absolute;\n        top: 0;\n        bottom: 0;\n        visibility: visible;\n        left: 0;\n        right: auto;\n        border-top: solid 2px;\n    }\n    table.matreprmatrix > tbody > tr:last-child > td:first-of-type::before {\n        content: \"\";\n        width: 4px;\n        position: absolute;\n        top: 0;\n        bottom: 0;\n        visibility: visible;\n        left: 0;\n        right: auto;\n        border-bottom: solid 2px;\n    }\n    table.matreprmatrix > tbody > tr:first-child > td:last-of-type::after {\n        content: \"\";\n        width: 4px;\n        position: absolute;\n        top: 0;\n        bottom: 0;\n        visibility: visible;\n        left: auto;\n        right: 0;\n        border-top: solid 2px;\n    }\n    table.matreprmatrix > tbody > tr:last-child > td:last-of-type::after {\n        content: \"\";\n        width: 4px;\n        position: absolute;\n        top: 0;\n        bottom: 0;\n        visibility: visible;\n        left: auto;\n        right: 0;\n        border-bottom: solid 2px;\n    }\n    table.matreprtensor > tbody tr th {\n        font-size: smaller;\n        vertical-align: middle;\n        text-align: right;\n    }\n    table.matreprtensor > thead tr th {\n        font-size: smaller;\n        vertical-align: middle;\n        text-align: center;\n    }\n    table.matreprtensor > tbody tr td {\n        vertical-align: middle;\n        text-align: center;\n        position: relative;\n    }\n    table.matreprtensor > tbody tr th:last-of-type {\n        border-right: solid 2px;\n    }\n</style>\n<p>shape=(2,2,2), 8 'int64' elements, array</p>\n<table class=\"matreprmatrix\">\n    <thead>\n    <tr>\n        <th></th>\n        <th style=\"text-align: center;\">0</th>\n        <th style=\"text-align: center;\">1</th>\n    </tr>\n    </thead>\n    <tbody>\n    <tr>\n        <th>0</th>\n        <td>\n            <table class=\"matreprmatrix\" style=\"margin: 0 auto;\">\n                <tbody>\n                <tr>\n                    <td>1</td>\n                    <td>2</td>\n                </tr>\n                </tbody>\n            </table></td>\n        <td>\n            <table class=\"matreprmatrix\" style=\"margin: 0 auto;\">\n                <tbody>\n                <tr>\n                    <td>3</td>\n                    <td>4</td>\n                </tr>\n                </tbody>\n            </table></td>\n    </tr>\n    <tr>\n        <th>1</th>\n        <td>\n            <table class=\"matreprmatrix\" style=\"margin: 0 auto;\">\n                <tbody>\n                <tr>\n                    <td>10</td>\n                    <td>20</td>\n                </tr>\n                </tbody>\n            </table></td>\n        <td>\n            <table class=\"matreprmatrix\" style=\"margin: 0 auto;\">\n                <tbody>\n                <tr>\n                    <td>30</td>\n                    <td>40</td>\n                </tr>\n                </tbody>\n            </table></td>\n    </tr>\n    </tbody>\n</table>\n</div>"
     },
     "metadata": {},
     "output_type": "display_data"
    },
    {
     "data": {
      "text/plain": "<IPython.core.display.Latex object>",
      "text/latex": "$\\begin{bmatrix}\n    \\begin{bmatrix}\n    \\textrm{1} & \\textrm{2}\n\\end{bmatrix} & \\begin{bmatrix}\n    \\textrm{3} & \\textrm{4}\n\\end{bmatrix} \\\\\n    \\begin{bmatrix}\n    \\textrm{10} & \\textrm{20}\n\\end{bmatrix} & \\begin{bmatrix}\n    \\textrm{30} & \\textrm{40}\n\\end{bmatrix}\n\\end{bmatrix}$"
     },
     "metadata": {},
     "output_type": "display_data"
    }
   ],
   "source": [
    "a2 = np.array([\n",
    "    [[1, 2], [3, 4]],\n",
    "    [[10, 20], [30, 40]],\n",
    "])\n",
    "render_all(a2)"
   ],
   "metadata": {
    "collapsed": false,
    "ExecuteTime": {
     "end_time": "2023-08-30T08:19:15.120275Z",
     "start_time": "2023-08-30T08:19:15.108061Z"
    }
   }
  },
  {
   "cell_type": "markdown",
   "source": [
    "#### A small 4D matrix"
   ],
   "metadata": {
    "collapsed": false
   }
  },
  {
   "cell_type": "code",
   "execution_count": 6,
   "outputs": [
    {
     "name": "stdout",
     "output_type": "stream",
     "text": [
      "shape: (4, 3, 2, 1)\n",
      "[[[[ 0]\n",
      "   [ 1]]\n",
      "\n",
      "  [[ 2]\n",
      "   [ 3]]\n",
      "\n",
      "  [[ 4]\n",
      "   [ 5]]]\n",
      "\n",
      "\n",
      " [[[ 6]\n",
      "   [ 7]]\n",
      "\n",
      "  [[ 8]\n",
      "   [ 9]]\n",
      "\n",
      "  [[10]\n",
      "   [11]]]\n",
      "\n",
      "\n",
      " [[[12]\n",
      "   [13]]\n",
      "\n",
      "  [[14]\n",
      "   [15]]\n",
      "\n",
      "  [[16]\n",
      "   [17]]]\n",
      "\n",
      "\n",
      " [[[18]\n",
      "   [19]]\n",
      "\n",
      "  [[20]\n",
      "   [21]]\n",
      "\n",
      "  [[22]\n",
      "   [23]]]]\n"
     ]
    },
    {
     "data": {
      "text/plain": "shape=(4,3,2,1), 24 'int64' elements, array\n         0             1             2\n  ┌                                         ┐\n0 │  [[0] [1]]     [[2] [3]]     [[4] [5]]  │\n1 │  [[6] [7]]     [[8] [9]]    [[10] [11]] │\n2 │ [[12] [13]]   [[14] [15]]   [[16] [17]] │\n3 │ [[18] [19]]   [[20] [21]]   [[22] [23]] │\n  └                                         ┘"
     },
     "metadata": {},
     "output_type": "display_data"
    },
    {
     "data": {
      "text/plain": "<IPython.core.display.HTML object>",
      "text/html": "<div>\n<style scoped>\n    table.matreprmatrix  {\n        border-collapse: collapse;\n    }\n    table.matreprmatrix > thead  {\n        border: 0px;\n    }\n    table.matreprmatrix > tbody tr th {\n        font-size: smaller;\n        vertical-align: middle;\n        text-align: right;\n    }\n    table.matreprmatrix > thead tr th {\n        font-size: smaller;\n        vertical-align: middle;\n        text-align: center;\n    }\n    table.matreprmatrix > tbody tr td {\n        vertical-align: middle;\n        text-align: center;\n        position: relative;\n    }\n    table.matreprmatrix > tbody tr td:first-of-type {\n        border-left: solid 2px;\n    }\n    table.matreprmatrix > tbody tr td:last-of-type {\n        border-right: solid 2px;\n    }\n    table.matreprmatrix > tbody tr td:empty::before {\n        content: \"\\00a0\\00a0\\00a0\";\n        visibility: hidden;\n    }\n    table.matreprmatrix > tbody tr td:empty::after {\n        content: \"\\00a0\\00a0\\00a0\";\n        visibility: hidden;\n    }\n    table.matreprmatrix > tbody > tr:first-child > td:first-of-type::before {\n        content: \"\";\n        width: 4px;\n        position: absolute;\n        top: 0;\n        bottom: 0;\n        visibility: visible;\n        left: 0;\n        right: auto;\n        border-top: solid 2px;\n    }\n    table.matreprmatrix > tbody > tr:last-child > td:first-of-type::before {\n        content: \"\";\n        width: 4px;\n        position: absolute;\n        top: 0;\n        bottom: 0;\n        visibility: visible;\n        left: 0;\n        right: auto;\n        border-bottom: solid 2px;\n    }\n    table.matreprmatrix > tbody > tr:first-child > td:last-of-type::after {\n        content: \"\";\n        width: 4px;\n        position: absolute;\n        top: 0;\n        bottom: 0;\n        visibility: visible;\n        left: auto;\n        right: 0;\n        border-top: solid 2px;\n    }\n    table.matreprmatrix > tbody > tr:last-child > td:last-of-type::after {\n        content: \"\";\n        width: 4px;\n        position: absolute;\n        top: 0;\n        bottom: 0;\n        visibility: visible;\n        left: auto;\n        right: 0;\n        border-bottom: solid 2px;\n    }\n    table.matreprtensor > tbody tr th {\n        font-size: smaller;\n        vertical-align: middle;\n        text-align: right;\n    }\n    table.matreprtensor > thead tr th {\n        font-size: smaller;\n        vertical-align: middle;\n        text-align: center;\n    }\n    table.matreprtensor > tbody tr td {\n        vertical-align: middle;\n        text-align: center;\n        position: relative;\n    }\n    table.matreprtensor > tbody tr th:last-of-type {\n        border-right: solid 2px;\n    }\n</style>\n<p>shape=(4,3,2,1), 24 'int64' elements, array</p>\n<table class=\"matreprmatrix\">\n    <thead>\n    <tr>\n        <th></th>\n        <th style=\"text-align: center;\">0</th>\n        <th style=\"text-align: center;\">1</th>\n        <th style=\"text-align: center;\">2</th>\n    </tr>\n    </thead>\n    <tbody>\n    <tr>\n        <th>0</th>\n        <td>\n            <table class=\"matreprmatrix\" style=\"margin: 0 auto;\">\n                <tbody>\n                <tr>\n                    <td>0</td>\n                </tr>\n                <tr>\n                    <td>1</td>\n                </tr>\n                </tbody>\n            </table></td>\n        <td>\n            <table class=\"matreprmatrix\" style=\"margin: 0 auto;\">\n                <tbody>\n                <tr>\n                    <td>2</td>\n                </tr>\n                <tr>\n                    <td>3</td>\n                </tr>\n                </tbody>\n            </table></td>\n        <td>\n            <table class=\"matreprmatrix\" style=\"margin: 0 auto;\">\n                <tbody>\n                <tr>\n                    <td>4</td>\n                </tr>\n                <tr>\n                    <td>5</td>\n                </tr>\n                </tbody>\n            </table></td>\n    </tr>\n    <tr>\n        <th>1</th>\n        <td>\n            <table class=\"matreprmatrix\" style=\"margin: 0 auto;\">\n                <tbody>\n                <tr>\n                    <td>6</td>\n                </tr>\n                <tr>\n                    <td>7</td>\n                </tr>\n                </tbody>\n            </table></td>\n        <td>\n            <table class=\"matreprmatrix\" style=\"margin: 0 auto;\">\n                <tbody>\n                <tr>\n                    <td>8</td>\n                </tr>\n                <tr>\n                    <td>9</td>\n                </tr>\n                </tbody>\n            </table></td>\n        <td>\n            <table class=\"matreprmatrix\" style=\"margin: 0 auto;\">\n                <tbody>\n                <tr>\n                    <td>10</td>\n                </tr>\n                <tr>\n                    <td>11</td>\n                </tr>\n                </tbody>\n            </table></td>\n    </tr>\n    <tr>\n        <th>2</th>\n        <td>\n            <table class=\"matreprmatrix\" style=\"margin: 0 auto;\">\n                <tbody>\n                <tr>\n                    <td>12</td>\n                </tr>\n                <tr>\n                    <td>13</td>\n                </tr>\n                </tbody>\n            </table></td>\n        <td>\n            <table class=\"matreprmatrix\" style=\"margin: 0 auto;\">\n                <tbody>\n                <tr>\n                    <td>14</td>\n                </tr>\n                <tr>\n                    <td>15</td>\n                </tr>\n                </tbody>\n            </table></td>\n        <td>\n            <table class=\"matreprmatrix\" style=\"margin: 0 auto;\">\n                <tbody>\n                <tr>\n                    <td>16</td>\n                </tr>\n                <tr>\n                    <td>17</td>\n                </tr>\n                </tbody>\n            </table></td>\n    </tr>\n    <tr>\n        <th>3</th>\n        <td>\n            <table class=\"matreprmatrix\" style=\"margin: 0 auto;\">\n                <tbody>\n                <tr>\n                    <td>18</td>\n                </tr>\n                <tr>\n                    <td>19</td>\n                </tr>\n                </tbody>\n            </table></td>\n        <td>\n            <table class=\"matreprmatrix\" style=\"margin: 0 auto;\">\n                <tbody>\n                <tr>\n                    <td>20</td>\n                </tr>\n                <tr>\n                    <td>21</td>\n                </tr>\n                </tbody>\n            </table></td>\n        <td>\n            <table class=\"matreprmatrix\" style=\"margin: 0 auto;\">\n                <tbody>\n                <tr>\n                    <td>22</td>\n                </tr>\n                <tr>\n                    <td>23</td>\n                </tr>\n                </tbody>\n            </table></td>\n    </tr>\n    </tbody>\n</table>\n</div>"
     },
     "metadata": {},
     "output_type": "display_data"
    },
    {
     "data": {
      "text/plain": "<IPython.core.display.Latex object>",
      "text/latex": "$\\begin{bmatrix}\n    \\begin{bmatrix}\n    \\textrm{0} \\\\\n    \\textrm{1}\n\\end{bmatrix} & \\begin{bmatrix}\n    \\textrm{2} \\\\\n    \\textrm{3}\n\\end{bmatrix} & \\begin{bmatrix}\n    \\textrm{4} \\\\\n    \\textrm{5}\n\\end{bmatrix} \\\\\n    \\begin{bmatrix}\n    \\textrm{6} \\\\\n    \\textrm{7}\n\\end{bmatrix} & \\begin{bmatrix}\n    \\textrm{8} \\\\\n    \\textrm{9}\n\\end{bmatrix} & \\begin{bmatrix}\n    \\textrm{10} \\\\\n    \\textrm{11}\n\\end{bmatrix} \\\\\n    \\begin{bmatrix}\n    \\textrm{12} \\\\\n    \\textrm{13}\n\\end{bmatrix} & \\begin{bmatrix}\n    \\textrm{14} \\\\\n    \\textrm{15}\n\\end{bmatrix} & \\begin{bmatrix}\n    \\textrm{16} \\\\\n    \\textrm{17}\n\\end{bmatrix} \\\\\n    \\begin{bmatrix}\n    \\textrm{18} \\\\\n    \\textrm{19}\n\\end{bmatrix} & \\begin{bmatrix}\n    \\textrm{20} \\\\\n    \\textrm{21}\n\\end{bmatrix} & \\begin{bmatrix}\n    \\textrm{22} \\\\\n    \\textrm{23}\n\\end{bmatrix}\n\\end{bmatrix}$"
     },
     "metadata": {},
     "output_type": "display_data"
    }
   ],
   "source": [
    "shape = (4,3,2,1)\n",
    "a3 = np.arange(np.prod(shape)).reshape(shape)\n",
    "render_all(a3)"
   ],
   "metadata": {
    "collapsed": false,
    "ExecuteTime": {
     "end_time": "2023-08-30T08:19:15.187854Z",
     "start_time": "2023-08-30T08:19:15.120678Z"
    }
   }
  },
  {
   "cell_type": "code",
   "execution_count": 7,
   "outputs": [
    {
     "name": "stdout",
     "output_type": "stream",
     "text": [
      "shape: (2, 2, 2, 2)\n",
      "[[[[0.69646919 0.28613933]\n",
      "   [0.22685145 0.55131477]]\n",
      "\n",
      "  [[0.71946897 0.42310646]\n",
      "   [0.9807642  0.68482974]]]\n",
      "\n",
      "\n",
      " [[[0.4809319  0.39211752]\n",
      "   [0.34317802 0.72904971]]\n",
      "\n",
      "  [[0.43857224 0.0596779 ]\n",
      "   [0.39804426 0.73799541]]]]\n"
     ]
    },
    {
     "data": {
      "text/plain": "shape=(2,2,2,2), 16 'float64' elements, array\n  \n  ┌     ┐\n0 │ ... │\n1 │ ... │\n  └     ┘"
     },
     "metadata": {},
     "output_type": "display_data"
    },
    {
     "data": {
      "text/plain": "<IPython.core.display.HTML object>",
      "text/html": "<div>\n<style scoped>\n    table.matreprmatrix  {\n        border-collapse: collapse;\n    }\n    table.matreprmatrix > thead  {\n        border: 0px;\n    }\n    table.matreprmatrix > tbody tr th {\n        font-size: smaller;\n        vertical-align: middle;\n        text-align: right;\n    }\n    table.matreprmatrix > thead tr th {\n        font-size: smaller;\n        vertical-align: middle;\n        text-align: center;\n    }\n    table.matreprmatrix > tbody tr td {\n        vertical-align: middle;\n        text-align: center;\n        position: relative;\n    }\n    table.matreprmatrix > tbody tr td:first-of-type {\n        border-left: solid 2px;\n    }\n    table.matreprmatrix > tbody tr td:last-of-type {\n        border-right: solid 2px;\n    }\n    table.matreprmatrix > tbody tr td:empty::before {\n        content: \"\\00a0\\00a0\\00a0\";\n        visibility: hidden;\n    }\n    table.matreprmatrix > tbody tr td:empty::after {\n        content: \"\\00a0\\00a0\\00a0\";\n        visibility: hidden;\n    }\n    table.matreprmatrix > tbody > tr:first-child > td:first-of-type::before {\n        content: \"\";\n        width: 4px;\n        position: absolute;\n        top: 0;\n        bottom: 0;\n        visibility: visible;\n        left: 0;\n        right: auto;\n        border-top: solid 2px;\n    }\n    table.matreprmatrix > tbody > tr:last-child > td:first-of-type::before {\n        content: \"\";\n        width: 4px;\n        position: absolute;\n        top: 0;\n        bottom: 0;\n        visibility: visible;\n        left: 0;\n        right: auto;\n        border-bottom: solid 2px;\n    }\n    table.matreprmatrix > tbody > tr:first-child > td:last-of-type::after {\n        content: \"\";\n        width: 4px;\n        position: absolute;\n        top: 0;\n        bottom: 0;\n        visibility: visible;\n        left: auto;\n        right: 0;\n        border-top: solid 2px;\n    }\n    table.matreprmatrix > tbody > tr:last-child > td:last-of-type::after {\n        content: \"\";\n        width: 4px;\n        position: absolute;\n        top: 0;\n        bottom: 0;\n        visibility: visible;\n        left: auto;\n        right: 0;\n        border-bottom: solid 2px;\n    }\n    table.matreprtensor > tbody tr th {\n        font-size: smaller;\n        vertical-align: middle;\n        text-align: right;\n    }\n    table.matreprtensor > thead tr th {\n        font-size: smaller;\n        vertical-align: middle;\n        text-align: center;\n    }\n    table.matreprtensor > tbody tr td {\n        vertical-align: middle;\n        text-align: center;\n        position: relative;\n    }\n    table.matreprtensor > tbody tr th:last-of-type {\n        border-right: solid 2px;\n    }\n</style>\n<p>shape=(2,2,2,2), 16 'float64' elements, array</p>\n<table class=\"matreprmatrix\">\n    <thead>\n    <tr>\n        <th></th>\n        <th style=\"text-align: center;\">0</th>\n        <th style=\"text-align: center;\">1</th>\n    </tr>\n    </thead>\n    <tbody>\n    <tr>\n        <th>0</th>\n        <td>\n            <table class=\"matreprmatrix\" style=\"margin: 0 auto;\">\n                <tbody>\n                <tr>\n                    <td>0.6965</td>\n                    <td>0.2861</td>\n                </tr>\n                <tr>\n                    <td>0.2269</td>\n                    <td>0.5513</td>\n                </tr>\n                </tbody>\n            </table></td>\n        <td>\n            <table class=\"matreprmatrix\" style=\"margin: 0 auto;\">\n                <tbody>\n                <tr>\n                    <td>0.7195</td>\n                    <td>0.4231</td>\n                </tr>\n                <tr>\n                    <td>0.9808</td>\n                    <td>0.6848</td>\n                </tr>\n                </tbody>\n            </table></td>\n    </tr>\n    <tr>\n        <th>1</th>\n        <td>\n            <table class=\"matreprmatrix\" style=\"margin: 0 auto;\">\n                <tbody>\n                <tr>\n                    <td>0.4809</td>\n                    <td>0.3921</td>\n                </tr>\n                <tr>\n                    <td>0.3432</td>\n                    <td>0.729</td>\n                </tr>\n                </tbody>\n            </table></td>\n        <td>\n            <table class=\"matreprmatrix\" style=\"margin: 0 auto;\">\n                <tbody>\n                <tr>\n                    <td>0.4386</td>\n                    <td>0.05968</td>\n                </tr>\n                <tr>\n                    <td>0.398</td>\n                    <td>0.738</td>\n                </tr>\n                </tbody>\n            </table></td>\n    </tr>\n    </tbody>\n</table>\n</div>"
     },
     "metadata": {},
     "output_type": "display_data"
    },
    {
     "data": {
      "text/plain": "<IPython.core.display.Latex object>",
      "text/latex": "$\\begin{bmatrix}\n    \\begin{bmatrix}\n    0.6965 & 0.2861 \\\\\n    0.2269 & 0.5513\n\\end{bmatrix} & \\begin{bmatrix}\n    0.7195 & 0.4231 \\\\\n    0.9808 & 0.6848\n\\end{bmatrix} \\\\\n    \\begin{bmatrix}\n    0.4809 & 0.3921 \\\\\n    0.3432 & 0.729\n\\end{bmatrix} & \\begin{bmatrix}\n    0.4386 & 0.05968 \\\\\n    0.398 & 0.738\n\\end{bmatrix}\n\\end{bmatrix}$"
     },
     "metadata": {},
     "output_type": "display_data"
    }
   ],
   "source": [
    "r_4d = np.random.random_sample((2, 2, 2, 2))\n",
    "render_all(r_4d)"
   ],
   "metadata": {
    "collapsed": false,
    "ExecuteTime": {
     "end_time": "2023-08-30T08:19:15.188955Z",
     "start_time": "2023-08-30T08:19:15.133825Z"
    }
   }
  },
  {
   "cell_type": "markdown",
   "source": [
    "#### A big 2D matrix"
   ],
   "metadata": {
    "collapsed": false
   }
  },
  {
   "cell_type": "code",
   "execution_count": 8,
   "metadata": {
    "ExecuteTime": {
     "end_time": "2023-08-30T08:19:15.230085Z",
     "start_time": "2023-08-30T08:19:15.153276Z"
    }
   },
   "outputs": [
    {
     "name": "stdout",
     "output_type": "stream",
     "text": [
      "shape: (100, 100)\n",
      "[[0.18249173 0.17545176 0.53155137 ... 0.82911263 0.33867085 0.55237008]\n",
      " [0.57855147 0.52153306 0.00268806 ... 0.78818717 0.41156922 0.48102628]\n",
      " [0.18162884 0.3213189  0.845533   ... 0.41862686 0.45308892 0.93235066]\n",
      " ...\n",
      " [0.50410699 0.56633121 0.85792438 ... 0.71670244 0.82622255 0.44210097]\n",
      " [0.53520708 0.23358017 0.33966677 ... 0.70903058 0.87831424 0.38683206]\n",
      " [0.42822551 0.89005017 0.04675397 ... 0.18451346 0.90837483 0.04621222]]\n"
     ]
    },
    {
     "data": {
      "text/plain": "100×100, 10000 'float64' elements, array\n       0        1         2          3              97        98        99\n   ┌                                                                          ┐\n 0 │ 0.1825   0.1755    0.5316    0.2937    ...   0.8291    0.3387    0.5524  │\n 1 │ 0.5786   0.5215   0.002688    0.807    ...   0.7882    0.4116     0.481  │\n 2 │ 0.1816   0.3213    0.8455    0.3137    ...   0.4186    0.4531    0.9324  │\n 3 │ 0.5875   0.9483    0.556     0.02661   ...   0.6177    0.3689     0.612  │\n 4 │ 0.2061   0.1651    0.3618    0.6559    ...   0.3034    0.3398    0.5951  │\n   │   :        :         :          :      ...     :         :          :    │\n95 │ 0.9905   0.6927    0.4909    0.9723    ...   0.5128    0.6353    0.7554  │\n96 │ 0.4565   0.606     0.2688    0.9039    ...   0.4215   0.006212   0.8734  │\n97 │ 0.5041   0.5663    0.8579    0.8407    ...   0.7167    0.8262    0.4421  │\n98 │ 0.5352   0.2336    0.3397     0.105    ...   0.709     0.8783    0.3868  │\n99 │ 0.4282   0.8901   0.04675    0.2139    ...   0.1845    0.9084    0.04621 │\n   └                                                                          ┘"
     },
     "metadata": {},
     "output_type": "display_data"
    },
    {
     "data": {
      "text/plain": "<IPython.core.display.HTML object>",
      "text/html": "<div>\n<style scoped>\n    table.matreprmatrix  {\n        border-collapse: collapse;\n    }\n    table.matreprmatrix > thead  {\n        border: 0px;\n    }\n    table.matreprmatrix > tbody tr th {\n        font-size: smaller;\n        vertical-align: middle;\n        text-align: right;\n    }\n    table.matreprmatrix > thead tr th {\n        font-size: smaller;\n        vertical-align: middle;\n        text-align: center;\n    }\n    table.matreprmatrix > tbody tr td {\n        vertical-align: middle;\n        text-align: center;\n        position: relative;\n    }\n    table.matreprmatrix > tbody tr td:first-of-type {\n        border-left: solid 2px;\n    }\n    table.matreprmatrix > tbody tr td:last-of-type {\n        border-right: solid 2px;\n    }\n    table.matreprmatrix > tbody tr td:empty::before {\n        content: \"\\00a0\\00a0\\00a0\";\n        visibility: hidden;\n    }\n    table.matreprmatrix > tbody tr td:empty::after {\n        content: \"\\00a0\\00a0\\00a0\";\n        visibility: hidden;\n    }\n    table.matreprmatrix > tbody > tr:first-child > td:first-of-type::before {\n        content: \"\";\n        width: 4px;\n        position: absolute;\n        top: 0;\n        bottom: 0;\n        visibility: visible;\n        left: 0;\n        right: auto;\n        border-top: solid 2px;\n    }\n    table.matreprmatrix > tbody > tr:last-child > td:first-of-type::before {\n        content: \"\";\n        width: 4px;\n        position: absolute;\n        top: 0;\n        bottom: 0;\n        visibility: visible;\n        left: 0;\n        right: auto;\n        border-bottom: solid 2px;\n    }\n    table.matreprmatrix > tbody > tr:first-child > td:last-of-type::after {\n        content: \"\";\n        width: 4px;\n        position: absolute;\n        top: 0;\n        bottom: 0;\n        visibility: visible;\n        left: auto;\n        right: 0;\n        border-top: solid 2px;\n    }\n    table.matreprmatrix > tbody > tr:last-child > td:last-of-type::after {\n        content: \"\";\n        width: 4px;\n        position: absolute;\n        top: 0;\n        bottom: 0;\n        visibility: visible;\n        left: auto;\n        right: 0;\n        border-bottom: solid 2px;\n    }\n    table.matreprtensor > tbody tr th {\n        font-size: smaller;\n        vertical-align: middle;\n        text-align: right;\n    }\n    table.matreprtensor > thead tr th {\n        font-size: smaller;\n        vertical-align: middle;\n        text-align: center;\n    }\n    table.matreprtensor > tbody tr td {\n        vertical-align: middle;\n        text-align: center;\n        position: relative;\n    }\n    table.matreprtensor > tbody tr th:last-of-type {\n        border-right: solid 2px;\n    }\n</style>\n<p>100×100, 10000 'float64' elements, array</p>\n<table class=\"matreprmatrix\">\n    <thead>\n    <tr>\n        <th></th>\n        <th style=\"text-align: center;\">0</th>\n        <th style=\"text-align: center;\">1</th>\n        <th style=\"text-align: center;\">2</th>\n        <th style=\"text-align: center;\">3</th>\n        <th style=\"text-align: center;\">4</th>\n        <th style=\"text-align: center;\">5</th>\n        <th style=\"text-align: center;\">6</th>\n        <th style=\"text-align: center;\"></th>\n        <th style=\"text-align: center;\">93</th>\n        <th style=\"text-align: center;\">94</th>\n        <th style=\"text-align: center;\">95</th>\n        <th style=\"text-align: center;\">96</th>\n        <th style=\"text-align: center;\">97</th>\n        <th style=\"text-align: center;\">98</th>\n        <th style=\"text-align: center;\">99</th>\n    </tr>\n    </thead>\n    <tbody>\n    <tr>\n        <th>0</th>\n        <td>0.1825</td>\n        <td>0.1755</td>\n        <td>0.5316</td>\n        <td>0.5318</td>\n        <td>0.6344</td>\n        <td>0.8494</td>\n        <td>0.7245</td>\n        <td>&ctdot;</td>\n        <td>0.3848</td>\n        <td>0.3168</td>\n        <td>0.3543</td>\n        <td>0.1711</td>\n        <td>0.8291</td>\n        <td>0.3387</td>\n        <td>0.5524</td>\n    </tr>\n    <tr>\n        <th>1</th>\n        <td>0.5786</td>\n        <td>0.5215</td>\n        <td>0.002688</td>\n        <td>0.9883</td>\n        <td>0.9053</td>\n        <td>0.2076</td>\n        <td>0.2925</td>\n        <td>&ctdot;</td>\n        <td>0.0491</td>\n        <td>0.7923</td>\n        <td>0.5187</td>\n        <td>0.4259</td>\n        <td>0.7882</td>\n        <td>0.4116</td>\n        <td>0.481</td>\n    </tr>\n    <tr>\n        <th>2</th>\n        <td>0.1816</td>\n        <td>0.3213</td>\n        <td>0.8455</td>\n        <td>0.1869</td>\n        <td>0.4173</td>\n        <td>0.989</td>\n        <td>0.2366</td>\n        <td>&ctdot;</td>\n        <td>0.2255</td>\n        <td>0.5721</td>\n        <td>0.661</td>\n        <td>0.2982</td>\n        <td>0.4186</td>\n        <td>0.4531</td>\n        <td>0.9324</td>\n    </tr>\n    <tr>\n        <th>3</th>\n        <td>0.5875</td>\n        <td>0.9483</td>\n        <td>0.556</td>\n        <td>0.5006</td>\n        <td>0.003532</td>\n        <td>0.4809</td>\n        <td>0.9275</td>\n        <td>&ctdot;</td>\n        <td>0.03632</td>\n        <td>0.04068</td>\n        <td>0.3328</td>\n        <td>0.9471</td>\n        <td>0.6177</td>\n        <td>0.3689</td>\n        <td>0.612</td>\n    </tr>\n    <tr>\n        <th>4</th>\n        <td>0.2061</td>\n        <td>0.1651</td>\n        <td>0.3618</td>\n        <td>0.8634</td>\n        <td>0.5094</td>\n        <td>0.2969</td>\n        <td>0.9503</td>\n        <td>&ctdot;</td>\n        <td>0.5176</td>\n        <td>0.804</td>\n        <td>0.8577</td>\n        <td>0.9224</td>\n        <td>0.3034</td>\n        <td>0.3398</td>\n        <td>0.5951</td>\n    </tr>\n    <tr>\n        <th></th>\n        <td>&vellip;</td>\n        <td>&vellip;</td>\n        <td>&vellip;</td>\n        <td>&vellip;</td>\n        <td>&vellip;</td>\n        <td>&vellip;</td>\n        <td>&vellip;</td>\n        <td>&dtdot;</td>\n        <td>&vellip;</td>\n        <td>&vellip;</td>\n        <td>&vellip;</td>\n        <td>&vellip;</td>\n        <td>&vellip;</td>\n        <td>&vellip;</td>\n        <td>&vellip;</td>\n    </tr>\n    <tr>\n        <th>95</th>\n        <td>0.9905</td>\n        <td>0.6927</td>\n        <td>0.4909</td>\n        <td>0.4111</td>\n        <td>0.5769</td>\n        <td>0.2061</td>\n        <td>0.4376</td>\n        <td>&ctdot;</td>\n        <td>0.8911</td>\n        <td>0.4945</td>\n        <td>0.4243</td>\n        <td>0.433</td>\n        <td>0.5128</td>\n        <td>0.6353</td>\n        <td>0.7554</td>\n    </tr>\n    <tr>\n        <th>96</th>\n        <td>0.4565</td>\n        <td>0.606</td>\n        <td>0.2688</td>\n        <td>0.3285</td>\n        <td>0.161</td>\n        <td>0.1745</td>\n        <td>0.4388</td>\n        <td>&ctdot;</td>\n        <td>0.1551</td>\n        <td>0.9099</td>\n        <td>0.4056</td>\n        <td>0.6148</td>\n        <td>0.4215</td>\n        <td>0.006212</td>\n        <td>0.8734</td>\n    </tr>\n    <tr>\n        <th>97</th>\n        <td>0.5041</td>\n        <td>0.5663</td>\n        <td>0.8579</td>\n        <td>0.8305</td>\n        <td>0.1838</td>\n        <td>0.7138</td>\n        <td>0.1624</td>\n        <td>&ctdot;</td>\n        <td>0.877</td>\n        <td>0.005658</td>\n        <td>0.9894</td>\n        <td>0.1672</td>\n        <td>0.7167</td>\n        <td>0.8262</td>\n        <td>0.4421</td>\n    </tr>\n    <tr>\n        <th>98</th>\n        <td>0.5352</td>\n        <td>0.2336</td>\n        <td>0.3397</td>\n        <td>0.05368</td>\n        <td>0.1492</td>\n        <td>0.5929</td>\n        <td>0.1891</td>\n        <td>&ctdot;</td>\n        <td>0.6371</td>\n        <td>0.07056</td>\n        <td>0.3907</td>\n        <td>0.2527</td>\n        <td>0.709</td>\n        <td>0.8783</td>\n        <td>0.3868</td>\n    </tr>\n    <tr>\n        <th>99</th>\n        <td>0.4282</td>\n        <td>0.8901</td>\n        <td>0.04675</td>\n        <td>0.7219</td>\n        <td>0.9549</td>\n        <td>0.4976</td>\n        <td>0.07616</td>\n        <td>&ctdot;</td>\n        <td>0.353</td>\n        <td>0.3666</td>\n        <td>0.546</td>\n        <td>0.4971</td>\n        <td>0.1845</td>\n        <td>0.9084</td>\n        <td>0.04621</td>\n    </tr>\n    </tbody>\n</table>\n</div>"
     },
     "metadata": {},
     "output_type": "display_data"
    },
    {
     "data": {
      "text/plain": "<IPython.core.display.Latex object>",
      "text/latex": "$\\begin{bmatrix}\n    0.1825 & 0.1755 & 0.5316 & 0.5318 & 0.6344 & 0.8494 & 0.7245 & \\dots & 0.3848 & 0.3168 & 0.3543 & 0.1711 & 0.8291 & 0.3387 & 0.5524 \\\\\n    0.5786 & 0.5215 & 0.002688 & 0.9883 & 0.9053 & 0.2076 & 0.2925 & \\dots & 0.0491 & 0.7923 & 0.5187 & 0.4259 & 0.7882 & 0.4116 & 0.481 \\\\\n    0.1816 & 0.3213 & 0.8455 & 0.1869 & 0.4173 & 0.989 & 0.2366 & \\dots & 0.2255 & 0.5721 & 0.661 & 0.2982 & 0.4186 & 0.4531 & 0.9324 \\\\\n    0.5875 & 0.9483 & 0.556 & 0.5006 & 0.003532 & 0.4809 & 0.9275 & \\dots & 0.03632 & 0.04068 & 0.3328 & 0.9471 & 0.6177 & 0.3689 & 0.612 \\\\\n    0.2061 & 0.1651 & 0.3618 & 0.8634 & 0.5094 & 0.2969 & 0.9503 & \\dots & 0.5176 & 0.804 & 0.8577 & 0.9224 & 0.3034 & 0.3398 & 0.5951 \\\\\n    \\vdots & \\vdots & \\vdots & \\vdots & \\vdots & \\vdots & \\vdots & \\ddots & \\vdots & \\vdots & \\vdots & \\vdots & \\vdots & \\vdots & \\vdots \\\\\n    0.9905 & 0.6927 & 0.4909 & 0.4111 & 0.5769 & 0.2061 & 0.4376 & \\dots & 0.8911 & 0.4945 & 0.4243 & 0.433 & 0.5128 & 0.6353 & 0.7554 \\\\\n    0.4565 & 0.606 & 0.2688 & 0.3285 & 0.161 & 0.1745 & 0.4388 & \\dots & 0.1551 & 0.9099 & 0.4056 & 0.6148 & 0.4215 & 0.006212 & 0.8734 \\\\\n    0.5041 & 0.5663 & 0.8579 & 0.8305 & 0.1838 & 0.7138 & 0.1624 & \\dots & 0.877 & 0.005658 & 0.9894 & 0.1672 & 0.7167 & 0.8262 & 0.4421 \\\\\n    0.5352 & 0.2336 & 0.3397 & 0.05368 & 0.1492 & 0.5929 & 0.1891 & \\dots & 0.6371 & 0.07056 & 0.3907 & 0.2527 & 0.709 & 0.8783 & 0.3868 \\\\\n    0.4282 & 0.8901 & 0.04675 & 0.7219 & 0.9549 & 0.4976 & 0.07616 & \\dots & 0.353 & 0.3666 & 0.546 & 0.4971 & 0.1845 & 0.9084 & 0.04621\n\\end{bmatrix}$"
     },
     "metadata": {},
     "output_type": "display_data"
    }
   ],
   "source": [
    "big_2D = np.random.random_sample((100, 100))\n",
    "render_all(big_2D)"
   ]
  },
  {
   "cell_type": "markdown",
   "source": [
    "## Jupyter formatting"
   ],
   "metadata": {
    "collapsed": false
   }
  },
  {
   "cell_type": "code",
   "execution_count": 9,
   "metadata": {
    "ExecuteTime": {
     "end_time": "2023-08-30T08:19:15.230485Z",
     "start_time": "2023-08-30T08:19:15.197651Z"
    }
   },
   "outputs": [
    {
     "data": {
      "text/plain": "array([10, 11, 12, 13, 14, 15, 16, 17, 18, 19, 20, 21, 22, 23, 24, 25, 26,\n       27, 28, 29, 30, 31, 32, 33, 34, 35, 36, 37, 38, 39, 40, 41, 42, 43,\n       44, 45, 46, 47, 48, 49])"
     },
     "execution_count": 9,
     "metadata": {},
     "output_type": "execute_result"
    }
   ],
   "source": [
    "v1"
   ]
  },
  {
   "cell_type": "code",
   "execution_count": 10,
   "outputs": [
    {
     "data": {
      "text/plain": "array([[1, 2],\n       [3, 4]])"
     },
     "execution_count": 10,
     "metadata": {},
     "output_type": "execute_result"
    }
   ],
   "source": [
    "a1"
   ],
   "metadata": {
    "collapsed": false,
    "ExecuteTime": {
     "end_time": "2023-08-30T08:19:15.230698Z",
     "start_time": "2023-08-30T08:19:15.201559Z"
    }
   }
  },
  {
   "cell_type": "code",
   "execution_count": 11,
   "outputs": [
    {
     "data": {
      "text/plain": "array([[[ 1,  2],\n        [ 3,  4]],\n\n       [[10, 20],\n        [30, 40]]])"
     },
     "execution_count": 11,
     "metadata": {},
     "output_type": "execute_result"
    }
   ],
   "source": [
    "a2"
   ],
   "metadata": {
    "collapsed": false,
    "ExecuteTime": {
     "end_time": "2023-08-30T08:19:15.230840Z",
     "start_time": "2023-08-30T08:19:15.203838Z"
    }
   }
  },
  {
   "cell_type": "markdown",
   "metadata": {},
   "source": [
    "## More compact size"
   ]
  },
  {
   "cell_type": "code",
   "execution_count": 12,
   "metadata": {
    "collapsed": false,
    "jupyter": {
     "outputs_hidden": false
    },
    "ExecuteTime": {
     "end_time": "2023-08-30T08:19:15.230897Z",
     "start_time": "2023-08-30T08:19:15.206849Z"
    }
   },
   "outputs": [],
   "source": [
    "import matrepr\n",
    "matrepr.params.max_rows = 10\n",
    "matrepr.params.max_cols = 7\n",
    "matrepr.params.num_after_dots = 0\n",
    "matrepr.params.indices = False"
   ]
  },
  {
   "cell_type": "code",
   "execution_count": 13,
   "metadata": {
    "collapsed": false,
    "jupyter": {
     "outputs_hidden": false
    },
    "ExecuteTime": {
     "end_time": "2023-08-30T08:19:15.231093Z",
     "start_time": "2023-08-30T08:19:15.211235Z"
    }
   },
   "outputs": [
    {
     "name": "stdout",
     "output_type": "stream",
     "text": [
      "shape: (40,)\n",
      "[10 11 12 13 14 15 16 17 18 19 20 21 22 23 24 25 26 27 28 29 30 31 32 33\n",
      " 34 35 36 37 38 39 40 41 42 43 44 45 46 47 48 49]\n"
     ]
    },
    {
     "data": {
      "text/plain": "length=40, 40 'int64' elements, array\n[10, 11, 12, 13, 14, 15, 16, 17, 18, 19, 20, 21, 22, 23, 24, 25, 26, 34, ...]"
     },
     "metadata": {},
     "output_type": "display_data"
    },
    {
     "data": {
      "text/plain": "<IPython.core.display.HTML object>",
      "text/html": "<div>\n<style scoped>\n    table.matreprmatrix  {\n        border-collapse: collapse;\n    }\n    table.matreprmatrix > thead  {\n        border: 0px;\n    }\n    table.matreprmatrix > tbody tr th {\n        font-size: smaller;\n        vertical-align: middle;\n        text-align: right;\n    }\n    table.matreprmatrix > thead tr th {\n        font-size: smaller;\n        vertical-align: middle;\n        text-align: center;\n    }\n    table.matreprmatrix > tbody tr td {\n        vertical-align: middle;\n        text-align: center;\n        position: relative;\n    }\n    table.matreprmatrix > tbody tr td:first-of-type {\n        border-left: solid 2px;\n    }\n    table.matreprmatrix > tbody tr td:last-of-type {\n        border-right: solid 2px;\n    }\n    table.matreprmatrix > tbody tr td:empty::before {\n        content: \"\\00a0\\00a0\\00a0\";\n        visibility: hidden;\n    }\n    table.matreprmatrix > tbody tr td:empty::after {\n        content: \"\\00a0\\00a0\\00a0\";\n        visibility: hidden;\n    }\n    table.matreprmatrix > tbody > tr:first-child > td:first-of-type::before {\n        content: \"\";\n        width: 4px;\n        position: absolute;\n        top: 0;\n        bottom: 0;\n        visibility: visible;\n        left: 0;\n        right: auto;\n        border-top: solid 2px;\n    }\n    table.matreprmatrix > tbody > tr:last-child > td:first-of-type::before {\n        content: \"\";\n        width: 4px;\n        position: absolute;\n        top: 0;\n        bottom: 0;\n        visibility: visible;\n        left: 0;\n        right: auto;\n        border-bottom: solid 2px;\n    }\n    table.matreprmatrix > tbody > tr:first-child > td:last-of-type::after {\n        content: \"\";\n        width: 4px;\n        position: absolute;\n        top: 0;\n        bottom: 0;\n        visibility: visible;\n        left: auto;\n        right: 0;\n        border-top: solid 2px;\n    }\n    table.matreprmatrix > tbody > tr:last-child > td:last-of-type::after {\n        content: \"\";\n        width: 4px;\n        position: absolute;\n        top: 0;\n        bottom: 0;\n        visibility: visible;\n        left: auto;\n        right: 0;\n        border-bottom: solid 2px;\n    }\n    table.matreprtensor > tbody tr th {\n        font-size: smaller;\n        vertical-align: middle;\n        text-align: right;\n    }\n    table.matreprtensor > thead tr th {\n        font-size: smaller;\n        vertical-align: middle;\n        text-align: center;\n    }\n    table.matreprtensor > tbody tr td {\n        vertical-align: middle;\n        text-align: center;\n        position: relative;\n    }\n    table.matreprtensor > tbody tr th:last-of-type {\n        border-right: solid 2px;\n    }\n</style>\n<p>length=40, 40 'int64' elements, array</p>\n<table class=\"matreprmatrix\">\n    <tbody>\n    <tr>\n        <td>10</td>\n        <td>11</td>\n        <td>12</td>\n        <td>13</td>\n        <td>14</td>\n        <td>15</td>\n        <td>&ctdot;</td>\n    </tr>\n    </tbody>\n</table>\n</div>"
     },
     "metadata": {},
     "output_type": "display_data"
    },
    {
     "data": {
      "text/plain": "<IPython.core.display.Latex object>",
      "text/latex": "$\\begin{bmatrix}\n    \\textrm{10} & \\textrm{11} & \\textrm{12} & \\textrm{13} & \\textrm{14} & \\textrm{15} & \\dots\n\\end{bmatrix}$"
     },
     "metadata": {},
     "output_type": "display_data"
    }
   ],
   "source": [
    "render_all(v1)"
   ]
  },
  {
   "cell_type": "code",
   "execution_count": 13,
   "outputs": [],
   "source": [],
   "metadata": {
    "collapsed": false,
    "ExecuteTime": {
     "end_time": "2023-08-30T08:19:15.231139Z",
     "start_time": "2023-08-30T08:19:15.217314Z"
    }
   }
  },
  {
   "cell_type": "code",
   "execution_count": 14,
   "metadata": {
    "collapsed": false,
    "jupyter": {
     "outputs_hidden": false
    },
    "ExecuteTime": {
     "end_time": "2023-08-30T08:19:15.245698Z",
     "start_time": "2023-08-30T08:19:15.238070Z"
    }
   },
   "outputs": [
    {
     "name": "stdout",
     "output_type": "stream",
     "text": [
      "shape: (100, 100)\n",
      "[[0.18249173 0.17545176 0.53155137 ... 0.82911263 0.33867085 0.55237008]\n",
      " [0.57855147 0.52153306 0.00268806 ... 0.78818717 0.41156922 0.48102628]\n",
      " [0.18162884 0.3213189  0.845533   ... 0.41862686 0.45308892 0.93235066]\n",
      " ...\n",
      " [0.50410699 0.56633121 0.85792438 ... 0.71670244 0.82622255 0.44210097]\n",
      " [0.53520708 0.23358017 0.33966677 ... 0.70903058 0.87831424 0.38683206]\n",
      " [0.42822551 0.89005017 0.04675397 ... 0.18451346 0.90837483 0.04621222]]\n"
     ]
    },
    {
     "data": {
      "text/plain": "100×100, 10000 'float64' elements, array\n┌                                                                            ┐\n│ 0.1825    0.1755    0.5316    0.5318     0.6344    0.8494    0.624     ... │\n│ 0.5786    0.5215   0.002688   0.9883     0.9053    0.2076   0.09333    ... │\n│ 0.1816    0.3213    0.8455    0.1869     0.4173    0.989    0.005545   ... │\n│ 0.5875    0.9483    0.556     0.5006    0.003532   0.4809    0.9377    ... │\n│ 0.2061    0.1651    0.3618    0.8634     0.5094    0.2969    0.4235    ... │\n│ 0.4413    0.9328    0.3976    0.4778     0.6172    0.4047    0.2475    ... │\n│ 0.2986    0.9418    0.9088     0.162     0.9811    0.7507   0.09818    ... │\n│ 0.04357   0.684     0.1961    0.02734    0.551     0.8133    0.769     ... │\n│ 0.2207    0.294     0.8285    0.3673    0.08335    0.1963    0.7516    ... │\n│    :        :         :          :         :         :         :       ... │\n└                                                                            ┘"
     },
     "metadata": {},
     "output_type": "display_data"
    },
    {
     "data": {
      "text/plain": "<IPython.core.display.HTML object>",
      "text/html": "<div>\n<style scoped>\n    table.matreprmatrix  {\n        border-collapse: collapse;\n    }\n    table.matreprmatrix > thead  {\n        border: 0px;\n    }\n    table.matreprmatrix > tbody tr th {\n        font-size: smaller;\n        vertical-align: middle;\n        text-align: right;\n    }\n    table.matreprmatrix > thead tr th {\n        font-size: smaller;\n        vertical-align: middle;\n        text-align: center;\n    }\n    table.matreprmatrix > tbody tr td {\n        vertical-align: middle;\n        text-align: center;\n        position: relative;\n    }\n    table.matreprmatrix > tbody tr td:first-of-type {\n        border-left: solid 2px;\n    }\n    table.matreprmatrix > tbody tr td:last-of-type {\n        border-right: solid 2px;\n    }\n    table.matreprmatrix > tbody tr td:empty::before {\n        content: \"\\00a0\\00a0\\00a0\";\n        visibility: hidden;\n    }\n    table.matreprmatrix > tbody tr td:empty::after {\n        content: \"\\00a0\\00a0\\00a0\";\n        visibility: hidden;\n    }\n    table.matreprmatrix > tbody > tr:first-child > td:first-of-type::before {\n        content: \"\";\n        width: 4px;\n        position: absolute;\n        top: 0;\n        bottom: 0;\n        visibility: visible;\n        left: 0;\n        right: auto;\n        border-top: solid 2px;\n    }\n    table.matreprmatrix > tbody > tr:last-child > td:first-of-type::before {\n        content: \"\";\n        width: 4px;\n        position: absolute;\n        top: 0;\n        bottom: 0;\n        visibility: visible;\n        left: 0;\n        right: auto;\n        border-bottom: solid 2px;\n    }\n    table.matreprmatrix > tbody > tr:first-child > td:last-of-type::after {\n        content: \"\";\n        width: 4px;\n        position: absolute;\n        top: 0;\n        bottom: 0;\n        visibility: visible;\n        left: auto;\n        right: 0;\n        border-top: solid 2px;\n    }\n    table.matreprmatrix > tbody > tr:last-child > td:last-of-type::after {\n        content: \"\";\n        width: 4px;\n        position: absolute;\n        top: 0;\n        bottom: 0;\n        visibility: visible;\n        left: auto;\n        right: 0;\n        border-bottom: solid 2px;\n    }\n    table.matreprtensor > tbody tr th {\n        font-size: smaller;\n        vertical-align: middle;\n        text-align: right;\n    }\n    table.matreprtensor > thead tr th {\n        font-size: smaller;\n        vertical-align: middle;\n        text-align: center;\n    }\n    table.matreprtensor > tbody tr td {\n        vertical-align: middle;\n        text-align: center;\n        position: relative;\n    }\n    table.matreprtensor > tbody tr th:last-of-type {\n        border-right: solid 2px;\n    }\n</style>\n<p>100×100, 10000 'float64' elements, array</p>\n<table class=\"matreprmatrix\">\n    <tbody>\n    <tr>\n        <td>0.1825</td>\n        <td>0.1755</td>\n        <td>0.5316</td>\n        <td>0.5318</td>\n        <td>0.6344</td>\n        <td>0.8494</td>\n        <td>&ctdot;</td>\n    </tr>\n    <tr>\n        <td>0.5786</td>\n        <td>0.5215</td>\n        <td>0.002688</td>\n        <td>0.9883</td>\n        <td>0.9053</td>\n        <td>0.2076</td>\n        <td>&ctdot;</td>\n    </tr>\n    <tr>\n        <td>0.1816</td>\n        <td>0.3213</td>\n        <td>0.8455</td>\n        <td>0.1869</td>\n        <td>0.4173</td>\n        <td>0.989</td>\n        <td>&ctdot;</td>\n    </tr>\n    <tr>\n        <td>0.5875</td>\n        <td>0.9483</td>\n        <td>0.556</td>\n        <td>0.5006</td>\n        <td>0.003532</td>\n        <td>0.4809</td>\n        <td>&ctdot;</td>\n    </tr>\n    <tr>\n        <td>0.2061</td>\n        <td>0.1651</td>\n        <td>0.3618</td>\n        <td>0.8634</td>\n        <td>0.5094</td>\n        <td>0.2969</td>\n        <td>&ctdot;</td>\n    </tr>\n    <tr>\n        <td>0.4413</td>\n        <td>0.9328</td>\n        <td>0.3976</td>\n        <td>0.4778</td>\n        <td>0.6172</td>\n        <td>0.4047</td>\n        <td>&ctdot;</td>\n    </tr>\n    <tr>\n        <td>0.2986</td>\n        <td>0.9418</td>\n        <td>0.9088</td>\n        <td>0.162</td>\n        <td>0.9811</td>\n        <td>0.7507</td>\n        <td>&ctdot;</td>\n    </tr>\n    <tr>\n        <td>0.04357</td>\n        <td>0.684</td>\n        <td>0.1961</td>\n        <td>0.02734</td>\n        <td>0.551</td>\n        <td>0.8133</td>\n        <td>&ctdot;</td>\n    </tr>\n    <tr>\n        <td>0.2207</td>\n        <td>0.294</td>\n        <td>0.8285</td>\n        <td>0.3673</td>\n        <td>0.08335</td>\n        <td>0.1963</td>\n        <td>&ctdot;</td>\n    </tr>\n    <tr>\n        <td>&vellip;</td>\n        <td>&vellip;</td>\n        <td>&vellip;</td>\n        <td>&vellip;</td>\n        <td>&vellip;</td>\n        <td>&vellip;</td>\n        <td>&dtdot;</td>\n    </tr>\n    </tbody>\n</table>\n</div>"
     },
     "metadata": {},
     "output_type": "display_data"
    },
    {
     "data": {
      "text/plain": "<IPython.core.display.Latex object>",
      "text/latex": "$\\begin{bmatrix}\n    0.1825 & 0.1755 & 0.5316 & 0.5318 & 0.6344 & 0.8494 & \\dots \\\\\n    0.5786 & 0.5215 & 0.002688 & 0.9883 & 0.9053 & 0.2076 & \\dots \\\\\n    0.1816 & 0.3213 & 0.8455 & 0.1869 & 0.4173 & 0.989 & \\dots \\\\\n    0.5875 & 0.9483 & 0.556 & 0.5006 & 0.003532 & 0.4809 & \\dots \\\\\n    0.2061 & 0.1651 & 0.3618 & 0.8634 & 0.5094 & 0.2969 & \\dots \\\\\n    0.4413 & 0.9328 & 0.3976 & 0.4778 & 0.6172 & 0.4047 & \\dots \\\\\n    0.2986 & 0.9418 & 0.9088 & 0.162 & 0.9811 & 0.7507 & \\dots \\\\\n    0.04357 & 0.684 & 0.1961 & 0.02734 & 0.551 & 0.8133 & \\dots \\\\\n    0.2207 & 0.294 & 0.8285 & 0.3673 & 0.08335 & 0.1963 & \\dots \\\\\n    \\vdots & \\vdots & \\vdots & \\vdots & \\vdots & \\vdots & \\ddots\n\\end{bmatrix}$"
     },
     "metadata": {},
     "output_type": "display_data"
    }
   ],
   "source": [
    "render_all(big_2D)"
   ]
  },
  {
   "cell_type": "code",
   "execution_count": 14,
   "outputs": [],
   "source": [],
   "metadata": {
    "collapsed": false,
    "ExecuteTime": {
     "end_time": "2023-08-30T08:19:15.272516Z",
     "start_time": "2023-08-30T08:19:15.245929Z"
    }
   }
  }
 ],
 "metadata": {
  "kernelspec": {
   "display_name": "Python 3 (ipykernel)",
   "language": "python",
   "name": "python3"
  },
  "language_info": {
   "codemirror_mode": {
    "name": "ipython",
    "version": 3
   },
   "file_extension": ".py",
   "mimetype": "text/x-python",
   "name": "python",
   "nbconvert_exporter": "python",
   "pygments_lexer": "ipython3",
   "version": "3.11.2"
  }
 },
 "nbformat": 4,
 "nbformat_minor": 4
}
