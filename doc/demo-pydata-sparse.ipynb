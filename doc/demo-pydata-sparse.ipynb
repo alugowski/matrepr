{
 "cells": [
  {
   "cell_type": "markdown",
   "metadata": {
    "collapsed": false,
    "jupyter": {
     "outputs_hidden": false
    }
   },
   "source": [
    "# MatRepr PyData/Sparse\n",
    "\n",
    "Demonstrate:\n",
    "* 2D matrix\n",
    "* 1D vector\n",
    "* multidimensional\n",
    "\n",
    "With rendering:\n",
    "* native pydata/sparse\n",
    "* with MatRepr Jupyter integration, both default and a more compact size\n",
    "* MatRepr LaTeX output\n",
    "* MatRepr string output"
   ]
  },
  {
   "cell_type": "code",
   "execution_count": 1,
   "metadata": {
    "collapsed": false,
    "jupyter": {
     "outputs_hidden": false
    },
    "ExecuteTime": {
     "end_time": "2023-08-31T21:28:10.757121Z",
     "start_time": "2023-08-31T21:28:10.413462Z"
    }
   },
   "outputs": [],
   "source": [
    "import sparse\n",
    "\n",
    "# so matrepr can be imported from the source tree.\n",
    "import sys\n",
    "sys.path.insert(0, '..')\n",
    "\n",
    "from matrepr import mdisplay"
   ]
  },
  {
   "cell_type": "code",
   "execution_count": 2,
   "metadata": {
    "collapsed": false,
    "jupyter": {
     "outputs_hidden": false
    },
    "ExecuteTime": {
     "end_time": "2023-08-31T21:28:11.128169Z",
     "start_time": "2023-08-31T21:28:10.769729Z"
    }
   },
   "outputs": [],
   "source": [
    "import numpy\n",
    "numpy.random.seed(1234)\n",
    "\n",
    "A = sparse.random((100, 100), density=0.212345)\n",
    "# v = sparse.COO([0, 1, 2, 3, 99], data=[1000, 1001, 1002, 1003, 1099], shape=(100,))\n",
    "v = sparse.random((1000,), density=0.5)\n",
    "# T = sparse.COO(coords=[[0, 1], [3, 2], [1, 3]], data=[111, 222], shape=(5, 5, 5))\n",
    "T = sparse.random((10, 10, 10), density=0.212345)\n"
   ]
  },
  {
   "cell_type": "markdown",
   "metadata": {},
   "source": [
    "## PyData/Sparse native formatting"
   ]
  },
  {
   "cell_type": "code",
   "execution_count": 3,
   "metadata": {
    "collapsed": false,
    "jupyter": {
     "outputs_hidden": false
    },
    "ExecuteTime": {
     "end_time": "2023-08-31T21:28:11.131478Z",
     "start_time": "2023-08-31T21:28:11.129086Z"
    }
   },
   "outputs": [
    {
     "data": {
      "text/plain": "<COO: shape=(100, 100), dtype=float64, nnz=2123, fill_value=0.0>",
      "text/html": "<table><tbody><tr><th style=\"text-align: left\">Format</th><td style=\"text-align: left\">coo</td></tr><tr><th style=\"text-align: left\">Data Type</th><td style=\"text-align: left\">float64</td></tr><tr><th style=\"text-align: left\">Shape</th><td style=\"text-align: left\">(100, 100)</td></tr><tr><th style=\"text-align: left\">nnz</th><td style=\"text-align: left\">2123</td></tr><tr><th style=\"text-align: left\">Density</th><td style=\"text-align: left\">0.2123</td></tr><tr><th style=\"text-align: left\">Read-only</th><td style=\"text-align: left\">True</td></tr><tr><th style=\"text-align: left\">Size</th><td style=\"text-align: left\">49.8K</td></tr><tr><th style=\"text-align: left\">Storage ratio</th><td style=\"text-align: left\">0.6</td></tr></tbody></table>"
     },
     "execution_count": 3,
     "metadata": {},
     "output_type": "execute_result"
    }
   ],
   "source": [
    "A"
   ]
  },
  {
   "cell_type": "code",
   "execution_count": 4,
   "metadata": {
    "ExecuteTime": {
     "end_time": "2023-08-31T21:28:11.134810Z",
     "start_time": "2023-08-31T21:28:11.132747Z"
    }
   },
   "outputs": [
    {
     "data": {
      "text/plain": "<COO: shape=(1000,), dtype=float64, nnz=500, fill_value=0.0>",
      "text/html": "<table><tbody><tr><th style=\"text-align: left\">Format</th><td style=\"text-align: left\">coo</td></tr><tr><th style=\"text-align: left\">Data Type</th><td style=\"text-align: left\">float64</td></tr><tr><th style=\"text-align: left\">Shape</th><td style=\"text-align: left\">(1000,)</td></tr><tr><th style=\"text-align: left\">nnz</th><td style=\"text-align: left\">500</td></tr><tr><th style=\"text-align: left\">Density</th><td style=\"text-align: left\">0.5</td></tr><tr><th style=\"text-align: left\">Read-only</th><td style=\"text-align: left\">True</td></tr><tr><th style=\"text-align: left\">Size</th><td style=\"text-align: left\">7.8K</td></tr><tr><th style=\"text-align: left\">Storage ratio</th><td style=\"text-align: left\">1.0</td></tr></tbody></table>"
     },
     "execution_count": 4,
     "metadata": {},
     "output_type": "execute_result"
    }
   ],
   "source": [
    "v"
   ]
  },
  {
   "cell_type": "code",
   "execution_count": 5,
   "metadata": {
    "collapsed": false,
    "jupyter": {
     "outputs_hidden": false
    },
    "ExecuteTime": {
     "end_time": "2023-08-31T21:28:11.137429Z",
     "start_time": "2023-08-31T21:28:11.135195Z"
    }
   },
   "outputs": [
    {
     "data": {
      "text/plain": "<COO: shape=(10, 10, 10), dtype=float64, nnz=212, fill_value=0.0>",
      "text/html": "<table><tbody><tr><th style=\"text-align: left\">Format</th><td style=\"text-align: left\">coo</td></tr><tr><th style=\"text-align: left\">Data Type</th><td style=\"text-align: left\">float64</td></tr><tr><th style=\"text-align: left\">Shape</th><td style=\"text-align: left\">(10, 10, 10)</td></tr><tr><th style=\"text-align: left\">nnz</th><td style=\"text-align: left\">212</td></tr><tr><th style=\"text-align: left\">Density</th><td style=\"text-align: left\">0.212</td></tr><tr><th style=\"text-align: left\">Read-only</th><td style=\"text-align: left\">True</td></tr><tr><th style=\"text-align: left\">Size</th><td style=\"text-align: left\">6.6K</td></tr><tr><th style=\"text-align: left\">Storage ratio</th><td style=\"text-align: left\">0.8</td></tr></tbody></table>"
     },
     "execution_count": 5,
     "metadata": {},
     "output_type": "execute_result"
    }
   ],
   "source": [
    "T"
   ]
  },
  {
   "cell_type": "markdown",
   "metadata": {},
   "source": [
    "## MatRepr default"
   ]
  },
  {
   "cell_type": "code",
   "execution_count": 6,
   "metadata": {
    "collapsed": false,
    "jupyter": {
     "outputs_hidden": false
    },
    "ExecuteTime": {
     "end_time": "2023-08-31T21:28:11.140013Z",
     "start_time": "2023-08-31T21:28:11.138121Z"
    }
   },
   "outputs": [],
   "source": [
    "%load_ext matrepr"
   ]
  },
  {
   "cell_type": "code",
   "execution_count": 7,
   "metadata": {
    "ExecuteTime": {
     "end_time": "2023-08-31T21:28:12.095564Z",
     "start_time": "2023-08-31T21:28:11.140436Z"
    }
   },
   "outputs": [
    {
     "data": {
      "text/plain": "<COO: shape=(100, 100), dtype=float64, nnz=2123, fill_value=0.0>",
      "text/html": "<div>\n<style scoped>\n    table.matreprmatrix caption {\n        white-space: pre;\n        text-align: center;\n    }\n    table.matreprmatrix  {\n        border-collapse: collapse;\n    }\n    table.matreprmatrix > thead  {\n        border: 0px;\n    }\n    table.matreprmatrix > tbody tr th {\n        font-size: smaller;\n        vertical-align: middle;\n        text-align: right;\n    }\n    table.matreprmatrix > thead tr th {\n        font-size: smaller;\n        vertical-align: middle;\n        text-align: center;\n    }\n    table.matreprmatrix > tbody tr td {\n        vertical-align: middle;\n        text-align: center;\n        position: relative;\n    }\n    table.matreprmatrix > tbody tr td:first-of-type {\n        border-left: solid 2px;\n    }\n    table.matreprmatrix > tbody tr td:last-of-type {\n        border-right: solid 2px;\n    }\n    table.matreprmatrix > tbody tr td:empty::before {\n        content: \"\\00a0\\00a0\\00a0\";\n        visibility: hidden;\n    }\n    table.matreprmatrix > tbody tr td:empty::after {\n        content: \"\\00a0\\00a0\\00a0\";\n        visibility: hidden;\n    }\n    table.matreprmatrix > tbody > tr:first-child > td:first-of-type::before {\n        content: \"\";\n        width: 4px;\n        position: absolute;\n        top: 0;\n        bottom: 0;\n        visibility: visible;\n        left: 0;\n        right: auto;\n        border-top: solid 2px;\n    }\n    table.matreprmatrix > tbody > tr:last-child > td:first-of-type::before {\n        content: \"\";\n        width: 4px;\n        position: absolute;\n        top: 0;\n        bottom: 0;\n        visibility: visible;\n        left: 0;\n        right: auto;\n        border-bottom: solid 2px;\n    }\n    table.matreprmatrix > tbody > tr:first-child > td:last-of-type::after {\n        content: \"\";\n        width: 4px;\n        position: absolute;\n        top: 0;\n        bottom: 0;\n        visibility: visible;\n        left: auto;\n        right: 0;\n        border-top: solid 2px;\n    }\n    table.matreprmatrix > tbody > tr:last-child > td:last-of-type::after {\n        content: \"\";\n        width: 4px;\n        position: absolute;\n        top: 0;\n        bottom: 0;\n        visibility: visible;\n        left: auto;\n        right: 0;\n        border-bottom: solid 2px;\n    }\n    table.matreprtensor caption {\n        white-space: pre;\n        text-align: center;\n    }\n    table.matreprtensor > tbody tr th {\n        font-size: smaller;\n        vertical-align: middle;\n        text-align: right;\n    }\n    table.matreprtensor > thead tr th {\n        font-size: smaller;\n        vertical-align: middle;\n        text-align: center;\n    }\n    table.matreprtensor > tbody tr td {\n        vertical-align: middle;\n        text-align: center;\n        position: relative;\n    }\n    table.matreprtensor > tbody tr th:last-of-type {\n        border-right: solid 2px;\n    }\n</style>\n<table class=\"matreprmatrix\">\n<caption>100×100, 2123 &#x27;float64&#x27; elements, coo, fill_value=0.0, read-only, 49.8KiB</caption>\n    <thead>\n    <tr>\n        <th></th>\n        <th style=\"text-align: center;\">0</th>\n        <th style=\"text-align: center;\">1</th>\n        <th style=\"text-align: center;\">2</th>\n        <th style=\"text-align: center;\">3</th>\n        <th style=\"text-align: center;\">4</th>\n        <th style=\"text-align: center;\">5</th>\n        <th style=\"text-align: center;\">6</th>\n        <th style=\"text-align: center;\"></th>\n        <th style=\"text-align: center;\">93</th>\n        <th style=\"text-align: center;\">94</th>\n        <th style=\"text-align: center;\">95</th>\n        <th style=\"text-align: center;\">96</th>\n        <th style=\"text-align: center;\">97</th>\n        <th style=\"text-align: center;\">98</th>\n        <th style=\"text-align: center;\">99</th>\n    </tr>\n    </thead>\n    <tbody>\n    <tr>\n        <th>0</th>\n        <td></td>\n        <td>0.4977</td>\n        <td></td>\n        <td></td>\n        <td></td>\n        <td></td>\n        <td></td>\n        <td>&ctdot;</td>\n        <td>0.4427</td>\n        <td></td>\n        <td></td>\n        <td></td>\n        <td></td>\n        <td></td>\n        <td></td>\n    </tr>\n    <tr>\n        <th>1</th>\n        <td></td>\n        <td></td>\n        <td></td>\n        <td></td>\n        <td></td>\n        <td></td>\n        <td></td>\n        <td>&ctdot;</td>\n        <td></td>\n        <td>0.8135</td>\n        <td></td>\n        <td></td>\n        <td></td>\n        <td></td>\n        <td>0.6466</td>\n    </tr>\n    <tr>\n        <th>2</th>\n        <td></td>\n        <td>0.04743</td>\n        <td></td>\n        <td></td>\n        <td>0.995</td>\n        <td></td>\n        <td></td>\n        <td>&ctdot;</td>\n        <td></td>\n        <td></td>\n        <td></td>\n        <td></td>\n        <td></td>\n        <td>0.03235</td>\n        <td></td>\n    </tr>\n    <tr>\n        <th>3</th>\n        <td></td>\n        <td></td>\n        <td></td>\n        <td></td>\n        <td></td>\n        <td>0.3282</td>\n        <td></td>\n        <td>&ctdot;</td>\n        <td>0.01163</td>\n        <td></td>\n        <td></td>\n        <td></td>\n        <td>0.07154</td>\n        <td></td>\n        <td></td>\n    </tr>\n    <tr>\n        <th>4</th>\n        <td></td>\n        <td></td>\n        <td></td>\n        <td></td>\n        <td></td>\n        <td></td>\n        <td></td>\n        <td>&ctdot;</td>\n        <td></td>\n        <td></td>\n        <td></td>\n        <td></td>\n        <td></td>\n        <td></td>\n        <td>0.1318</td>\n    </tr>\n    <tr>\n        <th></th>\n        <td>&vellip;</td>\n        <td>&vellip;</td>\n        <td>&vellip;</td>\n        <td>&vellip;</td>\n        <td>&vellip;</td>\n        <td>&vellip;</td>\n        <td>&vellip;</td>\n        <td>&dtdot;</td>\n        <td>&vellip;</td>\n        <td>&vellip;</td>\n        <td>&vellip;</td>\n        <td>&vellip;</td>\n        <td>&vellip;</td>\n        <td>&vellip;</td>\n        <td>&vellip;</td>\n    </tr>\n    <tr>\n        <th>95</th>\n        <td></td>\n        <td></td>\n        <td></td>\n        <td></td>\n        <td></td>\n        <td>0.3315</td>\n        <td></td>\n        <td>&ctdot;</td>\n        <td></td>\n        <td>0.7708</td>\n        <td>0.004416</td>\n        <td>0.9238</td>\n        <td></td>\n        <td></td>\n        <td></td>\n    </tr>\n    <tr>\n        <th>96</th>\n        <td></td>\n        <td>0.9455</td>\n        <td></td>\n        <td></td>\n        <td></td>\n        <td></td>\n        <td>0.5961</td>\n        <td>&ctdot;</td>\n        <td>0.237</td>\n        <td></td>\n        <td>0.6584</td>\n        <td></td>\n        <td></td>\n        <td></td>\n        <td></td>\n    </tr>\n    <tr>\n        <th>97</th>\n        <td></td>\n        <td></td>\n        <td></td>\n        <td></td>\n        <td></td>\n        <td></td>\n        <td></td>\n        <td>&ctdot;</td>\n        <td></td>\n        <td></td>\n        <td></td>\n        <td></td>\n        <td></td>\n        <td></td>\n        <td></td>\n    </tr>\n    <tr>\n        <th>98</th>\n        <td></td>\n        <td></td>\n        <td></td>\n        <td>0.972</td>\n        <td></td>\n        <td>0.462</td>\n        <td>0.3726</td>\n        <td>&ctdot;</td>\n        <td></td>\n        <td></td>\n        <td></td>\n        <td></td>\n        <td></td>\n        <td></td>\n        <td>0.3856</td>\n    </tr>\n    <tr>\n        <th>99</th>\n        <td></td>\n        <td></td>\n        <td></td>\n        <td></td>\n        <td>0.8263</td>\n        <td></td>\n        <td></td>\n        <td>&ctdot;</td>\n        <td></td>\n        <td></td>\n        <td></td>\n        <td>0.01302</td>\n        <td></td>\n        <td></td>\n        <td></td>\n    </tr>\n    </tbody>\n</table>\n</div>"
     },
     "execution_count": 7,
     "metadata": {},
     "output_type": "execute_result"
    }
   ],
   "source": [
    "A"
   ]
  },
  {
   "cell_type": "code",
   "execution_count": 8,
   "metadata": {
    "ExecuteTime": {
     "end_time": "2023-08-31T21:28:12.099909Z",
     "start_time": "2023-08-31T21:28:12.096449Z"
    }
   },
   "outputs": [
    {
     "data": {
      "text/plain": "<COO: shape=(1000,), dtype=float64, nnz=500, fill_value=0.0>",
      "text/html": "<div>\n<style scoped>\n    table.matreprmatrix caption {\n        white-space: pre;\n        text-align: center;\n    }\n    table.matreprmatrix  {\n        border-collapse: collapse;\n    }\n    table.matreprmatrix > thead  {\n        border: 0px;\n    }\n    table.matreprmatrix > tbody tr th {\n        font-size: smaller;\n        vertical-align: middle;\n        text-align: right;\n    }\n    table.matreprmatrix > thead tr th {\n        font-size: smaller;\n        vertical-align: middle;\n        text-align: center;\n    }\n    table.matreprmatrix > tbody tr td {\n        vertical-align: middle;\n        text-align: center;\n        position: relative;\n    }\n    table.matreprmatrix > tbody tr td:first-of-type {\n        border-left: solid 2px;\n    }\n    table.matreprmatrix > tbody tr td:last-of-type {\n        border-right: solid 2px;\n    }\n    table.matreprmatrix > tbody tr td:empty::before {\n        content: \"\\00a0\\00a0\\00a0\";\n        visibility: hidden;\n    }\n    table.matreprmatrix > tbody tr td:empty::after {\n        content: \"\\00a0\\00a0\\00a0\";\n        visibility: hidden;\n    }\n    table.matreprmatrix > tbody > tr:first-child > td:first-of-type::before {\n        content: \"\";\n        width: 4px;\n        position: absolute;\n        top: 0;\n        bottom: 0;\n        visibility: visible;\n        left: 0;\n        right: auto;\n        border-top: solid 2px;\n    }\n    table.matreprmatrix > tbody > tr:last-child > td:first-of-type::before {\n        content: \"\";\n        width: 4px;\n        position: absolute;\n        top: 0;\n        bottom: 0;\n        visibility: visible;\n        left: 0;\n        right: auto;\n        border-bottom: solid 2px;\n    }\n    table.matreprmatrix > tbody > tr:first-child > td:last-of-type::after {\n        content: \"\";\n        width: 4px;\n        position: absolute;\n        top: 0;\n        bottom: 0;\n        visibility: visible;\n        left: auto;\n        right: 0;\n        border-top: solid 2px;\n    }\n    table.matreprmatrix > tbody > tr:last-child > td:last-of-type::after {\n        content: \"\";\n        width: 4px;\n        position: absolute;\n        top: 0;\n        bottom: 0;\n        visibility: visible;\n        left: auto;\n        right: 0;\n        border-bottom: solid 2px;\n    }\n    table.matreprtensor caption {\n        white-space: pre;\n        text-align: center;\n    }\n    table.matreprtensor > tbody tr th {\n        font-size: smaller;\n        vertical-align: middle;\n        text-align: right;\n    }\n    table.matreprtensor > thead tr th {\n        font-size: smaller;\n        vertical-align: middle;\n        text-align: center;\n    }\n    table.matreprtensor > tbody tr td {\n        vertical-align: middle;\n        text-align: center;\n        position: relative;\n    }\n    table.matreprtensor > tbody tr th:last-of-type {\n        border-right: solid 2px;\n    }\n</style>\n<table class=\"matreprmatrix\">\n<caption>length=1000, 500 &#x27;float64&#x27; elements, coo, fill_value=0.0, read-only, 7.8KiB</caption>\n    <thead>\n    <tr>\n        <th style=\"text-align: center;\">0</th>\n        <th style=\"text-align: center;\">1</th>\n        <th style=\"text-align: center;\">2</th>\n        <th style=\"text-align: center;\">3</th>\n        <th style=\"text-align: center;\">4</th>\n        <th style=\"text-align: center;\">5</th>\n        <th style=\"text-align: center;\">6</th>\n        <th style=\"text-align: center;\"></th>\n        <th style=\"text-align: center;\">993</th>\n        <th style=\"text-align: center;\">994</th>\n        <th style=\"text-align: center;\">995</th>\n        <th style=\"text-align: center;\">996</th>\n        <th style=\"text-align: center;\">997</th>\n        <th style=\"text-align: center;\">998</th>\n        <th style=\"text-align: center;\">999</th>\n    </tr>\n    </thead>\n    <tbody>\n    <tr>\n        <td></td>\n        <td>0.9873</td>\n        <td></td>\n        <td></td>\n        <td></td>\n        <td>0.9495</td>\n        <td>0.7522</td>\n        <td>&ctdot;</td>\n        <td></td>\n        <td></td>\n        <td></td>\n        <td>0.9818</td>\n        <td>0.2377</td>\n        <td></td>\n        <td>0.9387</td>\n    </tr>\n    </tbody>\n</table>\n</div>"
     },
     "execution_count": 8,
     "metadata": {},
     "output_type": "execute_result"
    }
   ],
   "source": [
    "v"
   ]
  },
  {
   "cell_type": "code",
   "execution_count": 9,
   "metadata": {
    "collapsed": false,
    "jupyter": {
     "outputs_hidden": false
    },
    "ExecuteTime": {
     "end_time": "2023-08-31T21:28:12.103442Z",
     "start_time": "2023-08-31T21:28:12.100744Z"
    }
   },
   "outputs": [
    {
     "data": {
      "text/plain": "<COO: shape=(10, 10, 10), dtype=float64, nnz=212, fill_value=0.0>",
      "text/html": "<div>\n<style scoped>\n    table.matreprmatrix caption {\n        white-space: pre;\n        text-align: center;\n    }\n    table.matreprmatrix  {\n        border-collapse: collapse;\n    }\n    table.matreprmatrix > thead  {\n        border: 0px;\n    }\n    table.matreprmatrix > tbody tr th {\n        font-size: smaller;\n        vertical-align: middle;\n        text-align: right;\n    }\n    table.matreprmatrix > thead tr th {\n        font-size: smaller;\n        vertical-align: middle;\n        text-align: center;\n    }\n    table.matreprmatrix > tbody tr td {\n        vertical-align: middle;\n        text-align: center;\n        position: relative;\n    }\n    table.matreprmatrix > tbody tr td:first-of-type {\n        border-left: solid 2px;\n    }\n    table.matreprmatrix > tbody tr td:last-of-type {\n        border-right: solid 2px;\n    }\n    table.matreprmatrix > tbody tr td:empty::before {\n        content: \"\\00a0\\00a0\\00a0\";\n        visibility: hidden;\n    }\n    table.matreprmatrix > tbody tr td:empty::after {\n        content: \"\\00a0\\00a0\\00a0\";\n        visibility: hidden;\n    }\n    table.matreprmatrix > tbody > tr:first-child > td:first-of-type::before {\n        content: \"\";\n        width: 4px;\n        position: absolute;\n        top: 0;\n        bottom: 0;\n        visibility: visible;\n        left: 0;\n        right: auto;\n        border-top: solid 2px;\n    }\n    table.matreprmatrix > tbody > tr:last-child > td:first-of-type::before {\n        content: \"\";\n        width: 4px;\n        position: absolute;\n        top: 0;\n        bottom: 0;\n        visibility: visible;\n        left: 0;\n        right: auto;\n        border-bottom: solid 2px;\n    }\n    table.matreprmatrix > tbody > tr:first-child > td:last-of-type::after {\n        content: \"\";\n        width: 4px;\n        position: absolute;\n        top: 0;\n        bottom: 0;\n        visibility: visible;\n        left: auto;\n        right: 0;\n        border-top: solid 2px;\n    }\n    table.matreprmatrix > tbody > tr:last-child > td:last-of-type::after {\n        content: \"\";\n        width: 4px;\n        position: absolute;\n        top: 0;\n        bottom: 0;\n        visibility: visible;\n        left: auto;\n        right: 0;\n        border-bottom: solid 2px;\n    }\n    table.matreprtensor caption {\n        white-space: pre;\n        text-align: center;\n    }\n    table.matreprtensor > tbody tr th {\n        font-size: smaller;\n        vertical-align: middle;\n        text-align: right;\n    }\n    table.matreprtensor > thead tr th {\n        font-size: smaller;\n        vertical-align: middle;\n        text-align: center;\n    }\n    table.matreprtensor > tbody tr td {\n        vertical-align: middle;\n        text-align: center;\n        position: relative;\n    }\n    table.matreprtensor > tbody tr th:last-of-type {\n        border-right: solid 2px;\n    }\n</style>\n<table class=\"matreprtensor\">\n<caption>shape=(10,10,10), 212 &#x27;float64&#x27; elements, coo, fill_value=0.0, read-only, 6.6KiB</caption>\n    <thead>\n    <tr>\n        <th></th>\n        <th style=\"text-align: center;\">0</th>\n        <th style=\"text-align: center;\">1</th>\n        <th style=\"text-align: center;\">2</th>\n        <th style=\"text-align: center;\">val</th>\n    </tr>\n    </thead>\n    <tbody>\n    <tr>\n        <th>0</th>\n        <td>0</td>\n        <td>0</td>\n        <td>4</td>\n        <td>0.8811</td>\n    </tr>\n    <tr>\n        <th>1</th>\n        <td>0</td>\n        <td>1</td>\n        <td>0</td>\n        <td>0.2228</td>\n    </tr>\n    <tr>\n        <th>2</th>\n        <td>0</td>\n        <td>1</td>\n        <td>1</td>\n        <td>0.5559</td>\n    </tr>\n    <tr>\n        <th>3</th>\n        <td>0</td>\n        <td>2</td>\n        <td>1</td>\n        <td>0.5681</td>\n    </tr>\n    <tr>\n        <th>4</th>\n        <td>0</td>\n        <td>2</td>\n        <td>5</td>\n        <td>0.5452</td>\n    </tr>\n    <tr>\n        <th></th>\n        <td>&vellip;</td>\n        <td>&vellip;</td>\n        <td>&vellip;</td>\n        <td>&vellip;</td>\n    </tr>\n    <tr>\n        <th>207</th>\n        <td>9</td>\n        <td>7</td>\n        <td>8</td>\n        <td>0.763</td>\n    </tr>\n    <tr>\n        <th>208</th>\n        <td>9</td>\n        <td>8</td>\n        <td>0</td>\n        <td>0.8105</td>\n    </tr>\n    <tr>\n        <th>209</th>\n        <td>9</td>\n        <td>8</td>\n        <td>2</td>\n        <td>0.05763</td>\n    </tr>\n    <tr>\n        <th>210</th>\n        <td>9</td>\n        <td>9</td>\n        <td>0</td>\n        <td>0.6487</td>\n    </tr>\n    <tr>\n        <th>211</th>\n        <td>9</td>\n        <td>9</td>\n        <td>1</td>\n        <td>0.1299</td>\n    </tr>\n    </tbody>\n</table>\n</div>"
     },
     "execution_count": 9,
     "metadata": {},
     "output_type": "execute_result"
    }
   ],
   "source": [
    "T"
   ]
  },
  {
   "cell_type": "markdown",
   "metadata": {},
   "source": [
    "## LaTeX"
   ]
  },
  {
   "cell_type": "code",
   "execution_count": 10,
   "metadata": {
    "collapsed": false,
    "jupyter": {
     "outputs_hidden": false
    },
    "ExecuteTime": {
     "end_time": "2023-08-31T21:28:12.109480Z",
     "start_time": "2023-08-31T21:28:12.105942Z"
    }
   },
   "outputs": [
    {
     "data": {
      "text/plain": "<IPython.core.display.Latex object>",
      "text/latex": "$\\begin{bmatrix}\n    & 0.4977 & & & & & & \\dots & 0.4427 & & & & & & \\\\\n    & & & & & & & \\dots & & 0.8135 & & & & & 0.6466 \\\\\n    & 0.04743 & & & 0.995 & & & \\dots & & & & & & 0.03235 & \\\\\n    & & & & & 0.3282 & & \\dots & 0.01163 & & & & 0.07154 & & \\\\\n    & & & & & & & \\dots & & & & & & & 0.1318 \\\\\n    \\vdots & \\vdots & \\vdots & \\vdots & \\vdots & \\vdots & \\vdots & \\ddots & \\vdots & \\vdots & \\vdots & \\vdots & \\vdots & \\vdots & \\vdots \\\\\n    & & & & & 0.3315 & & \\dots & & 0.7708 & 0.004416 & 0.9238 & & & \\\\\n    & 0.9455 & & & & & 0.5961 & \\dots & 0.237 & & 0.6584 & & & & \\\\\n    & & & & & & & \\dots & & & & & & & \\\\\n    & & & 0.972 & & 0.462 & 0.3726 & \\dots & & & & & & & 0.3856 \\\\\n    & & & & 0.8263 & & & \\dots & & & & 0.01302 & & &\n\\end{bmatrix}$"
     },
     "metadata": {},
     "output_type": "display_data"
    }
   ],
   "source": [
    "mdisplay(A, \"latex\")"
   ]
  },
  {
   "cell_type": "code",
   "execution_count": 11,
   "metadata": {
    "ExecuteTime": {
     "end_time": "2023-08-31T21:28:12.113344Z",
     "start_time": "2023-08-31T21:28:12.109898Z"
    }
   },
   "outputs": [
    {
     "data": {
      "text/plain": "<IPython.core.display.Latex object>",
      "text/latex": "$\\begin{bmatrix}\n    & 0.9873 & & & & 0.9495 & 0.7522 & \\dots & & & & 0.9818 & 0.2377 & & 0.9387\n\\end{bmatrix}$"
     },
     "metadata": {},
     "output_type": "display_data"
    }
   ],
   "source": [
    "mdisplay(v, \"latex\")"
   ]
  },
  {
   "cell_type": "code",
   "execution_count": 12,
   "metadata": {
    "collapsed": false,
    "jupyter": {
     "outputs_hidden": false
    },
    "ExecuteTime": {
     "end_time": "2023-08-31T21:28:12.124070Z",
     "start_time": "2023-08-31T21:28:12.114900Z"
    }
   },
   "outputs": [
    {
     "data": {
      "text/plain": "<IPython.core.display.Latex object>",
      "text/latex": "$\\begin{matrix}\n    \\textrm{0} & \\textrm{0} & \\textrm{4} & 0.8811 \\\\\n    \\textrm{0} & \\textrm{1} & \\textrm{0} & 0.2228 \\\\\n    \\textrm{0} & \\textrm{1} & \\textrm{1} & 0.5559 \\\\\n    \\textrm{0} & \\textrm{2} & \\textrm{1} & 0.5681 \\\\\n    \\textrm{0} & \\textrm{2} & \\textrm{5} & 0.5452 \\\\\n    \\vdots & \\vdots & \\vdots & \\vdots \\\\\n    \\textrm{9} & \\textrm{7} & \\textrm{8} & 0.763 \\\\\n    \\textrm{9} & \\textrm{8} & \\textrm{0} & 0.8105 \\\\\n    \\textrm{9} & \\textrm{8} & \\textrm{2} & 0.05763 \\\\\n    \\textrm{9} & \\textrm{9} & \\textrm{0} & 0.6487 \\\\\n    \\textrm{9} & \\textrm{9} & \\textrm{1} & 0.1299\n\\end{matrix}$"
     },
     "metadata": {},
     "output_type": "display_data"
    }
   ],
   "source": [
    "mdisplay(T, \"latex\")"
   ]
  },
  {
   "cell_type": "markdown",
   "metadata": {
    "collapsed": false,
    "jupyter": {
     "outputs_hidden": false
    }
   },
   "source": [
    "## String"
   ]
  },
  {
   "cell_type": "code",
   "execution_count": 13,
   "metadata": {
    "collapsed": false,
    "jupyter": {
     "outputs_hidden": false
    },
    "ExecuteTime": {
     "end_time": "2023-08-31T21:28:12.142536Z",
     "start_time": "2023-08-31T21:28:12.118018Z"
    }
   },
   "outputs": [
    {
     "data": {
      "text/plain": "<100×100, 2123 'float64' elements, coo, fill_value=0.0, read-only, 49.8KiB>\n      0      1      2     3      4            96       97       98       99\n   ┌                                                                          ┐\n 0 │      0.4977                       ...                                    │\n 1 │                                   ...                             0.6466 │\n 2 │      0.04743                      ...                    0.03235         │\n 3 │                                   ...           0.07154                  │\n 4 │                                   ...                             0.1318 │\n   │  :      :      :     :      :     ...     :        :        :       :    │\n95 │                                   ...  0.9238                            │\n96 │      0.9455               0.9514  ...                                    │\n97 │                                   ...                                    │\n98 │                    0.972  0.3444  ...                             0.3856 │\n99 │                                   ...  0.01302                           │\n   └                                                                          ┘"
     },
     "metadata": {},
     "output_type": "display_data"
    }
   ],
   "source": [
    "mdisplay(A, \"str\")"
   ]
  },
  {
   "cell_type": "code",
   "execution_count": 14,
   "metadata": {
    "collapsed": false,
    "jupyter": {
     "outputs_hidden": false
    },
    "ExecuteTime": {
     "end_time": "2023-08-31T21:28:12.153900Z",
     "start_time": "2023-08-31T21:28:12.145675Z"
    }
   },
   "outputs": [
    {
     "data": {
      "text/plain": "<length=1000, 500 'float64' elements, coo, fill_value=0.0, read-only, 7.8KiB>\n  0     1      2    3    4    5         995    996     997     998    999\n[     0.9873                      ...         0.9818  0.2377         0.9387]"
     },
     "metadata": {},
     "output_type": "display_data"
    }
   ],
   "source": [
    "mdisplay(v, \"str\")"
   ]
  },
  {
   "cell_type": "code",
   "execution_count": 15,
   "metadata": {
    "collapsed": false,
    "jupyter": {
     "outputs_hidden": false
    },
    "ExecuteTime": {
     "end_time": "2023-08-31T21:28:12.154407Z",
     "start_time": "2023-08-31T21:28:12.151028Z"
    }
   },
   "outputs": [
    {
     "data": {
      "text/plain": "[, 0.9873, , , , 0.9495, 0.7522, , ..., 0.1255, , , , 0.9818, 0.2377, , 0.9387]"
     },
     "metadata": {},
     "output_type": "display_data"
    }
   ],
   "source": [
    "mdisplay(v, \"str\", indices=False, title=False)"
   ]
  },
  {
   "cell_type": "code",
   "execution_count": 16,
   "metadata": {
    "collapsed": false,
    "jupyter": {
     "outputs_hidden": false
    },
    "ExecuteTime": {
     "end_time": "2023-08-31T21:28:12.170691Z",
     "start_time": "2023-08-31T21:28:12.156258Z"
    }
   },
   "outputs": [
    {
     "data": {
      "text/plain": "<shape=(10,10,10), 212 'float64' elements, coo, fill_value=0.0, read-only, 6.6KiB>\n      0    1    2     val\n  0 ( 0 ,  0 ,  4 , 0.8811 )\n  1 ( 0 ,  1 ,  0 , 0.2228 )\n  2 ( 0 ,  1 ,  1 , 0.5559 )\n  3 ( 0 ,  2 ,  1 , 0.5681 )\n  4 ( 0 ,  2 ,  5 , 0.5452 )\n    ( : ,  : ,  : ,    :   )\n207 ( 9 ,  7 ,  8 ,  0.763 )\n208 ( 9 ,  8 ,  0 , 0.8105 )\n209 ( 9 ,  8 ,  2 , 0.05763)\n210 ( 9 ,  9 ,  0 , 0.6487 )\n211 ( 9 ,  9 ,  1 , 0.1299 )"
     },
     "metadata": {},
     "output_type": "display_data"
    }
   ],
   "source": [
    "mdisplay(T, \"str\")"
   ]
  },
  {
   "cell_type": "markdown",
   "metadata": {},
   "source": [
    "## More compact size"
   ]
  },
  {
   "cell_type": "code",
   "execution_count": 17,
   "metadata": {
    "collapsed": false,
    "jupyter": {
     "outputs_hidden": false
    },
    "ExecuteTime": {
     "end_time": "2023-08-31T21:28:12.170862Z",
     "start_time": "2023-08-31T21:28:12.159891Z"
    }
   },
   "outputs": [],
   "source": [
    "import matrepr\n",
    "matrepr.params.max_rows = 10\n",
    "matrepr.params.max_cols = 7\n",
    "matrepr.params.num_after_dots = 0\n",
    "matrepr.params.indices = False"
   ]
  },
  {
   "cell_type": "code",
   "execution_count": 18,
   "metadata": {
    "collapsed": false,
    "jupyter": {
     "outputs_hidden": false
    },
    "ExecuteTime": {
     "end_time": "2023-08-31T21:28:12.172254Z",
     "start_time": "2023-08-31T21:28:12.163730Z"
    }
   },
   "outputs": [
    {
     "data": {
      "text/plain": "<COO: shape=(100, 100), dtype=float64, nnz=2123, fill_value=0.0>",
      "text/html": "<div>\n<style scoped>\n    table.matreprmatrix caption {\n        white-space: pre;\n        text-align: center;\n    }\n    table.matreprmatrix  {\n        border-collapse: collapse;\n    }\n    table.matreprmatrix > thead  {\n        border: 0px;\n    }\n    table.matreprmatrix > tbody tr th {\n        font-size: smaller;\n        vertical-align: middle;\n        text-align: right;\n    }\n    table.matreprmatrix > thead tr th {\n        font-size: smaller;\n        vertical-align: middle;\n        text-align: center;\n    }\n    table.matreprmatrix > tbody tr td {\n        vertical-align: middle;\n        text-align: center;\n        position: relative;\n    }\n    table.matreprmatrix > tbody tr td:first-of-type {\n        border-left: solid 2px;\n    }\n    table.matreprmatrix > tbody tr td:last-of-type {\n        border-right: solid 2px;\n    }\n    table.matreprmatrix > tbody tr td:empty::before {\n        content: \"\\00a0\\00a0\\00a0\";\n        visibility: hidden;\n    }\n    table.matreprmatrix > tbody tr td:empty::after {\n        content: \"\\00a0\\00a0\\00a0\";\n        visibility: hidden;\n    }\n    table.matreprmatrix > tbody > tr:first-child > td:first-of-type::before {\n        content: \"\";\n        width: 4px;\n        position: absolute;\n        top: 0;\n        bottom: 0;\n        visibility: visible;\n        left: 0;\n        right: auto;\n        border-top: solid 2px;\n    }\n    table.matreprmatrix > tbody > tr:last-child > td:first-of-type::before {\n        content: \"\";\n        width: 4px;\n        position: absolute;\n        top: 0;\n        bottom: 0;\n        visibility: visible;\n        left: 0;\n        right: auto;\n        border-bottom: solid 2px;\n    }\n    table.matreprmatrix > tbody > tr:first-child > td:last-of-type::after {\n        content: \"\";\n        width: 4px;\n        position: absolute;\n        top: 0;\n        bottom: 0;\n        visibility: visible;\n        left: auto;\n        right: 0;\n        border-top: solid 2px;\n    }\n    table.matreprmatrix > tbody > tr:last-child > td:last-of-type::after {\n        content: \"\";\n        width: 4px;\n        position: absolute;\n        top: 0;\n        bottom: 0;\n        visibility: visible;\n        left: auto;\n        right: 0;\n        border-bottom: solid 2px;\n    }\n    table.matreprtensor caption {\n        white-space: pre;\n        text-align: center;\n    }\n    table.matreprtensor > tbody tr th {\n        font-size: smaller;\n        vertical-align: middle;\n        text-align: right;\n    }\n    table.matreprtensor > thead tr th {\n        font-size: smaller;\n        vertical-align: middle;\n        text-align: center;\n    }\n    table.matreprtensor > tbody tr td {\n        vertical-align: middle;\n        text-align: center;\n        position: relative;\n    }\n    table.matreprtensor > tbody tr th:last-of-type {\n        border-right: solid 2px;\n    }\n</style>\n<table class=\"matreprmatrix\">\n<caption>100×100, 2123 &#x27;float64&#x27; elements, coo, fill_value=0.0, read-only, 49.8KiB</caption>\n    <tbody>\n    <tr>\n        <td></td>\n        <td>0.4977</td>\n        <td></td>\n        <td></td>\n        <td></td>\n        <td></td>\n        <td>&ctdot;</td>\n    </tr>\n    <tr>\n        <td></td>\n        <td></td>\n        <td></td>\n        <td></td>\n        <td></td>\n        <td></td>\n        <td>&ctdot;</td>\n    </tr>\n    <tr>\n        <td></td>\n        <td>0.04743</td>\n        <td></td>\n        <td></td>\n        <td>0.995</td>\n        <td></td>\n        <td>&ctdot;</td>\n    </tr>\n    <tr>\n        <td></td>\n        <td></td>\n        <td></td>\n        <td></td>\n        <td></td>\n        <td>0.3282</td>\n        <td>&ctdot;</td>\n    </tr>\n    <tr>\n        <td></td>\n        <td></td>\n        <td></td>\n        <td></td>\n        <td></td>\n        <td></td>\n        <td>&ctdot;</td>\n    </tr>\n    <tr>\n        <td></td>\n        <td></td>\n        <td></td>\n        <td></td>\n        <td></td>\n        <td>0.4119</td>\n        <td>&ctdot;</td>\n    </tr>\n    <tr>\n        <td>0.9375</td>\n        <td></td>\n        <td>0.6134</td>\n        <td></td>\n        <td></td>\n        <td>0.6993</td>\n        <td>&ctdot;</td>\n    </tr>\n    <tr>\n        <td>0.6578</td>\n        <td></td>\n        <td></td>\n        <td></td>\n        <td></td>\n        <td></td>\n        <td>&ctdot;</td>\n    </tr>\n    <tr>\n        <td></td>\n        <td></td>\n        <td></td>\n        <td></td>\n        <td></td>\n        <td>0.05845</td>\n        <td>&ctdot;</td>\n    </tr>\n    <tr>\n        <td>&vellip;</td>\n        <td>&vellip;</td>\n        <td>&vellip;</td>\n        <td>&vellip;</td>\n        <td>&vellip;</td>\n        <td>&vellip;</td>\n        <td>&dtdot;</td>\n    </tr>\n    </tbody>\n</table>\n</div>"
     },
     "execution_count": 18,
     "metadata": {},
     "output_type": "execute_result"
    }
   ],
   "source": [
    "A"
   ]
  },
  {
   "cell_type": "code",
   "execution_count": 19,
   "metadata": {
    "collapsed": false,
    "jupyter": {
     "outputs_hidden": false
    },
    "ExecuteTime": {
     "end_time": "2023-08-31T21:28:12.172471Z",
     "start_time": "2023-08-31T21:28:12.167380Z"
    }
   },
   "outputs": [
    {
     "data": {
      "text/plain": "<COO: shape=(1000,), dtype=float64, nnz=500, fill_value=0.0>",
      "text/html": "<div>\n<style scoped>\n    table.matreprmatrix caption {\n        white-space: pre;\n        text-align: center;\n    }\n    table.matreprmatrix  {\n        border-collapse: collapse;\n    }\n    table.matreprmatrix > thead  {\n        border: 0px;\n    }\n    table.matreprmatrix > tbody tr th {\n        font-size: smaller;\n        vertical-align: middle;\n        text-align: right;\n    }\n    table.matreprmatrix > thead tr th {\n        font-size: smaller;\n        vertical-align: middle;\n        text-align: center;\n    }\n    table.matreprmatrix > tbody tr td {\n        vertical-align: middle;\n        text-align: center;\n        position: relative;\n    }\n    table.matreprmatrix > tbody tr td:first-of-type {\n        border-left: solid 2px;\n    }\n    table.matreprmatrix > tbody tr td:last-of-type {\n        border-right: solid 2px;\n    }\n    table.matreprmatrix > tbody tr td:empty::before {\n        content: \"\\00a0\\00a0\\00a0\";\n        visibility: hidden;\n    }\n    table.matreprmatrix > tbody tr td:empty::after {\n        content: \"\\00a0\\00a0\\00a0\";\n        visibility: hidden;\n    }\n    table.matreprmatrix > tbody > tr:first-child > td:first-of-type::before {\n        content: \"\";\n        width: 4px;\n        position: absolute;\n        top: 0;\n        bottom: 0;\n        visibility: visible;\n        left: 0;\n        right: auto;\n        border-top: solid 2px;\n    }\n    table.matreprmatrix > tbody > tr:last-child > td:first-of-type::before {\n        content: \"\";\n        width: 4px;\n        position: absolute;\n        top: 0;\n        bottom: 0;\n        visibility: visible;\n        left: 0;\n        right: auto;\n        border-bottom: solid 2px;\n    }\n    table.matreprmatrix > tbody > tr:first-child > td:last-of-type::after {\n        content: \"\";\n        width: 4px;\n        position: absolute;\n        top: 0;\n        bottom: 0;\n        visibility: visible;\n        left: auto;\n        right: 0;\n        border-top: solid 2px;\n    }\n    table.matreprmatrix > tbody > tr:last-child > td:last-of-type::after {\n        content: \"\";\n        width: 4px;\n        position: absolute;\n        top: 0;\n        bottom: 0;\n        visibility: visible;\n        left: auto;\n        right: 0;\n        border-bottom: solid 2px;\n    }\n    table.matreprtensor caption {\n        white-space: pre;\n        text-align: center;\n    }\n    table.matreprtensor > tbody tr th {\n        font-size: smaller;\n        vertical-align: middle;\n        text-align: right;\n    }\n    table.matreprtensor > thead tr th {\n        font-size: smaller;\n        vertical-align: middle;\n        text-align: center;\n    }\n    table.matreprtensor > tbody tr td {\n        vertical-align: middle;\n        text-align: center;\n        position: relative;\n    }\n    table.matreprtensor > tbody tr th:last-of-type {\n        border-right: solid 2px;\n    }\n</style>\n<table class=\"matreprmatrix\">\n<caption>length=1000, 500 &#x27;float64&#x27; elements, coo, fill_value=0.0, read-only, 7.8KiB</caption>\n    <tbody>\n    <tr>\n        <td></td>\n        <td>0.9873</td>\n        <td></td>\n        <td></td>\n        <td></td>\n        <td>0.9495</td>\n        <td>&ctdot;</td>\n    </tr>\n    </tbody>\n</table>\n</div>"
     },
     "execution_count": 19,
     "metadata": {},
     "output_type": "execute_result"
    }
   ],
   "source": [
    "v"
   ]
  },
  {
   "cell_type": "code",
   "execution_count": 20,
   "metadata": {
    "collapsed": false,
    "jupyter": {
     "outputs_hidden": false
    },
    "ExecuteTime": {
     "end_time": "2023-08-31T21:28:12.176028Z",
     "start_time": "2023-08-31T21:28:12.170986Z"
    }
   },
   "outputs": [
    {
     "data": {
      "text/plain": "<COO: shape=(10, 10, 10), dtype=float64, nnz=212, fill_value=0.0>",
      "text/html": "<div>\n<style scoped>\n    table.matreprmatrix caption {\n        white-space: pre;\n        text-align: center;\n    }\n    table.matreprmatrix  {\n        border-collapse: collapse;\n    }\n    table.matreprmatrix > thead  {\n        border: 0px;\n    }\n    table.matreprmatrix > tbody tr th {\n        font-size: smaller;\n        vertical-align: middle;\n        text-align: right;\n    }\n    table.matreprmatrix > thead tr th {\n        font-size: smaller;\n        vertical-align: middle;\n        text-align: center;\n    }\n    table.matreprmatrix > tbody tr td {\n        vertical-align: middle;\n        text-align: center;\n        position: relative;\n    }\n    table.matreprmatrix > tbody tr td:first-of-type {\n        border-left: solid 2px;\n    }\n    table.matreprmatrix > tbody tr td:last-of-type {\n        border-right: solid 2px;\n    }\n    table.matreprmatrix > tbody tr td:empty::before {\n        content: \"\\00a0\\00a0\\00a0\";\n        visibility: hidden;\n    }\n    table.matreprmatrix > tbody tr td:empty::after {\n        content: \"\\00a0\\00a0\\00a0\";\n        visibility: hidden;\n    }\n    table.matreprmatrix > tbody > tr:first-child > td:first-of-type::before {\n        content: \"\";\n        width: 4px;\n        position: absolute;\n        top: 0;\n        bottom: 0;\n        visibility: visible;\n        left: 0;\n        right: auto;\n        border-top: solid 2px;\n    }\n    table.matreprmatrix > tbody > tr:last-child > td:first-of-type::before {\n        content: \"\";\n        width: 4px;\n        position: absolute;\n        top: 0;\n        bottom: 0;\n        visibility: visible;\n        left: 0;\n        right: auto;\n        border-bottom: solid 2px;\n    }\n    table.matreprmatrix > tbody > tr:first-child > td:last-of-type::after {\n        content: \"\";\n        width: 4px;\n        position: absolute;\n        top: 0;\n        bottom: 0;\n        visibility: visible;\n        left: auto;\n        right: 0;\n        border-top: solid 2px;\n    }\n    table.matreprmatrix > tbody > tr:last-child > td:last-of-type::after {\n        content: \"\";\n        width: 4px;\n        position: absolute;\n        top: 0;\n        bottom: 0;\n        visibility: visible;\n        left: auto;\n        right: 0;\n        border-bottom: solid 2px;\n    }\n    table.matreprtensor caption {\n        white-space: pre;\n        text-align: center;\n    }\n    table.matreprtensor > tbody tr th {\n        font-size: smaller;\n        vertical-align: middle;\n        text-align: right;\n    }\n    table.matreprtensor > thead tr th {\n        font-size: smaller;\n        vertical-align: middle;\n        text-align: center;\n    }\n    table.matreprtensor > tbody tr td {\n        vertical-align: middle;\n        text-align: center;\n        position: relative;\n    }\n    table.matreprtensor > tbody tr th:last-of-type {\n        border-right: solid 2px;\n    }\n</style>\n<table class=\"matreprtensor\">\n<caption>shape=(10,10,10), 212 &#x27;float64&#x27; elements, coo, fill_value=0.0, read-only, 6.6KiB</caption>\n    <tbody>\n    <tr>\n        <td>0</td>\n        <td>0</td>\n        <td>4</td>\n        <td>0.8811</td>\n    </tr>\n    <tr>\n        <td>0</td>\n        <td>1</td>\n        <td>0</td>\n        <td>0.2228</td>\n    </tr>\n    <tr>\n        <td>0</td>\n        <td>1</td>\n        <td>1</td>\n        <td>0.5559</td>\n    </tr>\n    <tr>\n        <td>0</td>\n        <td>2</td>\n        <td>1</td>\n        <td>0.5681</td>\n    </tr>\n    <tr>\n        <td>0</td>\n        <td>2</td>\n        <td>5</td>\n        <td>0.5452</td>\n    </tr>\n    <tr>\n        <td>0</td>\n        <td>3</td>\n        <td>6</td>\n        <td>0.4053</td>\n    </tr>\n    <tr>\n        <td>0</td>\n        <td>3</td>\n        <td>7</td>\n        <td>0.8414</td>\n    </tr>\n    <tr>\n        <td>0</td>\n        <td>4</td>\n        <td>5</td>\n        <td>0.638</td>\n    </tr>\n    <tr>\n        <td>0</td>\n        <td>4</td>\n        <td>7</td>\n        <td>0.9332</td>\n    </tr>\n    <tr>\n        <td>&vellip;</td>\n        <td>&vellip;</td>\n        <td>&vellip;</td>\n        <td>&vellip;</td>\n    </tr>\n    </tbody>\n</table>\n</div>"
     },
     "execution_count": 20,
     "metadata": {},
     "output_type": "execute_result"
    }
   ],
   "source": [
    "T"
   ]
  },
  {
   "cell_type": "code",
   "execution_count": 20,
   "metadata": {
    "collapsed": false,
    "jupyter": {
     "outputs_hidden": false
    },
    "ExecuteTime": {
     "end_time": "2023-08-31T21:28:12.190857Z",
     "start_time": "2023-08-31T21:28:12.173686Z"
    }
   },
   "outputs": [],
   "source": []
  }
 ],
 "metadata": {
  "kernelspec": {
   "display_name": "Python 3 (ipykernel)",
   "language": "python",
   "name": "python3"
  },
  "language_info": {
   "codemirror_mode": {
    "name": "ipython",
    "version": 3
   },
   "file_extension": ".py",
   "mimetype": "text/x-python",
   "name": "python",
   "nbconvert_exporter": "python",
   "pygments_lexer": "ipython3",
   "version": "3.11.2"
  }
 },
 "nbformat": 4,
 "nbformat_minor": 4
}
