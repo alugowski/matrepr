{
 "cells": [
  {
   "cell_type": "markdown",
   "metadata": {
    "collapsed": false,
    "jupyter": {
     "outputs_hidden": false
    }
   },
   "source": [
    "# MatRepr PyData/Sparse\n",
    "\n",
    "Demonstrate:\n",
    "* 2D matrix\n",
    "* 1D vector\n",
    "* multidimensional\n",
    "\n",
    "With rendering:\n",
    "* native pydata/sparse\n",
    "* with MatRepr Jupyter integration, both default and a more compact size\n",
    "* MatRepr LaTeX output\n",
    "* MatRepr string output"
   ]
  },
  {
   "cell_type": "code",
   "execution_count": 1,
   "metadata": {
    "collapsed": false,
    "jupyter": {
     "outputs_hidden": false
    },
    "ExecuteTime": {
     "end_time": "2023-09-01T20:50:05.728448Z",
     "start_time": "2023-09-01T20:50:05.326008Z"
    }
   },
   "outputs": [],
   "source": [
    "import sparse\n",
    "\n",
    "# so matrepr can be imported from the source tree.\n",
    "import sys\n",
    "sys.path.insert(0, '..')\n",
    "\n",
    "from matrepr import mdisplay"
   ]
  },
  {
   "cell_type": "code",
   "execution_count": 2,
   "metadata": {
    "collapsed": false,
    "jupyter": {
     "outputs_hidden": false
    },
    "ExecuteTime": {
     "end_time": "2023-09-01T20:50:06.230052Z",
     "start_time": "2023-09-01T20:50:05.731814Z"
    }
   },
   "outputs": [],
   "source": [
    "import numpy\n",
    "numpy.random.seed(1234)\n",
    "\n",
    "A = sparse.random((100, 100), density=0.21234)\n",
    "# v = sparse.COO([0, 1, 2, 3, 99], data=[1000, 1001, 1002, 1003, 1099], shape=(100,))\n",
    "v = sparse.random((1000,), density=0.5)\n",
    "# T = sparse.COO(coords=[[0, 1], [3, 2], [1, 3]], data=[111, 222], shape=(5, 5, 5))\n",
    "T = sparse.random((1000, 100, 100), density=0.21234)\n"
   ]
  },
  {
   "cell_type": "markdown",
   "metadata": {},
   "source": [
    "## PyData/Sparse native formatting"
   ]
  },
  {
   "cell_type": "code",
   "execution_count": 3,
   "metadata": {
    "collapsed": false,
    "jupyter": {
     "outputs_hidden": false
    },
    "ExecuteTime": {
     "end_time": "2023-09-01T20:50:06.236027Z",
     "start_time": "2023-09-01T20:50:06.231162Z"
    }
   },
   "outputs": [
    {
     "data": {
      "text/plain": "<COO: shape=(100, 100), dtype=float64, nnz=2123, fill_value=0.0>",
      "text/html": "<table><tbody><tr><th style=\"text-align: left\">Format</th><td style=\"text-align: left\">coo</td></tr><tr><th style=\"text-align: left\">Data Type</th><td style=\"text-align: left\">float64</td></tr><tr><th style=\"text-align: left\">Shape</th><td style=\"text-align: left\">(100, 100)</td></tr><tr><th style=\"text-align: left\">nnz</th><td style=\"text-align: left\">2123</td></tr><tr><th style=\"text-align: left\">Density</th><td style=\"text-align: left\">0.2123</td></tr><tr><th style=\"text-align: left\">Read-only</th><td style=\"text-align: left\">True</td></tr><tr><th style=\"text-align: left\">Size</th><td style=\"text-align: left\">49.8K</td></tr><tr><th style=\"text-align: left\">Storage ratio</th><td style=\"text-align: left\">0.6</td></tr></tbody></table>"
     },
     "execution_count": 3,
     "metadata": {},
     "output_type": "execute_result"
    }
   ],
   "source": [
    "A"
   ]
  },
  {
   "cell_type": "code",
   "execution_count": 4,
   "metadata": {
    "ExecuteTime": {
     "end_time": "2023-09-01T20:50:06.243229Z",
     "start_time": "2023-09-01T20:50:06.234202Z"
    }
   },
   "outputs": [
    {
     "data": {
      "text/plain": "<COO: shape=(1000,), dtype=float64, nnz=500, fill_value=0.0>",
      "text/html": "<table><tbody><tr><th style=\"text-align: left\">Format</th><td style=\"text-align: left\">coo</td></tr><tr><th style=\"text-align: left\">Data Type</th><td style=\"text-align: left\">float64</td></tr><tr><th style=\"text-align: left\">Shape</th><td style=\"text-align: left\">(1000,)</td></tr><tr><th style=\"text-align: left\">nnz</th><td style=\"text-align: left\">500</td></tr><tr><th style=\"text-align: left\">Density</th><td style=\"text-align: left\">0.5</td></tr><tr><th style=\"text-align: left\">Read-only</th><td style=\"text-align: left\">True</td></tr><tr><th style=\"text-align: left\">Size</th><td style=\"text-align: left\">7.8K</td></tr><tr><th style=\"text-align: left\">Storage ratio</th><td style=\"text-align: left\">1.0</td></tr></tbody></table>"
     },
     "execution_count": 4,
     "metadata": {},
     "output_type": "execute_result"
    }
   ],
   "source": [
    "v"
   ]
  },
  {
   "cell_type": "code",
   "execution_count": 5,
   "metadata": {
    "collapsed": false,
    "jupyter": {
     "outputs_hidden": false
    },
    "ExecuteTime": {
     "end_time": "2023-09-01T20:50:06.243422Z",
     "start_time": "2023-09-01T20:50:06.237942Z"
    }
   },
   "outputs": [
    {
     "data": {
      "text/plain": "<COO: shape=(1000, 100, 100), dtype=float64, nnz=2123400, fill_value=0.0>",
      "text/html": "<table><tbody><tr><th style=\"text-align: left\">Format</th><td style=\"text-align: left\">coo</td></tr><tr><th style=\"text-align: left\">Data Type</th><td style=\"text-align: left\">float64</td></tr><tr><th style=\"text-align: left\">Shape</th><td style=\"text-align: left\">(1000, 100, 100)</td></tr><tr><th style=\"text-align: left\">nnz</th><td style=\"text-align: left\">2123400</td></tr><tr><th style=\"text-align: left\">Density</th><td style=\"text-align: left\">0.21234</td></tr><tr><th style=\"text-align: left\">Read-only</th><td style=\"text-align: left\">True</td></tr><tr><th style=\"text-align: left\">Size</th><td style=\"text-align: left\">64.8M</td></tr><tr><th style=\"text-align: left\">Storage ratio</th><td style=\"text-align: left\">0.8</td></tr></tbody></table>"
     },
     "execution_count": 5,
     "metadata": {},
     "output_type": "execute_result"
    }
   ],
   "source": [
    "T"
   ]
  },
  {
   "cell_type": "markdown",
   "metadata": {},
   "source": [
    "## MatRepr default"
   ]
  },
  {
   "cell_type": "code",
   "execution_count": 6,
   "metadata": {
    "collapsed": false,
    "jupyter": {
     "outputs_hidden": false
    },
    "ExecuteTime": {
     "end_time": "2023-09-01T20:50:06.245277Z",
     "start_time": "2023-09-01T20:50:06.241454Z"
    }
   },
   "outputs": [],
   "source": [
    "%load_ext matrepr"
   ]
  },
  {
   "cell_type": "code",
   "execution_count": 7,
   "metadata": {
    "ExecuteTime": {
     "end_time": "2023-09-01T20:50:07.112965Z",
     "start_time": "2023-09-01T20:50:06.244314Z"
    }
   },
   "outputs": [
    {
     "data": {
      "text/plain": "<COO: shape=(100, 100), dtype=float64, nnz=2123, fill_value=0.0>",
      "text/html": "<div>\n<style scoped>\n    table.matreprmatrix caption {\n        white-space: pre;\n        text-align: center;\n    }\n    table.matreprmatrix  {\n        border-collapse: collapse;\n    }\n    table.matreprmatrix > thead  {\n        border: 0px;\n    }\n    table.matreprmatrix > tbody tr th {\n        font-size: smaller;\n        vertical-align: middle;\n        text-align: right;\n    }\n    table.matreprmatrix > thead tr th {\n        font-size: smaller;\n        vertical-align: middle;\n        text-align: center;\n    }\n    table.matreprmatrix > tbody tr td {\n        vertical-align: middle;\n        text-align: center;\n        position: relative;\n    }\n    table.matreprmatrix > tbody tr td:first-of-type {\n        border-left: solid 2px;\n    }\n    table.matreprmatrix > tbody tr td:last-of-type {\n        border-right: solid 2px;\n    }\n    table.matreprmatrix > tbody tr td:empty::before {\n        content: \"\\00a0\\00a0\\00a0\";\n        visibility: hidden;\n    }\n    table.matreprmatrix > tbody tr td:empty::after {\n        content: \"\\00a0\\00a0\\00a0\";\n        visibility: hidden;\n    }\n    table.matreprmatrix > tbody > tr:first-child > td:first-of-type::before {\n        content: \"\";\n        width: 4px;\n        position: absolute;\n        top: 0;\n        bottom: 0;\n        visibility: visible;\n        left: 0;\n        right: auto;\n        border-top: solid 2px;\n    }\n    table.matreprmatrix > tbody > tr:last-child > td:first-of-type::before {\n        content: \"\";\n        width: 4px;\n        position: absolute;\n        top: 0;\n        bottom: 0;\n        visibility: visible;\n        left: 0;\n        right: auto;\n        border-bottom: solid 2px;\n    }\n    table.matreprmatrix > tbody > tr:first-child > td:last-of-type::after {\n        content: \"\";\n        width: 4px;\n        position: absolute;\n        top: 0;\n        bottom: 0;\n        visibility: visible;\n        left: auto;\n        right: 0;\n        border-top: solid 2px;\n    }\n    table.matreprmatrix > tbody > tr:last-child > td:last-of-type::after {\n        content: \"\";\n        width: 4px;\n        position: absolute;\n        top: 0;\n        bottom: 0;\n        visibility: visible;\n        left: auto;\n        right: 0;\n        border-bottom: solid 2px;\n    }\n    table.matreprtensor caption {\n        white-space: pre;\n        text-align: center;\n    }\n    table.matreprtensor > tbody tr th {\n        font-size: smaller;\n        vertical-align: middle;\n        text-align: right;\n    }\n    table.matreprtensor > thead tr th {\n        font-size: smaller;\n        vertical-align: middle;\n        text-align: center;\n    }\n    table.matreprtensor > tbody tr td {\n        vertical-align: middle;\n        text-align: center;\n        position: relative;\n    }\n    table.matreprtensor > tbody tr th:last-of-type {\n        border-right: solid 2px;\n    }\n</style>\n<table class=\"matreprmatrix\">\n<caption>100×100, 2123 &#x27;float64&#x27; elements, coo, fill_value=0.0, read-only, 49.8KiB</caption>\n    <thead>\n    <tr>\n        <th></th>\n        <th style=\"text-align: center;\">0</th>\n        <th style=\"text-align: center;\">1</th>\n        <th style=\"text-align: center;\">2</th>\n        <th style=\"text-align: center;\">3</th>\n        <th style=\"text-align: center;\">4</th>\n        <th style=\"text-align: center;\">5</th>\n        <th style=\"text-align: center;\">6</th>\n        <th style=\"text-align: center;\"></th>\n        <th style=\"text-align: center;\">93</th>\n        <th style=\"text-align: center;\">94</th>\n        <th style=\"text-align: center;\">95</th>\n        <th style=\"text-align: center;\">96</th>\n        <th style=\"text-align: center;\">97</th>\n        <th style=\"text-align: center;\">98</th>\n        <th style=\"text-align: center;\">99</th>\n    </tr>\n    </thead>\n    <tbody>\n    <tr>\n        <th>0</th>\n        <td style=\"text-align: center;\"></td>\n        <td style=\"text-align: center;\">0.4977</td>\n        <td style=\"text-align: center;\"></td>\n        <td style=\"text-align: center;\"></td>\n        <td style=\"text-align: center;\"></td>\n        <td style=\"text-align: center;\"></td>\n        <td style=\"text-align: center;\"></td>\n        <td style=\"text-align: center;\">&ctdot;</td>\n        <td style=\"text-align: center;\">0.4427</td>\n        <td style=\"text-align: center;\"></td>\n        <td style=\"text-align: center;\"></td>\n        <td style=\"text-align: center;\"></td>\n        <td style=\"text-align: center;\"></td>\n        <td style=\"text-align: center;\"></td>\n        <td style=\"text-align: center;\"></td>\n    </tr>\n    <tr>\n        <th>1</th>\n        <td style=\"text-align: center;\"></td>\n        <td style=\"text-align: center;\"></td>\n        <td style=\"text-align: center;\"></td>\n        <td style=\"text-align: center;\"></td>\n        <td style=\"text-align: center;\"></td>\n        <td style=\"text-align: center;\"></td>\n        <td style=\"text-align: center;\"></td>\n        <td style=\"text-align: center;\">&ctdot;</td>\n        <td style=\"text-align: center;\"></td>\n        <td style=\"text-align: center;\">0.8135</td>\n        <td style=\"text-align: center;\"></td>\n        <td style=\"text-align: center;\"></td>\n        <td style=\"text-align: center;\"></td>\n        <td style=\"text-align: center;\"></td>\n        <td style=\"text-align: center;\">0.6466</td>\n    </tr>\n    <tr>\n        <th>2</th>\n        <td style=\"text-align: center;\"></td>\n        <td style=\"text-align: center;\">0.04743</td>\n        <td style=\"text-align: center;\"></td>\n        <td style=\"text-align: center;\"></td>\n        <td style=\"text-align: center;\">0.995</td>\n        <td style=\"text-align: center;\"></td>\n        <td style=\"text-align: center;\"></td>\n        <td style=\"text-align: center;\">&ctdot;</td>\n        <td style=\"text-align: center;\"></td>\n        <td style=\"text-align: center;\"></td>\n        <td style=\"text-align: center;\"></td>\n        <td style=\"text-align: center;\"></td>\n        <td style=\"text-align: center;\"></td>\n        <td style=\"text-align: center;\">0.03235</td>\n        <td style=\"text-align: center;\"></td>\n    </tr>\n    <tr>\n        <th>3</th>\n        <td style=\"text-align: center;\"></td>\n        <td style=\"text-align: center;\"></td>\n        <td style=\"text-align: center;\"></td>\n        <td style=\"text-align: center;\"></td>\n        <td style=\"text-align: center;\"></td>\n        <td style=\"text-align: center;\">0.3282</td>\n        <td style=\"text-align: center;\"></td>\n        <td style=\"text-align: center;\">&ctdot;</td>\n        <td style=\"text-align: center;\">0.01163</td>\n        <td style=\"text-align: center;\"></td>\n        <td style=\"text-align: center;\"></td>\n        <td style=\"text-align: center;\"></td>\n        <td style=\"text-align: center;\">0.07154</td>\n        <td style=\"text-align: center;\"></td>\n        <td style=\"text-align: center;\"></td>\n    </tr>\n    <tr>\n        <th>4</th>\n        <td style=\"text-align: center;\"></td>\n        <td style=\"text-align: center;\"></td>\n        <td style=\"text-align: center;\"></td>\n        <td style=\"text-align: center;\"></td>\n        <td style=\"text-align: center;\"></td>\n        <td style=\"text-align: center;\"></td>\n        <td style=\"text-align: center;\"></td>\n        <td style=\"text-align: center;\">&ctdot;</td>\n        <td style=\"text-align: center;\"></td>\n        <td style=\"text-align: center;\"></td>\n        <td style=\"text-align: center;\"></td>\n        <td style=\"text-align: center;\"></td>\n        <td style=\"text-align: center;\"></td>\n        <td style=\"text-align: center;\"></td>\n        <td style=\"text-align: center;\">0.1318</td>\n    </tr>\n    <tr>\n        <th></th>\n        <td style=\"text-align: center;\">&vellip;</td>\n        <td style=\"text-align: center;\">&vellip;</td>\n        <td style=\"text-align: center;\">&vellip;</td>\n        <td style=\"text-align: center;\">&vellip;</td>\n        <td style=\"text-align: center;\">&vellip;</td>\n        <td style=\"text-align: center;\">&vellip;</td>\n        <td style=\"text-align: center;\">&vellip;</td>\n        <td style=\"text-align: center;\">&dtdot;</td>\n        <td style=\"text-align: center;\">&vellip;</td>\n        <td style=\"text-align: center;\">&vellip;</td>\n        <td style=\"text-align: center;\">&vellip;</td>\n        <td style=\"text-align: center;\">&vellip;</td>\n        <td style=\"text-align: center;\">&vellip;</td>\n        <td style=\"text-align: center;\">&vellip;</td>\n        <td style=\"text-align: center;\">&vellip;</td>\n    </tr>\n    <tr>\n        <th>95</th>\n        <td style=\"text-align: center;\"></td>\n        <td style=\"text-align: center;\"></td>\n        <td style=\"text-align: center;\"></td>\n        <td style=\"text-align: center;\"></td>\n        <td style=\"text-align: center;\"></td>\n        <td style=\"text-align: center;\">0.3315</td>\n        <td style=\"text-align: center;\"></td>\n        <td style=\"text-align: center;\">&ctdot;</td>\n        <td style=\"text-align: center;\"></td>\n        <td style=\"text-align: center;\">0.7708</td>\n        <td style=\"text-align: center;\">0.004416</td>\n        <td style=\"text-align: center;\">0.9238</td>\n        <td style=\"text-align: center;\"></td>\n        <td style=\"text-align: center;\"></td>\n        <td style=\"text-align: center;\"></td>\n    </tr>\n    <tr>\n        <th>96</th>\n        <td style=\"text-align: center;\"></td>\n        <td style=\"text-align: center;\">0.9455</td>\n        <td style=\"text-align: center;\"></td>\n        <td style=\"text-align: center;\"></td>\n        <td style=\"text-align: center;\"></td>\n        <td style=\"text-align: center;\"></td>\n        <td style=\"text-align: center;\">0.5961</td>\n        <td style=\"text-align: center;\">&ctdot;</td>\n        <td style=\"text-align: center;\">0.237</td>\n        <td style=\"text-align: center;\"></td>\n        <td style=\"text-align: center;\">0.6584</td>\n        <td style=\"text-align: center;\"></td>\n        <td style=\"text-align: center;\"></td>\n        <td style=\"text-align: center;\"></td>\n        <td style=\"text-align: center;\"></td>\n    </tr>\n    <tr>\n        <th>97</th>\n        <td style=\"text-align: center;\"></td>\n        <td style=\"text-align: center;\"></td>\n        <td style=\"text-align: center;\"></td>\n        <td style=\"text-align: center;\"></td>\n        <td style=\"text-align: center;\"></td>\n        <td style=\"text-align: center;\"></td>\n        <td style=\"text-align: center;\"></td>\n        <td style=\"text-align: center;\">&ctdot;</td>\n        <td style=\"text-align: center;\"></td>\n        <td style=\"text-align: center;\"></td>\n        <td style=\"text-align: center;\"></td>\n        <td style=\"text-align: center;\"></td>\n        <td style=\"text-align: center;\"></td>\n        <td style=\"text-align: center;\"></td>\n        <td style=\"text-align: center;\"></td>\n    </tr>\n    <tr>\n        <th>98</th>\n        <td style=\"text-align: center;\"></td>\n        <td style=\"text-align: center;\"></td>\n        <td style=\"text-align: center;\"></td>\n        <td style=\"text-align: center;\">0.972</td>\n        <td style=\"text-align: center;\"></td>\n        <td style=\"text-align: center;\">0.462</td>\n        <td style=\"text-align: center;\">0.3726</td>\n        <td style=\"text-align: center;\">&ctdot;</td>\n        <td style=\"text-align: center;\"></td>\n        <td style=\"text-align: center;\"></td>\n        <td style=\"text-align: center;\"></td>\n        <td style=\"text-align: center;\"></td>\n        <td style=\"text-align: center;\"></td>\n        <td style=\"text-align: center;\"></td>\n        <td style=\"text-align: center;\">0.3856</td>\n    </tr>\n    <tr>\n        <th>99</th>\n        <td style=\"text-align: center;\"></td>\n        <td style=\"text-align: center;\"></td>\n        <td style=\"text-align: center;\"></td>\n        <td style=\"text-align: center;\"></td>\n        <td style=\"text-align: center;\">0.8263</td>\n        <td style=\"text-align: center;\"></td>\n        <td style=\"text-align: center;\"></td>\n        <td style=\"text-align: center;\">&ctdot;</td>\n        <td style=\"text-align: center;\"></td>\n        <td style=\"text-align: center;\"></td>\n        <td style=\"text-align: center;\"></td>\n        <td style=\"text-align: center;\">0.01302</td>\n        <td style=\"text-align: center;\"></td>\n        <td style=\"text-align: center;\"></td>\n        <td style=\"text-align: center;\"></td>\n    </tr>\n    </tbody>\n</table>\n</div>"
     },
     "execution_count": 7,
     "metadata": {},
     "output_type": "execute_result"
    }
   ],
   "source": [
    "A"
   ]
  },
  {
   "cell_type": "code",
   "execution_count": 8,
   "metadata": {
    "ExecuteTime": {
     "end_time": "2023-09-01T20:50:07.116611Z",
     "start_time": "2023-09-01T20:50:07.114258Z"
    }
   },
   "outputs": [
    {
     "data": {
      "text/plain": "<COO: shape=(1000,), dtype=float64, nnz=500, fill_value=0.0>",
      "text/html": "<div>\n<style scoped>\n    table.matreprmatrix caption {\n        white-space: pre;\n        text-align: center;\n    }\n    table.matreprmatrix  {\n        border-collapse: collapse;\n    }\n    table.matreprmatrix > thead  {\n        border: 0px;\n    }\n    table.matreprmatrix > tbody tr th {\n        font-size: smaller;\n        vertical-align: middle;\n        text-align: right;\n    }\n    table.matreprmatrix > thead tr th {\n        font-size: smaller;\n        vertical-align: middle;\n        text-align: center;\n    }\n    table.matreprmatrix > tbody tr td {\n        vertical-align: middle;\n        text-align: center;\n        position: relative;\n    }\n    table.matreprmatrix > tbody tr td:first-of-type {\n        border-left: solid 2px;\n    }\n    table.matreprmatrix > tbody tr td:last-of-type {\n        border-right: solid 2px;\n    }\n    table.matreprmatrix > tbody tr td:empty::before {\n        content: \"\\00a0\\00a0\\00a0\";\n        visibility: hidden;\n    }\n    table.matreprmatrix > tbody tr td:empty::after {\n        content: \"\\00a0\\00a0\\00a0\";\n        visibility: hidden;\n    }\n    table.matreprmatrix > tbody > tr:first-child > td:first-of-type::before {\n        content: \"\";\n        width: 4px;\n        position: absolute;\n        top: 0;\n        bottom: 0;\n        visibility: visible;\n        left: 0;\n        right: auto;\n        border-top: solid 2px;\n    }\n    table.matreprmatrix > tbody > tr:last-child > td:first-of-type::before {\n        content: \"\";\n        width: 4px;\n        position: absolute;\n        top: 0;\n        bottom: 0;\n        visibility: visible;\n        left: 0;\n        right: auto;\n        border-bottom: solid 2px;\n    }\n    table.matreprmatrix > tbody > tr:first-child > td:last-of-type::after {\n        content: \"\";\n        width: 4px;\n        position: absolute;\n        top: 0;\n        bottom: 0;\n        visibility: visible;\n        left: auto;\n        right: 0;\n        border-top: solid 2px;\n    }\n    table.matreprmatrix > tbody > tr:last-child > td:last-of-type::after {\n        content: \"\";\n        width: 4px;\n        position: absolute;\n        top: 0;\n        bottom: 0;\n        visibility: visible;\n        left: auto;\n        right: 0;\n        border-bottom: solid 2px;\n    }\n    table.matreprtensor caption {\n        white-space: pre;\n        text-align: center;\n    }\n    table.matreprtensor > tbody tr th {\n        font-size: smaller;\n        vertical-align: middle;\n        text-align: right;\n    }\n    table.matreprtensor > thead tr th {\n        font-size: smaller;\n        vertical-align: middle;\n        text-align: center;\n    }\n    table.matreprtensor > tbody tr td {\n        vertical-align: middle;\n        text-align: center;\n        position: relative;\n    }\n    table.matreprtensor > tbody tr th:last-of-type {\n        border-right: solid 2px;\n    }\n</style>\n<table class=\"matreprmatrix\">\n<caption>length=1000, 500 &#x27;float64&#x27; elements, coo, fill_value=0.0, read-only, 7.8KiB</caption>\n    <thead>\n    <tr>\n        <th style=\"text-align: center;\">0</th>\n        <th style=\"text-align: center;\">1</th>\n        <th style=\"text-align: center;\">2</th>\n        <th style=\"text-align: center;\">3</th>\n        <th style=\"text-align: center;\">4</th>\n        <th style=\"text-align: center;\">5</th>\n        <th style=\"text-align: center;\">6</th>\n        <th style=\"text-align: center;\"></th>\n        <th style=\"text-align: center;\">993</th>\n        <th style=\"text-align: center;\">994</th>\n        <th style=\"text-align: center;\">995</th>\n        <th style=\"text-align: center;\">996</th>\n        <th style=\"text-align: center;\">997</th>\n        <th style=\"text-align: center;\">998</th>\n        <th style=\"text-align: center;\">999</th>\n    </tr>\n    </thead>\n    <tbody>\n    <tr>\n        <td style=\"text-align: center;\"></td>\n        <td style=\"text-align: center;\">0.9873</td>\n        <td style=\"text-align: center;\"></td>\n        <td style=\"text-align: center;\"></td>\n        <td style=\"text-align: center;\"></td>\n        <td style=\"text-align: center;\">0.9495</td>\n        <td style=\"text-align: center;\">0.7522</td>\n        <td style=\"text-align: center;\">&ctdot;</td>\n        <td style=\"text-align: center;\"></td>\n        <td style=\"text-align: center;\"></td>\n        <td style=\"text-align: center;\"></td>\n        <td style=\"text-align: center;\">0.9818</td>\n        <td style=\"text-align: center;\">0.2377</td>\n        <td style=\"text-align: center;\"></td>\n        <td style=\"text-align: center;\">0.9387</td>\n    </tr>\n    </tbody>\n</table>\n</div>"
     },
     "execution_count": 8,
     "metadata": {},
     "output_type": "execute_result"
    }
   ],
   "source": [
    "v"
   ]
  },
  {
   "cell_type": "code",
   "execution_count": 9,
   "metadata": {
    "collapsed": false,
    "jupyter": {
     "outputs_hidden": false
    },
    "ExecuteTime": {
     "end_time": "2023-09-01T20:50:07.119497Z",
     "start_time": "2023-09-01T20:50:07.117132Z"
    }
   },
   "outputs": [
    {
     "data": {
      "text/plain": "<COO: shape=(1000, 100, 100), dtype=float64, nnz=2123400, fill_value=0.0>",
      "text/html": "<div>\n<style scoped>\n    table.matreprmatrix caption {\n        white-space: pre;\n        text-align: center;\n    }\n    table.matreprmatrix  {\n        border-collapse: collapse;\n    }\n    table.matreprmatrix > thead  {\n        border: 0px;\n    }\n    table.matreprmatrix > tbody tr th {\n        font-size: smaller;\n        vertical-align: middle;\n        text-align: right;\n    }\n    table.matreprmatrix > thead tr th {\n        font-size: smaller;\n        vertical-align: middle;\n        text-align: center;\n    }\n    table.matreprmatrix > tbody tr td {\n        vertical-align: middle;\n        text-align: center;\n        position: relative;\n    }\n    table.matreprmatrix > tbody tr td:first-of-type {\n        border-left: solid 2px;\n    }\n    table.matreprmatrix > tbody tr td:last-of-type {\n        border-right: solid 2px;\n    }\n    table.matreprmatrix > tbody tr td:empty::before {\n        content: \"\\00a0\\00a0\\00a0\";\n        visibility: hidden;\n    }\n    table.matreprmatrix > tbody tr td:empty::after {\n        content: \"\\00a0\\00a0\\00a0\";\n        visibility: hidden;\n    }\n    table.matreprmatrix > tbody > tr:first-child > td:first-of-type::before {\n        content: \"\";\n        width: 4px;\n        position: absolute;\n        top: 0;\n        bottom: 0;\n        visibility: visible;\n        left: 0;\n        right: auto;\n        border-top: solid 2px;\n    }\n    table.matreprmatrix > tbody > tr:last-child > td:first-of-type::before {\n        content: \"\";\n        width: 4px;\n        position: absolute;\n        top: 0;\n        bottom: 0;\n        visibility: visible;\n        left: 0;\n        right: auto;\n        border-bottom: solid 2px;\n    }\n    table.matreprmatrix > tbody > tr:first-child > td:last-of-type::after {\n        content: \"\";\n        width: 4px;\n        position: absolute;\n        top: 0;\n        bottom: 0;\n        visibility: visible;\n        left: auto;\n        right: 0;\n        border-top: solid 2px;\n    }\n    table.matreprmatrix > tbody > tr:last-child > td:last-of-type::after {\n        content: \"\";\n        width: 4px;\n        position: absolute;\n        top: 0;\n        bottom: 0;\n        visibility: visible;\n        left: auto;\n        right: 0;\n        border-bottom: solid 2px;\n    }\n    table.matreprtensor caption {\n        white-space: pre;\n        text-align: center;\n    }\n    table.matreprtensor > tbody tr th {\n        font-size: smaller;\n        vertical-align: middle;\n        text-align: right;\n    }\n    table.matreprtensor > thead tr th {\n        font-size: smaller;\n        vertical-align: middle;\n        text-align: center;\n    }\n    table.matreprtensor > tbody tr td {\n        vertical-align: middle;\n        text-align: center;\n        position: relative;\n    }\n    table.matreprtensor > tbody tr th:last-of-type {\n        border-right: solid 2px;\n    }\n</style>\n<table class=\"matreprtensor\">\n<caption>shape=(1000,100,100), 2123400 &#x27;float64&#x27; elements, coo, fill_value=0.0, read-only, 64.8MiB</caption>\n    <thead>\n    <tr>\n        <th></th>\n        <th style=\"text-align: right;\">0</th>\n        <th style=\"text-align: right;\">1</th>\n        <th style=\"text-align: right;\">2</th>\n        <th style=\"text-align: center;\">val</th>\n    </tr>\n    </thead>\n    <tbody>\n    <tr>\n        <th>0</th>\n        <td style=\"text-align: right;\">0</td>\n        <td style=\"text-align: right;\">0</td>\n        <td style=\"text-align: right;\">4</td>\n        <td style=\"text-align: center;\">0.8811</td>\n    </tr>\n    <tr>\n        <th>1</th>\n        <td style=\"text-align: right;\">0</td>\n        <td style=\"text-align: right;\">0</td>\n        <td style=\"text-align: right;\">10</td>\n        <td style=\"text-align: center;\">0.2228</td>\n    </tr>\n    <tr>\n        <th>2</th>\n        <td style=\"text-align: right;\">0</td>\n        <td style=\"text-align: right;\">0</td>\n        <td style=\"text-align: right;\">11</td>\n        <td style=\"text-align: center;\">0.5559</td>\n    </tr>\n    <tr>\n        <th>3</th>\n        <td style=\"text-align: right;\">0</td>\n        <td style=\"text-align: right;\">0</td>\n        <td style=\"text-align: right;\">21</td>\n        <td style=\"text-align: center;\">0.5681</td>\n    </tr>\n    <tr>\n        <th>4</th>\n        <td style=\"text-align: right;\">0</td>\n        <td style=\"text-align: right;\">0</td>\n        <td style=\"text-align: right;\">25</td>\n        <td style=\"text-align: center;\">0.5452</td>\n    </tr>\n    <tr>\n        <th></th>\n        <td style=\"text-align: right;\">&vellip;</td>\n        <td style=\"text-align: right;\">&vellip;</td>\n        <td style=\"text-align: right;\">&vellip;</td>\n        <td style=\"text-align: center;\">&vellip;</td>\n    </tr>\n    <tr>\n        <th>2123395</th>\n        <td style=\"text-align: right;\">999</td>\n        <td style=\"text-align: right;\">99</td>\n        <td style=\"text-align: right;\">77</td>\n        <td style=\"text-align: center;\">0.2487</td>\n    </tr>\n    <tr>\n        <th>2123396</th>\n        <td style=\"text-align: right;\">999</td>\n        <td style=\"text-align: right;\">99</td>\n        <td style=\"text-align: right;\">82</td>\n        <td style=\"text-align: center;\">0.7877</td>\n    </tr>\n    <tr>\n        <th>2123397</th>\n        <td style=\"text-align: right;\">999</td>\n        <td style=\"text-align: right;\">99</td>\n        <td style=\"text-align: right;\">84</td>\n        <td style=\"text-align: center;\">0.4994</td>\n    </tr>\n    <tr>\n        <th>2123398</th>\n        <td style=\"text-align: right;\">999</td>\n        <td style=\"text-align: right;\">99</td>\n        <td style=\"text-align: right;\">88</td>\n        <td style=\"text-align: center;\">0.3997</td>\n    </tr>\n    <tr>\n        <th>2123399</th>\n        <td style=\"text-align: right;\">999</td>\n        <td style=\"text-align: right;\">99</td>\n        <td style=\"text-align: right;\">93</td>\n        <td style=\"text-align: center;\">0.7297</td>\n    </tr>\n    </tbody>\n</table>\n</div>"
     },
     "execution_count": 9,
     "metadata": {},
     "output_type": "execute_result"
    }
   ],
   "source": [
    "T"
   ]
  },
  {
   "cell_type": "markdown",
   "metadata": {},
   "source": [
    "## LaTeX"
   ]
  },
  {
   "cell_type": "code",
   "execution_count": 10,
   "metadata": {
    "collapsed": false,
    "jupyter": {
     "outputs_hidden": false
    },
    "ExecuteTime": {
     "end_time": "2023-09-01T20:50:07.125013Z",
     "start_time": "2023-09-01T20:50:07.121733Z"
    }
   },
   "outputs": [
    {
     "data": {
      "text/plain": "<IPython.core.display.Latex object>",
      "text/latex": "$\\begin{bmatrix}\n     & 0.4977 &  &  &  &  &  & \\dots & 0.4427 &  &  &  &  &  &  \\\\\n     &  &  &  &  &  &  & \\dots &  & 0.8135 &  &  &  &  & 0.6466 \\\\\n     & 0.04743 &  &  & 0.995 &  &  & \\dots &  &  &  &  &  & 0.03235 &  \\\\\n     &  &  &  &  & 0.3282 &  & \\dots & 0.01163 &  &  &  & 0.07154 &  &  \\\\\n     &  &  &  &  &  &  & \\dots &  &  &  &  &  &  & 0.1318 \\\\\n    \\vdots & \\vdots & \\vdots & \\vdots & \\vdots & \\vdots & \\vdots & \\ddots & \\vdots & \\vdots & \\vdots & \\vdots & \\vdots & \\vdots & \\vdots \\\\\n     &  &  &  &  & 0.3315 &  & \\dots &  & 0.7708 & 0.004416 & 0.9238 &  &  &  \\\\\n     & 0.9455 &  &  &  &  & 0.5961 & \\dots & 0.237 &  & 0.6584 &  &  &  &  \\\\\n     &  &  &  &  &  &  & \\dots &  &  &  &  &  &  &  \\\\\n     &  &  & 0.972 &  & 0.462 & 0.3726 & \\dots &  &  &  &  &  &  & 0.3856 \\\\\n     &  &  &  & 0.8263 &  &  & \\dots &  &  &  & 0.01302 &  &  & \n\\end{bmatrix}$"
     },
     "metadata": {},
     "output_type": "display_data"
    }
   ],
   "source": [
    "mdisplay(A, \"latex\")"
   ]
  },
  {
   "cell_type": "code",
   "execution_count": 11,
   "metadata": {
    "ExecuteTime": {
     "end_time": "2023-09-01T20:50:07.128090Z",
     "start_time": "2023-09-01T20:50:07.125238Z"
    }
   },
   "outputs": [
    {
     "data": {
      "text/plain": "<IPython.core.display.Latex object>",
      "text/latex": "$\\begin{bmatrix}\n     & 0.9873 &  &  &  & 0.9495 & 0.7522 & \\dots &  &  &  & 0.9818 & 0.2377 &  & 0.9387\n\\end{bmatrix}$"
     },
     "metadata": {},
     "output_type": "display_data"
    }
   ],
   "source": [
    "mdisplay(v, \"latex\")"
   ]
  },
  {
   "cell_type": "code",
   "execution_count": 12,
   "metadata": {
    "collapsed": false,
    "jupyter": {
     "outputs_hidden": false
    },
    "ExecuteTime": {
     "end_time": "2023-09-01T20:50:07.131173Z",
     "start_time": "2023-09-01T20:50:07.128864Z"
    }
   },
   "outputs": [
    {
     "data": {
      "text/plain": "<IPython.core.display.Latex object>",
      "text/latex": "$\\begin{matrix}\n    \\textrm{0} & \\textrm{0} & \\textrm{4} & 0.8811 \\\\\n    \\textrm{0} & \\textrm{0} & \\textrm{10} & 0.2228 \\\\\n    \\textrm{0} & \\textrm{0} & \\textrm{11} & 0.5559 \\\\\n    \\textrm{0} & \\textrm{0} & \\textrm{21} & 0.5681 \\\\\n    \\textrm{0} & \\textrm{0} & \\textrm{25} & 0.5452 \\\\\n    \\vdots & \\vdots & \\vdots & \\vdots \\\\\n    \\textrm{999} & \\textrm{99} & \\textrm{77} & 0.2487 \\\\\n    \\textrm{999} & \\textrm{99} & \\textrm{82} & 0.7877 \\\\\n    \\textrm{999} & \\textrm{99} & \\textrm{84} & 0.4994 \\\\\n    \\textrm{999} & \\textrm{99} & \\textrm{88} & 0.3997 \\\\\n    \\textrm{999} & \\textrm{99} & \\textrm{93} & 0.7297\n\\end{matrix}$"
     },
     "metadata": {},
     "output_type": "display_data"
    }
   ],
   "source": [
    "mdisplay(T, \"latex\")"
   ]
  },
  {
   "cell_type": "markdown",
   "metadata": {
    "collapsed": false,
    "jupyter": {
     "outputs_hidden": false
    }
   },
   "source": [
    "## String"
   ]
  },
  {
   "cell_type": "code",
   "execution_count": 13,
   "metadata": {
    "collapsed": false,
    "jupyter": {
     "outputs_hidden": false
    },
    "ExecuteTime": {
     "end_time": "2023-09-01T20:50:07.155794Z",
     "start_time": "2023-09-01T20:50:07.131663Z"
    }
   },
   "outputs": [
    {
     "data": {
      "text/plain": "<100×100, 2123 'float64' elements, coo, fill_value=0.0, read-only, 49.8KiB>\n      0      1      2     3      4            96       97       98       99\n   ┌                                                                          ┐\n 0 │      0.4977                       ...                                    │\n 1 │                                   ...                             0.6466 │\n 2 │      0.04743                      ...                    0.03235         │\n 3 │                                   ...           0.07154                  │\n 4 │                                   ...                             0.1318 │\n   │  :      :      :     :      :     ...     :        :        :       :    │\n95 │                                   ...  0.9238                            │\n96 │      0.9455               0.9514  ...                                    │\n97 │                                   ...                                    │\n98 │                    0.972  0.3444  ...                             0.3856 │\n99 │                                   ...  0.01302                           │\n   └                                                                          ┘"
     },
     "metadata": {},
     "output_type": "display_data"
    }
   ],
   "source": [
    "mdisplay(A, \"str\")"
   ]
  },
  {
   "cell_type": "code",
   "execution_count": 14,
   "metadata": {
    "collapsed": false,
    "jupyter": {
     "outputs_hidden": false
    },
    "ExecuteTime": {
     "end_time": "2023-09-01T20:50:07.162149Z",
     "start_time": "2023-09-01T20:50:07.154676Z"
    }
   },
   "outputs": [
    {
     "data": {
      "text/plain": "<length=1000, 500 'float64' elements, coo, fill_value=0.0, read-only, 7.8KiB>\n  0     1      2    3    4    5         995    996     997     998    999\n[     0.9873                      ...         0.9818  0.2377         0.9387]"
     },
     "metadata": {},
     "output_type": "display_data"
    }
   ],
   "source": [
    "mdisplay(v, \"str\")"
   ]
  },
  {
   "cell_type": "code",
   "execution_count": 15,
   "metadata": {
    "collapsed": false,
    "jupyter": {
     "outputs_hidden": false
    },
    "ExecuteTime": {
     "end_time": "2023-09-01T20:50:07.172768Z",
     "start_time": "2023-09-01T20:50:07.165986Z"
    }
   },
   "outputs": [
    {
     "data": {
      "text/plain": "[, 0.9873, , , , 0.9495, 0.7522, , ..., 0.1255, , , , 0.9818, 0.2377, , 0.9387]"
     },
     "metadata": {},
     "output_type": "display_data"
    }
   ],
   "source": [
    "mdisplay(v, \"str\", indices=False, title=False)"
   ]
  },
  {
   "cell_type": "code",
   "execution_count": 16,
   "metadata": {
    "collapsed": false,
    "jupyter": {
     "outputs_hidden": false
    },
    "ExecuteTime": {
     "end_time": "2023-09-01T20:50:07.173242Z",
     "start_time": "2023-09-01T20:50:07.169614Z"
    }
   },
   "outputs": [
    {
     "data": {
      "text/plain": "<shape=(1000,100,100), 2123400 'float64' elements, coo, fill_value=0.0, read-only, 64.8MiB>\n           0    1    2   val\n      0 (  0,   0,   4, 0.8811)\n      1 (  0,   0,  10, 0.2228)\n      2 (  0,   0,  11, 0.5559)\n      3 (  0,   0,  21, 0.5681)\n      4 (  0,   0,  25, 0.5452)\n        (  :,   :,   :,   :   )\n2123395 (999,  99,  77, 0.2487)\n2123396 (999,  99,  82, 0.7877)\n2123397 (999,  99,  84, 0.4994)\n2123398 (999,  99,  88, 0.3997)\n2123399 (999,  99,  93, 0.7297)"
     },
     "metadata": {},
     "output_type": "display_data"
    }
   ],
   "source": [
    "mdisplay(T, \"str\")"
   ]
  },
  {
   "cell_type": "markdown",
   "metadata": {},
   "source": [
    "## More compact size"
   ]
  },
  {
   "cell_type": "code",
   "execution_count": 17,
   "metadata": {
    "collapsed": false,
    "jupyter": {
     "outputs_hidden": false
    },
    "ExecuteTime": {
     "end_time": "2023-09-01T20:50:07.173609Z",
     "start_time": "2023-09-01T20:50:07.171920Z"
    }
   },
   "outputs": [],
   "source": [
    "import matrepr\n",
    "matrepr.params.max_rows = 10\n",
    "matrepr.params.max_cols = 7\n",
    "matrepr.params.num_after_dots = 0\n",
    "matrepr.params.indices = False"
   ]
  },
  {
   "cell_type": "code",
   "execution_count": 18,
   "metadata": {
    "collapsed": false,
    "jupyter": {
     "outputs_hidden": false
    },
    "ExecuteTime": {
     "end_time": "2023-09-01T20:50:07.176688Z",
     "start_time": "2023-09-01T20:50:07.173977Z"
    }
   },
   "outputs": [
    {
     "data": {
      "text/plain": "<COO: shape=(100, 100), dtype=float64, nnz=2123, fill_value=0.0>",
      "text/html": "<div>\n<style scoped>\n    table.matreprmatrix caption {\n        white-space: pre;\n        text-align: center;\n    }\n    table.matreprmatrix  {\n        border-collapse: collapse;\n    }\n    table.matreprmatrix > thead  {\n        border: 0px;\n    }\n    table.matreprmatrix > tbody tr th {\n        font-size: smaller;\n        vertical-align: middle;\n        text-align: right;\n    }\n    table.matreprmatrix > thead tr th {\n        font-size: smaller;\n        vertical-align: middle;\n        text-align: center;\n    }\n    table.matreprmatrix > tbody tr td {\n        vertical-align: middle;\n        text-align: center;\n        position: relative;\n    }\n    table.matreprmatrix > tbody tr td:first-of-type {\n        border-left: solid 2px;\n    }\n    table.matreprmatrix > tbody tr td:last-of-type {\n        border-right: solid 2px;\n    }\n    table.matreprmatrix > tbody tr td:empty::before {\n        content: \"\\00a0\\00a0\\00a0\";\n        visibility: hidden;\n    }\n    table.matreprmatrix > tbody tr td:empty::after {\n        content: \"\\00a0\\00a0\\00a0\";\n        visibility: hidden;\n    }\n    table.matreprmatrix > tbody > tr:first-child > td:first-of-type::before {\n        content: \"\";\n        width: 4px;\n        position: absolute;\n        top: 0;\n        bottom: 0;\n        visibility: visible;\n        left: 0;\n        right: auto;\n        border-top: solid 2px;\n    }\n    table.matreprmatrix > tbody > tr:last-child > td:first-of-type::before {\n        content: \"\";\n        width: 4px;\n        position: absolute;\n        top: 0;\n        bottom: 0;\n        visibility: visible;\n        left: 0;\n        right: auto;\n        border-bottom: solid 2px;\n    }\n    table.matreprmatrix > tbody > tr:first-child > td:last-of-type::after {\n        content: \"\";\n        width: 4px;\n        position: absolute;\n        top: 0;\n        bottom: 0;\n        visibility: visible;\n        left: auto;\n        right: 0;\n        border-top: solid 2px;\n    }\n    table.matreprmatrix > tbody > tr:last-child > td:last-of-type::after {\n        content: \"\";\n        width: 4px;\n        position: absolute;\n        top: 0;\n        bottom: 0;\n        visibility: visible;\n        left: auto;\n        right: 0;\n        border-bottom: solid 2px;\n    }\n    table.matreprtensor caption {\n        white-space: pre;\n        text-align: center;\n    }\n    table.matreprtensor > tbody tr th {\n        font-size: smaller;\n        vertical-align: middle;\n        text-align: right;\n    }\n    table.matreprtensor > thead tr th {\n        font-size: smaller;\n        vertical-align: middle;\n        text-align: center;\n    }\n    table.matreprtensor > tbody tr td {\n        vertical-align: middle;\n        text-align: center;\n        position: relative;\n    }\n    table.matreprtensor > tbody tr th:last-of-type {\n        border-right: solid 2px;\n    }\n</style>\n<table class=\"matreprmatrix\">\n<caption>100×100, 2123 &#x27;float64&#x27; elements, coo, fill_value=0.0, read-only, 49.8KiB</caption>\n    <tbody>\n    <tr>\n        <td style=\"text-align: center;\"></td>\n        <td style=\"text-align: center;\">0.4977</td>\n        <td style=\"text-align: center;\"></td>\n        <td style=\"text-align: center;\"></td>\n        <td style=\"text-align: center;\"></td>\n        <td style=\"text-align: center;\"></td>\n        <td style=\"text-align: center;\">&ctdot;</td>\n    </tr>\n    <tr>\n        <td style=\"text-align: center;\"></td>\n        <td style=\"text-align: center;\"></td>\n        <td style=\"text-align: center;\"></td>\n        <td style=\"text-align: center;\"></td>\n        <td style=\"text-align: center;\"></td>\n        <td style=\"text-align: center;\"></td>\n        <td style=\"text-align: center;\">&ctdot;</td>\n    </tr>\n    <tr>\n        <td style=\"text-align: center;\"></td>\n        <td style=\"text-align: center;\">0.04743</td>\n        <td style=\"text-align: center;\"></td>\n        <td style=\"text-align: center;\"></td>\n        <td style=\"text-align: center;\">0.995</td>\n        <td style=\"text-align: center;\"></td>\n        <td style=\"text-align: center;\">&ctdot;</td>\n    </tr>\n    <tr>\n        <td style=\"text-align: center;\"></td>\n        <td style=\"text-align: center;\"></td>\n        <td style=\"text-align: center;\"></td>\n        <td style=\"text-align: center;\"></td>\n        <td style=\"text-align: center;\"></td>\n        <td style=\"text-align: center;\">0.3282</td>\n        <td style=\"text-align: center;\">&ctdot;</td>\n    </tr>\n    <tr>\n        <td style=\"text-align: center;\"></td>\n        <td style=\"text-align: center;\"></td>\n        <td style=\"text-align: center;\"></td>\n        <td style=\"text-align: center;\"></td>\n        <td style=\"text-align: center;\"></td>\n        <td style=\"text-align: center;\"></td>\n        <td style=\"text-align: center;\">&ctdot;</td>\n    </tr>\n    <tr>\n        <td style=\"text-align: center;\"></td>\n        <td style=\"text-align: center;\"></td>\n        <td style=\"text-align: center;\"></td>\n        <td style=\"text-align: center;\"></td>\n        <td style=\"text-align: center;\"></td>\n        <td style=\"text-align: center;\">0.4119</td>\n        <td style=\"text-align: center;\">&ctdot;</td>\n    </tr>\n    <tr>\n        <td style=\"text-align: center;\">0.9375</td>\n        <td style=\"text-align: center;\"></td>\n        <td style=\"text-align: center;\">0.6134</td>\n        <td style=\"text-align: center;\"></td>\n        <td style=\"text-align: center;\"></td>\n        <td style=\"text-align: center;\">0.6993</td>\n        <td style=\"text-align: center;\">&ctdot;</td>\n    </tr>\n    <tr>\n        <td style=\"text-align: center;\">0.6578</td>\n        <td style=\"text-align: center;\"></td>\n        <td style=\"text-align: center;\"></td>\n        <td style=\"text-align: center;\"></td>\n        <td style=\"text-align: center;\"></td>\n        <td style=\"text-align: center;\"></td>\n        <td style=\"text-align: center;\">&ctdot;</td>\n    </tr>\n    <tr>\n        <td style=\"text-align: center;\"></td>\n        <td style=\"text-align: center;\"></td>\n        <td style=\"text-align: center;\"></td>\n        <td style=\"text-align: center;\"></td>\n        <td style=\"text-align: center;\"></td>\n        <td style=\"text-align: center;\">0.05845</td>\n        <td style=\"text-align: center;\">&ctdot;</td>\n    </tr>\n    <tr>\n        <td style=\"text-align: center;\">&vellip;</td>\n        <td style=\"text-align: center;\">&vellip;</td>\n        <td style=\"text-align: center;\">&vellip;</td>\n        <td style=\"text-align: center;\">&vellip;</td>\n        <td style=\"text-align: center;\">&vellip;</td>\n        <td style=\"text-align: center;\">&vellip;</td>\n        <td style=\"text-align: center;\">&dtdot;</td>\n    </tr>\n    </tbody>\n</table>\n</div>"
     },
     "execution_count": 18,
     "metadata": {},
     "output_type": "execute_result"
    }
   ],
   "source": [
    "A"
   ]
  },
  {
   "cell_type": "code",
   "execution_count": 19,
   "metadata": {
    "collapsed": false,
    "jupyter": {
     "outputs_hidden": false
    },
    "ExecuteTime": {
     "end_time": "2023-09-01T20:50:07.211253Z",
     "start_time": "2023-09-01T20:50:07.176977Z"
    }
   },
   "outputs": [
    {
     "data": {
      "text/plain": "<COO: shape=(1000,), dtype=float64, nnz=500, fill_value=0.0>",
      "text/html": "<div>\n<style scoped>\n    table.matreprmatrix caption {\n        white-space: pre;\n        text-align: center;\n    }\n    table.matreprmatrix  {\n        border-collapse: collapse;\n    }\n    table.matreprmatrix > thead  {\n        border: 0px;\n    }\n    table.matreprmatrix > tbody tr th {\n        font-size: smaller;\n        vertical-align: middle;\n        text-align: right;\n    }\n    table.matreprmatrix > thead tr th {\n        font-size: smaller;\n        vertical-align: middle;\n        text-align: center;\n    }\n    table.matreprmatrix > tbody tr td {\n        vertical-align: middle;\n        text-align: center;\n        position: relative;\n    }\n    table.matreprmatrix > tbody tr td:first-of-type {\n        border-left: solid 2px;\n    }\n    table.matreprmatrix > tbody tr td:last-of-type {\n        border-right: solid 2px;\n    }\n    table.matreprmatrix > tbody tr td:empty::before {\n        content: \"\\00a0\\00a0\\00a0\";\n        visibility: hidden;\n    }\n    table.matreprmatrix > tbody tr td:empty::after {\n        content: \"\\00a0\\00a0\\00a0\";\n        visibility: hidden;\n    }\n    table.matreprmatrix > tbody > tr:first-child > td:first-of-type::before {\n        content: \"\";\n        width: 4px;\n        position: absolute;\n        top: 0;\n        bottom: 0;\n        visibility: visible;\n        left: 0;\n        right: auto;\n        border-top: solid 2px;\n    }\n    table.matreprmatrix > tbody > tr:last-child > td:first-of-type::before {\n        content: \"\";\n        width: 4px;\n        position: absolute;\n        top: 0;\n        bottom: 0;\n        visibility: visible;\n        left: 0;\n        right: auto;\n        border-bottom: solid 2px;\n    }\n    table.matreprmatrix > tbody > tr:first-child > td:last-of-type::after {\n        content: \"\";\n        width: 4px;\n        position: absolute;\n        top: 0;\n        bottom: 0;\n        visibility: visible;\n        left: auto;\n        right: 0;\n        border-top: solid 2px;\n    }\n    table.matreprmatrix > tbody > tr:last-child > td:last-of-type::after {\n        content: \"\";\n        width: 4px;\n        position: absolute;\n        top: 0;\n        bottom: 0;\n        visibility: visible;\n        left: auto;\n        right: 0;\n        border-bottom: solid 2px;\n    }\n    table.matreprtensor caption {\n        white-space: pre;\n        text-align: center;\n    }\n    table.matreprtensor > tbody tr th {\n        font-size: smaller;\n        vertical-align: middle;\n        text-align: right;\n    }\n    table.matreprtensor > thead tr th {\n        font-size: smaller;\n        vertical-align: middle;\n        text-align: center;\n    }\n    table.matreprtensor > tbody tr td {\n        vertical-align: middle;\n        text-align: center;\n        position: relative;\n    }\n    table.matreprtensor > tbody tr th:last-of-type {\n        border-right: solid 2px;\n    }\n</style>\n<table class=\"matreprmatrix\">\n<caption>length=1000, 500 &#x27;float64&#x27; elements, coo, fill_value=0.0, read-only, 7.8KiB</caption>\n    <tbody>\n    <tr>\n        <td style=\"text-align: center;\"></td>\n        <td style=\"text-align: center;\">0.9873</td>\n        <td style=\"text-align: center;\"></td>\n        <td style=\"text-align: center;\"></td>\n        <td style=\"text-align: center;\"></td>\n        <td style=\"text-align: center;\">0.9495</td>\n        <td style=\"text-align: center;\">&ctdot;</td>\n    </tr>\n    </tbody>\n</table>\n</div>"
     },
     "execution_count": 19,
     "metadata": {},
     "output_type": "execute_result"
    }
   ],
   "source": [
    "v"
   ]
  },
  {
   "cell_type": "code",
   "execution_count": 20,
   "metadata": {
    "collapsed": false,
    "jupyter": {
     "outputs_hidden": false
    },
    "ExecuteTime": {
     "end_time": "2023-09-01T20:50:07.211646Z",
     "start_time": "2023-09-01T20:50:07.181316Z"
    }
   },
   "outputs": [
    {
     "data": {
      "text/plain": "<COO: shape=(1000, 100, 100), dtype=float64, nnz=2123400, fill_value=0.0>",
      "text/html": "<div>\n<style scoped>\n    table.matreprmatrix caption {\n        white-space: pre;\n        text-align: center;\n    }\n    table.matreprmatrix  {\n        border-collapse: collapse;\n    }\n    table.matreprmatrix > thead  {\n        border: 0px;\n    }\n    table.matreprmatrix > tbody tr th {\n        font-size: smaller;\n        vertical-align: middle;\n        text-align: right;\n    }\n    table.matreprmatrix > thead tr th {\n        font-size: smaller;\n        vertical-align: middle;\n        text-align: center;\n    }\n    table.matreprmatrix > tbody tr td {\n        vertical-align: middle;\n        text-align: center;\n        position: relative;\n    }\n    table.matreprmatrix > tbody tr td:first-of-type {\n        border-left: solid 2px;\n    }\n    table.matreprmatrix > tbody tr td:last-of-type {\n        border-right: solid 2px;\n    }\n    table.matreprmatrix > tbody tr td:empty::before {\n        content: \"\\00a0\\00a0\\00a0\";\n        visibility: hidden;\n    }\n    table.matreprmatrix > tbody tr td:empty::after {\n        content: \"\\00a0\\00a0\\00a0\";\n        visibility: hidden;\n    }\n    table.matreprmatrix > tbody > tr:first-child > td:first-of-type::before {\n        content: \"\";\n        width: 4px;\n        position: absolute;\n        top: 0;\n        bottom: 0;\n        visibility: visible;\n        left: 0;\n        right: auto;\n        border-top: solid 2px;\n    }\n    table.matreprmatrix > tbody > tr:last-child > td:first-of-type::before {\n        content: \"\";\n        width: 4px;\n        position: absolute;\n        top: 0;\n        bottom: 0;\n        visibility: visible;\n        left: 0;\n        right: auto;\n        border-bottom: solid 2px;\n    }\n    table.matreprmatrix > tbody > tr:first-child > td:last-of-type::after {\n        content: \"\";\n        width: 4px;\n        position: absolute;\n        top: 0;\n        bottom: 0;\n        visibility: visible;\n        left: auto;\n        right: 0;\n        border-top: solid 2px;\n    }\n    table.matreprmatrix > tbody > tr:last-child > td:last-of-type::after {\n        content: \"\";\n        width: 4px;\n        position: absolute;\n        top: 0;\n        bottom: 0;\n        visibility: visible;\n        left: auto;\n        right: 0;\n        border-bottom: solid 2px;\n    }\n    table.matreprtensor caption {\n        white-space: pre;\n        text-align: center;\n    }\n    table.matreprtensor > tbody tr th {\n        font-size: smaller;\n        vertical-align: middle;\n        text-align: right;\n    }\n    table.matreprtensor > thead tr th {\n        font-size: smaller;\n        vertical-align: middle;\n        text-align: center;\n    }\n    table.matreprtensor > tbody tr td {\n        vertical-align: middle;\n        text-align: center;\n        position: relative;\n    }\n    table.matreprtensor > tbody tr th:last-of-type {\n        border-right: solid 2px;\n    }\n</style>\n<table class=\"matreprtensor\">\n<caption>shape=(1000,100,100), 2123400 &#x27;float64&#x27; elements, coo, fill_value=0.0, read-only, 64.8MiB</caption>\n    <tbody>\n    <tr>\n        <td style=\"text-align: right;\">0</td>\n        <td style=\"text-align: right;\">0</td>\n        <td style=\"text-align: right;\">4</td>\n        <td style=\"text-align: center;\">0.8811</td>\n    </tr>\n    <tr>\n        <td style=\"text-align: right;\">0</td>\n        <td style=\"text-align: right;\">0</td>\n        <td style=\"text-align: right;\">10</td>\n        <td style=\"text-align: center;\">0.2228</td>\n    </tr>\n    <tr>\n        <td style=\"text-align: right;\">0</td>\n        <td style=\"text-align: right;\">0</td>\n        <td style=\"text-align: right;\">11</td>\n        <td style=\"text-align: center;\">0.5559</td>\n    </tr>\n    <tr>\n        <td style=\"text-align: right;\">0</td>\n        <td style=\"text-align: right;\">0</td>\n        <td style=\"text-align: right;\">21</td>\n        <td style=\"text-align: center;\">0.5681</td>\n    </tr>\n    <tr>\n        <td style=\"text-align: right;\">0</td>\n        <td style=\"text-align: right;\">0</td>\n        <td style=\"text-align: right;\">25</td>\n        <td style=\"text-align: center;\">0.5452</td>\n    </tr>\n    <tr>\n        <td style=\"text-align: right;\">0</td>\n        <td style=\"text-align: right;\">0</td>\n        <td style=\"text-align: right;\">37</td>\n        <td style=\"text-align: center;\">0.4053</td>\n    </tr>\n    <tr>\n        <td style=\"text-align: right;\">0</td>\n        <td style=\"text-align: right;\">0</td>\n        <td style=\"text-align: right;\">38</td>\n        <td style=\"text-align: center;\">0.8414</td>\n    </tr>\n    <tr>\n        <td style=\"text-align: right;\">0</td>\n        <td style=\"text-align: right;\">0</td>\n        <td style=\"text-align: right;\">46</td>\n        <td style=\"text-align: center;\">0.638</td>\n    </tr>\n    <tr>\n        <td style=\"text-align: right;\">0</td>\n        <td style=\"text-align: right;\">0</td>\n        <td style=\"text-align: right;\">48</td>\n        <td style=\"text-align: center;\">0.9332</td>\n    </tr>\n    <tr>\n        <td style=\"text-align: right;\">&vellip;</td>\n        <td style=\"text-align: right;\">&vellip;</td>\n        <td style=\"text-align: right;\">&vellip;</td>\n        <td style=\"text-align: center;\">&vellip;</td>\n    </tr>\n    </tbody>\n</table>\n</div>"
     },
     "execution_count": 20,
     "metadata": {},
     "output_type": "execute_result"
    }
   ],
   "source": [
    "T"
   ]
  },
  {
   "cell_type": "code",
   "execution_count": 20,
   "metadata": {
    "collapsed": false,
    "jupyter": {
     "outputs_hidden": false
    },
    "ExecuteTime": {
     "end_time": "2023-09-01T20:50:07.211707Z",
     "start_time": "2023-09-01T20:50:07.184272Z"
    }
   },
   "outputs": [],
   "source": []
  }
 ],
 "metadata": {
  "kernelspec": {
   "display_name": "Python 3 (ipykernel)",
   "language": "python",
   "name": "python3"
  },
  "language_info": {
   "codemirror_mode": {
    "name": "ipython",
    "version": 3
   },
   "file_extension": ".py",
   "mimetype": "text/x-python",
   "name": "python",
   "nbconvert_exporter": "python",
   "pygments_lexer": "ipython3",
   "version": "3.11.2"
  }
 },
 "nbformat": 4,
 "nbformat_minor": 4
}
