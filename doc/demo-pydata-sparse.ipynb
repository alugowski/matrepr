{
 "cells": [
  {
   "cell_type": "markdown",
   "metadata": {
    "collapsed": false,
    "jupyter": {
     "outputs_hidden": false
    }
   },
   "source": [
    "# MatRepr PyData sparse\n",
    "\n",
    "Demonstrate:\n",
    "* 2D matrix\n",
    "* 1D vector\n",
    "* multidimensional\n",
    "\n",
    "With rendering:\n",
    "* native pydata/sparse\n",
    "* with MatRepr Jupyter integration (HTML output)\n",
    "* MatRepr LaTeX output\n",
    "* MatRepr string output\n",
    "* A compact size"
   ]
  },
  {
   "cell_type": "code",
   "execution_count": 1,
   "metadata": {
    "ExecuteTime": {
     "end_time": "2023-08-28T03:56:59.897844Z",
     "start_time": "2023-08-28T03:56:59.543326Z"
    },
    "collapsed": false,
    "jupyter": {
     "outputs_hidden": false
    }
   },
   "outputs": [],
   "source": [
    "import sparse\n",
    "\n",
    "# so matrepr can be imported from the source tree.\n",
    "import sys\n",
    "sys.path.insert(0, '..')"
   ]
  },
  {
   "cell_type": "code",
   "execution_count": 2,
   "metadata": {
    "ExecuteTime": {
     "end_time": "2023-08-28T03:57:00.261836Z",
     "start_time": "2023-08-28T03:56:59.910208Z"
    },
    "collapsed": false,
    "jupyter": {
     "outputs_hidden": false
    }
   },
   "outputs": [],
   "source": [
    "import numpy\n",
    "numpy.random.seed(1234)\n",
    "\n",
    "A = sparse.random((100, 100), density=0.212345)\n",
    "# v = sparse.COO([0, 1, 2, 3, 99], data=[1000, 1001, 1002, 1003, 1099], shape=(100,))\n",
    "v = sparse.random((1000,), density=0.5)\n",
    "# T = sparse.COO(coords=[[0, 1], [3, 2], [1, 3]], data=[111, 222], shape=(5, 5, 5))\n",
    "T = sparse.random((10, 10, 10, 10), density=0.212345)\n"
   ]
  },
  {
   "cell_type": "markdown",
   "metadata": {},
   "source": [
    "## sparse native"
   ]
  },
  {
   "cell_type": "code",
   "execution_count": 3,
   "metadata": {
    "ExecuteTime": {
     "end_time": "2023-08-28T03:57:00.265778Z",
     "start_time": "2023-08-28T03:57:00.263237Z"
    },
    "collapsed": false,
    "jupyter": {
     "outputs_hidden": false
    }
   },
   "outputs": [
    {
     "data": {
      "text/html": [
       "<table><tbody><tr><th style=\"text-align: left\">Format</th><td style=\"text-align: left\">coo</td></tr><tr><th style=\"text-align: left\">Data Type</th><td style=\"text-align: left\">float64</td></tr><tr><th style=\"text-align: left\">Shape</th><td style=\"text-align: left\">(100, 100)</td></tr><tr><th style=\"text-align: left\">nnz</th><td style=\"text-align: left\">2123</td></tr><tr><th style=\"text-align: left\">Density</th><td style=\"text-align: left\">0.2123</td></tr><tr><th style=\"text-align: left\">Read-only</th><td style=\"text-align: left\">True</td></tr><tr><th style=\"text-align: left\">Size</th><td style=\"text-align: left\">49.8K</td></tr><tr><th style=\"text-align: left\">Storage ratio</th><td style=\"text-align: left\">0.6</td></tr></tbody></table>"
      ],
      "text/plain": [
       "<COO: shape=(100, 100), dtype=float64, nnz=2123, fill_value=0.0>"
      ]
     },
     "execution_count": 3,
     "metadata": {},
     "output_type": "execute_result"
    }
   ],
   "source": [
    "A"
   ]
  },
  {
   "cell_type": "code",
   "execution_count": 4,
   "metadata": {
    "ExecuteTime": {
     "end_time": "2023-08-28T03:57:00.268195Z",
     "start_time": "2023-08-28T03:57:00.266053Z"
    }
   },
   "outputs": [
    {
     "data": {
      "text/html": [
       "<table><tbody><tr><th style=\"text-align: left\">Format</th><td style=\"text-align: left\">coo</td></tr><tr><th style=\"text-align: left\">Data Type</th><td style=\"text-align: left\">float64</td></tr><tr><th style=\"text-align: left\">Shape</th><td style=\"text-align: left\">(1000,)</td></tr><tr><th style=\"text-align: left\">nnz</th><td style=\"text-align: left\">500</td></tr><tr><th style=\"text-align: left\">Density</th><td style=\"text-align: left\">0.5</td></tr><tr><th style=\"text-align: left\">Read-only</th><td style=\"text-align: left\">True</td></tr><tr><th style=\"text-align: left\">Size</th><td style=\"text-align: left\">7.8K</td></tr><tr><th style=\"text-align: left\">Storage ratio</th><td style=\"text-align: left\">1.0</td></tr></tbody></table>"
      ],
      "text/plain": [
       "<COO: shape=(1000,), dtype=float64, nnz=500, fill_value=0.0>"
      ]
     },
     "execution_count": 4,
     "metadata": {},
     "output_type": "execute_result"
    }
   ],
   "source": [
    "v"
   ]
  },
  {
   "cell_type": "code",
   "execution_count": 5,
   "metadata": {
    "ExecuteTime": {
     "end_time": "2023-08-28T03:57:00.272467Z",
     "start_time": "2023-08-28T03:57:00.269720Z"
    },
    "collapsed": false,
    "jupyter": {
     "outputs_hidden": false
    }
   },
   "outputs": [
    {
     "data": {
      "text/html": [
       "<table><tbody><tr><th style=\"text-align: left\">Format</th><td style=\"text-align: left\">coo</td></tr><tr><th style=\"text-align: left\">Data Type</th><td style=\"text-align: left\">float64</td></tr><tr><th style=\"text-align: left\">Shape</th><td style=\"text-align: left\">(10, 10, 10, 10)</td></tr><tr><th style=\"text-align: left\">nnz</th><td style=\"text-align: left\">2123</td></tr><tr><th style=\"text-align: left\">Density</th><td style=\"text-align: left\">0.2123</td></tr><tr><th style=\"text-align: left\">Read-only</th><td style=\"text-align: left\">True</td></tr><tr><th style=\"text-align: left\">Size</th><td style=\"text-align: left\">82.9K</td></tr><tr><th style=\"text-align: left\">Storage ratio</th><td style=\"text-align: left\">1.1</td></tr></tbody></table>"
      ],
      "text/plain": [
       "<COO: shape=(10, 10, 10, 10), dtype=float64, nnz=2123, fill_value=0.0>"
      ]
     },
     "execution_count": 5,
     "metadata": {},
     "output_type": "execute_result"
    }
   ],
   "source": [
    "T"
   ]
  },
  {
   "cell_type": "markdown",
   "metadata": {},
   "source": [
    "## MatRepr default"
   ]
  },
  {
   "cell_type": "code",
   "execution_count": 6,
   "metadata": {
    "ExecuteTime": {
     "end_time": "2023-08-28T03:57:00.281188Z",
     "start_time": "2023-08-28T03:57:00.271950Z"
    },
    "collapsed": false,
    "jupyter": {
     "outputs_hidden": false
    }
   },
   "outputs": [],
   "source": [
    "import matrepr.jupyter"
   ]
  },
  {
   "cell_type": "code",
   "execution_count": 7,
   "metadata": {
    "ExecuteTime": {
     "end_time": "2023-08-28T03:57:01.176672Z",
     "start_time": "2023-08-28T03:57:00.281603Z"
    }
   },
   "outputs": [
    {
     "data": {
      "text/html": [
       "<div>\n",
       "<style scoped>\n",
       "    table.matreprmatrix  {\n",
       "        border-collapse: collapse;\n",
       "    }\n",
       "    table.matreprmatrix > thead  {\n",
       "        border: 0px;\n",
       "    }\n",
       "    table.matreprmatrix > tbody tr th {\n",
       "        font-size: smaller;\n",
       "        vertical-align: middle;\n",
       "        text-align: right;\n",
       "    }\n",
       "    table.matreprmatrix > thead tr th {\n",
       "        font-size: smaller;\n",
       "        vertical-align: middle;\n",
       "        text-align: center;\n",
       "    }\n",
       "    table.matreprmatrix > tbody tr td {\n",
       "        vertical-align: middle;\n",
       "        text-align: center;\n",
       "        position: relative;\n",
       "    }\n",
       "    table.matreprmatrix > tbody tr td:first-of-type {\n",
       "        border-left: solid 2px;\n",
       "    }\n",
       "    table.matreprmatrix > tbody tr td:last-of-type {\n",
       "        border-right: solid 2px;\n",
       "    }\n",
       "    table.matreprmatrix > tbody tr td:empty::before {\n",
       "        content: \"\\00a0\\00a0\\00a0\";\n",
       "        visibility: hidden;\n",
       "    }\n",
       "    table.matreprmatrix > tbody tr td:empty::after {\n",
       "        content: \"\\00a0\\00a0\\00a0\";\n",
       "        visibility: hidden;\n",
       "    }\n",
       "    table.matreprmatrix > tbody > tr:first-child > td:first-of-type::before {\n",
       "        content: \"\";\n",
       "        width: 4px;\n",
       "        position: absolute;\n",
       "        top: 0;\n",
       "        bottom: 0;\n",
       "        visibility: visible;\n",
       "        left: 0;\n",
       "        right: auto;\n",
       "        border-top: solid 2px;\n",
       "    }\n",
       "    table.matreprmatrix > tbody > tr:last-child > td:first-of-type::before {\n",
       "        content: \"\";\n",
       "        width: 4px;\n",
       "        position: absolute;\n",
       "        top: 0;\n",
       "        bottom: 0;\n",
       "        visibility: visible;\n",
       "        left: 0;\n",
       "        right: auto;\n",
       "        border-bottom: solid 2px;\n",
       "    }\n",
       "    table.matreprmatrix > tbody > tr:first-child > td:last-of-type::after {\n",
       "        content: \"\";\n",
       "        width: 4px;\n",
       "        position: absolute;\n",
       "        top: 0;\n",
       "        bottom: 0;\n",
       "        visibility: visible;\n",
       "        left: auto;\n",
       "        right: 0;\n",
       "        border-top: solid 2px;\n",
       "    }\n",
       "    table.matreprmatrix > tbody > tr:last-child > td:last-of-type::after {\n",
       "        content: \"\";\n",
       "        width: 4px;\n",
       "        position: absolute;\n",
       "        top: 0;\n",
       "        bottom: 0;\n",
       "        visibility: visible;\n",
       "        left: auto;\n",
       "        right: 0;\n",
       "        border-bottom: solid 2px;\n",
       "    }\n",
       "    table.matreprtensor > tbody tr th {\n",
       "        font-size: smaller;\n",
       "        vertical-align: middle;\n",
       "        text-align: right;\n",
       "    }\n",
       "    table.matreprtensor > thead tr th {\n",
       "        font-size: smaller;\n",
       "        vertical-align: middle;\n",
       "        text-align: center;\n",
       "    }\n",
       "    table.matreprtensor > tbody tr td {\n",
       "        vertical-align: middle;\n",
       "        text-align: center;\n",
       "        position: relative;\n",
       "    }\n",
       "    table.matreprtensor > tbody tr th:last-of-type {\n",
       "        border-right: solid 2px;\n",
       "    }\n",
       "</style>\n",
       "<p>100×100, 2123 'float64' elements, coo, fill_value=0.0, read-only, 49.8KiB</p>\n",
       "<table class=\"matreprmatrix\">\n",
       "    <thead>\n",
       "    <tr>\n",
       "        <th></th>\n",
       "        <th style=\"text-align: center;\">0</th>\n",
       "        <th style=\"text-align: center;\">1</th>\n",
       "        <th style=\"text-align: center;\">2</th>\n",
       "        <th style=\"text-align: center;\">3</th>\n",
       "        <th style=\"text-align: center;\">4</th>\n",
       "        <th style=\"text-align: center;\">5</th>\n",
       "        <th style=\"text-align: center;\">6</th>\n",
       "        <th style=\"text-align: center;\">7</th>\n",
       "        <th style=\"text-align: center;\">8</th>\n",
       "        <th style=\"text-align: center;\">9</th>\n",
       "        <th style=\"text-align: center;\">10</th>\n",
       "        <th style=\"text-align: center;\">11</th>\n",
       "        <th style=\"text-align: center;\">12</th>\n",
       "        <th style=\"text-align: center;\">13</th>\n",
       "        <th style=\"text-align: center;\"></th>\n",
       "    </tr>\n",
       "    </thead>\n",
       "    <tbody>\n",
       "    <tr>\n",
       "        <th>0</th>\n",
       "        <td></td>\n",
       "        <td>0.4977</td>\n",
       "        <td></td>\n",
       "        <td></td>\n",
       "        <td></td>\n",
       "        <td></td>\n",
       "        <td></td>\n",
       "        <td></td>\n",
       "        <td></td>\n",
       "        <td></td>\n",
       "        <td></td>\n",
       "        <td>0.8178</td>\n",
       "        <td></td>\n",
       "        <td></td>\n",
       "        <td>&ctdot;</td>\n",
       "    </tr>\n",
       "    <tr>\n",
       "        <th>1</th>\n",
       "        <td></td>\n",
       "        <td></td>\n",
       "        <td></td>\n",
       "        <td></td>\n",
       "        <td></td>\n",
       "        <td></td>\n",
       "        <td></td>\n",
       "        <td>0.02214</td>\n",
       "        <td>0.2907</td>\n",
       "        <td>0.2464</td>\n",
       "        <td></td>\n",
       "        <td></td>\n",
       "        <td></td>\n",
       "        <td>0.7383</td>\n",
       "        <td>&ctdot;</td>\n",
       "    </tr>\n",
       "    <tr>\n",
       "        <th>2</th>\n",
       "        <td></td>\n",
       "        <td>0.04743</td>\n",
       "        <td></td>\n",
       "        <td></td>\n",
       "        <td>0.995</td>\n",
       "        <td></td>\n",
       "        <td></td>\n",
       "        <td></td>\n",
       "        <td></td>\n",
       "        <td></td>\n",
       "        <td>0.6892</td>\n",
       "        <td></td>\n",
       "        <td></td>\n",
       "        <td></td>\n",
       "        <td>&ctdot;</td>\n",
       "    </tr>\n",
       "    <tr>\n",
       "        <th>3</th>\n",
       "        <td></td>\n",
       "        <td></td>\n",
       "        <td></td>\n",
       "        <td></td>\n",
       "        <td></td>\n",
       "        <td>0.3282</td>\n",
       "        <td></td>\n",
       "        <td></td>\n",
       "        <td></td>\n",
       "        <td>0.4739</td>\n",
       "        <td></td>\n",
       "        <td>0.06808</td>\n",
       "        <td></td>\n",
       "        <td></td>\n",
       "        <td>&ctdot;</td>\n",
       "    </tr>\n",
       "    <tr>\n",
       "        <th>4</th>\n",
       "        <td></td>\n",
       "        <td></td>\n",
       "        <td></td>\n",
       "        <td></td>\n",
       "        <td></td>\n",
       "        <td></td>\n",
       "        <td></td>\n",
       "        <td>0.7301</td>\n",
       "        <td></td>\n",
       "        <td></td>\n",
       "        <td></td>\n",
       "        <td></td>\n",
       "        <td></td>\n",
       "        <td>0.9798</td>\n",
       "        <td>&ctdot;</td>\n",
       "    </tr>\n",
       "    <tr>\n",
       "        <th>5</th>\n",
       "        <td></td>\n",
       "        <td></td>\n",
       "        <td></td>\n",
       "        <td></td>\n",
       "        <td></td>\n",
       "        <td>0.4119</td>\n",
       "        <td></td>\n",
       "        <td></td>\n",
       "        <td>0.02486</td>\n",
       "        <td></td>\n",
       "        <td></td>\n",
       "        <td></td>\n",
       "        <td></td>\n",
       "        <td>0.5636</td>\n",
       "        <td>&ctdot;</td>\n",
       "    </tr>\n",
       "    <tr>\n",
       "        <th>6</th>\n",
       "        <td>0.9375</td>\n",
       "        <td></td>\n",
       "        <td>0.6134</td>\n",
       "        <td></td>\n",
       "        <td></td>\n",
       "        <td>0.6993</td>\n",
       "        <td></td>\n",
       "        <td></td>\n",
       "        <td></td>\n",
       "        <td></td>\n",
       "        <td>0.5029</td>\n",
       "        <td></td>\n",
       "        <td>0.7111</td>\n",
       "        <td></td>\n",
       "        <td>&ctdot;</td>\n",
       "    </tr>\n",
       "    <tr>\n",
       "        <th>7</th>\n",
       "        <td>0.6578</td>\n",
       "        <td></td>\n",
       "        <td></td>\n",
       "        <td></td>\n",
       "        <td></td>\n",
       "        <td></td>\n",
       "        <td></td>\n",
       "        <td>0.5659</td>\n",
       "        <td></td>\n",
       "        <td></td>\n",
       "        <td></td>\n",
       "        <td>0.569</td>\n",
       "        <td>0.6542</td>\n",
       "        <td>0.3686</td>\n",
       "        <td>&ctdot;</td>\n",
       "    </tr>\n",
       "    <tr>\n",
       "        <th>8</th>\n",
       "        <td></td>\n",
       "        <td></td>\n",
       "        <td></td>\n",
       "        <td></td>\n",
       "        <td></td>\n",
       "        <td>0.05845</td>\n",
       "        <td>0.0452</td>\n",
       "        <td></td>\n",
       "        <td>0.6271</td>\n",
       "        <td></td>\n",
       "        <td></td>\n",
       "        <td></td>\n",
       "        <td>0.008068</td>\n",
       "        <td>0.4179</td>\n",
       "        <td>&ctdot;</td>\n",
       "    </tr>\n",
       "    <tr>\n",
       "        <th>9</th>\n",
       "        <td></td>\n",
       "        <td></td>\n",
       "        <td>0.7575</td>\n",
       "        <td></td>\n",
       "        <td>0.5224</td>\n",
       "        <td></td>\n",
       "        <td></td>\n",
       "        <td>0.5945</td>\n",
       "        <td></td>\n",
       "        <td>0.3708</td>\n",
       "        <td></td>\n",
       "        <td>0.08223</td>\n",
       "        <td>0.5299</td>\n",
       "        <td></td>\n",
       "        <td>&ctdot;</td>\n",
       "    </tr>\n",
       "    <tr>\n",
       "        <th></th>\n",
       "        <td>&vellip;</td>\n",
       "        <td>&vellip;</td>\n",
       "        <td>&vellip;</td>\n",
       "        <td>&vellip;</td>\n",
       "        <td>&vellip;</td>\n",
       "        <td>&vellip;</td>\n",
       "        <td>&vellip;</td>\n",
       "        <td>&vellip;</td>\n",
       "        <td>&vellip;</td>\n",
       "        <td>&vellip;</td>\n",
       "        <td>&vellip;</td>\n",
       "        <td>&vellip;</td>\n",
       "        <td>&vellip;</td>\n",
       "        <td>&vellip;</td>\n",
       "        <td>&dtdot;</td>\n",
       "    </tr>\n",
       "    </tbody>\n",
       "</table>\n",
       "</div>"
      ],
      "text/plain": [
       "<COO: shape=(100, 100), dtype=float64, nnz=2123, fill_value=0.0>"
      ]
     },
     "execution_count": 7,
     "metadata": {},
     "output_type": "execute_result"
    }
   ],
   "source": [
    "A"
   ]
  },
  {
   "cell_type": "code",
   "execution_count": 8,
   "metadata": {
    "ExecuteTime": {
     "end_time": "2023-08-28T03:57:01.180167Z",
     "start_time": "2023-08-28T03:57:01.176894Z"
    }
   },
   "outputs": [
    {
     "data": {
      "text/html": [
       "<div>\n",
       "<style scoped>\n",
       "    table.matreprmatrix  {\n",
       "        border-collapse: collapse;\n",
       "    }\n",
       "    table.matreprmatrix > thead  {\n",
       "        border: 0px;\n",
       "    }\n",
       "    table.matreprmatrix > tbody tr th {\n",
       "        font-size: smaller;\n",
       "        vertical-align: middle;\n",
       "        text-align: right;\n",
       "    }\n",
       "    table.matreprmatrix > thead tr th {\n",
       "        font-size: smaller;\n",
       "        vertical-align: middle;\n",
       "        text-align: center;\n",
       "    }\n",
       "    table.matreprmatrix > tbody tr td {\n",
       "        vertical-align: middle;\n",
       "        text-align: center;\n",
       "        position: relative;\n",
       "    }\n",
       "    table.matreprmatrix > tbody tr td:first-of-type {\n",
       "        border-left: solid 2px;\n",
       "    }\n",
       "    table.matreprmatrix > tbody tr td:last-of-type {\n",
       "        border-right: solid 2px;\n",
       "    }\n",
       "    table.matreprmatrix > tbody tr td:empty::before {\n",
       "        content: \"\\00a0\\00a0\\00a0\";\n",
       "        visibility: hidden;\n",
       "    }\n",
       "    table.matreprmatrix > tbody tr td:empty::after {\n",
       "        content: \"\\00a0\\00a0\\00a0\";\n",
       "        visibility: hidden;\n",
       "    }\n",
       "    table.matreprmatrix > tbody > tr:first-child > td:first-of-type::before {\n",
       "        content: \"\";\n",
       "        width: 4px;\n",
       "        position: absolute;\n",
       "        top: 0;\n",
       "        bottom: 0;\n",
       "        visibility: visible;\n",
       "        left: 0;\n",
       "        right: auto;\n",
       "        border-top: solid 2px;\n",
       "    }\n",
       "    table.matreprmatrix > tbody > tr:last-child > td:first-of-type::before {\n",
       "        content: \"\";\n",
       "        width: 4px;\n",
       "        position: absolute;\n",
       "        top: 0;\n",
       "        bottom: 0;\n",
       "        visibility: visible;\n",
       "        left: 0;\n",
       "        right: auto;\n",
       "        border-bottom: solid 2px;\n",
       "    }\n",
       "    table.matreprmatrix > tbody > tr:first-child > td:last-of-type::after {\n",
       "        content: \"\";\n",
       "        width: 4px;\n",
       "        position: absolute;\n",
       "        top: 0;\n",
       "        bottom: 0;\n",
       "        visibility: visible;\n",
       "        left: auto;\n",
       "        right: 0;\n",
       "        border-top: solid 2px;\n",
       "    }\n",
       "    table.matreprmatrix > tbody > tr:last-child > td:last-of-type::after {\n",
       "        content: \"\";\n",
       "        width: 4px;\n",
       "        position: absolute;\n",
       "        top: 0;\n",
       "        bottom: 0;\n",
       "        visibility: visible;\n",
       "        left: auto;\n",
       "        right: 0;\n",
       "        border-bottom: solid 2px;\n",
       "    }\n",
       "    table.matreprtensor > tbody tr th {\n",
       "        font-size: smaller;\n",
       "        vertical-align: middle;\n",
       "        text-align: right;\n",
       "    }\n",
       "    table.matreprtensor > thead tr th {\n",
       "        font-size: smaller;\n",
       "        vertical-align: middle;\n",
       "        text-align: center;\n",
       "    }\n",
       "    table.matreprtensor > tbody tr td {\n",
       "        vertical-align: middle;\n",
       "        text-align: center;\n",
       "        position: relative;\n",
       "    }\n",
       "    table.matreprtensor > tbody tr th:last-of-type {\n",
       "        border-right: solid 2px;\n",
       "    }\n",
       "</style>\n",
       "<p>length=1000, 500 'float64' elements, coo, fill_value=0.0, read-only, 7.8KiB</p>\n",
       "<table class=\"matreprmatrix\">\n",
       "    <thead>\n",
       "    <tr>\n",
       "        <th style=\"text-align: center;\">0</th>\n",
       "        <th style=\"text-align: center;\">1</th>\n",
       "        <th style=\"text-align: center;\">2</th>\n",
       "        <th style=\"text-align: center;\">3</th>\n",
       "        <th style=\"text-align: center;\">4</th>\n",
       "        <th style=\"text-align: center;\">5</th>\n",
       "        <th style=\"text-align: center;\">6</th>\n",
       "        <th style=\"text-align: center;\"></th>\n",
       "        <th style=\"text-align: center;\">993</th>\n",
       "        <th style=\"text-align: center;\">994</th>\n",
       "        <th style=\"text-align: center;\">995</th>\n",
       "        <th style=\"text-align: center;\">996</th>\n",
       "        <th style=\"text-align: center;\">997</th>\n",
       "        <th style=\"text-align: center;\">998</th>\n",
       "        <th style=\"text-align: center;\">999</th>\n",
       "    </tr>\n",
       "    </thead>\n",
       "    <tbody>\n",
       "    <tr>\n",
       "        <td></td>\n",
       "        <td>0.9873</td>\n",
       "        <td></td>\n",
       "        <td></td>\n",
       "        <td></td>\n",
       "        <td>0.9495</td>\n",
       "        <td>0.7522</td>\n",
       "        <td>&ctdot;</td>\n",
       "        <td></td>\n",
       "        <td></td>\n",
       "        <td></td>\n",
       "        <td>0.9818</td>\n",
       "        <td>0.2377</td>\n",
       "        <td></td>\n",
       "        <td>0.9387</td>\n",
       "    </tr>\n",
       "    </tbody>\n",
       "</table>\n",
       "</div>"
      ],
      "text/plain": [
       "<COO: shape=(1000,), dtype=float64, nnz=500, fill_value=0.0>"
      ]
     },
     "execution_count": 8,
     "metadata": {},
     "output_type": "execute_result"
    }
   ],
   "source": [
    "v"
   ]
  },
  {
   "cell_type": "code",
   "execution_count": 9,
   "metadata": {
    "ExecuteTime": {
     "end_time": "2023-08-28T03:57:01.183624Z",
     "start_time": "2023-08-28T03:57:01.180299Z"
    },
    "collapsed": false,
    "jupyter": {
     "outputs_hidden": false
    }
   },
   "outputs": [
    {
     "data": {
      "text/html": [
       "<div>\n",
       "<style scoped>\n",
       "    table.matreprmatrix  {\n",
       "        border-collapse: collapse;\n",
       "    }\n",
       "    table.matreprmatrix > thead  {\n",
       "        border: 0px;\n",
       "    }\n",
       "    table.matreprmatrix > tbody tr th {\n",
       "        font-size: smaller;\n",
       "        vertical-align: middle;\n",
       "        text-align: right;\n",
       "    }\n",
       "    table.matreprmatrix > thead tr th {\n",
       "        font-size: smaller;\n",
       "        vertical-align: middle;\n",
       "        text-align: center;\n",
       "    }\n",
       "    table.matreprmatrix > tbody tr td {\n",
       "        vertical-align: middle;\n",
       "        text-align: center;\n",
       "        position: relative;\n",
       "    }\n",
       "    table.matreprmatrix > tbody tr td:first-of-type {\n",
       "        border-left: solid 2px;\n",
       "    }\n",
       "    table.matreprmatrix > tbody tr td:last-of-type {\n",
       "        border-right: solid 2px;\n",
       "    }\n",
       "    table.matreprmatrix > tbody tr td:empty::before {\n",
       "        content: \"\\00a0\\00a0\\00a0\";\n",
       "        visibility: hidden;\n",
       "    }\n",
       "    table.matreprmatrix > tbody tr td:empty::after {\n",
       "        content: \"\\00a0\\00a0\\00a0\";\n",
       "        visibility: hidden;\n",
       "    }\n",
       "    table.matreprmatrix > tbody > tr:first-child > td:first-of-type::before {\n",
       "        content: \"\";\n",
       "        width: 4px;\n",
       "        position: absolute;\n",
       "        top: 0;\n",
       "        bottom: 0;\n",
       "        visibility: visible;\n",
       "        left: 0;\n",
       "        right: auto;\n",
       "        border-top: solid 2px;\n",
       "    }\n",
       "    table.matreprmatrix > tbody > tr:last-child > td:first-of-type::before {\n",
       "        content: \"\";\n",
       "        width: 4px;\n",
       "        position: absolute;\n",
       "        top: 0;\n",
       "        bottom: 0;\n",
       "        visibility: visible;\n",
       "        left: 0;\n",
       "        right: auto;\n",
       "        border-bottom: solid 2px;\n",
       "    }\n",
       "    table.matreprmatrix > tbody > tr:first-child > td:last-of-type::after {\n",
       "        content: \"\";\n",
       "        width: 4px;\n",
       "        position: absolute;\n",
       "        top: 0;\n",
       "        bottom: 0;\n",
       "        visibility: visible;\n",
       "        left: auto;\n",
       "        right: 0;\n",
       "        border-top: solid 2px;\n",
       "    }\n",
       "    table.matreprmatrix > tbody > tr:last-child > td:last-of-type::after {\n",
       "        content: \"\";\n",
       "        width: 4px;\n",
       "        position: absolute;\n",
       "        top: 0;\n",
       "        bottom: 0;\n",
       "        visibility: visible;\n",
       "        left: auto;\n",
       "        right: 0;\n",
       "        border-bottom: solid 2px;\n",
       "    }\n",
       "    table.matreprtensor > tbody tr th {\n",
       "        font-size: smaller;\n",
       "        vertical-align: middle;\n",
       "        text-align: right;\n",
       "    }\n",
       "    table.matreprtensor > thead tr th {\n",
       "        font-size: smaller;\n",
       "        vertical-align: middle;\n",
       "        text-align: center;\n",
       "    }\n",
       "    table.matreprtensor > tbody tr td {\n",
       "        vertical-align: middle;\n",
       "        text-align: center;\n",
       "        position: relative;\n",
       "    }\n",
       "    table.matreprtensor > tbody tr th:last-of-type {\n",
       "        border-right: solid 2px;\n",
       "    }\n",
       "</style>\n",
       "<p>shape=(10,10,10,10), 2123 'float64' elements, coo, fill_value=0.0, read-only, 82.9KiB</p>\n",
       "<table class=\"matreprtensor\">\n",
       "    <thead>\n",
       "    <tr>\n",
       "        <th></th>\n",
       "        <th style=\"text-align: center;\">0</th>\n",
       "        <th style=\"text-align: center;\">1</th>\n",
       "        <th style=\"text-align: center;\">2</th>\n",
       "        <th style=\"text-align: center;\">3</th>\n",
       "        <th style=\"text-align: center;\">val</th>\n",
       "    </tr>\n",
       "    </thead>\n",
       "    <tbody>\n",
       "    <tr>\n",
       "        <th>0</th>\n",
       "        <td>0</td>\n",
       "        <td>0</td>\n",
       "        <td>0</td>\n",
       "        <td>4</td>\n",
       "        <td>0.8811</td>\n",
       "    </tr>\n",
       "    <tr>\n",
       "        <th>1</th>\n",
       "        <td>0</td>\n",
       "        <td>0</td>\n",
       "        <td>1</td>\n",
       "        <td>0</td>\n",
       "        <td>0.2228</td>\n",
       "    </tr>\n",
       "    <tr>\n",
       "        <th>2</th>\n",
       "        <td>0</td>\n",
       "        <td>0</td>\n",
       "        <td>1</td>\n",
       "        <td>1</td>\n",
       "        <td>0.5559</td>\n",
       "    </tr>\n",
       "    <tr>\n",
       "        <th>3</th>\n",
       "        <td>0</td>\n",
       "        <td>0</td>\n",
       "        <td>2</td>\n",
       "        <td>1</td>\n",
       "        <td>0.5681</td>\n",
       "    </tr>\n",
       "    <tr>\n",
       "        <th>4</th>\n",
       "        <td>0</td>\n",
       "        <td>0</td>\n",
       "        <td>2</td>\n",
       "        <td>5</td>\n",
       "        <td>0.5452</td>\n",
       "    </tr>\n",
       "    <tr>\n",
       "        <th></th>\n",
       "        <td>&vellip;</td>\n",
       "        <td>&vellip;</td>\n",
       "        <td>&vellip;</td>\n",
       "        <td>&vellip;</td>\n",
       "        <td>&vellip;</td>\n",
       "    </tr>\n",
       "    <tr>\n",
       "        <th>2118</th>\n",
       "        <td>9</td>\n",
       "        <td>9</td>\n",
       "        <td>5</td>\n",
       "        <td>5</td>\n",
       "        <td>0.8197</td>\n",
       "    </tr>\n",
       "    <tr>\n",
       "        <th>2119</th>\n",
       "        <td>9</td>\n",
       "        <td>9</td>\n",
       "        <td>6</td>\n",
       "        <td>5</td>\n",
       "        <td>0.4636</td>\n",
       "    </tr>\n",
       "    <tr>\n",
       "        <th>2120</th>\n",
       "        <td>9</td>\n",
       "        <td>9</td>\n",
       "        <td>6</td>\n",
       "        <td>7</td>\n",
       "        <td>0.0122</td>\n",
       "    </tr>\n",
       "    <tr>\n",
       "        <th>2121</th>\n",
       "        <td>9</td>\n",
       "        <td>9</td>\n",
       "        <td>8</td>\n",
       "        <td>6</td>\n",
       "        <td>0.09861</td>\n",
       "    </tr>\n",
       "    <tr>\n",
       "        <th>2122</th>\n",
       "        <td>9</td>\n",
       "        <td>9</td>\n",
       "        <td>8</td>\n",
       "        <td>7</td>\n",
       "        <td>0.864</td>\n",
       "    </tr>\n",
       "    </tbody>\n",
       "</table>\n",
       "</div>"
      ],
      "text/plain": [
       "<COO: shape=(10, 10, 10, 10), dtype=float64, nnz=2123, fill_value=0.0>"
      ]
     },
     "execution_count": 9,
     "metadata": {},
     "output_type": "execute_result"
    }
   ],
   "source": [
    "T"
   ]
  },
  {
   "cell_type": "markdown",
   "metadata": {},
   "source": [
    "## LaTeX"
   ]
  },
  {
   "cell_type": "code",
   "execution_count": 10,
   "metadata": {
    "ExecuteTime": {
     "end_time": "2023-08-28T03:57:01.208002Z",
     "start_time": "2023-08-28T03:57:01.197205Z"
    },
    "collapsed": false,
    "jupyter": {
     "outputs_hidden": false
    }
   },
   "outputs": [
    {
     "data": {
      "text/latex": [
       "$\\begin{bmatrix}\n",
       "    & 0.4977 & & & & & & \\dots & 0.4427 & & & & & & \\\\\n",
       "    & & & & & & & \\dots & & 0.8135 & & & & & 0.6466 \\\\\n",
       "    & 0.04743 & & & 0.995 & & & \\dots & & & & & & 0.03235 & \\\\\n",
       "    & & & & & 0.3282 & & \\dots & 0.01163 & & & & 0.07154 & & \\\\\n",
       "    & & & & & & & \\dots & & & & & & & 0.1318 \\\\\n",
       "    \\vdots & \\vdots & \\vdots & \\vdots & \\vdots & \\vdots & \\vdots & \\ddots & \\vdots & \\vdots & \\vdots & \\vdots & \\vdots & \\vdots & \\vdots \\\\\n",
       "    & & & & & 0.3315 & & \\dots & & 0.7708 & 0.004416 & 0.9238 & & & \\\\\n",
       "    & 0.9455 & & & & & 0.5961 & \\dots & 0.237 & & 0.6584 & & & & \\\\\n",
       "    & & & & & & & \\dots & & & & & & & \\\\\n",
       "    & & & 0.972 & & 0.462 & 0.3726 & \\dots & & & & & & & 0.3856 \\\\\n",
       "    & & & & 0.8263 & & & \\dots & & & & 0.01302 & & &\n",
       "\\end{bmatrix}$"
      ],
      "text/plain": [
       "<IPython.core.display.Latex object>"
      ]
     },
     "metadata": {},
     "output_type": "display_data"
    }
   ],
   "source": [
    "matrepr.mdisplay(A, \"latex\")"
   ]
  },
  {
   "cell_type": "code",
   "execution_count": 11,
   "metadata": {
    "ExecuteTime": {
     "end_time": "2023-08-28T03:57:01.208139Z",
     "start_time": "2023-08-28T03:57:01.200383Z"
    }
   },
   "outputs": [
    {
     "data": {
      "text/latex": [
       "$\\begin{bmatrix}\n",
       "    & 0.9873 & & & & 0.9495 & 0.7522 & \\dots & & & & 0.9818 & 0.2377 & & 0.9387\n",
       "\\end{bmatrix}$"
      ],
      "text/plain": [
       "<IPython.core.display.Latex object>"
      ]
     },
     "metadata": {},
     "output_type": "display_data"
    }
   ],
   "source": [
    "matrepr.mdisplay(v, \"latex\")"
   ]
  },
  {
   "cell_type": "code",
   "execution_count": 12,
   "metadata": {
    "ExecuteTime": {
     "end_time": "2023-08-28T03:57:01.208192Z",
     "start_time": "2023-08-28T03:57:01.204048Z"
    },
    "collapsed": false,
    "jupyter": {
     "outputs_hidden": false
    }
   },
   "outputs": [
    {
     "data": {
      "text/latex": [
       "$\\begin{matrix}\n",
       "    \\textrm{0} & \\textrm{0} & \\textrm{0} & \\textrm{4} & 0.8811 \\\\\n",
       "    \\textrm{0} & \\textrm{0} & \\textrm{1} & \\textrm{0} & 0.2228 \\\\\n",
       "    \\textrm{0} & \\textrm{0} & \\textrm{1} & \\textrm{1} & 0.5559 \\\\\n",
       "    \\textrm{0} & \\textrm{0} & \\textrm{2} & \\textrm{1} & 0.5681 \\\\\n",
       "    \\textrm{0} & \\textrm{0} & \\textrm{2} & \\textrm{5} & 0.5452 \\\\\n",
       "    \\vdots & \\vdots & \\vdots & \\vdots & \\vdots \\\\\n",
       "    \\textrm{9} & \\textrm{9} & \\textrm{5} & \\textrm{5} & 0.8197 \\\\\n",
       "    \\textrm{9} & \\textrm{9} & \\textrm{6} & \\textrm{5} & 0.4636 \\\\\n",
       "    \\textrm{9} & \\textrm{9} & \\textrm{6} & \\textrm{7} & 0.0122 \\\\\n",
       "    \\textrm{9} & \\textrm{9} & \\textrm{8} & \\textrm{6} & 0.09861 \\\\\n",
       "    \\textrm{9} & \\textrm{9} & \\textrm{8} & \\textrm{7} & 0.864\n",
       "\\end{matrix}$"
      ],
      "text/plain": [
       "<IPython.core.display.Latex object>"
      ]
     },
     "metadata": {},
     "output_type": "display_data"
    }
   ],
   "source": [
    "matrepr.mdisplay(T, \"latex\")"
   ]
  },
  {
   "cell_type": "markdown",
   "metadata": {
    "collapsed": false,
    "jupyter": {
     "outputs_hidden": false
    }
   },
   "source": [
    "## String"
   ]
  },
  {
   "cell_type": "code",
   "execution_count": 13,
   "metadata": {
    "ExecuteTime": {
     "end_time": "2023-08-28T03:57:01.215014Z",
     "start_time": "2023-08-28T03:57:01.206804Z"
    },
    "collapsed": false,
    "jupyter": {
     "outputs_hidden": false
    }
   },
   "outputs": [
    {
     "data": {
      "text/plain": [
       "100×100, 2123 'float64' elements, coo, fill_value=0.0, read-only, 49.8KiB\n",
       "       0       1       2      3              97        98        99\n",
       "    ┌                                                                 ┐\n",
       "  0 │       0.4977                   ...                              │\n",
       "  1 │                                ...                       0.6466 │\n",
       "  2 │       0.04743                  ...             0.03235          │\n",
       "  3 │                                ...   0.07154                    │\n",
       "  4 │                                ...                       0.1318 │\n",
       "    │  :       :       :      :      ...      :         :        :    │\n",
       " 95 │                                ...                              │\n",
       " 96 │       0.9455          0.5961   ...                              │\n",
       " 97 │                                ...                              │\n",
       " 98 │                       0.3726   ...                       0.3856 │\n",
       " 99 │                                ...                              │\n",
       "    └                                                                 ┘"
      ]
     },
     "metadata": {},
     "output_type": "display_data"
    }
   ],
   "source": [
    "matrepr.mdisplay(A, \"str\")"
   ]
  },
  {
   "cell_type": "code",
   "execution_count": 14,
   "metadata": {
    "ExecuteTime": {
     "end_time": "2023-08-28T03:57:01.218842Z",
     "start_time": "2023-08-28T03:57:01.215224Z"
    },
    "collapsed": false,
    "jupyter": {
     "outputs_hidden": false
    }
   },
   "outputs": [
    {
     "data": {
      "text/plain": [
       "length=1000, 500 'float64' elements, coo, fill_value=0.0, read-only, 7.8KiB\n",
       "  0     1      2    3    4     5           995    996     997     998    999\n",
       "[     0.9873                 0.7522  ...         0.9818  0.2377         0.9387]"
      ]
     },
     "metadata": {},
     "output_type": "display_data"
    }
   ],
   "source": [
    "matrepr.mdisplay(v, \"str\")"
   ]
  },
  {
   "cell_type": "code",
   "execution_count": 15,
   "metadata": {
    "ExecuteTime": {
     "end_time": "2023-08-28T03:57:01.222442Z",
     "start_time": "2023-08-28T03:57:01.219981Z"
    },
    "collapsed": false,
    "jupyter": {
     "outputs_hidden": false
    }
   },
   "outputs": [
    {
     "data": {
      "text/plain": [
       "length=1000, 500 'float64' elements, coo, fill_value=0.0, read-only, 7.8KiB\n",
       "[, 0.9873, , , , 0.9495, 0.7522, ..., , , , 0.9818, 0.2377, , 0.9387]"
      ]
     },
     "metadata": {},
     "output_type": "display_data"
    }
   ],
   "source": [
    "matrepr.mdisplay(v, \"str\", indices=False)"
   ]
  },
  {
   "cell_type": "code",
   "execution_count": 16,
   "metadata": {
    "ExecuteTime": {
     "end_time": "2023-08-28T03:57:01.225791Z",
     "start_time": "2023-08-28T03:57:01.223158Z"
    },
    "collapsed": false,
    "jupyter": {
     "outputs_hidden": false
    }
   },
   "outputs": [
    {
     "data": {
      "text/plain": [
       "shape=(10,10,10,10), 2123 'float64' elements, coo, fill_value=0.0, read-only, 82.9KiB\n",
       "         0     1     2     3      val\n",
       "    0 (  0     0     0     4    0.8811  )\n",
       "    1 (  0     0     1     0    0.2228  )\n",
       "    2 (  0     0     1     1    0.5559  )\n",
       "    3 (  0     0     2     1    0.5681  )\n",
       "    4 (  0     0     2     5    0.5452  )\n",
       "      (  :     :     :     :       :    )\n",
       " 2118 (  9     9     5     5    0.8197  )\n",
       " 2119 (  9     9     6     5    0.4636  )\n",
       " 2120 (  9     9     6     7    0.0122  )\n",
       " 2121 (  9     9     8     6    0.09861 )\n",
       " 2122 (  9     9     8     7     0.864  )"
      ]
     },
     "metadata": {},
     "output_type": "display_data"
    }
   ],
   "source": [
    "matrepr.mdisplay(T, \"str\")"
   ]
  },
  {
   "cell_type": "markdown",
   "metadata": {},
   "source": [
    "## More compact size"
   ]
  },
  {
   "cell_type": "code",
   "execution_count": 17,
   "metadata": {
    "ExecuteTime": {
     "end_time": "2023-08-28T03:57:01.185312Z",
     "start_time": "2023-08-28T03:57:01.183320Z"
    },
    "collapsed": false,
    "jupyter": {
     "outputs_hidden": false
    }
   },
   "outputs": [],
   "source": [
    "import matrepr\n",
    "matrepr.params.max_rows = 10\n",
    "matrepr.params.max_cols = 7\n",
    "matrepr.params.num_after_dots = 0\n",
    "matrepr.params.indices = False"
   ]
  },
  {
   "cell_type": "code",
   "execution_count": 18,
   "metadata": {
    "ExecuteTime": {
     "end_time": "2023-08-28T03:57:01.188927Z",
     "start_time": "2023-08-28T03:57:01.186380Z"
    },
    "collapsed": false,
    "jupyter": {
     "outputs_hidden": false
    }
   },
   "outputs": [
    {
     "data": {
      "text/html": [
       "<div>\n",
       "<style scoped>\n",
       "    table.matreprmatrix  {\n",
       "        border-collapse: collapse;\n",
       "    }\n",
       "    table.matreprmatrix > thead  {\n",
       "        border: 0px;\n",
       "    }\n",
       "    table.matreprmatrix > tbody tr th {\n",
       "        font-size: smaller;\n",
       "        vertical-align: middle;\n",
       "        text-align: right;\n",
       "    }\n",
       "    table.matreprmatrix > thead tr th {\n",
       "        font-size: smaller;\n",
       "        vertical-align: middle;\n",
       "        text-align: center;\n",
       "    }\n",
       "    table.matreprmatrix > tbody tr td {\n",
       "        vertical-align: middle;\n",
       "        text-align: center;\n",
       "        position: relative;\n",
       "    }\n",
       "    table.matreprmatrix > tbody tr td:first-of-type {\n",
       "        border-left: solid 2px;\n",
       "    }\n",
       "    table.matreprmatrix > tbody tr td:last-of-type {\n",
       "        border-right: solid 2px;\n",
       "    }\n",
       "    table.matreprmatrix > tbody tr td:empty::before {\n",
       "        content: \"\\00a0\\00a0\\00a0\";\n",
       "        visibility: hidden;\n",
       "    }\n",
       "    table.matreprmatrix > tbody tr td:empty::after {\n",
       "        content: \"\\00a0\\00a0\\00a0\";\n",
       "        visibility: hidden;\n",
       "    }\n",
       "    table.matreprmatrix > tbody > tr:first-child > td:first-of-type::before {\n",
       "        content: \"\";\n",
       "        width: 4px;\n",
       "        position: absolute;\n",
       "        top: 0;\n",
       "        bottom: 0;\n",
       "        visibility: visible;\n",
       "        left: 0;\n",
       "        right: auto;\n",
       "        border-top: solid 2px;\n",
       "    }\n",
       "    table.matreprmatrix > tbody > tr:last-child > td:first-of-type::before {\n",
       "        content: \"\";\n",
       "        width: 4px;\n",
       "        position: absolute;\n",
       "        top: 0;\n",
       "        bottom: 0;\n",
       "        visibility: visible;\n",
       "        left: 0;\n",
       "        right: auto;\n",
       "        border-bottom: solid 2px;\n",
       "    }\n",
       "    table.matreprmatrix > tbody > tr:first-child > td:last-of-type::after {\n",
       "        content: \"\";\n",
       "        width: 4px;\n",
       "        position: absolute;\n",
       "        top: 0;\n",
       "        bottom: 0;\n",
       "        visibility: visible;\n",
       "        left: auto;\n",
       "        right: 0;\n",
       "        border-top: solid 2px;\n",
       "    }\n",
       "    table.matreprmatrix > tbody > tr:last-child > td:last-of-type::after {\n",
       "        content: \"\";\n",
       "        width: 4px;\n",
       "        position: absolute;\n",
       "        top: 0;\n",
       "        bottom: 0;\n",
       "        visibility: visible;\n",
       "        left: auto;\n",
       "        right: 0;\n",
       "        border-bottom: solid 2px;\n",
       "    }\n",
       "    table.matreprtensor > tbody tr th {\n",
       "        font-size: smaller;\n",
       "        vertical-align: middle;\n",
       "        text-align: right;\n",
       "    }\n",
       "    table.matreprtensor > thead tr th {\n",
       "        font-size: smaller;\n",
       "        vertical-align: middle;\n",
       "        text-align: center;\n",
       "    }\n",
       "    table.matreprtensor > tbody tr td {\n",
       "        vertical-align: middle;\n",
       "        text-align: center;\n",
       "        position: relative;\n",
       "    }\n",
       "    table.matreprtensor > tbody tr th:last-of-type {\n",
       "        border-right: solid 2px;\n",
       "    }\n",
       "</style>\n",
       "<p>100×100, 2123 'float64' elements, coo, fill_value=0.0, read-only, 49.8KiB</p>\n",
       "<table class=\"matreprmatrix\">\n",
       "    <tbody>\n",
       "    <tr>\n",
       "        <td></td>\n",
       "        <td>0.4977</td>\n",
       "        <td></td>\n",
       "        <td></td>\n",
       "        <td></td>\n",
       "        <td></td>\n",
       "        <td>&ctdot;</td>\n",
       "    </tr>\n",
       "    <tr>\n",
       "        <td></td>\n",
       "        <td></td>\n",
       "        <td></td>\n",
       "        <td></td>\n",
       "        <td></td>\n",
       "        <td></td>\n",
       "        <td>&ctdot;</td>\n",
       "    </tr>\n",
       "    <tr>\n",
       "        <td></td>\n",
       "        <td>0.04743</td>\n",
       "        <td></td>\n",
       "        <td></td>\n",
       "        <td>0.995</td>\n",
       "        <td></td>\n",
       "        <td>&ctdot;</td>\n",
       "    </tr>\n",
       "    <tr>\n",
       "        <td></td>\n",
       "        <td></td>\n",
       "        <td></td>\n",
       "        <td></td>\n",
       "        <td></td>\n",
       "        <td>0.3282</td>\n",
       "        <td>&ctdot;</td>\n",
       "    </tr>\n",
       "    <tr>\n",
       "        <td></td>\n",
       "        <td></td>\n",
       "        <td></td>\n",
       "        <td></td>\n",
       "        <td></td>\n",
       "        <td></td>\n",
       "        <td>&ctdot;</td>\n",
       "    </tr>\n",
       "    <tr>\n",
       "        <td></td>\n",
       "        <td></td>\n",
       "        <td></td>\n",
       "        <td></td>\n",
       "        <td></td>\n",
       "        <td>0.4119</td>\n",
       "        <td>&ctdot;</td>\n",
       "    </tr>\n",
       "    <tr>\n",
       "        <td>0.9375</td>\n",
       "        <td></td>\n",
       "        <td>0.6134</td>\n",
       "        <td></td>\n",
       "        <td></td>\n",
       "        <td>0.6993</td>\n",
       "        <td>&ctdot;</td>\n",
       "    </tr>\n",
       "    <tr>\n",
       "        <td>0.6578</td>\n",
       "        <td></td>\n",
       "        <td></td>\n",
       "        <td></td>\n",
       "        <td></td>\n",
       "        <td></td>\n",
       "        <td>&ctdot;</td>\n",
       "    </tr>\n",
       "    <tr>\n",
       "        <td></td>\n",
       "        <td></td>\n",
       "        <td></td>\n",
       "        <td></td>\n",
       "        <td></td>\n",
       "        <td>0.05845</td>\n",
       "        <td>&ctdot;</td>\n",
       "    </tr>\n",
       "    <tr>\n",
       "        <td>&vellip;</td>\n",
       "        <td>&vellip;</td>\n",
       "        <td>&vellip;</td>\n",
       "        <td>&vellip;</td>\n",
       "        <td>&vellip;</td>\n",
       "        <td>&vellip;</td>\n",
       "        <td>&dtdot;</td>\n",
       "    </tr>\n",
       "    </tbody>\n",
       "</table>\n",
       "</div>"
      ],
      "text/plain": [
       "<COO: shape=(100, 100), dtype=float64, nnz=2123, fill_value=0.0>"
      ]
     },
     "execution_count": 18,
     "metadata": {},
     "output_type": "execute_result"
    }
   ],
   "source": [
    "A"
   ]
  },
  {
   "cell_type": "code",
   "execution_count": 19,
   "metadata": {
    "ExecuteTime": {
     "end_time": "2023-08-28T03:57:01.192068Z",
     "start_time": "2023-08-28T03:57:01.189317Z"
    },
    "collapsed": false,
    "jupyter": {
     "outputs_hidden": false
    },
    "scrolled": true
   },
   "outputs": [
    {
     "data": {
      "text/html": [
       "<div>\n",
       "<style scoped>\n",
       "    table.matreprmatrix  {\n",
       "        border-collapse: collapse;\n",
       "    }\n",
       "    table.matreprmatrix > thead  {\n",
       "        border: 0px;\n",
       "    }\n",
       "    table.matreprmatrix > tbody tr th {\n",
       "        font-size: smaller;\n",
       "        vertical-align: middle;\n",
       "        text-align: right;\n",
       "    }\n",
       "    table.matreprmatrix > thead tr th {\n",
       "        font-size: smaller;\n",
       "        vertical-align: middle;\n",
       "        text-align: center;\n",
       "    }\n",
       "    table.matreprmatrix > tbody tr td {\n",
       "        vertical-align: middle;\n",
       "        text-align: center;\n",
       "        position: relative;\n",
       "    }\n",
       "    table.matreprmatrix > tbody tr td:first-of-type {\n",
       "        border-left: solid 2px;\n",
       "    }\n",
       "    table.matreprmatrix > tbody tr td:last-of-type {\n",
       "        border-right: solid 2px;\n",
       "    }\n",
       "    table.matreprmatrix > tbody tr td:empty::before {\n",
       "        content: \"\\00a0\\00a0\\00a0\";\n",
       "        visibility: hidden;\n",
       "    }\n",
       "    table.matreprmatrix > tbody tr td:empty::after {\n",
       "        content: \"\\00a0\\00a0\\00a0\";\n",
       "        visibility: hidden;\n",
       "    }\n",
       "    table.matreprmatrix > tbody > tr:first-child > td:first-of-type::before {\n",
       "        content: \"\";\n",
       "        width: 4px;\n",
       "        position: absolute;\n",
       "        top: 0;\n",
       "        bottom: 0;\n",
       "        visibility: visible;\n",
       "        left: 0;\n",
       "        right: auto;\n",
       "        border-top: solid 2px;\n",
       "    }\n",
       "    table.matreprmatrix > tbody > tr:last-child > td:first-of-type::before {\n",
       "        content: \"\";\n",
       "        width: 4px;\n",
       "        position: absolute;\n",
       "        top: 0;\n",
       "        bottom: 0;\n",
       "        visibility: visible;\n",
       "        left: 0;\n",
       "        right: auto;\n",
       "        border-bottom: solid 2px;\n",
       "    }\n",
       "    table.matreprmatrix > tbody > tr:first-child > td:last-of-type::after {\n",
       "        content: \"\";\n",
       "        width: 4px;\n",
       "        position: absolute;\n",
       "        top: 0;\n",
       "        bottom: 0;\n",
       "        visibility: visible;\n",
       "        left: auto;\n",
       "        right: 0;\n",
       "        border-top: solid 2px;\n",
       "    }\n",
       "    table.matreprmatrix > tbody > tr:last-child > td:last-of-type::after {\n",
       "        content: \"\";\n",
       "        width: 4px;\n",
       "        position: absolute;\n",
       "        top: 0;\n",
       "        bottom: 0;\n",
       "        visibility: visible;\n",
       "        left: auto;\n",
       "        right: 0;\n",
       "        border-bottom: solid 2px;\n",
       "    }\n",
       "    table.matreprtensor > tbody tr th {\n",
       "        font-size: smaller;\n",
       "        vertical-align: middle;\n",
       "        text-align: right;\n",
       "    }\n",
       "    table.matreprtensor > thead tr th {\n",
       "        font-size: smaller;\n",
       "        vertical-align: middle;\n",
       "        text-align: center;\n",
       "    }\n",
       "    table.matreprtensor > tbody tr td {\n",
       "        vertical-align: middle;\n",
       "        text-align: center;\n",
       "        position: relative;\n",
       "    }\n",
       "    table.matreprtensor > tbody tr th:last-of-type {\n",
       "        border-right: solid 2px;\n",
       "    }\n",
       "</style>\n",
       "<p>length=1000, 500 'float64' elements, coo, fill_value=0.0, read-only, 7.8KiB</p>\n",
       "<table class=\"matreprmatrix\">\n",
       "    <tbody>\n",
       "    <tr>\n",
       "        <td></td>\n",
       "        <td>0.9873</td>\n",
       "        <td></td>\n",
       "        <td></td>\n",
       "        <td></td>\n",
       "        <td>0.9495</td>\n",
       "        <td>&ctdot;</td>\n",
       "    </tr>\n",
       "    </tbody>\n",
       "</table>\n",
       "</div>"
      ],
      "text/plain": [
       "<COO: shape=(1000,), dtype=float64, nnz=500, fill_value=0.0>"
      ]
     },
     "execution_count": 19,
     "metadata": {},
     "output_type": "execute_result"
    }
   ],
   "source": [
    "v"
   ]
  },
  {
   "cell_type": "code",
   "execution_count": 20,
   "metadata": {
    "ExecuteTime": {
     "end_time": "2023-08-28T03:57:01.195077Z",
     "start_time": "2023-08-28T03:57:01.192847Z"
    },
    "collapsed": false,
    "jupyter": {
     "outputs_hidden": false
    },
    "scrolled": true
   },
   "outputs": [
    {
     "data": {
      "text/html": [
       "<div>\n",
       "<style scoped>\n",
       "    table.matreprmatrix  {\n",
       "        border-collapse: collapse;\n",
       "    }\n",
       "    table.matreprmatrix > thead  {\n",
       "        border: 0px;\n",
       "    }\n",
       "    table.matreprmatrix > tbody tr th {\n",
       "        font-size: smaller;\n",
       "        vertical-align: middle;\n",
       "        text-align: right;\n",
       "    }\n",
       "    table.matreprmatrix > thead tr th {\n",
       "        font-size: smaller;\n",
       "        vertical-align: middle;\n",
       "        text-align: center;\n",
       "    }\n",
       "    table.matreprmatrix > tbody tr td {\n",
       "        vertical-align: middle;\n",
       "        text-align: center;\n",
       "        position: relative;\n",
       "    }\n",
       "    table.matreprmatrix > tbody tr td:first-of-type {\n",
       "        border-left: solid 2px;\n",
       "    }\n",
       "    table.matreprmatrix > tbody tr td:last-of-type {\n",
       "        border-right: solid 2px;\n",
       "    }\n",
       "    table.matreprmatrix > tbody tr td:empty::before {\n",
       "        content: \"\\00a0\\00a0\\00a0\";\n",
       "        visibility: hidden;\n",
       "    }\n",
       "    table.matreprmatrix > tbody tr td:empty::after {\n",
       "        content: \"\\00a0\\00a0\\00a0\";\n",
       "        visibility: hidden;\n",
       "    }\n",
       "    table.matreprmatrix > tbody > tr:first-child > td:first-of-type::before {\n",
       "        content: \"\";\n",
       "        width: 4px;\n",
       "        position: absolute;\n",
       "        top: 0;\n",
       "        bottom: 0;\n",
       "        visibility: visible;\n",
       "        left: 0;\n",
       "        right: auto;\n",
       "        border-top: solid 2px;\n",
       "    }\n",
       "    table.matreprmatrix > tbody > tr:last-child > td:first-of-type::before {\n",
       "        content: \"\";\n",
       "        width: 4px;\n",
       "        position: absolute;\n",
       "        top: 0;\n",
       "        bottom: 0;\n",
       "        visibility: visible;\n",
       "        left: 0;\n",
       "        right: auto;\n",
       "        border-bottom: solid 2px;\n",
       "    }\n",
       "    table.matreprmatrix > tbody > tr:first-child > td:last-of-type::after {\n",
       "        content: \"\";\n",
       "        width: 4px;\n",
       "        position: absolute;\n",
       "        top: 0;\n",
       "        bottom: 0;\n",
       "        visibility: visible;\n",
       "        left: auto;\n",
       "        right: 0;\n",
       "        border-top: solid 2px;\n",
       "    }\n",
       "    table.matreprmatrix > tbody > tr:last-child > td:last-of-type::after {\n",
       "        content: \"\";\n",
       "        width: 4px;\n",
       "        position: absolute;\n",
       "        top: 0;\n",
       "        bottom: 0;\n",
       "        visibility: visible;\n",
       "        left: auto;\n",
       "        right: 0;\n",
       "        border-bottom: solid 2px;\n",
       "    }\n",
       "    table.matreprtensor > tbody tr th {\n",
       "        font-size: smaller;\n",
       "        vertical-align: middle;\n",
       "        text-align: right;\n",
       "    }\n",
       "    table.matreprtensor > thead tr th {\n",
       "        font-size: smaller;\n",
       "        vertical-align: middle;\n",
       "        text-align: center;\n",
       "    }\n",
       "    table.matreprtensor > tbody tr td {\n",
       "        vertical-align: middle;\n",
       "        text-align: center;\n",
       "        position: relative;\n",
       "    }\n",
       "    table.matreprtensor > tbody tr th:last-of-type {\n",
       "        border-right: solid 2px;\n",
       "    }\n",
       "</style>\n",
       "<p>shape=(10,10,10,10), 2123 'float64' elements, coo, fill_value=0.0, read-only, 82.9KiB</p>\n",
       "<table class=\"matreprtensor\">\n",
       "    <tbody>\n",
       "    <tr>\n",
       "        <td>0</td>\n",
       "        <td>0</td>\n",
       "        <td>0</td>\n",
       "        <td>4</td>\n",
       "        <td>0.8811</td>\n",
       "    </tr>\n",
       "    <tr>\n",
       "        <td>0</td>\n",
       "        <td>0</td>\n",
       "        <td>1</td>\n",
       "        <td>0</td>\n",
       "        <td>0.2228</td>\n",
       "    </tr>\n",
       "    <tr>\n",
       "        <td>0</td>\n",
       "        <td>0</td>\n",
       "        <td>1</td>\n",
       "        <td>1</td>\n",
       "        <td>0.5559</td>\n",
       "    </tr>\n",
       "    <tr>\n",
       "        <td>0</td>\n",
       "        <td>0</td>\n",
       "        <td>2</td>\n",
       "        <td>1</td>\n",
       "        <td>0.5681</td>\n",
       "    </tr>\n",
       "    <tr>\n",
       "        <td>0</td>\n",
       "        <td>0</td>\n",
       "        <td>2</td>\n",
       "        <td>5</td>\n",
       "        <td>0.5452</td>\n",
       "    </tr>\n",
       "    <tr>\n",
       "        <td>0</td>\n",
       "        <td>0</td>\n",
       "        <td>3</td>\n",
       "        <td>7</td>\n",
       "        <td>0.4053</td>\n",
       "    </tr>\n",
       "    <tr>\n",
       "        <td>0</td>\n",
       "        <td>0</td>\n",
       "        <td>3</td>\n",
       "        <td>8</td>\n",
       "        <td>0.8414</td>\n",
       "    </tr>\n",
       "    <tr>\n",
       "        <td>0</td>\n",
       "        <td>0</td>\n",
       "        <td>4</td>\n",
       "        <td>6</td>\n",
       "        <td>0.638</td>\n",
       "    </tr>\n",
       "    <tr>\n",
       "        <td>0</td>\n",
       "        <td>0</td>\n",
       "        <td>4</td>\n",
       "        <td>8</td>\n",
       "        <td>0.9332</td>\n",
       "    </tr>\n",
       "    <tr>\n",
       "        <td>&vellip;</td>\n",
       "        <td>&vellip;</td>\n",
       "        <td>&vellip;</td>\n",
       "        <td>&vellip;</td>\n",
       "        <td>&vellip;</td>\n",
       "    </tr>\n",
       "    </tbody>\n",
       "</table>\n",
       "</div>"
      ],
      "text/plain": [
       "<COO: shape=(10, 10, 10, 10), dtype=float64, nnz=2123, fill_value=0.0>"
      ]
     },
     "execution_count": 20,
     "metadata": {},
     "output_type": "execute_result"
    }
   ],
   "source": [
    "T"
   ]
  },
  {
   "cell_type": "code",
   "execution_count": null,
   "metadata": {
    "ExecuteTime": {
     "end_time": "2023-08-28T03:57:01.247294Z",
     "start_time": "2023-08-28T03:57:01.227695Z"
    },
    "collapsed": false,
    "jupyter": {
     "outputs_hidden": false
    }
   },
   "outputs": [],
   "source": []
  }
 ],
 "metadata": {
  "kernelspec": {
   "display_name": "Python 3 (ipykernel)",
   "language": "python",
   "name": "python3"
  },
  "language_info": {
   "codemirror_mode": {
    "name": "ipython",
    "version": 3
   },
   "file_extension": ".py",
   "mimetype": "text/x-python",
   "name": "python",
   "nbconvert_exporter": "python",
   "pygments_lexer": "ipython3",
   "version": "3.11.2"
  }
 },
 "nbformat": 4,
 "nbformat_minor": 4
}
