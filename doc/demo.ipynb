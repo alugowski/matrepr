{
 "cells": [
  {
   "cell_type": "markdown",
   "metadata": {
    "collapsed": false,
    "jupyter": {
     "outputs_hidden": false
    }
   },
   "source": [
    "# MatRepr\n",
    "\n",
    "Render sparse and dense matrices to HTML and Latex, with a Jupyter extension."
   ]
  },
  {
   "cell_type": "code",
   "execution_count": 1,
   "metadata": {
    "collapsed": false,
    "jupyter": {
     "outputs_hidden": false
    },
    "ExecuteTime": {
     "end_time": "2023-09-01T19:07:01.026975Z",
     "start_time": "2023-09-01T19:07:00.830991Z"
    }
   },
   "outputs": [],
   "source": [
    "import scipy.sparse\n",
    "import numpy as np\n",
    "np.random.seed(123)\n",
    "\n",
    "# so matrepr can be imported from the source tree.\n",
    "import sys\n",
    "sys.path.insert(0, '..')\n",
    "\n",
    "from matrepr import mdisplay"
   ]
  },
  {
   "cell_type": "markdown",
   "metadata": {
    "collapsed": false,
    "jupyter": {
     "outputs_hidden": false
    }
   },
   "source": [
    "### Load MatRepr Jupyter extension"
   ]
  },
  {
   "cell_type": "code",
   "execution_count": 2,
   "metadata": {
    "collapsed": false,
    "jupyter": {
     "outputs_hidden": false
    },
    "ExecuteTime": {
     "end_time": "2023-09-01T19:07:01.046299Z",
     "start_time": "2023-09-01T19:07:01.023246Z"
    }
   },
   "outputs": [],
   "source": [
    "%load_ext matrepr"
   ]
  },
  {
   "cell_type": "markdown",
   "metadata": {
    "collapsed": false,
    "jupyter": {
     "outputs_hidden": false
    }
   },
   "source": [
    "### SciPy sparse matrix"
   ]
  },
  {
   "cell_type": "code",
   "execution_count": 3,
   "metadata": {
    "collapsed": false,
    "jupyter": {
     "outputs_hidden": false
    },
    "ExecuteTime": {
     "end_time": "2023-09-01T19:07:01.046605Z",
     "start_time": "2023-09-01T19:07:01.032299Z"
    }
   },
   "outputs": [
    {
     "data": {
      "text/plain": "<5x5 sparse matrix of type '<class 'numpy.float64'>'\n\twith 12 stored elements in COOrdinate format>",
      "text/html": "<div>\n<style scoped>\n    table.matreprmatrix caption {\n        white-space: pre;\n        text-align: center;\n    }\n    table.matreprmatrix  {\n        border-collapse: collapse;\n    }\n    table.matreprmatrix > thead  {\n        border: 0px;\n    }\n    table.matreprmatrix > tbody tr th {\n        font-size: smaller;\n        vertical-align: middle;\n        text-align: right;\n    }\n    table.matreprmatrix > thead tr th {\n        font-size: smaller;\n        vertical-align: middle;\n        text-align: center;\n    }\n    table.matreprmatrix > tbody tr td {\n        vertical-align: middle;\n        text-align: center;\n        position: relative;\n    }\n    table.matreprmatrix > tbody tr td:first-of-type {\n        border-left: solid 2px;\n    }\n    table.matreprmatrix > tbody tr td:last-of-type {\n        border-right: solid 2px;\n    }\n    table.matreprmatrix > tbody tr td:empty::before {\n        content: \"\\00a0\\00a0\\00a0\";\n        visibility: hidden;\n    }\n    table.matreprmatrix > tbody tr td:empty::after {\n        content: \"\\00a0\\00a0\\00a0\";\n        visibility: hidden;\n    }\n    table.matreprmatrix > tbody > tr:first-child > td:first-of-type::before {\n        content: \"\";\n        width: 4px;\n        position: absolute;\n        top: 0;\n        bottom: 0;\n        visibility: visible;\n        left: 0;\n        right: auto;\n        border-top: solid 2px;\n    }\n    table.matreprmatrix > tbody > tr:last-child > td:first-of-type::before {\n        content: \"\";\n        width: 4px;\n        position: absolute;\n        top: 0;\n        bottom: 0;\n        visibility: visible;\n        left: 0;\n        right: auto;\n        border-bottom: solid 2px;\n    }\n    table.matreprmatrix > tbody > tr:first-child > td:last-of-type::after {\n        content: \"\";\n        width: 4px;\n        position: absolute;\n        top: 0;\n        bottom: 0;\n        visibility: visible;\n        left: auto;\n        right: 0;\n        border-top: solid 2px;\n    }\n    table.matreprmatrix > tbody > tr:last-child > td:last-of-type::after {\n        content: \"\";\n        width: 4px;\n        position: absolute;\n        top: 0;\n        bottom: 0;\n        visibility: visible;\n        left: auto;\n        right: 0;\n        border-bottom: solid 2px;\n    }\n    table.matreprtensor caption {\n        white-space: pre;\n        text-align: center;\n    }\n    table.matreprtensor > tbody tr th {\n        font-size: smaller;\n        vertical-align: middle;\n        text-align: right;\n    }\n    table.matreprtensor > thead tr th {\n        font-size: smaller;\n        vertical-align: middle;\n        text-align: center;\n    }\n    table.matreprtensor > tbody tr td {\n        vertical-align: middle;\n        text-align: center;\n        position: relative;\n    }\n    table.matreprtensor > tbody tr th:last-of-type {\n        border-right: solid 2px;\n    }\n</style>\n<table class=\"matreprmatrix\">\n<caption>5×5, 12 &#x27;float64&#x27; elements, coo</caption>\n    <thead>\n    <tr>\n        <th></th>\n        <th style=\"text-align: center;\">0</th>\n        <th style=\"text-align: center;\">1</th>\n        <th style=\"text-align: center;\">2</th>\n        <th style=\"text-align: center;\">3</th>\n        <th style=\"text-align: center;\">4</th>\n    </tr>\n    </thead>\n    <tbody>\n    <tr>\n        <th>0</th>\n        <td style=\"text-align: center;\"></td>\n        <td style=\"text-align: center;\">0.5316</td>\n        <td style=\"text-align: center;\"></td>\n        <td style=\"text-align: center;\">0.7245</td>\n        <td style=\"text-align: center;\"></td>\n    </tr>\n    <tr>\n        <th>1</th>\n        <td style=\"text-align: center;\"></td>\n        <td style=\"text-align: center;\"></td>\n        <td style=\"text-align: center;\">0.323</td>\n        <td style=\"text-align: center;\"></td>\n        <td style=\"text-align: center;\">0.5318</td>\n    </tr>\n    <tr>\n        <th>2</th>\n        <td style=\"text-align: center;\"></td>\n        <td style=\"text-align: center;\">0.7224</td>\n        <td style=\"text-align: center;\">0.631</td>\n        <td style=\"text-align: center;\"></td>\n        <td style=\"text-align: center;\">0.6344</td>\n    </tr>\n    <tr>\n        <th>3</th>\n        <td style=\"text-align: center;\">0.2283</td>\n        <td style=\"text-align: center;\">0.611</td>\n        <td style=\"text-align: center;\"></td>\n        <td style=\"text-align: center;\">0.8494</td>\n        <td style=\"text-align: center;\"></td>\n    </tr>\n    <tr>\n        <th>4</th>\n        <td style=\"text-align: center;\">0.3618</td>\n        <td style=\"text-align: center;\"></td>\n        <td style=\"text-align: center;\"></td>\n        <td style=\"text-align: center;\"></td>\n        <td style=\"text-align: center;\">0.2937</td>\n    </tr>\n    </tbody>\n</table>\n</div>"
     },
     "execution_count": 3,
     "metadata": {},
     "output_type": "execute_result"
    }
   ],
   "source": [
    "scipy.sparse.random(5, 5, density=0.5)"
   ]
  },
  {
   "cell_type": "markdown",
   "metadata": {
    "collapsed": false,
    "jupyter": {
     "outputs_hidden": false
    }
   },
   "source": [
    "### 2D NumPy array with row and column labels"
   ]
  },
  {
   "cell_type": "code",
   "execution_count": 4,
   "metadata": {
    "collapsed": false,
    "jupyter": {
     "outputs_hidden": false
    },
    "ExecuteTime": {
     "end_time": "2023-09-01T19:07:01.050660Z",
     "start_time": "2023-09-01T19:07:01.040636Z"
    }
   },
   "outputs": [
    {
     "data": {
      "text/plain": "<IPython.core.display.HTML object>",
      "text/html": "<div>\n<style scoped>\n    table.matreprmatrix caption {\n        white-space: pre;\n        text-align: center;\n    }\n    table.matreprmatrix  {\n        border-collapse: collapse;\n    }\n    table.matreprmatrix > thead  {\n        border: 0px;\n    }\n    table.matreprmatrix > tbody tr th {\n        font-size: smaller;\n        vertical-align: middle;\n        text-align: right;\n    }\n    table.matreprmatrix > thead tr th {\n        font-size: smaller;\n        vertical-align: middle;\n        text-align: center;\n    }\n    table.matreprmatrix > tbody tr td {\n        vertical-align: middle;\n        text-align: center;\n        position: relative;\n    }\n    table.matreprmatrix > tbody tr td:first-of-type {\n        border-left: solid 2px;\n    }\n    table.matreprmatrix > tbody tr td:last-of-type {\n        border-right: solid 2px;\n    }\n    table.matreprmatrix > tbody tr td:empty::before {\n        content: \"\\00a0\\00a0\\00a0\";\n        visibility: hidden;\n    }\n    table.matreprmatrix > tbody tr td:empty::after {\n        content: \"\\00a0\\00a0\\00a0\";\n        visibility: hidden;\n    }\n    table.matreprmatrix > tbody > tr:first-child > td:first-of-type::before {\n        content: \"\";\n        width: 4px;\n        position: absolute;\n        top: 0;\n        bottom: 0;\n        visibility: visible;\n        left: 0;\n        right: auto;\n        border-top: solid 2px;\n    }\n    table.matreprmatrix > tbody > tr:last-child > td:first-of-type::before {\n        content: \"\";\n        width: 4px;\n        position: absolute;\n        top: 0;\n        bottom: 0;\n        visibility: visible;\n        left: 0;\n        right: auto;\n        border-bottom: solid 2px;\n    }\n    table.matreprmatrix > tbody > tr:first-child > td:last-of-type::after {\n        content: \"\";\n        width: 4px;\n        position: absolute;\n        top: 0;\n        bottom: 0;\n        visibility: visible;\n        left: auto;\n        right: 0;\n        border-top: solid 2px;\n    }\n    table.matreprmatrix > tbody > tr:last-child > td:last-of-type::after {\n        content: \"\";\n        width: 4px;\n        position: absolute;\n        top: 0;\n        bottom: 0;\n        visibility: visible;\n        left: auto;\n        right: 0;\n        border-bottom: solid 2px;\n    }\n    table.matreprtensor caption {\n        white-space: pre;\n        text-align: center;\n    }\n    table.matreprtensor > tbody tr th {\n        font-size: smaller;\n        vertical-align: middle;\n        text-align: right;\n    }\n    table.matreprtensor > thead tr th {\n        font-size: smaller;\n        vertical-align: middle;\n        text-align: center;\n    }\n    table.matreprtensor > tbody tr td {\n        vertical-align: middle;\n        text-align: center;\n        position: relative;\n    }\n    table.matreprtensor > tbody tr th:last-of-type {\n        border-right: solid 2px;\n    }\n</style>\n<table class=\"matreprmatrix\">\n    <thead>\n    <tr>\n        <th></th>\n        <th style=\"text-align: center;\">Boston</th>\n        <th style=\"text-align: center;\">Buffalo</th>\n        <th style=\"text-align: center;\">Chicago</th>\n        <th style=\"text-align: center;\">Cleveland</th>\n        <th style=\"text-align: center;\">Dallas</th>\n        <th style=\"text-align: center;\">Denver</th>\n    </tr>\n    </thead>\n    <tbody>\n    <tr>\n        <th>Boston</th>\n        <td style=\"text-align: center;\">-</td>\n        <td style=\"text-align: center;\">457</td>\n        <td style=\"text-align: center;\">983</td>\n        <td style=\"text-align: center;\">639</td>\n        <td style=\"text-align: center;\">1815</td>\n        <td style=\"text-align: center;\">1991</td>\n    </tr>\n    <tr>\n        <th>Buffalo</th>\n        <td style=\"text-align: center;\">457</td>\n        <td style=\"text-align: center;\">-</td>\n        <td style=\"text-align: center;\">536</td>\n        <td style=\"text-align: center;\">192</td>\n        <td style=\"text-align: center;\">1387</td>\n        <td style=\"text-align: center;\">1561</td>\n    </tr>\n    <tr>\n        <th>Chicago</th>\n        <td style=\"text-align: center;\">983</td>\n        <td style=\"text-align: center;\">536</td>\n        <td style=\"text-align: center;\">-</td>\n        <td style=\"text-align: center;\">344</td>\n        <td style=\"text-align: center;\">931</td>\n        <td style=\"text-align: center;\">1050</td>\n    </tr>\n    <tr>\n        <th>Cleveland</th>\n        <td style=\"text-align: center;\">639</td>\n        <td style=\"text-align: center;\">192</td>\n        <td style=\"text-align: center;\">344</td>\n        <td style=\"text-align: center;\">-</td>\n        <td style=\"text-align: center;\">1205</td>\n        <td style=\"text-align: center;\">1369</td>\n    </tr>\n    <tr>\n        <th>Dallas</th>\n        <td style=\"text-align: center;\">1815</td>\n        <td style=\"text-align: center;\">1387</td>\n        <td style=\"text-align: center;\">931</td>\n        <td style=\"text-align: center;\">1205</td>\n        <td style=\"text-align: center;\">-</td>\n        <td style=\"text-align: center;\">801</td>\n    </tr>\n    <tr>\n        <th>Denver</th>\n        <td style=\"text-align: center;\">1991</td>\n        <td style=\"text-align: center;\">1561</td>\n        <td style=\"text-align: center;\">1050</td>\n        <td style=\"text-align: center;\">1369</td>\n        <td style=\"text-align: center;\">801</td>\n        <td style=\"text-align: center;\">-</td>\n    </tr>\n    </tbody>\n</table>\n</div>"
     },
     "metadata": {},
     "output_type": "display_data"
    }
   ],
   "source": [
    "cities = [\"Boston\", \"Buffalo\", \"Chicago\", \"Cleveland\", \"Dallas\", \"Denver\"]\n",
    "distances = np.array([\n",
    "    [None, 457, 983, 639, 1815, 1991],\n",
    "    [457, None, 536, 192, 1387, 1561],\n",
    "    [983, 536, None, 344, 931, 1050],\n",
    "    [639, 192, 344, None, 1205, 1369],\n",
    "    [1815, 1387, 931, 1205, None, 801],\n",
    "    [1991, 1561, 1050, 1369, 801, None],\n",
    "])\n",
    "\n",
    "mdisplay(distances, title=None, row_labels=cities, col_labels=cities, fill_value=\"-\")"
   ]
  },
  {
   "cell_type": "markdown",
   "metadata": {
    "collapsed": false,
    "jupyter": {
     "outputs_hidden": false
    }
   },
   "source": [
    "### Nested sub-matrices"
   ]
  },
  {
   "cell_type": "code",
   "execution_count": 5,
   "metadata": {
    "collapsed": false,
    "jupyter": {
     "outputs_hidden": false
    },
    "ExecuteTime": {
     "end_time": "2023-09-01T19:07:01.074454Z",
     "start_time": "2023-09-01T19:07:01.052464Z"
    }
   },
   "outputs": [
    {
     "data": {
      "text/plain": "<IPython.core.display.HTML object>",
      "text/html": "<div>\n<style scoped>\n    table.matreprmatrix caption {\n        white-space: pre;\n        text-align: center;\n    }\n    table.matreprmatrix  {\n        border-collapse: collapse;\n    }\n    table.matreprmatrix > thead  {\n        border: 0px;\n    }\n    table.matreprmatrix > tbody tr th {\n        font-size: smaller;\n        vertical-align: middle;\n        text-align: right;\n    }\n    table.matreprmatrix > thead tr th {\n        font-size: smaller;\n        vertical-align: middle;\n        text-align: center;\n    }\n    table.matreprmatrix > tbody tr td {\n        vertical-align: middle;\n        text-align: center;\n        position: relative;\n    }\n    table.matreprmatrix > tbody tr td:first-of-type {\n        border-left: solid 2px;\n    }\n    table.matreprmatrix > tbody tr td:last-of-type {\n        border-right: solid 2px;\n    }\n    table.matreprmatrix > tbody tr td:empty::before {\n        content: \"\\00a0\\00a0\\00a0\";\n        visibility: hidden;\n    }\n    table.matreprmatrix > tbody tr td:empty::after {\n        content: \"\\00a0\\00a0\\00a0\";\n        visibility: hidden;\n    }\n    table.matreprmatrix > tbody > tr:first-child > td:first-of-type::before {\n        content: \"\";\n        width: 4px;\n        position: absolute;\n        top: 0;\n        bottom: 0;\n        visibility: visible;\n        left: 0;\n        right: auto;\n        border-top: solid 2px;\n    }\n    table.matreprmatrix > tbody > tr:last-child > td:first-of-type::before {\n        content: \"\";\n        width: 4px;\n        position: absolute;\n        top: 0;\n        bottom: 0;\n        visibility: visible;\n        left: 0;\n        right: auto;\n        border-bottom: solid 2px;\n    }\n    table.matreprmatrix > tbody > tr:first-child > td:last-of-type::after {\n        content: \"\";\n        width: 4px;\n        position: absolute;\n        top: 0;\n        bottom: 0;\n        visibility: visible;\n        left: auto;\n        right: 0;\n        border-top: solid 2px;\n    }\n    table.matreprmatrix > tbody > tr:last-child > td:last-of-type::after {\n        content: \"\";\n        width: 4px;\n        position: absolute;\n        top: 0;\n        bottom: 0;\n        visibility: visible;\n        left: auto;\n        right: 0;\n        border-bottom: solid 2px;\n    }\n    table.matreprtensor caption {\n        white-space: pre;\n        text-align: center;\n    }\n    table.matreprtensor > tbody tr th {\n        font-size: smaller;\n        vertical-align: middle;\n        text-align: right;\n    }\n    table.matreprtensor > thead tr th {\n        font-size: smaller;\n        vertical-align: middle;\n        text-align: center;\n    }\n    table.matreprtensor > tbody tr td {\n        vertical-align: middle;\n        text-align: center;\n        position: relative;\n    }\n    table.matreprtensor > tbody tr th:last-of-type {\n        border-right: solid 2px;\n    }\n</style>\n<table class=\"matreprmatrix\">\n<caption>2×2, 4 elements, list</caption>\n    <thead>\n    <tr>\n        <th></th>\n        <th style=\"text-align: center;\">0</th>\n        <th style=\"text-align: center;\">1</th>\n    </tr>\n    </thead>\n    <tbody>\n    <tr>\n        <th>0</th>\n        <td style=\"text-align: center;\">\n            <table class=\"matreprmatrix\" style=\"margin: 0 auto;\">\n                <tbody>\n                <tr>\n                    <td style=\"text-align: center;\">0.1739</td>\n                    <td style=\"text-align: center;\"></td>\n                </tr>\n                <tr>\n                    <td style=\"text-align: center;\"></td>\n                    <td style=\"text-align: center;\">0.02798</td>\n                </tr>\n                </tbody>\n            </table></td>\n        <td style=\"text-align: center;\">\n            <table class=\"matreprmatrix\" style=\"margin: 0 auto;\">\n                <tbody>\n                <tr>\n                    <td style=\"text-align: center;\">1</td>\n                    <td style=\"text-align: center;\">2</td>\n                </tr>\n                <tr>\n                    <td style=\"text-align: center;\">3</td>\n                    <td style=\"text-align: center;\">4</td>\n                </tr>\n                </tbody>\n            </table></td>\n    </tr>\n    <tr>\n        <th>1</th>\n        <td style=\"text-align: center;\">\n            <table class=\"matreprmatrix\" style=\"margin: 0 auto;\">\n                <tbody>\n                <tr>\n                    <td style=\"text-align: center;\">1</td>\n                    <td style=\"text-align: center;\">2</td>\n                </tr>\n                <tr>\n                    <td style=\"text-align: center;\">3</td>\n                    <td style=\"text-align: center;\">4</td>\n                </tr>\n                </tbody>\n            </table></td>\n        <td style=\"text-align: center;\">\n            <table class=\"matreprmatrix\" style=\"margin: 0 auto;\">\n                <tbody>\n                <tr>\n                    <td style=\"text-align: center;\">0.4264</td>\n                    <td style=\"text-align: center;\"></td>\n                </tr>\n                <tr>\n                    <td style=\"text-align: center;\"></td>\n                    <td style=\"text-align: center;\">0.3123</td>\n                </tr>\n                </tbody>\n            </table></td>\n    </tr>\n    </tbody>\n</table>\n</div>"
     },
     "metadata": {},
     "output_type": "display_data"
    }
   ],
   "source": [
    "# You may mix types if the datastructure allows, as a Python list does\n",
    "mat = [\n",
    "    [scipy.sparse.random(2, 2, density=0.6), [[1, 2], [3, 4]]],\n",
    "    [np.array([[1, 2], [3, 4]]), scipy.sparse.random(2, 2, density=0.6)]\n",
    "]\n",
    "\n",
    "mdisplay(mat)"
   ]
  },
  {
   "cell_type": "markdown",
   "metadata": {
    "collapsed": false,
    "jupyter": {
     "outputs_hidden": false
    }
   },
   "source": [
    "### Large matrices"
   ]
  },
  {
   "cell_type": "code",
   "execution_count": 6,
   "metadata": {
    "collapsed": false,
    "jupyter": {
     "outputs_hidden": false
    },
    "ExecuteTime": {
     "end_time": "2023-09-01T19:07:05.210310Z",
     "start_time": "2023-09-01T19:07:01.059338Z"
    }
   },
   "outputs": [],
   "source": [
    "r = scipy.sparse.random(10000, 10000, density=0.23421, format=\"csr\")"
   ]
  },
  {
   "cell_type": "code",
   "execution_count": 7,
   "metadata": {
    "collapsed": false,
    "jupyter": {
     "outputs_hidden": false
    },
    "ExecuteTime": {
     "end_time": "2023-09-01T19:07:05.214191Z",
     "start_time": "2023-09-01T19:07:05.210759Z"
    }
   },
   "outputs": [
    {
     "data": {
      "text/plain": "<10000x10000 sparse matrix of type '<class 'numpy.float64'>'\n\twith 23421000 stored elements in Compressed Sparse Row format>",
      "text/html": "<div>\n<style scoped>\n    table.matreprmatrix caption {\n        white-space: pre;\n        text-align: center;\n    }\n    table.matreprmatrix  {\n        border-collapse: collapse;\n    }\n    table.matreprmatrix > thead  {\n        border: 0px;\n    }\n    table.matreprmatrix > tbody tr th {\n        font-size: smaller;\n        vertical-align: middle;\n        text-align: right;\n    }\n    table.matreprmatrix > thead tr th {\n        font-size: smaller;\n        vertical-align: middle;\n        text-align: center;\n    }\n    table.matreprmatrix > tbody tr td {\n        vertical-align: middle;\n        text-align: center;\n        position: relative;\n    }\n    table.matreprmatrix > tbody tr td:first-of-type {\n        border-left: solid 2px;\n    }\n    table.matreprmatrix > tbody tr td:last-of-type {\n        border-right: solid 2px;\n    }\n    table.matreprmatrix > tbody tr td:empty::before {\n        content: \"\\00a0\\00a0\\00a0\";\n        visibility: hidden;\n    }\n    table.matreprmatrix > tbody tr td:empty::after {\n        content: \"\\00a0\\00a0\\00a0\";\n        visibility: hidden;\n    }\n    table.matreprmatrix > tbody > tr:first-child > td:first-of-type::before {\n        content: \"\";\n        width: 4px;\n        position: absolute;\n        top: 0;\n        bottom: 0;\n        visibility: visible;\n        left: 0;\n        right: auto;\n        border-top: solid 2px;\n    }\n    table.matreprmatrix > tbody > tr:last-child > td:first-of-type::before {\n        content: \"\";\n        width: 4px;\n        position: absolute;\n        top: 0;\n        bottom: 0;\n        visibility: visible;\n        left: 0;\n        right: auto;\n        border-bottom: solid 2px;\n    }\n    table.matreprmatrix > tbody > tr:first-child > td:last-of-type::after {\n        content: \"\";\n        width: 4px;\n        position: absolute;\n        top: 0;\n        bottom: 0;\n        visibility: visible;\n        left: auto;\n        right: 0;\n        border-top: solid 2px;\n    }\n    table.matreprmatrix > tbody > tr:last-child > td:last-of-type::after {\n        content: \"\";\n        width: 4px;\n        position: absolute;\n        top: 0;\n        bottom: 0;\n        visibility: visible;\n        left: auto;\n        right: 0;\n        border-bottom: solid 2px;\n    }\n    table.matreprtensor caption {\n        white-space: pre;\n        text-align: center;\n    }\n    table.matreprtensor > tbody tr th {\n        font-size: smaller;\n        vertical-align: middle;\n        text-align: right;\n    }\n    table.matreprtensor > thead tr th {\n        font-size: smaller;\n        vertical-align: middle;\n        text-align: center;\n    }\n    table.matreprtensor > tbody tr td {\n        vertical-align: middle;\n        text-align: center;\n        position: relative;\n    }\n    table.matreprtensor > tbody tr th:last-of-type {\n        border-right: solid 2px;\n    }\n</style>\n<table class=\"matreprmatrix\">\n<caption>10000×10000, 23421000 &#x27;float64&#x27; elements, csr</caption>\n    <thead>\n    <tr>\n        <th></th>\n        <th style=\"text-align: center;\">0</th>\n        <th style=\"text-align: center;\">1</th>\n        <th style=\"text-align: center;\">2</th>\n        <th style=\"text-align: center;\">3</th>\n        <th style=\"text-align: center;\">4</th>\n        <th style=\"text-align: center;\">5</th>\n        <th style=\"text-align: center;\">6</th>\n        <th style=\"text-align: center;\"></th>\n        <th style=\"text-align: center;\">9993</th>\n        <th style=\"text-align: center;\">9994</th>\n        <th style=\"text-align: center;\">9995</th>\n        <th style=\"text-align: center;\">9996</th>\n        <th style=\"text-align: center;\">9997</th>\n        <th style=\"text-align: center;\">9998</th>\n        <th style=\"text-align: center;\">9999</th>\n    </tr>\n    </thead>\n    <tbody>\n    <tr>\n        <th>0</th>\n        <td style=\"text-align: center;\"></td>\n        <td style=\"text-align: center;\"></td>\n        <td style=\"text-align: center;\">0.2636</td>\n        <td style=\"text-align: center;\"></td>\n        <td style=\"text-align: center;\"></td>\n        <td style=\"text-align: center;\">0.5415</td>\n        <td style=\"text-align: center;\">0.6279</td>\n        <td style=\"text-align: center;\">&ctdot;</td>\n        <td style=\"text-align: center;\"></td>\n        <td style=\"text-align: center;\"></td>\n        <td style=\"text-align: center;\"></td>\n        <td style=\"text-align: center;\"></td>\n        <td style=\"text-align: center;\">0.6977</td>\n        <td style=\"text-align: center;\"></td>\n        <td style=\"text-align: center;\"></td>\n    </tr>\n    <tr>\n        <th>1</th>\n        <td style=\"text-align: center;\">0.8583</td>\n        <td style=\"text-align: center;\"></td>\n        <td style=\"text-align: center;\"></td>\n        <td style=\"text-align: center;\"></td>\n        <td style=\"text-align: center;\">0.9548</td>\n        <td style=\"text-align: center;\">0.1616</td>\n        <td style=\"text-align: center;\"></td>\n        <td style=\"text-align: center;\">&ctdot;</td>\n        <td style=\"text-align: center;\"></td>\n        <td style=\"text-align: center;\">0.1683</td>\n        <td style=\"text-align: center;\"></td>\n        <td style=\"text-align: center;\">0.01884</td>\n        <td style=\"text-align: center;\"></td>\n        <td style=\"text-align: center;\"></td>\n        <td style=\"text-align: center;\"></td>\n    </tr>\n    <tr>\n        <th>2</th>\n        <td style=\"text-align: center;\"></td>\n        <td style=\"text-align: center;\">0.7311</td>\n        <td style=\"text-align: center;\"></td>\n        <td style=\"text-align: center;\"></td>\n        <td style=\"text-align: center;\"></td>\n        <td style=\"text-align: center;\"></td>\n        <td style=\"text-align: center;\"></td>\n        <td style=\"text-align: center;\">&ctdot;</td>\n        <td style=\"text-align: center;\"></td>\n        <td style=\"text-align: center;\"></td>\n        <td style=\"text-align: center;\">0.1257</td>\n        <td style=\"text-align: center;\"></td>\n        <td style=\"text-align: center;\"></td>\n        <td style=\"text-align: center;\"></td>\n        <td style=\"text-align: center;\"></td>\n    </tr>\n    <tr>\n        <th>3</th>\n        <td style=\"text-align: center;\"></td>\n        <td style=\"text-align: center;\"></td>\n        <td style=\"text-align: center;\">0.1656</td>\n        <td style=\"text-align: center;\"></td>\n        <td style=\"text-align: center;\"></td>\n        <td style=\"text-align: center;\"></td>\n        <td style=\"text-align: center;\"></td>\n        <td style=\"text-align: center;\">&ctdot;</td>\n        <td style=\"text-align: center;\"></td>\n        <td style=\"text-align: center;\"></td>\n        <td style=\"text-align: center;\"></td>\n        <td style=\"text-align: center;\"></td>\n        <td style=\"text-align: center;\">0.7769</td>\n        <td style=\"text-align: center;\"></td>\n        <td style=\"text-align: center;\"></td>\n    </tr>\n    <tr>\n        <th>4</th>\n        <td style=\"text-align: center;\"></td>\n        <td style=\"text-align: center;\"></td>\n        <td style=\"text-align: center;\"></td>\n        <td style=\"text-align: center;\"></td>\n        <td style=\"text-align: center;\"></td>\n        <td style=\"text-align: center;\"></td>\n        <td style=\"text-align: center;\"></td>\n        <td style=\"text-align: center;\">&ctdot;</td>\n        <td style=\"text-align: center;\"></td>\n        <td style=\"text-align: center;\"></td>\n        <td style=\"text-align: center;\"></td>\n        <td style=\"text-align: center;\"></td>\n        <td style=\"text-align: center;\">0.4144</td>\n        <td style=\"text-align: center;\"></td>\n        <td style=\"text-align: center;\"></td>\n    </tr>\n    <tr>\n        <th></th>\n        <td style=\"text-align: center;\">&vellip;</td>\n        <td style=\"text-align: center;\">&vellip;</td>\n        <td style=\"text-align: center;\">&vellip;</td>\n        <td style=\"text-align: center;\">&vellip;</td>\n        <td style=\"text-align: center;\">&vellip;</td>\n        <td style=\"text-align: center;\">&vellip;</td>\n        <td style=\"text-align: center;\">&vellip;</td>\n        <td style=\"text-align: center;\">&dtdot;</td>\n        <td style=\"text-align: center;\">&vellip;</td>\n        <td style=\"text-align: center;\">&vellip;</td>\n        <td style=\"text-align: center;\">&vellip;</td>\n        <td style=\"text-align: center;\">&vellip;</td>\n        <td style=\"text-align: center;\">&vellip;</td>\n        <td style=\"text-align: center;\">&vellip;</td>\n        <td style=\"text-align: center;\">&vellip;</td>\n    </tr>\n    <tr>\n        <th>9995</th>\n        <td style=\"text-align: center;\"></td>\n        <td style=\"text-align: center;\"></td>\n        <td style=\"text-align: center;\"></td>\n        <td style=\"text-align: center;\"></td>\n        <td style=\"text-align: center;\">0.6808</td>\n        <td style=\"text-align: center;\"></td>\n        <td style=\"text-align: center;\"></td>\n        <td style=\"text-align: center;\">&ctdot;</td>\n        <td style=\"text-align: center;\"></td>\n        <td style=\"text-align: center;\"></td>\n        <td style=\"text-align: center;\"></td>\n        <td style=\"text-align: center;\">0.6261</td>\n        <td style=\"text-align: center;\">0.6402</td>\n        <td style=\"text-align: center;\">0.03003</td>\n        <td style=\"text-align: center;\"></td>\n    </tr>\n    <tr>\n        <th>9996</th>\n        <td style=\"text-align: center;\">0.53</td>\n        <td style=\"text-align: center;\"></td>\n        <td style=\"text-align: center;\"></td>\n        <td style=\"text-align: center;\">0.2535</td>\n        <td style=\"text-align: center;\">0.3732</td>\n        <td style=\"text-align: center;\"></td>\n        <td style=\"text-align: center;\"></td>\n        <td style=\"text-align: center;\">&ctdot;</td>\n        <td style=\"text-align: center;\">0.8199</td>\n        <td style=\"text-align: center;\"></td>\n        <td style=\"text-align: center;\"></td>\n        <td style=\"text-align: center;\"></td>\n        <td style=\"text-align: center;\">0.5195</td>\n        <td style=\"text-align: center;\"></td>\n        <td style=\"text-align: center;\">0.003138</td>\n    </tr>\n    <tr>\n        <th>9997</th>\n        <td style=\"text-align: center;\"></td>\n        <td style=\"text-align: center;\">0.3884</td>\n        <td style=\"text-align: center;\">0.174</td>\n        <td style=\"text-align: center;\"></td>\n        <td style=\"text-align: center;\"></td>\n        <td style=\"text-align: center;\"></td>\n        <td style=\"text-align: center;\">0.3885</td>\n        <td style=\"text-align: center;\">&ctdot;</td>\n        <td style=\"text-align: center;\">0.6127</td>\n        <td style=\"text-align: center;\"></td>\n        <td style=\"text-align: center;\"></td>\n        <td style=\"text-align: center;\"></td>\n        <td style=\"text-align: center;\"></td>\n        <td style=\"text-align: center;\">0.7306</td>\n        <td style=\"text-align: center;\">0.3807</td>\n    </tr>\n    <tr>\n        <th>9998</th>\n        <td style=\"text-align: center;\"></td>\n        <td style=\"text-align: center;\"></td>\n        <td style=\"text-align: center;\"></td>\n        <td style=\"text-align: center;\">0.6866</td>\n        <td style=\"text-align: center;\">0.5196</td>\n        <td style=\"text-align: center;\"></td>\n        <td style=\"text-align: center;\"></td>\n        <td style=\"text-align: center;\">&ctdot;</td>\n        <td style=\"text-align: center;\"></td>\n        <td style=\"text-align: center;\"></td>\n        <td style=\"text-align: center;\"></td>\n        <td style=\"text-align: center;\"></td>\n        <td style=\"text-align: center;\"></td>\n        <td style=\"text-align: center;\"></td>\n        <td style=\"text-align: center;\"></td>\n    </tr>\n    <tr>\n        <th>9999</th>\n        <td style=\"text-align: center;\"></td>\n        <td style=\"text-align: center;\"></td>\n        <td style=\"text-align: center;\">0.4788</td>\n        <td style=\"text-align: center;\"></td>\n        <td style=\"text-align: center;\">0.2006</td>\n        <td style=\"text-align: center;\"></td>\n        <td style=\"text-align: center;\"></td>\n        <td style=\"text-align: center;\">&ctdot;</td>\n        <td style=\"text-align: center;\">0.3553</td>\n        <td style=\"text-align: center;\"></td>\n        <td style=\"text-align: center;\"></td>\n        <td style=\"text-align: center;\"></td>\n        <td style=\"text-align: center;\"></td>\n        <td style=\"text-align: center;\">0.6836</td>\n        <td style=\"text-align: center;\"></td>\n    </tr>\n    </tbody>\n</table>\n</div>"
     },
     "execution_count": 7,
     "metadata": {},
     "output_type": "execute_result"
    }
   ],
   "source": [
    "r"
   ]
  },
  {
   "cell_type": "code",
   "execution_count": 8,
   "metadata": {
    "collapsed": false,
    "jupyter": {
     "outputs_hidden": false
    },
    "ExecuteTime": {
     "end_time": "2023-09-01T19:07:05.478907Z",
     "start_time": "2023-09-01T19:07:05.214670Z"
    }
   },
   "outputs": [
    {
     "data": {
      "text/plain": "<100000000x100000000 sparse matrix of type '<class 'numpy.float64'>'\n\twith 100000000 stored elements in Compressed Sparse Row format>",
      "text/html": "<div>\n<style scoped>\n    table.matreprmatrix caption {\n        white-space: pre;\n        text-align: center;\n    }\n    table.matreprmatrix  {\n        border-collapse: collapse;\n    }\n    table.matreprmatrix > thead  {\n        border: 0px;\n    }\n    table.matreprmatrix > tbody tr th {\n        font-size: smaller;\n        vertical-align: middle;\n        text-align: right;\n    }\n    table.matreprmatrix > thead tr th {\n        font-size: smaller;\n        vertical-align: middle;\n        text-align: center;\n    }\n    table.matreprmatrix > tbody tr td {\n        vertical-align: middle;\n        text-align: center;\n        position: relative;\n    }\n    table.matreprmatrix > tbody tr td:first-of-type {\n        border-left: solid 2px;\n    }\n    table.matreprmatrix > tbody tr td:last-of-type {\n        border-right: solid 2px;\n    }\n    table.matreprmatrix > tbody tr td:empty::before {\n        content: \"\\00a0\\00a0\\00a0\";\n        visibility: hidden;\n    }\n    table.matreprmatrix > tbody tr td:empty::after {\n        content: \"\\00a0\\00a0\\00a0\";\n        visibility: hidden;\n    }\n    table.matreprmatrix > tbody > tr:first-child > td:first-of-type::before {\n        content: \"\";\n        width: 4px;\n        position: absolute;\n        top: 0;\n        bottom: 0;\n        visibility: visible;\n        left: 0;\n        right: auto;\n        border-top: solid 2px;\n    }\n    table.matreprmatrix > tbody > tr:last-child > td:first-of-type::before {\n        content: \"\";\n        width: 4px;\n        position: absolute;\n        top: 0;\n        bottom: 0;\n        visibility: visible;\n        left: 0;\n        right: auto;\n        border-bottom: solid 2px;\n    }\n    table.matreprmatrix > tbody > tr:first-child > td:last-of-type::after {\n        content: \"\";\n        width: 4px;\n        position: absolute;\n        top: 0;\n        bottom: 0;\n        visibility: visible;\n        left: auto;\n        right: 0;\n        border-top: solid 2px;\n    }\n    table.matreprmatrix > tbody > tr:last-child > td:last-of-type::after {\n        content: \"\";\n        width: 4px;\n        position: absolute;\n        top: 0;\n        bottom: 0;\n        visibility: visible;\n        left: auto;\n        right: 0;\n        border-bottom: solid 2px;\n    }\n    table.matreprtensor caption {\n        white-space: pre;\n        text-align: center;\n    }\n    table.matreprtensor > tbody tr th {\n        font-size: smaller;\n        vertical-align: middle;\n        text-align: right;\n    }\n    table.matreprtensor > thead tr th {\n        font-size: smaller;\n        vertical-align: middle;\n        text-align: center;\n    }\n    table.matreprtensor > tbody tr td {\n        vertical-align: middle;\n        text-align: center;\n        position: relative;\n    }\n    table.matreprtensor > tbody tr th:last-of-type {\n        border-right: solid 2px;\n    }\n</style>\n<table class=\"matreprmatrix\">\n<caption>100000000×100000000, 100000000 &#x27;float64&#x27; elements, csr</caption>\n    <thead>\n    <tr>\n        <th></th>\n        <th style=\"text-align: center;\">0</th>\n        <th style=\"text-align: center;\">1</th>\n        <th style=\"text-align: center;\">2</th>\n        <th style=\"text-align: center;\">3</th>\n        <th style=\"text-align: center;\">4</th>\n        <th style=\"text-align: center;\">5</th>\n        <th style=\"text-align: center;\">6</th>\n        <th style=\"text-align: center;\"></th>\n        <th style=\"text-align: center;\">99999993</th>\n        <th style=\"text-align: center;\">99999994</th>\n        <th style=\"text-align: center;\">99999995</th>\n        <th style=\"text-align: center;\">99999996</th>\n        <th style=\"text-align: center;\">99999997</th>\n        <th style=\"text-align: center;\">99999998</th>\n        <th style=\"text-align: center;\">99999999</th>\n    </tr>\n    </thead>\n    <tbody>\n    <tr>\n        <th>0</th>\n        <td style=\"text-align: center;\">1</td>\n        <td style=\"text-align: center;\"></td>\n        <td style=\"text-align: center;\"></td>\n        <td style=\"text-align: center;\"></td>\n        <td style=\"text-align: center;\"></td>\n        <td style=\"text-align: center;\"></td>\n        <td style=\"text-align: center;\"></td>\n        <td style=\"text-align: center;\">&ctdot;</td>\n        <td style=\"text-align: center;\"></td>\n        <td style=\"text-align: center;\"></td>\n        <td style=\"text-align: center;\"></td>\n        <td style=\"text-align: center;\"></td>\n        <td style=\"text-align: center;\"></td>\n        <td style=\"text-align: center;\"></td>\n        <td style=\"text-align: center;\"></td>\n    </tr>\n    <tr>\n        <th>1</th>\n        <td style=\"text-align: center;\"></td>\n        <td style=\"text-align: center;\">1</td>\n        <td style=\"text-align: center;\"></td>\n        <td style=\"text-align: center;\"></td>\n        <td style=\"text-align: center;\"></td>\n        <td style=\"text-align: center;\"></td>\n        <td style=\"text-align: center;\"></td>\n        <td style=\"text-align: center;\">&ctdot;</td>\n        <td style=\"text-align: center;\"></td>\n        <td style=\"text-align: center;\"></td>\n        <td style=\"text-align: center;\"></td>\n        <td style=\"text-align: center;\"></td>\n        <td style=\"text-align: center;\"></td>\n        <td style=\"text-align: center;\"></td>\n        <td style=\"text-align: center;\"></td>\n    </tr>\n    <tr>\n        <th>2</th>\n        <td style=\"text-align: center;\"></td>\n        <td style=\"text-align: center;\"></td>\n        <td style=\"text-align: center;\">1</td>\n        <td style=\"text-align: center;\"></td>\n        <td style=\"text-align: center;\"></td>\n        <td style=\"text-align: center;\"></td>\n        <td style=\"text-align: center;\"></td>\n        <td style=\"text-align: center;\">&ctdot;</td>\n        <td style=\"text-align: center;\"></td>\n        <td style=\"text-align: center;\"></td>\n        <td style=\"text-align: center;\"></td>\n        <td style=\"text-align: center;\"></td>\n        <td style=\"text-align: center;\"></td>\n        <td style=\"text-align: center;\"></td>\n        <td style=\"text-align: center;\"></td>\n    </tr>\n    <tr>\n        <th>3</th>\n        <td style=\"text-align: center;\"></td>\n        <td style=\"text-align: center;\"></td>\n        <td style=\"text-align: center;\"></td>\n        <td style=\"text-align: center;\">1</td>\n        <td style=\"text-align: center;\"></td>\n        <td style=\"text-align: center;\"></td>\n        <td style=\"text-align: center;\"></td>\n        <td style=\"text-align: center;\">&ctdot;</td>\n        <td style=\"text-align: center;\"></td>\n        <td style=\"text-align: center;\"></td>\n        <td style=\"text-align: center;\"></td>\n        <td style=\"text-align: center;\"></td>\n        <td style=\"text-align: center;\"></td>\n        <td style=\"text-align: center;\"></td>\n        <td style=\"text-align: center;\"></td>\n    </tr>\n    <tr>\n        <th>4</th>\n        <td style=\"text-align: center;\"></td>\n        <td style=\"text-align: center;\"></td>\n        <td style=\"text-align: center;\"></td>\n        <td style=\"text-align: center;\"></td>\n        <td style=\"text-align: center;\">1</td>\n        <td style=\"text-align: center;\"></td>\n        <td style=\"text-align: center;\"></td>\n        <td style=\"text-align: center;\">&ctdot;</td>\n        <td style=\"text-align: center;\"></td>\n        <td style=\"text-align: center;\"></td>\n        <td style=\"text-align: center;\"></td>\n        <td style=\"text-align: center;\"></td>\n        <td style=\"text-align: center;\"></td>\n        <td style=\"text-align: center;\"></td>\n        <td style=\"text-align: center;\"></td>\n    </tr>\n    <tr>\n        <th></th>\n        <td style=\"text-align: center;\">&vellip;</td>\n        <td style=\"text-align: center;\">&vellip;</td>\n        <td style=\"text-align: center;\">&vellip;</td>\n        <td style=\"text-align: center;\">&vellip;</td>\n        <td style=\"text-align: center;\">&vellip;</td>\n        <td style=\"text-align: center;\">&vellip;</td>\n        <td style=\"text-align: center;\">&vellip;</td>\n        <td style=\"text-align: center;\">&dtdot;</td>\n        <td style=\"text-align: center;\">&vellip;</td>\n        <td style=\"text-align: center;\">&vellip;</td>\n        <td style=\"text-align: center;\">&vellip;</td>\n        <td style=\"text-align: center;\">&vellip;</td>\n        <td style=\"text-align: center;\">&vellip;</td>\n        <td style=\"text-align: center;\">&vellip;</td>\n        <td style=\"text-align: center;\">&vellip;</td>\n    </tr>\n    <tr>\n        <th>99999995</th>\n        <td style=\"text-align: center;\"></td>\n        <td style=\"text-align: center;\"></td>\n        <td style=\"text-align: center;\"></td>\n        <td style=\"text-align: center;\"></td>\n        <td style=\"text-align: center;\"></td>\n        <td style=\"text-align: center;\"></td>\n        <td style=\"text-align: center;\"></td>\n        <td style=\"text-align: center;\">&ctdot;</td>\n        <td style=\"text-align: center;\"></td>\n        <td style=\"text-align: center;\"></td>\n        <td style=\"text-align: center;\">1</td>\n        <td style=\"text-align: center;\"></td>\n        <td style=\"text-align: center;\"></td>\n        <td style=\"text-align: center;\"></td>\n        <td style=\"text-align: center;\"></td>\n    </tr>\n    <tr>\n        <th>99999996</th>\n        <td style=\"text-align: center;\"></td>\n        <td style=\"text-align: center;\"></td>\n        <td style=\"text-align: center;\"></td>\n        <td style=\"text-align: center;\"></td>\n        <td style=\"text-align: center;\"></td>\n        <td style=\"text-align: center;\"></td>\n        <td style=\"text-align: center;\"></td>\n        <td style=\"text-align: center;\">&ctdot;</td>\n        <td style=\"text-align: center;\"></td>\n        <td style=\"text-align: center;\"></td>\n        <td style=\"text-align: center;\"></td>\n        <td style=\"text-align: center;\">1</td>\n        <td style=\"text-align: center;\"></td>\n        <td style=\"text-align: center;\"></td>\n        <td style=\"text-align: center;\"></td>\n    </tr>\n    <tr>\n        <th>99999997</th>\n        <td style=\"text-align: center;\"></td>\n        <td style=\"text-align: center;\"></td>\n        <td style=\"text-align: center;\"></td>\n        <td style=\"text-align: center;\"></td>\n        <td style=\"text-align: center;\"></td>\n        <td style=\"text-align: center;\"></td>\n        <td style=\"text-align: center;\"></td>\n        <td style=\"text-align: center;\">&ctdot;</td>\n        <td style=\"text-align: center;\"></td>\n        <td style=\"text-align: center;\"></td>\n        <td style=\"text-align: center;\"></td>\n        <td style=\"text-align: center;\"></td>\n        <td style=\"text-align: center;\">1</td>\n        <td style=\"text-align: center;\"></td>\n        <td style=\"text-align: center;\"></td>\n    </tr>\n    <tr>\n        <th>99999998</th>\n        <td style=\"text-align: center;\"></td>\n        <td style=\"text-align: center;\"></td>\n        <td style=\"text-align: center;\"></td>\n        <td style=\"text-align: center;\"></td>\n        <td style=\"text-align: center;\"></td>\n        <td style=\"text-align: center;\"></td>\n        <td style=\"text-align: center;\"></td>\n        <td style=\"text-align: center;\">&ctdot;</td>\n        <td style=\"text-align: center;\"></td>\n        <td style=\"text-align: center;\"></td>\n        <td style=\"text-align: center;\"></td>\n        <td style=\"text-align: center;\"></td>\n        <td style=\"text-align: center;\"></td>\n        <td style=\"text-align: center;\">1</td>\n        <td style=\"text-align: center;\"></td>\n    </tr>\n    <tr>\n        <th>99999999</th>\n        <td style=\"text-align: center;\"></td>\n        <td style=\"text-align: center;\"></td>\n        <td style=\"text-align: center;\"></td>\n        <td style=\"text-align: center;\"></td>\n        <td style=\"text-align: center;\"></td>\n        <td style=\"text-align: center;\"></td>\n        <td style=\"text-align: center;\"></td>\n        <td style=\"text-align: center;\">&ctdot;</td>\n        <td style=\"text-align: center;\"></td>\n        <td style=\"text-align: center;\"></td>\n        <td style=\"text-align: center;\"></td>\n        <td style=\"text-align: center;\"></td>\n        <td style=\"text-align: center;\"></td>\n        <td style=\"text-align: center;\"></td>\n        <td style=\"text-align: center;\">1</td>\n    </tr>\n    </tbody>\n</table>\n</div>"
     },
     "execution_count": 8,
     "metadata": {},
     "output_type": "execute_result"
    }
   ],
   "source": [
    "scipy.sparse.eye(100_000_000, format=\"csr\")"
   ]
  },
  {
   "cell_type": "code",
   "execution_count": 8,
   "metadata": {
    "collapsed": false,
    "jupyter": {
     "outputs_hidden": false
    },
    "ExecuteTime": {
     "end_time": "2023-09-01T19:07:05.480525Z",
     "start_time": "2023-09-01T19:07:05.479173Z"
    }
   },
   "outputs": [],
   "source": []
  }
 ],
 "metadata": {
  "kernelspec": {
   "display_name": "Python 3 (ipykernel)",
   "language": "python",
   "name": "python3"
  },
  "language_info": {
   "codemirror_mode": {
    "name": "ipython",
    "version": 3
   },
   "file_extension": ".py",
   "mimetype": "text/x-python",
   "name": "python",
   "nbconvert_exporter": "python",
   "pygments_lexer": "ipython3",
   "version": "3.11.2"
  }
 },
 "nbformat": 4,
 "nbformat_minor": 4
}
