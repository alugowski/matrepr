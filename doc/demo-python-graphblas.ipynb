{
 "cells": [
  {
   "cell_type": "markdown",
   "metadata": {
    "collapsed": false,
    "jupyter": {
     "outputs_hidden": false
    }
   },
   "source": [
    "# MatRepr python-graphblas"
   ]
  },
  {
   "cell_type": "code",
   "execution_count": 1,
   "metadata": {
    "collapsed": false,
    "jupyter": {
     "outputs_hidden": false
    },
    "ExecuteTime": {
     "end_time": "2023-08-30T08:17:31.294100Z",
     "start_time": "2023-08-30T08:17:31.132483Z"
    }
   },
   "outputs": [],
   "source": [
    "import graphblas as gb\n",
    "\n",
    "import numpy\n",
    "import scipy\n",
    "numpy.random.seed(1234)\n",
    "\n",
    "# so matrepr can be imported from the source tree.\n",
    "import sys\n",
    "sys.path.insert(0, '..')\n",
    "\n",
    "from matrepr import mdisplay"
   ]
  },
  {
   "cell_type": "code",
   "execution_count": 2,
   "metadata": {
    "collapsed": false,
    "jupyter": {
     "outputs_hidden": false
    },
    "ExecuteTime": {
     "end_time": "2023-08-30T08:17:31.642961Z",
     "start_time": "2023-08-30T08:17:31.295884Z"
    }
   },
   "outputs": [],
   "source": [
    "A = gb.io.from_scipy_sparse(scipy.sparse.random(1000, 1000, density=0.212345))\n",
    "v = gb.Vector.from_coo([0, 3, 4, 6], [12.1, -5.4e-12, 2.9e20, 2.2], size=8)"
   ]
  },
  {
   "cell_type": "markdown",
   "metadata": {},
   "source": [
    "## python-graphblas native formatting"
   ]
  },
  {
   "cell_type": "code",
   "execution_count": 3,
   "metadata": {
    "collapsed": false,
    "jupyter": {
     "outputs_hidden": false
    },
    "ExecuteTime": {
     "end_time": "2023-08-30T08:17:31.869342Z",
     "start_time": "2023-08-30T08:17:31.647928Z"
    }
   },
   "outputs": [
    {
     "data": {
      "text/plain": "\"M_0\"       nvals  nrows  ncols  dtype  format\ngb.Matrix  212345   1000   1000   FP64     csr\n----------------------------------------------\n          0         1         2         3         4         5         6    \\\n0                                            0.387571                       \n1    0.580064  0.508503            0.892683                                 \n2                                                                           \n3                        0.714202                                           \n4                                                      0.863065             \n..        ...       ...       ...       ...       ...       ...       ...   \n995                      0.408703                                           \n996            0.462964                      0.081066                       \n997                                                    0.028866             \n998                                0.355228  0.036156                       \n999                                                              0.262378   \n\n          7         8         9    ...       990       991       992  \\\n0                                  ...                                 \n1                                  ...                                 \n2                                  ...            0.451532             \n3                                  ...                                 \n4                                  ...                      0.228954   \n..        ...       ...       ...  ...       ...       ...       ...   \n995            0.331094            ...   0.58241                       \n996                                ...                      0.150477   \n997  0.212692            0.743716  ...  0.357788                       \n998                                ...  0.526398                       \n999  0.074009                      ...            0.525015             \n\n          993       994 995       996       997       998       999  \n0                                      0.952151            0.862762  \n1              0.464222                          0.796005            \n2              0.849999                                    0.922392  \n3              0.818244      0.139585                                \n4              0.212049                0.062996                      \n..        ...       ...  ..       ...       ...       ...       ...  \n995  0.269751                          0.847867  0.245299            \n996  0.237927                                                        \n997                                                        0.868009  \n998                                              0.722061            \n999                                              0.729014            ",
      "text/html": "<div>\n<style>\ntable.gb-info-table {\n    border: 1px solid black;\n    max-width: 100%;\n    margin-top: 0px;\n    margin-bottom: 0px;\n    padding-top: 0px;\n    padding-bottom: 0px;\n}\n\ntd.gb-info-name-cell {\n    white-space: nowrap;\n}\n\ndetails.gb-arg-details {\n    margin-top: 0px;\n    margin-bottom: 0px;\n    padding-top: 0px;\n    padding-bottom: 5px;\n    margin-left: 10px;\n}\n\nsummary.gb-arg-summary {\n    display: list-item;\n    outline: none;\n    margin-top: 0px;\n    margin-bottom: 0px;\n    padding-top: 0px;\n    padding-bottom: 0px;\n    margin-left: -10px;\n}\n\ndetails.gb-expr-details {\n    margin-top: 0px;\n    margin-bottom: 0px;\n    padding-top: 0px;\n    padding-bottom: 5px;\n}\n\nsummary.gb-expr-summary {\n    display: list-item;\n    outline: none;\n    margin-top: 0px;\n    margin-bottom: 0px;\n    padding-top: 0px;\n    padding-bottom: 0px;\n}\n\nblockquote.gb-expr-blockquote {\n    margin-top: 5px;\n    margin-bottom: 0px;\n    padding-top: 0px;\n    padding-bottom: 0px;\n    margin-left: 15px;\n}\n\n.gb-scalar {\n    margin-top: 0px;\n    margin-bottom: 0px;\n    padding-top: 0px;\n    padding-bottom: 5px;\n}\n\n/* modify pandas dataframe */\ntable.dataframe {\n    margin-top: 0px;\n    margin-bottom: 0px;\n    padding-top: 0px;\n    padding-bottom: 0px;\n}\n\n/* expression tooltips */\n.expr-tooltip .tooltip-circle {\n    background: #9a9cc6;\n    color: #fff;\n    border-radius: 50%;\n    width: 40px;\n    height: 40px;\n    padding-left: 4px;\n    padding-right: 4px;\n}\n.expr-tooltip .tooltip-text {\n    visibility: hidden;\n    position: absolute;\n    width: 450px;\n    background: #eef;\n    border: 1px solid #99a;\n    text-align: left;\n    border-radius: 6px;\n    padding: 3px 3px 3px 8px;\n    margin-left: 6px;\n}\n.expr-tooltip:hover .tooltip-text {\n    visibility: visible;\n}\n.expr-tooltip code {\n    background-color: #f8ffed;\n}\n</style>\n<details open class=\"gb-arg-details\"><summary class=\"gb-arg-summary\"><tt>M<sub>0</sub></tt><div>\n<table class=\"gb-info-table\">\n  <tr>\n    <td rowspan=\"2\" class=\"gb-info-name-cell\"><pre>gb.Matrix</pre></td>\n    <td><pre>nvals</pre></td>\n    <td><pre>nrows</pre></td>\n    <td><pre>ncols</pre></td>\n    <td><pre>dtype</pre></td>\n    <td><pre>format</pre></td>\n  </tr>\n  <tr>\n    <td>212345</td>\n    <td>1000</td>\n    <td>1000</td>\n    <td>FP64</td>\n    <td>csr</td>\n  </tr>\n</table>\n</div>\n</summary><div>\n<style scoped>\n    .dataframe tbody tr th:only-of-type {\n        vertical-align: middle;\n    }\n\n    .dataframe tbody tr th {\n        vertical-align: top;\n    }\n\n    .dataframe thead th {\n        text-align: right;\n    }\n</style>\n<table border=\"1\" class=\"dataframe\">\n  <thead>\n    <tr style=\"text-align: right;\">\n      <th></th>\n      <th>0</th>\n      <th>1</th>\n      <th>2</th>\n      <th>3</th>\n      <th>4</th>\n      <th>5</th>\n      <th>6</th>\n      <th>7</th>\n      <th>8</th>\n      <th>9</th>\n      <th>...</th>\n      <th>990</th>\n      <th>991</th>\n      <th>992</th>\n      <th>993</th>\n      <th>994</th>\n      <th>995</th>\n      <th>996</th>\n      <th>997</th>\n      <th>998</th>\n      <th>999</th>\n    </tr>\n  </thead>\n  <tbody>\n    <tr>\n      <th>0</th>\n      <td></td>\n      <td></td>\n      <td></td>\n      <td></td>\n      <td>0.387571</td>\n      <td></td>\n      <td></td>\n      <td></td>\n      <td></td>\n      <td></td>\n      <td>...</td>\n      <td></td>\n      <td></td>\n      <td></td>\n      <td></td>\n      <td></td>\n      <td></td>\n      <td></td>\n      <td>0.952151</td>\n      <td></td>\n      <td>0.862762</td>\n    </tr>\n    <tr>\n      <th>1</th>\n      <td>0.580064</td>\n      <td>0.508503</td>\n      <td></td>\n      <td>0.892683</td>\n      <td></td>\n      <td></td>\n      <td></td>\n      <td></td>\n      <td></td>\n      <td></td>\n      <td>...</td>\n      <td></td>\n      <td></td>\n      <td></td>\n      <td></td>\n      <td>0.464222</td>\n      <td></td>\n      <td></td>\n      <td></td>\n      <td>0.796005</td>\n      <td></td>\n    </tr>\n    <tr>\n      <th>2</th>\n      <td></td>\n      <td></td>\n      <td></td>\n      <td></td>\n      <td></td>\n      <td></td>\n      <td></td>\n      <td></td>\n      <td></td>\n      <td></td>\n      <td>...</td>\n      <td></td>\n      <td>0.451532</td>\n      <td></td>\n      <td></td>\n      <td>0.849999</td>\n      <td></td>\n      <td></td>\n      <td></td>\n      <td></td>\n      <td>0.922392</td>\n    </tr>\n    <tr>\n      <th>3</th>\n      <td></td>\n      <td></td>\n      <td>0.714202</td>\n      <td></td>\n      <td></td>\n      <td></td>\n      <td></td>\n      <td></td>\n      <td></td>\n      <td></td>\n      <td>...</td>\n      <td></td>\n      <td></td>\n      <td></td>\n      <td></td>\n      <td>0.818244</td>\n      <td></td>\n      <td>0.139585</td>\n      <td></td>\n      <td></td>\n      <td></td>\n    </tr>\n    <tr>\n      <th>4</th>\n      <td></td>\n      <td></td>\n      <td></td>\n      <td></td>\n      <td></td>\n      <td>0.863065</td>\n      <td></td>\n      <td></td>\n      <td></td>\n      <td></td>\n      <td>...</td>\n      <td></td>\n      <td></td>\n      <td>0.228954</td>\n      <td></td>\n      <td>0.212049</td>\n      <td></td>\n      <td></td>\n      <td>0.062996</td>\n      <td></td>\n      <td></td>\n    </tr>\n    <tr>\n      <th>...</th>\n      <td>...</td>\n      <td>...</td>\n      <td>...</td>\n      <td>...</td>\n      <td>...</td>\n      <td>...</td>\n      <td>...</td>\n      <td>...</td>\n      <td>...</td>\n      <td>...</td>\n      <td>...</td>\n      <td>...</td>\n      <td>...</td>\n      <td>...</td>\n      <td>...</td>\n      <td>...</td>\n      <td>...</td>\n      <td>...</td>\n      <td>...</td>\n      <td>...</td>\n      <td>...</td>\n    </tr>\n    <tr>\n      <th>995</th>\n      <td></td>\n      <td></td>\n      <td>0.408703</td>\n      <td></td>\n      <td></td>\n      <td></td>\n      <td></td>\n      <td></td>\n      <td>0.331094</td>\n      <td></td>\n      <td>...</td>\n      <td>0.58241</td>\n      <td></td>\n      <td></td>\n      <td>0.269751</td>\n      <td></td>\n      <td></td>\n      <td></td>\n      <td>0.847867</td>\n      <td>0.245299</td>\n      <td></td>\n    </tr>\n    <tr>\n      <th>996</th>\n      <td></td>\n      <td>0.462964</td>\n      <td></td>\n      <td></td>\n      <td>0.081066</td>\n      <td></td>\n      <td></td>\n      <td></td>\n      <td></td>\n      <td></td>\n      <td>...</td>\n      <td></td>\n      <td></td>\n      <td>0.150477</td>\n      <td>0.237927</td>\n      <td></td>\n      <td></td>\n      <td></td>\n      <td></td>\n      <td></td>\n      <td></td>\n    </tr>\n    <tr>\n      <th>997</th>\n      <td></td>\n      <td></td>\n      <td></td>\n      <td></td>\n      <td></td>\n      <td>0.028866</td>\n      <td></td>\n      <td>0.212692</td>\n      <td></td>\n      <td>0.743716</td>\n      <td>...</td>\n      <td>0.357788</td>\n      <td></td>\n      <td></td>\n      <td></td>\n      <td></td>\n      <td></td>\n      <td></td>\n      <td></td>\n      <td></td>\n      <td>0.868009</td>\n    </tr>\n    <tr>\n      <th>998</th>\n      <td></td>\n      <td></td>\n      <td></td>\n      <td>0.355228</td>\n      <td>0.036156</td>\n      <td></td>\n      <td></td>\n      <td></td>\n      <td></td>\n      <td></td>\n      <td>...</td>\n      <td>0.526398</td>\n      <td></td>\n      <td></td>\n      <td></td>\n      <td></td>\n      <td></td>\n      <td></td>\n      <td></td>\n      <td>0.722061</td>\n      <td></td>\n    </tr>\n    <tr>\n      <th>999</th>\n      <td></td>\n      <td></td>\n      <td></td>\n      <td></td>\n      <td></td>\n      <td></td>\n      <td>0.262378</td>\n      <td>0.074009</td>\n      <td></td>\n      <td></td>\n      <td>...</td>\n      <td></td>\n      <td>0.525015</td>\n      <td></td>\n      <td></td>\n      <td></td>\n      <td></td>\n      <td></td>\n      <td></td>\n      <td>0.729014</td>\n      <td></td>\n    </tr>\n  </tbody>\n</table>\n</div></details></div>"
     },
     "execution_count": 3,
     "metadata": {},
     "output_type": "execute_result"
    }
   ],
   "source": [
    "A"
   ]
  },
  {
   "cell_type": "code",
   "execution_count": 4,
   "metadata": {
    "ExecuteTime": {
     "end_time": "2023-08-30T08:17:31.874414Z",
     "start_time": "2023-08-30T08:17:31.872199Z"
    }
   },
   "outputs": [
    {
     "data": {
      "text/plain": "\"v_0\"      nvals  size  dtype  format\ngb.Vector      4     8   FP64  bitmap\n-------------------------------------\nindex     0 1 2    3                        4 5    6 7\nvalue  12.1     -0.0  290000000000000000000.0    2.2  ",
      "text/html": "<div>\n<style>\ntable.gb-info-table {\n    border: 1px solid black;\n    max-width: 100%;\n    margin-top: 0px;\n    margin-bottom: 0px;\n    padding-top: 0px;\n    padding-bottom: 0px;\n}\n\ntd.gb-info-name-cell {\n    white-space: nowrap;\n}\n\ndetails.gb-arg-details {\n    margin-top: 0px;\n    margin-bottom: 0px;\n    padding-top: 0px;\n    padding-bottom: 5px;\n    margin-left: 10px;\n}\n\nsummary.gb-arg-summary {\n    display: list-item;\n    outline: none;\n    margin-top: 0px;\n    margin-bottom: 0px;\n    padding-top: 0px;\n    padding-bottom: 0px;\n    margin-left: -10px;\n}\n\ndetails.gb-expr-details {\n    margin-top: 0px;\n    margin-bottom: 0px;\n    padding-top: 0px;\n    padding-bottom: 5px;\n}\n\nsummary.gb-expr-summary {\n    display: list-item;\n    outline: none;\n    margin-top: 0px;\n    margin-bottom: 0px;\n    padding-top: 0px;\n    padding-bottom: 0px;\n}\n\nblockquote.gb-expr-blockquote {\n    margin-top: 5px;\n    margin-bottom: 0px;\n    padding-top: 0px;\n    padding-bottom: 0px;\n    margin-left: 15px;\n}\n\n.gb-scalar {\n    margin-top: 0px;\n    margin-bottom: 0px;\n    padding-top: 0px;\n    padding-bottom: 5px;\n}\n\n/* modify pandas dataframe */\ntable.dataframe {\n    margin-top: 0px;\n    margin-bottom: 0px;\n    padding-top: 0px;\n    padding-bottom: 0px;\n}\n\n/* expression tooltips */\n.expr-tooltip .tooltip-circle {\n    background: #9a9cc6;\n    color: #fff;\n    border-radius: 50%;\n    width: 40px;\n    height: 40px;\n    padding-left: 4px;\n    padding-right: 4px;\n}\n.expr-tooltip .tooltip-text {\n    visibility: hidden;\n    position: absolute;\n    width: 450px;\n    background: #eef;\n    border: 1px solid #99a;\n    text-align: left;\n    border-radius: 6px;\n    padding: 3px 3px 3px 8px;\n    margin-left: 6px;\n}\n.expr-tooltip:hover .tooltip-text {\n    visibility: visible;\n}\n.expr-tooltip code {\n    background-color: #f8ffed;\n}\n</style>\n<details open class=\"gb-arg-details\"><summary class=\"gb-arg-summary\"><tt>v<sub>0</sub></tt><div>\n<table class=\"gb-info-table\">\n  <tr>\n    <td rowspan=\"2\" class=\"gb-info-name-cell\"><pre>gb.Vector</pre></td>\n    <td><pre>nvals</pre></td>\n    <td><pre>size</pre></td>\n    <td><pre>dtype</pre></td>\n    <td><pre>format</pre></td>\n  </tr>\n  <tr>\n    <td>4</td>\n    <td>8</td>\n    <td>FP64</td>\n    <td>bitmap</td>\n  </tr>\n</table>\n</div>\n</summary><div>\n<style scoped>\n    .dataframe tbody tr th:only-of-type {\n        vertical-align: middle;\n    }\n\n    .dataframe tbody tr th {\n        vertical-align: top;\n    }\n\n    .dataframe thead th {\n        text-align: right;\n    }\n</style>\n<table border=\"1\" class=\"dataframe\">\n  <thead>\n    <tr style=\"text-align: right;\">\n      <th></th>\n      <th>0</th>\n      <th>1</th>\n      <th>2</th>\n      <th>3</th>\n      <th>4</th>\n      <th>5</th>\n      <th>6</th>\n      <th>7</th>\n    </tr>\n  </thead>\n  <tbody>\n    <tr>\n      <th></th>\n      <td>12.1</td>\n      <td></td>\n      <td></td>\n      <td>-0.0</td>\n      <td>290000000000000000000.0</td>\n      <td></td>\n      <td>2.2</td>\n      <td></td>\n    </tr>\n  </tbody>\n</table>\n</div></details></div>"
     },
     "execution_count": 4,
     "metadata": {},
     "output_type": "execute_result"
    }
   ],
   "source": [
    "v"
   ]
  },
  {
   "cell_type": "markdown",
   "metadata": {},
   "source": [
    "## MatRepr default"
   ]
  },
  {
   "cell_type": "code",
   "execution_count": 5,
   "metadata": {
    "collapsed": false,
    "jupyter": {
     "outputs_hidden": false
    },
    "ExecuteTime": {
     "end_time": "2023-08-30T08:17:31.877438Z",
     "start_time": "2023-08-30T08:17:31.875841Z"
    }
   },
   "outputs": [],
   "source": [
    "%load_ext matrepr"
   ]
  },
  {
   "cell_type": "code",
   "execution_count": 6,
   "metadata": {
    "ExecuteTime": {
     "end_time": "2023-08-30T08:17:31.964230Z",
     "start_time": "2023-08-30T08:17:31.878646Z"
    }
   },
   "outputs": [
    {
     "data": {
      "text/plain": "\"M_0\"       nvals  nrows  ncols  dtype  format\ngb.Matrix  212345   1000   1000   FP64     csr\n----------------------------------------------\n          0         1         2         3         4         5         6    \\\n0                                            0.387571                       \n1    0.580064  0.508503            0.892683                                 \n2                                                                           \n3                        0.714202                                           \n4                                                      0.863065             \n..        ...       ...       ...       ...       ...       ...       ...   \n995                      0.408703                                           \n996            0.462964                      0.081066                       \n997                                                    0.028866             \n998                                0.355228  0.036156                       \n999                                                              0.262378   \n\n          7         8         9    ...       990       991       992  \\\n0                                  ...                                 \n1                                  ...                                 \n2                                  ...            0.451532             \n3                                  ...                                 \n4                                  ...                      0.228954   \n..        ...       ...       ...  ...       ...       ...       ...   \n995            0.331094            ...   0.58241                       \n996                                ...                      0.150477   \n997  0.212692            0.743716  ...  0.357788                       \n998                                ...  0.526398                       \n999  0.074009                      ...            0.525015             \n\n          993       994 995       996       997       998       999  \n0                                      0.952151            0.862762  \n1              0.464222                          0.796005            \n2              0.849999                                    0.922392  \n3              0.818244      0.139585                                \n4              0.212049                0.062996                      \n..        ...       ...  ..       ...       ...       ...       ...  \n995  0.269751                          0.847867  0.245299            \n996  0.237927                                                        \n997                                                        0.868009  \n998                                              0.722061            \n999                                              0.729014            ",
      "text/html": "<div>\n<style scoped>\n    table.matreprmatrix  {\n        border-collapse: collapse;\n    }\n    table.matreprmatrix > thead  {\n        border: 0px;\n    }\n    table.matreprmatrix > tbody tr th {\n        font-size: smaller;\n        vertical-align: middle;\n        text-align: right;\n    }\n    table.matreprmatrix > thead tr th {\n        font-size: smaller;\n        vertical-align: middle;\n        text-align: center;\n    }\n    table.matreprmatrix > tbody tr td {\n        vertical-align: middle;\n        text-align: center;\n        position: relative;\n    }\n    table.matreprmatrix > tbody tr td:first-of-type {\n        border-left: solid 2px;\n    }\n    table.matreprmatrix > tbody tr td:last-of-type {\n        border-right: solid 2px;\n    }\n    table.matreprmatrix > tbody tr td:empty::before {\n        content: \"\\00a0\\00a0\\00a0\";\n        visibility: hidden;\n    }\n    table.matreprmatrix > tbody tr td:empty::after {\n        content: \"\\00a0\\00a0\\00a0\";\n        visibility: hidden;\n    }\n    table.matreprmatrix > tbody > tr:first-child > td:first-of-type::before {\n        content: \"\";\n        width: 4px;\n        position: absolute;\n        top: 0;\n        bottom: 0;\n        visibility: visible;\n        left: 0;\n        right: auto;\n        border-top: solid 2px;\n    }\n    table.matreprmatrix > tbody > tr:last-child > td:first-of-type::before {\n        content: \"\";\n        width: 4px;\n        position: absolute;\n        top: 0;\n        bottom: 0;\n        visibility: visible;\n        left: 0;\n        right: auto;\n        border-bottom: solid 2px;\n    }\n    table.matreprmatrix > tbody > tr:first-child > td:last-of-type::after {\n        content: \"\";\n        width: 4px;\n        position: absolute;\n        top: 0;\n        bottom: 0;\n        visibility: visible;\n        left: auto;\n        right: 0;\n        border-top: solid 2px;\n    }\n    table.matreprmatrix > tbody > tr:last-child > td:last-of-type::after {\n        content: \"\";\n        width: 4px;\n        position: absolute;\n        top: 0;\n        bottom: 0;\n        visibility: visible;\n        left: auto;\n        right: 0;\n        border-bottom: solid 2px;\n    }\n    table.matreprtensor > tbody tr th {\n        font-size: smaller;\n        vertical-align: middle;\n        text-align: right;\n    }\n    table.matreprtensor > thead tr th {\n        font-size: smaller;\n        vertical-align: middle;\n        text-align: center;\n    }\n    table.matreprtensor > tbody tr td {\n        vertical-align: middle;\n        text-align: center;\n        position: relative;\n    }\n    table.matreprtensor > tbody tr th:last-of-type {\n        border-right: solid 2px;\n    }\n</style>\n<p>1000×1000, 212345 'FP64' elements, gb.Matrix, csr</p>\n<table class=\"matreprmatrix\">\n    <thead>\n    <tr>\n        <th></th>\n        <th style=\"text-align: center;\">0</th>\n        <th style=\"text-align: center;\">1</th>\n        <th style=\"text-align: center;\">2</th>\n        <th style=\"text-align: center;\">3</th>\n        <th style=\"text-align: center;\">4</th>\n        <th style=\"text-align: center;\">5</th>\n        <th style=\"text-align: center;\">6</th>\n        <th style=\"text-align: center;\"></th>\n        <th style=\"text-align: center;\">993</th>\n        <th style=\"text-align: center;\">994</th>\n        <th style=\"text-align: center;\">995</th>\n        <th style=\"text-align: center;\">996</th>\n        <th style=\"text-align: center;\">997</th>\n        <th style=\"text-align: center;\">998</th>\n        <th style=\"text-align: center;\">999</th>\n    </tr>\n    </thead>\n    <tbody>\n    <tr>\n        <th>0</th>\n        <td></td>\n        <td></td>\n        <td></td>\n        <td></td>\n        <td>0.3876</td>\n        <td></td>\n        <td></td>\n        <td>&ctdot;</td>\n        <td></td>\n        <td></td>\n        <td></td>\n        <td></td>\n        <td>0.9522</td>\n        <td></td>\n        <td>0.8628</td>\n    </tr>\n    <tr>\n        <th>1</th>\n        <td>0.5801</td>\n        <td>0.5085</td>\n        <td></td>\n        <td>0.8927</td>\n        <td></td>\n        <td></td>\n        <td></td>\n        <td>&ctdot;</td>\n        <td></td>\n        <td>0.4642</td>\n        <td></td>\n        <td></td>\n        <td></td>\n        <td>0.796</td>\n        <td></td>\n    </tr>\n    <tr>\n        <th>2</th>\n        <td></td>\n        <td></td>\n        <td></td>\n        <td></td>\n        <td></td>\n        <td></td>\n        <td></td>\n        <td>&ctdot;</td>\n        <td></td>\n        <td>0.85</td>\n        <td></td>\n        <td></td>\n        <td></td>\n        <td></td>\n        <td>0.9224</td>\n    </tr>\n    <tr>\n        <th>3</th>\n        <td></td>\n        <td></td>\n        <td>0.7142</td>\n        <td></td>\n        <td></td>\n        <td></td>\n        <td></td>\n        <td>&ctdot;</td>\n        <td></td>\n        <td>0.8182</td>\n        <td></td>\n        <td>0.1396</td>\n        <td></td>\n        <td></td>\n        <td></td>\n    </tr>\n    <tr>\n        <th>4</th>\n        <td></td>\n        <td></td>\n        <td></td>\n        <td></td>\n        <td></td>\n        <td>0.8631</td>\n        <td></td>\n        <td>&ctdot;</td>\n        <td></td>\n        <td>0.212</td>\n        <td></td>\n        <td></td>\n        <td>0.063</td>\n        <td></td>\n        <td></td>\n    </tr>\n    <tr>\n        <th></th>\n        <td>&vellip;</td>\n        <td>&vellip;</td>\n        <td>&vellip;</td>\n        <td>&vellip;</td>\n        <td>&vellip;</td>\n        <td>&vellip;</td>\n        <td>&vellip;</td>\n        <td>&dtdot;</td>\n        <td>&vellip;</td>\n        <td>&vellip;</td>\n        <td>&vellip;</td>\n        <td>&vellip;</td>\n        <td>&vellip;</td>\n        <td>&vellip;</td>\n        <td>&vellip;</td>\n    </tr>\n    <tr>\n        <th>995</th>\n        <td></td>\n        <td></td>\n        <td>0.4087</td>\n        <td></td>\n        <td></td>\n        <td></td>\n        <td></td>\n        <td>&ctdot;</td>\n        <td>0.2698</td>\n        <td></td>\n        <td></td>\n        <td></td>\n        <td>0.8479</td>\n        <td>0.2453</td>\n        <td></td>\n    </tr>\n    <tr>\n        <th>996</th>\n        <td></td>\n        <td>0.463</td>\n        <td></td>\n        <td></td>\n        <td>0.08107</td>\n        <td></td>\n        <td></td>\n        <td>&ctdot;</td>\n        <td>0.2379</td>\n        <td></td>\n        <td></td>\n        <td></td>\n        <td></td>\n        <td></td>\n        <td></td>\n    </tr>\n    <tr>\n        <th>997</th>\n        <td></td>\n        <td></td>\n        <td></td>\n        <td></td>\n        <td></td>\n        <td>0.02887</td>\n        <td></td>\n        <td>&ctdot;</td>\n        <td></td>\n        <td></td>\n        <td></td>\n        <td></td>\n        <td></td>\n        <td></td>\n        <td>0.868</td>\n    </tr>\n    <tr>\n        <th>998</th>\n        <td></td>\n        <td></td>\n        <td></td>\n        <td>0.3552</td>\n        <td>0.03616</td>\n        <td></td>\n        <td></td>\n        <td>&ctdot;</td>\n        <td></td>\n        <td></td>\n        <td></td>\n        <td></td>\n        <td></td>\n        <td>0.7221</td>\n        <td></td>\n    </tr>\n    <tr>\n        <th>999</th>\n        <td></td>\n        <td></td>\n        <td></td>\n        <td></td>\n        <td></td>\n        <td></td>\n        <td>0.2624</td>\n        <td>&ctdot;</td>\n        <td></td>\n        <td></td>\n        <td></td>\n        <td></td>\n        <td></td>\n        <td>0.729</td>\n        <td></td>\n    </tr>\n    </tbody>\n</table>\n</div>"
     },
     "execution_count": 6,
     "metadata": {},
     "output_type": "execute_result"
    }
   ],
   "source": [
    "A"
   ]
  },
  {
   "cell_type": "code",
   "execution_count": 7,
   "metadata": {
    "ExecuteTime": {
     "end_time": "2023-08-30T08:17:31.964412Z",
     "start_time": "2023-08-30T08:17:31.953555Z"
    }
   },
   "outputs": [
    {
     "data": {
      "text/plain": "\"v_0\"      nvals  size  dtype  format\ngb.Vector      4     8   FP64  bitmap\n-------------------------------------\nindex     0 1 2    3                        4 5    6 7\nvalue  12.1     -0.0  290000000000000000000.0    2.2  ",
      "text/html": "<div>\n<style scoped>\n    table.matreprmatrix  {\n        border-collapse: collapse;\n    }\n    table.matreprmatrix > thead  {\n        border: 0px;\n    }\n    table.matreprmatrix > tbody tr th {\n        font-size: smaller;\n        vertical-align: middle;\n        text-align: right;\n    }\n    table.matreprmatrix > thead tr th {\n        font-size: smaller;\n        vertical-align: middle;\n        text-align: center;\n    }\n    table.matreprmatrix > tbody tr td {\n        vertical-align: middle;\n        text-align: center;\n        position: relative;\n    }\n    table.matreprmatrix > tbody tr td:first-of-type {\n        border-left: solid 2px;\n    }\n    table.matreprmatrix > tbody tr td:last-of-type {\n        border-right: solid 2px;\n    }\n    table.matreprmatrix > tbody tr td:empty::before {\n        content: \"\\00a0\\00a0\\00a0\";\n        visibility: hidden;\n    }\n    table.matreprmatrix > tbody tr td:empty::after {\n        content: \"\\00a0\\00a0\\00a0\";\n        visibility: hidden;\n    }\n    table.matreprmatrix > tbody > tr:first-child > td:first-of-type::before {\n        content: \"\";\n        width: 4px;\n        position: absolute;\n        top: 0;\n        bottom: 0;\n        visibility: visible;\n        left: 0;\n        right: auto;\n        border-top: solid 2px;\n    }\n    table.matreprmatrix > tbody > tr:last-child > td:first-of-type::before {\n        content: \"\";\n        width: 4px;\n        position: absolute;\n        top: 0;\n        bottom: 0;\n        visibility: visible;\n        left: 0;\n        right: auto;\n        border-bottom: solid 2px;\n    }\n    table.matreprmatrix > tbody > tr:first-child > td:last-of-type::after {\n        content: \"\";\n        width: 4px;\n        position: absolute;\n        top: 0;\n        bottom: 0;\n        visibility: visible;\n        left: auto;\n        right: 0;\n        border-top: solid 2px;\n    }\n    table.matreprmatrix > tbody > tr:last-child > td:last-of-type::after {\n        content: \"\";\n        width: 4px;\n        position: absolute;\n        top: 0;\n        bottom: 0;\n        visibility: visible;\n        left: auto;\n        right: 0;\n        border-bottom: solid 2px;\n    }\n    table.matreprtensor > tbody tr th {\n        font-size: smaller;\n        vertical-align: middle;\n        text-align: right;\n    }\n    table.matreprtensor > thead tr th {\n        font-size: smaller;\n        vertical-align: middle;\n        text-align: center;\n    }\n    table.matreprtensor > tbody tr td {\n        vertical-align: middle;\n        text-align: center;\n        position: relative;\n    }\n    table.matreprtensor > tbody tr th:last-of-type {\n        border-right: solid 2px;\n    }\n</style>\n<p>length=8, 4 'FP64' elements, gb.Vector, bitmap</p>\n<table class=\"matreprmatrix\">\n    <thead>\n    <tr>\n        <th style=\"text-align: center;\">0</th>\n        <th style=\"text-align: center;\">1</th>\n        <th style=\"text-align: center;\">2</th>\n        <th style=\"text-align: center;\">3</th>\n        <th style=\"text-align: center;\">4</th>\n        <th style=\"text-align: center;\">5</th>\n        <th style=\"text-align: center;\">6</th>\n        <th style=\"text-align: center;\">7</th>\n    </tr>\n    </thead>\n    <tbody>\n    <tr>\n        <td>12.1</td>\n        <td></td>\n        <td></td>\n        <td>-5.4e-12</td>\n        <td>2.9e+20</td>\n        <td></td>\n        <td>2.2</td>\n        <td></td>\n    </tr>\n    </tbody>\n</table>\n</div>"
     },
     "execution_count": 7,
     "metadata": {},
     "output_type": "execute_result"
    }
   ],
   "source": [
    "v"
   ]
  },
  {
   "cell_type": "markdown",
   "metadata": {},
   "source": [
    "## LaTeX"
   ]
  },
  {
   "cell_type": "code",
   "execution_count": 8,
   "metadata": {
    "collapsed": false,
    "jupyter": {
     "outputs_hidden": false
    },
    "ExecuteTime": {
     "end_time": "2023-08-30T08:17:32.030899Z",
     "start_time": "2023-08-30T08:17:31.959165Z"
    }
   },
   "outputs": [
    {
     "data": {
      "text/plain": "<IPython.core.display.Latex object>",
      "text/latex": "$\\begin{bmatrix}\n    & & & & 0.3876 & & & \\dots & & & & & 0.9522 & & 0.8628 \\\\\n    0.5801 & 0.5085 & & 0.8927 & & & & \\dots & & 0.4642 & & & & 0.796 & \\\\\n    & & & & & & & \\dots & & 0.85 & & & & & 0.9224 \\\\\n    & & 0.7142 & & & & & \\dots & & 0.8182 & & 0.1396 & & & \\\\\n    & & & & & 0.8631 & & \\dots & & 0.212 & & & 0.063 & & \\\\\n    \\vdots & \\vdots & \\vdots & \\vdots & \\vdots & \\vdots & \\vdots & \\ddots & \\vdots & \\vdots & \\vdots & \\vdots & \\vdots & \\vdots & \\vdots \\\\\n    & & 0.4087 & & & & & \\dots & 0.2698 & & & & 0.8479 & 0.2453 & \\\\\n    & 0.463 & & & 0.08107 & & & \\dots & 0.2379 & & & & & & \\\\\n    & & & & & 0.02887 & & \\dots & & & & & & & 0.868 \\\\\n    & & & 0.3552 & 0.03616 & & & \\dots & & & & & & 0.7221 & \\\\\n    & & & & & & 0.2624 & \\dots & & & & & & 0.729 &\n\\end{bmatrix}$"
     },
     "metadata": {},
     "output_type": "display_data"
    }
   ],
   "source": [
    "mdisplay(A, \"latex\")"
   ]
  },
  {
   "cell_type": "code",
   "execution_count": 9,
   "metadata": {
    "ExecuteTime": {
     "end_time": "2023-08-30T08:17:32.034258Z",
     "start_time": "2023-08-30T08:17:32.031305Z"
    }
   },
   "outputs": [
    {
     "data": {
      "text/plain": "<IPython.core.display.Latex object>",
      "text/latex": "$\\begin{bmatrix}\n    12.1 & & & -5.4 \\times 10^{-12} & 2.9 \\times 10^{20} & & 2.2 &\n\\end{bmatrix}$"
     },
     "metadata": {},
     "output_type": "display_data"
    }
   ],
   "source": [
    "mdisplay(v, \"latex\")"
   ]
  },
  {
   "cell_type": "markdown",
   "metadata": {
    "collapsed": false,
    "jupyter": {
     "outputs_hidden": false
    }
   },
   "source": [
    "## String"
   ]
  },
  {
   "cell_type": "code",
   "execution_count": 10,
   "metadata": {
    "collapsed": false,
    "jupyter": {
     "outputs_hidden": false
    },
    "ExecuteTime": {
     "end_time": "2023-08-30T08:17:32.122608Z",
     "start_time": "2023-08-30T08:17:32.034814Z"
    }
   },
   "outputs": [
    {
     "data": {
      "text/plain": "1000×1000, 212345 'FP64' elements, gb.Matrix, csr\n        0        1        2         3             997      998      999\n    ┌                                                                     ┐\n  0 │                                      ...   0.9522            0.8628 │\n  1 │ 0.5801   0.5085            0.4484    ...            0.796           │\n  2 │                                      ...                     0.9224 │\n  3 │                   0.7142             ...                            │\n  4 │                            0.06062   ...   0.063                    │\n    │   :        :        :         :      ...     :        :        :    │\n995 │                   0.4087             ...   0.8479   0.2453          │\n996 │          0.463                       ...                            │\n997 │                                      ...                     0.868  │\n998 │                            0.5459    ...            0.7221          │\n999 │                            0.3382    ...            0.729           │\n    └                                                                     ┘"
     },
     "metadata": {},
     "output_type": "display_data"
    }
   ],
   "source": [
    "mdisplay(A, \"str\")"
   ]
  },
  {
   "cell_type": "code",
   "execution_count": 11,
   "metadata": {
    "collapsed": false,
    "jupyter": {
     "outputs_hidden": false
    },
    "ExecuteTime": {
     "end_time": "2023-08-30T08:17:32.125811Z",
     "start_time": "2023-08-30T08:17:32.122865Z"
    }
   },
   "outputs": [
    {
     "data": {
      "text/plain": "length=8, 4 'FP64' elements, gb.Vector, bitmap\n  0     1    2      3         4      5    6    7\n[12.1            -5.4e-12  2.9e+20       2.2     ]"
     },
     "metadata": {},
     "output_type": "display_data"
    }
   ],
   "source": [
    "mdisplay(v, \"str\")"
   ]
  },
  {
   "cell_type": "code",
   "execution_count": 12,
   "metadata": {
    "collapsed": false,
    "jupyter": {
     "outputs_hidden": false
    },
    "ExecuteTime": {
     "end_time": "2023-08-30T08:17:32.129167Z",
     "start_time": "2023-08-30T08:17:32.126266Z"
    }
   },
   "outputs": [
    {
     "data": {
      "text/plain": "length=8, 4 'FP64' elements, gb.Vector, bitmap\n[12.1, , , -5.4e-12, 2.9e+20, , 2.2, ]"
     },
     "metadata": {},
     "output_type": "display_data"
    }
   ],
   "source": [
    "mdisplay(v, \"str\", indices=False)"
   ]
  },
  {
   "cell_type": "markdown",
   "metadata": {},
   "source": [
    "## More compact size"
   ]
  },
  {
   "cell_type": "code",
   "execution_count": 13,
   "metadata": {
    "collapsed": false,
    "jupyter": {
     "outputs_hidden": false
    },
    "ExecuteTime": {
     "end_time": "2023-08-30T08:17:32.130822Z",
     "start_time": "2023-08-30T08:17:32.129542Z"
    }
   },
   "outputs": [],
   "source": [
    "import matrepr\n",
    "matrepr.params.max_rows = 10\n",
    "matrepr.params.max_cols = 7\n",
    "matrepr.params.num_after_dots = 0\n",
    "matrepr.params.indices = True"
   ]
  },
  {
   "cell_type": "code",
   "execution_count": 14,
   "metadata": {
    "collapsed": false,
    "jupyter": {
     "outputs_hidden": false
    },
    "ExecuteTime": {
     "end_time": "2023-08-30T08:17:32.140762Z",
     "start_time": "2023-08-30T08:17:32.134117Z"
    }
   },
   "outputs": [
    {
     "data": {
      "text/plain": "\"M_0\"       nvals  nrows  ncols  dtype  format\ngb.Matrix  212345   1000   1000   FP64     csr\n----------------------------------------------\n          0         1         2         3         4         5         6    \\\n0                                            0.387571                       \n1    0.580064  0.508503            0.892683                                 \n2                                                                           \n3                        0.714202                                           \n4                                                      0.863065             \n..        ...       ...       ...       ...       ...       ...       ...   \n995                      0.408703                                           \n996            0.462964                      0.081066                       \n997                                                    0.028866             \n998                                0.355228  0.036156                       \n999                                                              0.262378   \n\n          7         8         9    ...       990       991       992  \\\n0                                  ...                                 \n1                                  ...                                 \n2                                  ...            0.451532             \n3                                  ...                                 \n4                                  ...                      0.228954   \n..        ...       ...       ...  ...       ...       ...       ...   \n995            0.331094            ...   0.58241                       \n996                                ...                      0.150477   \n997  0.212692            0.743716  ...  0.357788                       \n998                                ...  0.526398                       \n999  0.074009                      ...            0.525015             \n\n          993       994 995       996       997       998       999  \n0                                      0.952151            0.862762  \n1              0.464222                          0.796005            \n2              0.849999                                    0.922392  \n3              0.818244      0.139585                                \n4              0.212049                0.062996                      \n..        ...       ...  ..       ...       ...       ...       ...  \n995  0.269751                          0.847867  0.245299            \n996  0.237927                                                        \n997                                                        0.868009  \n998                                              0.722061            \n999                                              0.729014            ",
      "text/html": "<div>\n<style scoped>\n    table.matreprmatrix  {\n        border-collapse: collapse;\n    }\n    table.matreprmatrix > thead  {\n        border: 0px;\n    }\n    table.matreprmatrix > tbody tr th {\n        font-size: smaller;\n        vertical-align: middle;\n        text-align: right;\n    }\n    table.matreprmatrix > thead tr th {\n        font-size: smaller;\n        vertical-align: middle;\n        text-align: center;\n    }\n    table.matreprmatrix > tbody tr td {\n        vertical-align: middle;\n        text-align: center;\n        position: relative;\n    }\n    table.matreprmatrix > tbody tr td:first-of-type {\n        border-left: solid 2px;\n    }\n    table.matreprmatrix > tbody tr td:last-of-type {\n        border-right: solid 2px;\n    }\n    table.matreprmatrix > tbody tr td:empty::before {\n        content: \"\\00a0\\00a0\\00a0\";\n        visibility: hidden;\n    }\n    table.matreprmatrix > tbody tr td:empty::after {\n        content: \"\\00a0\\00a0\\00a0\";\n        visibility: hidden;\n    }\n    table.matreprmatrix > tbody > tr:first-child > td:first-of-type::before {\n        content: \"\";\n        width: 4px;\n        position: absolute;\n        top: 0;\n        bottom: 0;\n        visibility: visible;\n        left: 0;\n        right: auto;\n        border-top: solid 2px;\n    }\n    table.matreprmatrix > tbody > tr:last-child > td:first-of-type::before {\n        content: \"\";\n        width: 4px;\n        position: absolute;\n        top: 0;\n        bottom: 0;\n        visibility: visible;\n        left: 0;\n        right: auto;\n        border-bottom: solid 2px;\n    }\n    table.matreprmatrix > tbody > tr:first-child > td:last-of-type::after {\n        content: \"\";\n        width: 4px;\n        position: absolute;\n        top: 0;\n        bottom: 0;\n        visibility: visible;\n        left: auto;\n        right: 0;\n        border-top: solid 2px;\n    }\n    table.matreprmatrix > tbody > tr:last-child > td:last-of-type::after {\n        content: \"\";\n        width: 4px;\n        position: absolute;\n        top: 0;\n        bottom: 0;\n        visibility: visible;\n        left: auto;\n        right: 0;\n        border-bottom: solid 2px;\n    }\n    table.matreprtensor > tbody tr th {\n        font-size: smaller;\n        vertical-align: middle;\n        text-align: right;\n    }\n    table.matreprtensor > thead tr th {\n        font-size: smaller;\n        vertical-align: middle;\n        text-align: center;\n    }\n    table.matreprtensor > tbody tr td {\n        vertical-align: middle;\n        text-align: center;\n        position: relative;\n    }\n    table.matreprtensor > tbody tr th:last-of-type {\n        border-right: solid 2px;\n    }\n</style>\n<p>1000×1000, 212345 'FP64' elements, gb.Matrix, csr</p>\n<table class=\"matreprmatrix\">\n    <thead>\n    <tr>\n        <th></th>\n        <th style=\"text-align: center;\">0</th>\n        <th style=\"text-align: center;\">1</th>\n        <th style=\"text-align: center;\">2</th>\n        <th style=\"text-align: center;\">3</th>\n        <th style=\"text-align: center;\">4</th>\n        <th style=\"text-align: center;\">5</th>\n        <th style=\"text-align: center;\"></th>\n    </tr>\n    </thead>\n    <tbody>\n    <tr>\n        <th>0</th>\n        <td></td>\n        <td></td>\n        <td></td>\n        <td></td>\n        <td>0.3876</td>\n        <td></td>\n        <td>&ctdot;</td>\n    </tr>\n    <tr>\n        <th>1</th>\n        <td>0.5801</td>\n        <td>0.5085</td>\n        <td></td>\n        <td>0.8927</td>\n        <td></td>\n        <td></td>\n        <td>&ctdot;</td>\n    </tr>\n    <tr>\n        <th>2</th>\n        <td></td>\n        <td></td>\n        <td></td>\n        <td></td>\n        <td></td>\n        <td></td>\n        <td>&ctdot;</td>\n    </tr>\n    <tr>\n        <th>3</th>\n        <td></td>\n        <td></td>\n        <td>0.7142</td>\n        <td></td>\n        <td></td>\n        <td></td>\n        <td>&ctdot;</td>\n    </tr>\n    <tr>\n        <th>4</th>\n        <td></td>\n        <td></td>\n        <td></td>\n        <td></td>\n        <td></td>\n        <td>0.8631</td>\n        <td>&ctdot;</td>\n    </tr>\n    <tr>\n        <th>5</th>\n        <td>0.7863</td>\n        <td>0.1298</td>\n        <td>0.9918</td>\n        <td>0.71</td>\n        <td></td>\n        <td></td>\n        <td>&ctdot;</td>\n    </tr>\n    <tr>\n        <th>6</th>\n        <td></td>\n        <td></td>\n        <td>0.9481</td>\n        <td></td>\n        <td></td>\n        <td></td>\n        <td>&ctdot;</td>\n    </tr>\n    <tr>\n        <th>7</th>\n        <td></td>\n        <td></td>\n        <td></td>\n        <td></td>\n        <td></td>\n        <td></td>\n        <td>&ctdot;</td>\n    </tr>\n    <tr>\n        <th>8</th>\n        <td></td>\n        <td></td>\n        <td></td>\n        <td></td>\n        <td>0.4023</td>\n        <td></td>\n        <td>&ctdot;</td>\n    </tr>\n    <tr>\n        <th></th>\n        <td>&vellip;</td>\n        <td>&vellip;</td>\n        <td>&vellip;</td>\n        <td>&vellip;</td>\n        <td>&vellip;</td>\n        <td>&vellip;</td>\n        <td>&dtdot;</td>\n    </tr>\n    </tbody>\n</table>\n</div>"
     },
     "execution_count": 14,
     "metadata": {},
     "output_type": "execute_result"
    }
   ],
   "source": [
    "A"
   ]
  },
  {
   "cell_type": "code",
   "execution_count": 15,
   "metadata": {
    "collapsed": false,
    "jupyter": {
     "outputs_hidden": false
    },
    "ExecuteTime": {
     "end_time": "2023-08-30T08:17:32.157446Z",
     "start_time": "2023-08-30T08:17:32.142910Z"
    }
   },
   "outputs": [
    {
     "data": {
      "text/plain": "\"v_0\"      nvals  size  dtype  format\ngb.Vector      4     8   FP64  bitmap\n-------------------------------------\nindex     0 1 2    3                        4 5    6 7\nvalue  12.1     -0.0  290000000000000000000.0    2.2  ",
      "text/html": "<div>\n<style scoped>\n    table.matreprmatrix  {\n        border-collapse: collapse;\n    }\n    table.matreprmatrix > thead  {\n        border: 0px;\n    }\n    table.matreprmatrix > tbody tr th {\n        font-size: smaller;\n        vertical-align: middle;\n        text-align: right;\n    }\n    table.matreprmatrix > thead tr th {\n        font-size: smaller;\n        vertical-align: middle;\n        text-align: center;\n    }\n    table.matreprmatrix > tbody tr td {\n        vertical-align: middle;\n        text-align: center;\n        position: relative;\n    }\n    table.matreprmatrix > tbody tr td:first-of-type {\n        border-left: solid 2px;\n    }\n    table.matreprmatrix > tbody tr td:last-of-type {\n        border-right: solid 2px;\n    }\n    table.matreprmatrix > tbody tr td:empty::before {\n        content: \"\\00a0\\00a0\\00a0\";\n        visibility: hidden;\n    }\n    table.matreprmatrix > tbody tr td:empty::after {\n        content: \"\\00a0\\00a0\\00a0\";\n        visibility: hidden;\n    }\n    table.matreprmatrix > tbody > tr:first-child > td:first-of-type::before {\n        content: \"\";\n        width: 4px;\n        position: absolute;\n        top: 0;\n        bottom: 0;\n        visibility: visible;\n        left: 0;\n        right: auto;\n        border-top: solid 2px;\n    }\n    table.matreprmatrix > tbody > tr:last-child > td:first-of-type::before {\n        content: \"\";\n        width: 4px;\n        position: absolute;\n        top: 0;\n        bottom: 0;\n        visibility: visible;\n        left: 0;\n        right: auto;\n        border-bottom: solid 2px;\n    }\n    table.matreprmatrix > tbody > tr:first-child > td:last-of-type::after {\n        content: \"\";\n        width: 4px;\n        position: absolute;\n        top: 0;\n        bottom: 0;\n        visibility: visible;\n        left: auto;\n        right: 0;\n        border-top: solid 2px;\n    }\n    table.matreprmatrix > tbody > tr:last-child > td:last-of-type::after {\n        content: \"\";\n        width: 4px;\n        position: absolute;\n        top: 0;\n        bottom: 0;\n        visibility: visible;\n        left: auto;\n        right: 0;\n        border-bottom: solid 2px;\n    }\n    table.matreprtensor > tbody tr th {\n        font-size: smaller;\n        vertical-align: middle;\n        text-align: right;\n    }\n    table.matreprtensor > thead tr th {\n        font-size: smaller;\n        vertical-align: middle;\n        text-align: center;\n    }\n    table.matreprtensor > tbody tr td {\n        vertical-align: middle;\n        text-align: center;\n        position: relative;\n    }\n    table.matreprtensor > tbody tr th:last-of-type {\n        border-right: solid 2px;\n    }\n</style>\n<p>length=8, 4 'FP64' elements, gb.Vector, bitmap</p>\n<table class=\"matreprmatrix\">\n    <thead>\n    <tr>\n        <th style=\"text-align: center;\">0</th>\n        <th style=\"text-align: center;\">1</th>\n        <th style=\"text-align: center;\">2</th>\n        <th style=\"text-align: center;\">3</th>\n        <th style=\"text-align: center;\">4</th>\n        <th style=\"text-align: center;\">5</th>\n        <th style=\"text-align: center;\"></th>\n    </tr>\n    </thead>\n    <tbody>\n    <tr>\n        <td>12.1</td>\n        <td></td>\n        <td></td>\n        <td>-5.4e-12</td>\n        <td>2.9e+20</td>\n        <td></td>\n        <td>&ctdot;</td>\n    </tr>\n    </tbody>\n</table>\n</div>"
     },
     "execution_count": 15,
     "metadata": {},
     "output_type": "execute_result"
    }
   ],
   "source": [
    "v"
   ]
  }
 ],
 "metadata": {
  "kernelspec": {
   "display_name": "Python 3 (ipykernel)",
   "language": "python",
   "name": "python3"
  },
  "language_info": {
   "codemirror_mode": {
    "name": "ipython",
    "version": 3
   },
   "file_extension": ".py",
   "mimetype": "text/x-python",
   "name": "python",
   "nbconvert_exporter": "python",
   "pygments_lexer": "ipython3",
   "version": "3.11.2"
  }
 },
 "nbformat": 4,
 "nbformat_minor": 4
}
