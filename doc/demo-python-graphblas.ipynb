{
 "cells": [
  {
   "cell_type": "markdown",
   "metadata": {
    "collapsed": false,
    "jupyter": {
     "outputs_hidden": false
    }
   },
   "source": [
    "# MatRepr python-graphblas"
   ]
  },
  {
   "cell_type": "code",
   "execution_count": 1,
   "metadata": {
    "ExecuteTime": {
     "end_time": "2023-08-22T07:00:28.523562Z",
     "start_time": "2023-08-22T07:00:28.279756Z"
    },
    "collapsed": false,
    "jupyter": {
     "outputs_hidden": false
    }
   },
   "outputs": [],
   "source": [
    "import numpy\n",
    "import scipy\n",
    "numpy.random.seed(1234)\n",
    "\n",
    "# so matrepr can be imported from the source tree.\n",
    "import sys\n",
    "sys.path.insert(0, '..')\n",
    "\n",
    "import graphblas as gb\n",
    "gb.init(\"suitesparse\", blocking=True)"
   ]
  },
  {
   "cell_type": "code",
   "execution_count": 2,
   "metadata": {
    "ExecuteTime": {
     "end_time": "2023-08-22T07:00:28.668780Z",
     "start_time": "2023-08-22T07:00:28.523012Z"
    },
    "collapsed": false,
    "jupyter": {
     "outputs_hidden": false
    }
   },
   "outputs": [],
   "source": [
    "A = gb.io.from_scipy_sparse(scipy.sparse.random(1000, 1000, density=0.212345))\n",
    "\n",
    "# use smaller matrix for screenshot\n",
    "import matrepr\n",
    "matrepr.params.max_cols = 10"
   ]
  },
  {
   "cell_type": "code",
   "execution_count": 3,
   "metadata": {
    "ExecuteTime": {
     "end_time": "2023-08-22T07:00:28.727348Z",
     "start_time": "2023-08-22T07:00:28.672712Z"
    },
    "collapsed": false,
    "jupyter": {
     "outputs_hidden": false
    }
   },
   "outputs": [
    {
     "data": {
      "text/html": [
       "<div>\n",
       "<style>\n",
       "table.gb-info-table {\n",
       "    border: 1px solid black;\n",
       "    max-width: 100%;\n",
       "    margin-top: 0px;\n",
       "    margin-bottom: 0px;\n",
       "    padding-top: 0px;\n",
       "    padding-bottom: 0px;\n",
       "}\n",
       "\n",
       "td.gb-info-name-cell {\n",
       "    white-space: nowrap;\n",
       "}\n",
       "\n",
       "details.gb-arg-details {\n",
       "    margin-top: 0px;\n",
       "    margin-bottom: 0px;\n",
       "    padding-top: 0px;\n",
       "    padding-bottom: 5px;\n",
       "    margin-left: 10px;\n",
       "}\n",
       "\n",
       "summary.gb-arg-summary {\n",
       "    display: list-item;\n",
       "    outline: none;\n",
       "    margin-top: 0px;\n",
       "    margin-bottom: 0px;\n",
       "    padding-top: 0px;\n",
       "    padding-bottom: 0px;\n",
       "    margin-left: -10px;\n",
       "}\n",
       "\n",
       "details.gb-expr-details {\n",
       "    margin-top: 0px;\n",
       "    margin-bottom: 0px;\n",
       "    padding-top: 0px;\n",
       "    padding-bottom: 5px;\n",
       "}\n",
       "\n",
       "summary.gb-expr-summary {\n",
       "    display: list-item;\n",
       "    outline: none;\n",
       "    margin-top: 0px;\n",
       "    margin-bottom: 0px;\n",
       "    padding-top: 0px;\n",
       "    padding-bottom: 0px;\n",
       "}\n",
       "\n",
       "blockquote.gb-expr-blockquote {\n",
       "    margin-top: 5px;\n",
       "    margin-bottom: 0px;\n",
       "    padding-top: 0px;\n",
       "    padding-bottom: 0px;\n",
       "    margin-left: 15px;\n",
       "}\n",
       "\n",
       ".gb-scalar {\n",
       "    margin-top: 0px;\n",
       "    margin-bottom: 0px;\n",
       "    padding-top: 0px;\n",
       "    padding-bottom: 5px;\n",
       "}\n",
       "\n",
       "/* modify pandas dataframe */\n",
       "table.dataframe {\n",
       "    margin-top: 0px;\n",
       "    margin-bottom: 0px;\n",
       "    padding-top: 0px;\n",
       "    padding-bottom: 0px;\n",
       "}\n",
       "\n",
       "/* expression tooltips */\n",
       ".expr-tooltip .tooltip-circle {\n",
       "    background: #9a9cc6;\n",
       "    color: #fff;\n",
       "    border-radius: 50%;\n",
       "    width: 40px;\n",
       "    height: 40px;\n",
       "    padding-left: 4px;\n",
       "    padding-right: 4px;\n",
       "}\n",
       ".expr-tooltip .tooltip-text {\n",
       "    visibility: hidden;\n",
       "    position: absolute;\n",
       "    width: 450px;\n",
       "    background: #eef;\n",
       "    border: 1px solid #99a;\n",
       "    text-align: left;\n",
       "    border-radius: 6px;\n",
       "    padding: 3px 3px 3px 8px;\n",
       "    margin-left: 6px;\n",
       "}\n",
       ".expr-tooltip:hover .tooltip-text {\n",
       "    visibility: visible;\n",
       "}\n",
       ".expr-tooltip code {\n",
       "    background-color: #f8ffed;\n",
       "}\n",
       "</style>\n",
       "<details class=\"gb-arg-details\"><summary class=\"gb-arg-summary\"><tt>M<sub>0</sub></tt><div>\n",
       "<table class=\"gb-info-table\">\n",
       "  <tr>\n",
       "    <td rowspan=\"2\" class=\"gb-info-name-cell\"><pre>gb.Matrix</pre></td>\n",
       "    <td><pre>nvals</pre></td>\n",
       "    <td><pre>nrows</pre></td>\n",
       "    <td><pre>ncols</pre></td>\n",
       "    <td><pre>dtype</pre></td>\n",
       "    <td><pre>format</pre></td>\n",
       "  </tr>\n",
       "  <tr>\n",
       "    <td>212345</td>\n",
       "    <td>1000</td>\n",
       "    <td>1000</td>\n",
       "    <td>FP64</td>\n",
       "    <td>csr</td>\n",
       "  </tr>\n",
       "</table>\n",
       "</div>\n",
       "</summary><em>(Install</em> <tt>pandas</tt> <em>to see a preview of the data)</em></details></div>"
      ],
      "text/plain": [
       "\"M_0\"       nvals  nrows  ncols  dtype  format\n",
       "gb.Matrix  212345   1000   1000   FP64     csr"
      ]
     },
     "execution_count": 3,
     "metadata": {},
     "output_type": "execute_result"
    }
   ],
   "source": [
    "A"
   ]
  },
  {
   "cell_type": "code",
   "execution_count": 4,
   "metadata": {
    "ExecuteTime": {
     "end_time": "2023-08-22T07:00:28.727530Z",
     "start_time": "2023-08-22T07:00:28.716498Z"
    },
    "collapsed": false,
    "jupyter": {
     "outputs_hidden": false
    }
   },
   "outputs": [],
   "source": [
    "import matrepr.jupyter"
   ]
  },
  {
   "cell_type": "code",
   "execution_count": 5,
   "metadata": {
    "ExecuteTime": {
     "end_time": "2023-08-22T07:00:28.740510Z",
     "start_time": "2023-08-22T07:00:28.733278Z"
    }
   },
   "outputs": [
    {
     "data": {
      "text/html": [
       "<div>\n",
       "<style scoped>\n",
       "    thead.head_no_border {\n",
       "        border: 0px;\n",
       "    }\n",
       "    tbody tr th {\n",
       "        font-size: smaller;\n",
       "        vertical-align: middle;\n",
       "        text-align: right;\n",
       "    }\n",
       "    thead tr th {\n",
       "        font-size: smaller;\n",
       "        vertical-align: middle;\n",
       "        text-align: center;\n",
       "    }\n",
       "    tbody tr td {\n",
       "        vertical-align: middle;\n",
       "        text-align: center;\n",
       "    }\n",
       "    tbody tr td.left_cell {\n",
       "        border-left: solid 2px;\n",
       "    }\n",
       "    tbody tr td.right_cell {\n",
       "        border-right: solid 2px;\n",
       "    }\n",
       "    tbody tr td:empty::after {\n",
       "        content: '&nbsp;';\n",
       "        visibility: hidden;\n",
       "    }\n",
       "</style>\n",
       "<p>1000×1000, 212345 'FP64' elements, gb.Matrix, csr</p>\n",
       "<table >\n",
       "    <thead class=\"head_no_border\">\n",
       "    <tr>\n",
       "        <th></th>\n",
       "        <th style=\"text-align: center;\">0</th>\n",
       "        <th style=\"text-align: center;\">1</th>\n",
       "        <th style=\"text-align: center;\">2</th>\n",
       "        <th style=\"text-align: center;\">3</th>\n",
       "        <th style=\"text-align: center;\">4</th>\n",
       "        <th style=\"text-align: center;\"></th>\n",
       "        <th style=\"text-align: center;\">996</th>\n",
       "        <th style=\"text-align: center;\">997</th>\n",
       "        <th style=\"text-align: center;\">998</th>\n",
       "        <th style=\"text-align: center;\">999</th>\n",
       "    </tr>\n",
       "    </thead>\n",
       "    <tbody>\n",
       "    <tr>\n",
       "        <th>0</th>\n",
       "        <td class=\"left_cell\"></td>\n",
       "        <td></td>\n",
       "        <td></td>\n",
       "        <td></td>\n",
       "        <td>0.3876</td>\n",
       "        <td>&ctdot;</td>\n",
       "        <td></td>\n",
       "        <td>0.9522</td>\n",
       "        <td></td>\n",
       "        <td class=\"right_cell\">0.8628</td>\n",
       "    </tr>\n",
       "    <tr>\n",
       "        <th>1</th>\n",
       "        <td class=\"left_cell\">0.5801</td>\n",
       "        <td>0.5085</td>\n",
       "        <td></td>\n",
       "        <td>0.8927</td>\n",
       "        <td></td>\n",
       "        <td>&ctdot;</td>\n",
       "        <td></td>\n",
       "        <td></td>\n",
       "        <td>0.796</td>\n",
       "        <td class=\"right_cell\"></td>\n",
       "    </tr>\n",
       "    <tr>\n",
       "        <th>2</th>\n",
       "        <td class=\"left_cell\"></td>\n",
       "        <td></td>\n",
       "        <td></td>\n",
       "        <td></td>\n",
       "        <td></td>\n",
       "        <td>&ctdot;</td>\n",
       "        <td></td>\n",
       "        <td></td>\n",
       "        <td></td>\n",
       "        <td class=\"right_cell\">0.9224</td>\n",
       "    </tr>\n",
       "    <tr>\n",
       "        <th>3</th>\n",
       "        <td class=\"left_cell\"></td>\n",
       "        <td></td>\n",
       "        <td>0.7142</td>\n",
       "        <td></td>\n",
       "        <td></td>\n",
       "        <td>&ctdot;</td>\n",
       "        <td>0.1396</td>\n",
       "        <td></td>\n",
       "        <td></td>\n",
       "        <td class=\"right_cell\"></td>\n",
       "    </tr>\n",
       "    <tr>\n",
       "        <th>4</th>\n",
       "        <td class=\"left_cell\"></td>\n",
       "        <td></td>\n",
       "        <td></td>\n",
       "        <td></td>\n",
       "        <td></td>\n",
       "        <td>&ctdot;</td>\n",
       "        <td></td>\n",
       "        <td>0.063</td>\n",
       "        <td></td>\n",
       "        <td class=\"right_cell\"></td>\n",
       "    </tr>\n",
       "    <tr>\n",
       "        <th></th>\n",
       "        <td class=\"left_cell\">&vellip;</td>\n",
       "        <td>&vellip;</td>\n",
       "        <td>&vellip;</td>\n",
       "        <td>&vellip;</td>\n",
       "        <td>&vellip;</td>\n",
       "        <td>&dtdot;</td>\n",
       "        <td>&vellip;</td>\n",
       "        <td>&vellip;</td>\n",
       "        <td>&vellip;</td>\n",
       "        <td class=\"right_cell\">&vellip;</td>\n",
       "    </tr>\n",
       "    <tr>\n",
       "        <th>995</th>\n",
       "        <td class=\"left_cell\"></td>\n",
       "        <td></td>\n",
       "        <td>0.4087</td>\n",
       "        <td></td>\n",
       "        <td></td>\n",
       "        <td>&ctdot;</td>\n",
       "        <td></td>\n",
       "        <td>0.8479</td>\n",
       "        <td>0.2453</td>\n",
       "        <td class=\"right_cell\"></td>\n",
       "    </tr>\n",
       "    <tr>\n",
       "        <th>996</th>\n",
       "        <td class=\"left_cell\"></td>\n",
       "        <td>0.463</td>\n",
       "        <td></td>\n",
       "        <td></td>\n",
       "        <td>0.08107</td>\n",
       "        <td>&ctdot;</td>\n",
       "        <td></td>\n",
       "        <td></td>\n",
       "        <td></td>\n",
       "        <td class=\"right_cell\"></td>\n",
       "    </tr>\n",
       "    <tr>\n",
       "        <th>997</th>\n",
       "        <td class=\"left_cell\"></td>\n",
       "        <td></td>\n",
       "        <td></td>\n",
       "        <td></td>\n",
       "        <td></td>\n",
       "        <td>&ctdot;</td>\n",
       "        <td></td>\n",
       "        <td></td>\n",
       "        <td></td>\n",
       "        <td class=\"right_cell\">0.868</td>\n",
       "    </tr>\n",
       "    <tr>\n",
       "        <th>998</th>\n",
       "        <td class=\"left_cell\"></td>\n",
       "        <td></td>\n",
       "        <td></td>\n",
       "        <td>0.3552</td>\n",
       "        <td>0.03616</td>\n",
       "        <td>&ctdot;</td>\n",
       "        <td></td>\n",
       "        <td></td>\n",
       "        <td>0.7221</td>\n",
       "        <td class=\"right_cell\"></td>\n",
       "    </tr>\n",
       "    <tr>\n",
       "        <th>999</th>\n",
       "        <td class=\"left_cell\"></td>\n",
       "        <td></td>\n",
       "        <td></td>\n",
       "        <td></td>\n",
       "        <td></td>\n",
       "        <td>&ctdot;</td>\n",
       "        <td></td>\n",
       "        <td></td>\n",
       "        <td>0.729</td>\n",
       "        <td class=\"right_cell\"></td>\n",
       "    </tr>\n",
       "    </tbody>\n",
       "</table>\n",
       "</div>"
      ],
      "text/plain": [
       "\"M_0\"       nvals  nrows  ncols  dtype  format\n",
       "gb.Matrix  212345   1000   1000   FP64     csr"
      ]
     },
     "execution_count": 5,
     "metadata": {},
     "output_type": "execute_result"
    }
   ],
   "source": [
    "A"
   ]
  },
  {
   "cell_type": "code",
   "execution_count": 6,
   "metadata": {
    "ExecuteTime": {
     "end_time": "2023-08-22T07:00:28.746341Z",
     "start_time": "2023-08-22T07:00:28.741615Z"
    },
    "collapsed": false,
    "jupyter": {
     "outputs_hidden": false
    }
   },
   "outputs": [],
   "source": [
    "matrepr.params.max_rows = 10\n",
    "matrepr.params.max_cols = 7\n",
    "matrepr.params.num_after_dots = 0\n",
    "matrepr.params.indices = True"
   ]
  },
  {
   "cell_type": "code",
   "execution_count": 7,
   "metadata": {
    "ExecuteTime": {
     "end_time": "2023-08-22T07:00:28.760892Z",
     "start_time": "2023-08-22T07:00:28.747260Z"
    },
    "collapsed": false,
    "jupyter": {
     "outputs_hidden": false
    }
   },
   "outputs": [
    {
     "data": {
      "text/html": [
       "<div>\n",
       "<style scoped>\n",
       "    thead.head_no_border {\n",
       "        border: 0px;\n",
       "    }\n",
       "    tbody tr th {\n",
       "        font-size: smaller;\n",
       "        vertical-align: middle;\n",
       "        text-align: right;\n",
       "    }\n",
       "    thead tr th {\n",
       "        font-size: smaller;\n",
       "        vertical-align: middle;\n",
       "        text-align: center;\n",
       "    }\n",
       "    tbody tr td {\n",
       "        vertical-align: middle;\n",
       "        text-align: center;\n",
       "    }\n",
       "    tbody tr td.left_cell {\n",
       "        border-left: solid 2px;\n",
       "    }\n",
       "    tbody tr td.right_cell {\n",
       "        border-right: solid 2px;\n",
       "    }\n",
       "    tbody tr td:empty::after {\n",
       "        content: '&nbsp;';\n",
       "        visibility: hidden;\n",
       "    }\n",
       "</style>\n",
       "<p>1000×1000, 212345 'FP64' elements, gb.Matrix, csr</p>\n",
       "<table >\n",
       "    <thead class=\"head_no_border\">\n",
       "    <tr>\n",
       "        <th></th>\n",
       "        <th style=\"text-align: center;\">0</th>\n",
       "        <th style=\"text-align: center;\">1</th>\n",
       "        <th style=\"text-align: center;\">2</th>\n",
       "        <th style=\"text-align: center;\">3</th>\n",
       "        <th style=\"text-align: center;\">4</th>\n",
       "        <th style=\"text-align: center;\">5</th>\n",
       "        <th style=\"text-align: center;\"></th>\n",
       "    </tr>\n",
       "    </thead>\n",
       "    <tbody>\n",
       "    <tr>\n",
       "        <th>0</th>\n",
       "        <td class=\"left_cell\"></td>\n",
       "        <td></td>\n",
       "        <td></td>\n",
       "        <td></td>\n",
       "        <td>0.3876</td>\n",
       "        <td></td>\n",
       "        <td class=\"right_cell\">&ctdot;</td>\n",
       "    </tr>\n",
       "    <tr>\n",
       "        <th>1</th>\n",
       "        <td class=\"left_cell\">0.5801</td>\n",
       "        <td>0.5085</td>\n",
       "        <td></td>\n",
       "        <td>0.8927</td>\n",
       "        <td></td>\n",
       "        <td></td>\n",
       "        <td class=\"right_cell\">&ctdot;</td>\n",
       "    </tr>\n",
       "    <tr>\n",
       "        <th>2</th>\n",
       "        <td class=\"left_cell\"></td>\n",
       "        <td></td>\n",
       "        <td></td>\n",
       "        <td></td>\n",
       "        <td></td>\n",
       "        <td></td>\n",
       "        <td class=\"right_cell\">&ctdot;</td>\n",
       "    </tr>\n",
       "    <tr>\n",
       "        <th>3</th>\n",
       "        <td class=\"left_cell\"></td>\n",
       "        <td></td>\n",
       "        <td>0.7142</td>\n",
       "        <td></td>\n",
       "        <td></td>\n",
       "        <td></td>\n",
       "        <td class=\"right_cell\">&ctdot;</td>\n",
       "    </tr>\n",
       "    <tr>\n",
       "        <th>4</th>\n",
       "        <td class=\"left_cell\"></td>\n",
       "        <td></td>\n",
       "        <td></td>\n",
       "        <td></td>\n",
       "        <td></td>\n",
       "        <td>0.8631</td>\n",
       "        <td class=\"right_cell\">&ctdot;</td>\n",
       "    </tr>\n",
       "    <tr>\n",
       "        <th>5</th>\n",
       "        <td class=\"left_cell\">0.7863</td>\n",
       "        <td>0.1298</td>\n",
       "        <td>0.9918</td>\n",
       "        <td>0.71</td>\n",
       "        <td></td>\n",
       "        <td></td>\n",
       "        <td class=\"right_cell\">&ctdot;</td>\n",
       "    </tr>\n",
       "    <tr>\n",
       "        <th>6</th>\n",
       "        <td class=\"left_cell\"></td>\n",
       "        <td></td>\n",
       "        <td>0.9481</td>\n",
       "        <td></td>\n",
       "        <td></td>\n",
       "        <td></td>\n",
       "        <td class=\"right_cell\">&ctdot;</td>\n",
       "    </tr>\n",
       "    <tr>\n",
       "        <th>7</th>\n",
       "        <td class=\"left_cell\"></td>\n",
       "        <td></td>\n",
       "        <td></td>\n",
       "        <td></td>\n",
       "        <td></td>\n",
       "        <td></td>\n",
       "        <td class=\"right_cell\">&ctdot;</td>\n",
       "    </tr>\n",
       "    <tr>\n",
       "        <th>8</th>\n",
       "        <td class=\"left_cell\"></td>\n",
       "        <td></td>\n",
       "        <td></td>\n",
       "        <td></td>\n",
       "        <td>0.4023</td>\n",
       "        <td></td>\n",
       "        <td class=\"right_cell\">&ctdot;</td>\n",
       "    </tr>\n",
       "    <tr>\n",
       "        <th></th>\n",
       "        <td class=\"left_cell\">&vellip;</td>\n",
       "        <td>&vellip;</td>\n",
       "        <td>&vellip;</td>\n",
       "        <td>&vellip;</td>\n",
       "        <td>&vellip;</td>\n",
       "        <td>&vellip;</td>\n",
       "        <td class=\"right_cell\">&dtdot;</td>\n",
       "    </tr>\n",
       "    </tbody>\n",
       "</table>\n",
       "</div>"
      ],
      "text/plain": [
       "<IPython.core.display.HTML object>"
      ]
     },
     "metadata": {},
     "output_type": "display_data"
    }
   ],
   "source": [
    "matrepr.mdisplay(A)"
   ]
  },
  {
   "cell_type": "code",
   "execution_count": 8,
   "metadata": {
    "ExecuteTime": {
     "end_time": "2023-08-22T07:00:28.776702Z",
     "start_time": "2023-08-22T07:00:28.761902Z"
    },
    "collapsed": false,
    "jupyter": {
     "outputs_hidden": false
    }
   },
   "outputs": [
    {
     "data": {
      "text/latex": [
       "$\\begin{bmatrix}\n",
       "    & & & & 0.3876 & & \\dots \\\\\n",
       "    0.5801 & 0.5085 & & 0.8927 & & & \\dots \\\\\n",
       "    & & & & & & \\dots \\\\\n",
       "    & & 0.7142 & & & & \\dots \\\\\n",
       "    & & & & & 0.8631 & \\dots \\\\\n",
       "    0.7863 & 0.1298 & 0.9918 & 0.71 & & & \\dots \\\\\n",
       "    & & 0.9481 & & & & \\dots \\\\\n",
       "    & & & & & & \\dots \\\\\n",
       "    & & & & 0.4023 & & \\dots \\\\\n",
       "    \\vdots & \\vdots & \\vdots & \\vdots & \\vdots & \\vdots & \\ddots\n",
       "\\end{bmatrix}$"
      ],
      "text/plain": [
       "<IPython.core.display.Latex object>"
      ]
     },
     "metadata": {},
     "output_type": "display_data"
    }
   ],
   "source": [
    "matrepr.mdisplay(A, \"latex\")"
   ]
  },
  {
   "cell_type": "markdown",
   "metadata": {
    "collapsed": false,
    "jupyter": {
     "outputs_hidden": false
    }
   },
   "source": [
    "## Vectors"
   ]
  },
  {
   "cell_type": "code",
   "execution_count": 9,
   "metadata": {},
   "outputs": [],
   "source": [
    "v = gb.Vector.from_coo([0, 3, 4, 6], [12.1, -5.4e-12, 2.9e20, 2.2], size=8)"
   ]
  },
  {
   "cell_type": "code",
   "execution_count": 10,
   "metadata": {},
   "outputs": [
    {
     "data": {
      "text/html": [
       "<div>\n",
       "<style scoped>\n",
       "    thead.head_no_border {\n",
       "        border: 0px;\n",
       "    }\n",
       "    tbody tr th {\n",
       "        font-size: smaller;\n",
       "        vertical-align: middle;\n",
       "        text-align: right;\n",
       "    }\n",
       "    thead tr th {\n",
       "        font-size: smaller;\n",
       "        vertical-align: middle;\n",
       "        text-align: center;\n",
       "    }\n",
       "    tbody tr td {\n",
       "        vertical-align: middle;\n",
       "        text-align: center;\n",
       "    }\n",
       "    tbody tr td.left_cell {\n",
       "        border-left: solid 2px;\n",
       "    }\n",
       "    tbody tr td.right_cell {\n",
       "        border-right: solid 2px;\n",
       "    }\n",
       "    tbody tr td:empty::after {\n",
       "        content: '&nbsp;';\n",
       "        visibility: hidden;\n",
       "    }\n",
       "</style>\n",
       "<p>length=8, 4 'FP64' elements, gb.Vector, bitmap</p>\n",
       "<table >\n",
       "    <thead class=\"head_no_border\">\n",
       "    <tr>\n",
       "        <th></th>\n",
       "        <th style=\"text-align: center;\">0</th>\n",
       "        <th style=\"text-align: center;\">1</th>\n",
       "        <th style=\"text-align: center;\">2</th>\n",
       "        <th style=\"text-align: center;\">3</th>\n",
       "        <th style=\"text-align: center;\">4</th>\n",
       "        <th style=\"text-align: center;\">5</th>\n",
       "        <th style=\"text-align: center;\"></th>\n",
       "    </tr>\n",
       "    </thead>\n",
       "    <tbody>\n",
       "    <tr>\n",
       "        <th>0</th>\n",
       "        <td class=\"left_cell\">12.1</td>\n",
       "        <td></td>\n",
       "        <td></td>\n",
       "        <td>-5.4e-12</td>\n",
       "        <td>2.9e+20</td>\n",
       "        <td></td>\n",
       "        <td class=\"right_cell\">&ctdot;</td>\n",
       "    </tr>\n",
       "    </tbody>\n",
       "</table>\n",
       "</div>"
      ],
      "text/plain": [
       "\"v_0\"      nvals  size  dtype  format\n",
       "gb.Vector      4     8   FP64  bitmap"
      ]
     },
     "execution_count": 10,
     "metadata": {},
     "output_type": "execute_result"
    }
   ],
   "source": [
    "v"
   ]
  },
  {
   "cell_type": "code",
   "execution_count": 11,
   "metadata": {},
   "outputs": [
    {
     "data": {
      "text/latex": [
       "$\\begin{bmatrix}\n",
       "    12.1 & & & -5.4 \\times 10^{-12} & 2.9 \\times 10^{20} & & \\dots\n",
       "\\end{bmatrix}$"
      ],
      "text/plain": [
       "<IPython.core.display.Latex object>"
      ]
     },
     "metadata": {},
     "output_type": "display_data"
    }
   ],
   "source": [
    "matrepr.mdisplay(v, \"latex\")"
   ]
  },
  {
   "cell_type": "code",
   "execution_count": null,
   "metadata": {},
   "outputs": [],
   "source": []
  }
 ],
 "metadata": {
  "kernelspec": {
   "display_name": "Python 3 (ipykernel)",
   "language": "python",
   "name": "python3"
  },
  "language_info": {
   "codemirror_mode": {
    "name": "ipython",
    "version": 3
   },
   "file_extension": ".py",
   "mimetype": "text/x-python",
   "name": "python",
   "nbconvert_exporter": "python",
   "pygments_lexer": "ipython3",
   "version": "3.11.2"
  }
 },
 "nbformat": 4,
 "nbformat_minor": 4
}
