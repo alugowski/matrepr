{
 "cells": [
  {
   "cell_type": "markdown",
   "metadata": {
    "collapsed": false,
    "jupyter": {
     "outputs_hidden": false
    }
   },
   "source": [
    "# MatRepr\n",
    "\n",
    "Render sparse and dense matrices to HTML and Latex, compatible with Jupyter notebooks."
   ]
  },
  {
   "cell_type": "code",
   "execution_count": 1,
   "metadata": {
    "ExecuteTime": {
     "end_time": "2023-08-28T20:49:25.818766Z",
     "start_time": "2023-08-28T20:49:25.699439Z"
    },
    "collapsed": false,
    "jupyter": {
     "outputs_hidden": false
    }
   },
   "outputs": [],
   "source": [
    "import numpy\n",
    "import scipy\n",
    "numpy.random.seed(1234)\n",
    "\n",
    "# so matrepr can be imported from the source tree.\n",
    "import sys\n",
    "sys.path.insert(0, '..')"
   ]
  },
  {
   "cell_type": "code",
   "execution_count": 2,
   "metadata": {
    "ExecuteTime": {
     "end_time": "2023-08-28T20:49:25.989398Z",
     "start_time": "2023-08-28T20:49:25.815593Z"
    },
    "collapsed": false,
    "jupyter": {
     "outputs_hidden": false
    }
   },
   "outputs": [],
   "source": [
    "A = scipy.sparse.random(1000, 1000, density=0.212345)\n",
    "\n",
    "# use smaller matrix for screenshot\n",
    "import matrepr\n",
    "matrepr.params.max_cols = 10"
   ]
  },
  {
   "cell_type": "code",
   "execution_count": 3,
   "metadata": {
    "ExecuteTime": {
     "end_time": "2023-08-28T20:49:25.989704Z",
     "start_time": "2023-08-28T20:49:25.964844Z"
    },
    "collapsed": false,
    "jupyter": {
     "outputs_hidden": false
    }
   },
   "outputs": [
    {
     "data": {
      "text/plain": [
       "<1000x1000 sparse matrix of type '<class 'numpy.float64'>'\n",
       "\twith 212345 stored elements in COOrdinate format>"
      ]
     },
     "execution_count": 3,
     "metadata": {},
     "output_type": "execute_result"
    }
   ],
   "source": [
    "A"
   ]
  },
  {
   "cell_type": "code",
   "execution_count": 4,
   "metadata": {
    "ExecuteTime": {
     "end_time": "2023-08-28T20:49:25.989735Z",
     "start_time": "2023-08-28T20:49:25.976189Z"
    },
    "collapsed": false,
    "jupyter": {
     "outputs_hidden": false
    }
   },
   "outputs": [],
   "source": [
    "%load_ext matrepr"
   ]
  },
  {
   "cell_type": "code",
   "execution_count": 5,
   "metadata": {
    "ExecuteTime": {
     "end_time": "2023-08-28T20:49:26.081426Z",
     "start_time": "2023-08-28T20:49:25.993142Z"
    }
   },
   "outputs": [
    {
     "data": {
      "text/html": [
       "<div>\n",
       "<style scoped>\n",
       "    table.matreprmatrix  {\n",
       "        border-collapse: collapse;\n",
       "    }\n",
       "    table.matreprmatrix > thead  {\n",
       "        border: 0px;\n",
       "    }\n",
       "    table.matreprmatrix > tbody tr th {\n",
       "        font-size: smaller;\n",
       "        vertical-align: middle;\n",
       "        text-align: right;\n",
       "    }\n",
       "    table.matreprmatrix > thead tr th {\n",
       "        font-size: smaller;\n",
       "        vertical-align: middle;\n",
       "        text-align: center;\n",
       "    }\n",
       "    table.matreprmatrix > tbody tr td {\n",
       "        vertical-align: middle;\n",
       "        text-align: center;\n",
       "        position: relative;\n",
       "    }\n",
       "    table.matreprmatrix > tbody tr td:first-of-type {\n",
       "        border-left: solid 2px;\n",
       "    }\n",
       "    table.matreprmatrix > tbody tr td:last-of-type {\n",
       "        border-right: solid 2px;\n",
       "    }\n",
       "    table.matreprmatrix > tbody tr td:empty::before {\n",
       "        content: \"\\00a0\\00a0\\00a0\";\n",
       "        visibility: hidden;\n",
       "    }\n",
       "    table.matreprmatrix > tbody tr td:empty::after {\n",
       "        content: \"\\00a0\\00a0\\00a0\";\n",
       "        visibility: hidden;\n",
       "    }\n",
       "    table.matreprmatrix > tbody > tr:first-child > td:first-of-type::before {\n",
       "        content: \"\";\n",
       "        width: 4px;\n",
       "        position: absolute;\n",
       "        top: 0;\n",
       "        bottom: 0;\n",
       "        visibility: visible;\n",
       "        left: 0;\n",
       "        right: auto;\n",
       "        border-top: solid 2px;\n",
       "    }\n",
       "    table.matreprmatrix > tbody > tr:last-child > td:first-of-type::before {\n",
       "        content: \"\";\n",
       "        width: 4px;\n",
       "        position: absolute;\n",
       "        top: 0;\n",
       "        bottom: 0;\n",
       "        visibility: visible;\n",
       "        left: 0;\n",
       "        right: auto;\n",
       "        border-bottom: solid 2px;\n",
       "    }\n",
       "    table.matreprmatrix > tbody > tr:first-child > td:last-of-type::after {\n",
       "        content: \"\";\n",
       "        width: 4px;\n",
       "        position: absolute;\n",
       "        top: 0;\n",
       "        bottom: 0;\n",
       "        visibility: visible;\n",
       "        left: auto;\n",
       "        right: 0;\n",
       "        border-top: solid 2px;\n",
       "    }\n",
       "    table.matreprmatrix > tbody > tr:last-child > td:last-of-type::after {\n",
       "        content: \"\";\n",
       "        width: 4px;\n",
       "        position: absolute;\n",
       "        top: 0;\n",
       "        bottom: 0;\n",
       "        visibility: visible;\n",
       "        left: auto;\n",
       "        right: 0;\n",
       "        border-bottom: solid 2px;\n",
       "    }\n",
       "    table.matreprtensor > tbody tr th {\n",
       "        font-size: smaller;\n",
       "        vertical-align: middle;\n",
       "        text-align: right;\n",
       "    }\n",
       "    table.matreprtensor > thead tr th {\n",
       "        font-size: smaller;\n",
       "        vertical-align: middle;\n",
       "        text-align: center;\n",
       "    }\n",
       "    table.matreprtensor > tbody tr td {\n",
       "        vertical-align: middle;\n",
       "        text-align: center;\n",
       "        position: relative;\n",
       "    }\n",
       "    table.matreprtensor > tbody tr th:last-of-type {\n",
       "        border-right: solid 2px;\n",
       "    }\n",
       "</style>\n",
       "<p>1000×1000, 212345 'float64' elements, coo</p>\n",
       "<table class=\"matreprmatrix\">\n",
       "    <thead>\n",
       "    <tr>\n",
       "        <th></th>\n",
       "        <th style=\"text-align: center;\">0</th>\n",
       "        <th style=\"text-align: center;\">1</th>\n",
       "        <th style=\"text-align: center;\">2</th>\n",
       "        <th style=\"text-align: center;\">3</th>\n",
       "        <th style=\"text-align: center;\">4</th>\n",
       "        <th style=\"text-align: center;\"></th>\n",
       "        <th style=\"text-align: center;\">996</th>\n",
       "        <th style=\"text-align: center;\">997</th>\n",
       "        <th style=\"text-align: center;\">998</th>\n",
       "        <th style=\"text-align: center;\">999</th>\n",
       "    </tr>\n",
       "    </thead>\n",
       "    <tbody>\n",
       "    <tr>\n",
       "        <th>0</th>\n",
       "        <td></td>\n",
       "        <td></td>\n",
       "        <td></td>\n",
       "        <td></td>\n",
       "        <td>0.3876</td>\n",
       "        <td>&ctdot;</td>\n",
       "        <td></td>\n",
       "        <td>0.9522</td>\n",
       "        <td></td>\n",
       "        <td>0.8628</td>\n",
       "    </tr>\n",
       "    <tr>\n",
       "        <th>1</th>\n",
       "        <td>0.5801</td>\n",
       "        <td>0.5085</td>\n",
       "        <td></td>\n",
       "        <td>0.8927</td>\n",
       "        <td></td>\n",
       "        <td>&ctdot;</td>\n",
       "        <td></td>\n",
       "        <td></td>\n",
       "        <td>0.796</td>\n",
       "        <td></td>\n",
       "    </tr>\n",
       "    <tr>\n",
       "        <th>2</th>\n",
       "        <td></td>\n",
       "        <td></td>\n",
       "        <td></td>\n",
       "        <td></td>\n",
       "        <td></td>\n",
       "        <td>&ctdot;</td>\n",
       "        <td></td>\n",
       "        <td></td>\n",
       "        <td></td>\n",
       "        <td>0.9224</td>\n",
       "    </tr>\n",
       "    <tr>\n",
       "        <th>3</th>\n",
       "        <td></td>\n",
       "        <td></td>\n",
       "        <td>0.7142</td>\n",
       "        <td></td>\n",
       "        <td></td>\n",
       "        <td>&ctdot;</td>\n",
       "        <td>0.1396</td>\n",
       "        <td></td>\n",
       "        <td></td>\n",
       "        <td></td>\n",
       "    </tr>\n",
       "    <tr>\n",
       "        <th>4</th>\n",
       "        <td></td>\n",
       "        <td></td>\n",
       "        <td></td>\n",
       "        <td></td>\n",
       "        <td></td>\n",
       "        <td>&ctdot;</td>\n",
       "        <td></td>\n",
       "        <td>0.063</td>\n",
       "        <td></td>\n",
       "        <td></td>\n",
       "    </tr>\n",
       "    <tr>\n",
       "        <th></th>\n",
       "        <td>&vellip;</td>\n",
       "        <td>&vellip;</td>\n",
       "        <td>&vellip;</td>\n",
       "        <td>&vellip;</td>\n",
       "        <td>&vellip;</td>\n",
       "        <td>&dtdot;</td>\n",
       "        <td>&vellip;</td>\n",
       "        <td>&vellip;</td>\n",
       "        <td>&vellip;</td>\n",
       "        <td>&vellip;</td>\n",
       "    </tr>\n",
       "    <tr>\n",
       "        <th>995</th>\n",
       "        <td></td>\n",
       "        <td></td>\n",
       "        <td>0.4087</td>\n",
       "        <td></td>\n",
       "        <td></td>\n",
       "        <td>&ctdot;</td>\n",
       "        <td></td>\n",
       "        <td>0.8479</td>\n",
       "        <td>0.2453</td>\n",
       "        <td></td>\n",
       "    </tr>\n",
       "    <tr>\n",
       "        <th>996</th>\n",
       "        <td></td>\n",
       "        <td>0.463</td>\n",
       "        <td></td>\n",
       "        <td></td>\n",
       "        <td>0.08107</td>\n",
       "        <td>&ctdot;</td>\n",
       "        <td></td>\n",
       "        <td></td>\n",
       "        <td></td>\n",
       "        <td></td>\n",
       "    </tr>\n",
       "    <tr>\n",
       "        <th>997</th>\n",
       "        <td></td>\n",
       "        <td></td>\n",
       "        <td></td>\n",
       "        <td></td>\n",
       "        <td></td>\n",
       "        <td>&ctdot;</td>\n",
       "        <td></td>\n",
       "        <td></td>\n",
       "        <td></td>\n",
       "        <td>0.868</td>\n",
       "    </tr>\n",
       "    <tr>\n",
       "        <th>998</th>\n",
       "        <td></td>\n",
       "        <td></td>\n",
       "        <td></td>\n",
       "        <td>0.3552</td>\n",
       "        <td>0.03616</td>\n",
       "        <td>&ctdot;</td>\n",
       "        <td></td>\n",
       "        <td></td>\n",
       "        <td>0.7221</td>\n",
       "        <td></td>\n",
       "    </tr>\n",
       "    <tr>\n",
       "        <th>999</th>\n",
       "        <td></td>\n",
       "        <td></td>\n",
       "        <td></td>\n",
       "        <td></td>\n",
       "        <td></td>\n",
       "        <td>&ctdot;</td>\n",
       "        <td></td>\n",
       "        <td></td>\n",
       "        <td>0.729</td>\n",
       "        <td></td>\n",
       "    </tr>\n",
       "    </tbody>\n",
       "</table>\n",
       "</div>"
      ],
      "text/plain": [
       "<1000x1000 sparse matrix of type '<class 'numpy.float64'>'\n",
       "\twith 212345 stored elements in COOrdinate format>"
      ]
     },
     "execution_count": 5,
     "metadata": {},
     "output_type": "execute_result"
    }
   ],
   "source": [
    "A"
   ]
  },
  {
   "cell_type": "code",
   "execution_count": 6,
   "metadata": {
    "ExecuteTime": {
     "end_time": "2023-08-28T20:49:26.099780Z",
     "start_time": "2023-08-28T20:49:26.090663Z"
    },
    "collapsed": false,
    "jupyter": {
     "outputs_hidden": false
    }
   },
   "outputs": [],
   "source": [
    "# more compact view\n",
    "matrepr.params.max_rows = 10\n",
    "matrepr.params.max_cols = 7\n",
    "matrepr.params.num_after_dots = 0\n",
    "matrepr.params.indices = True"
   ]
  },
  {
   "cell_type": "code",
   "execution_count": 7,
   "metadata": {
    "ExecuteTime": {
     "end_time": "2023-08-28T20:49:26.106243Z",
     "start_time": "2023-08-28T20:49:26.099178Z"
    },
    "collapsed": false,
    "jupyter": {
     "outputs_hidden": false
    }
   },
   "outputs": [
    {
     "data": {
      "text/html": [
       "<div>\n",
       "<style scoped>\n",
       "    table.matreprmatrix  {\n",
       "        border-collapse: collapse;\n",
       "    }\n",
       "    table.matreprmatrix > thead  {\n",
       "        border: 0px;\n",
       "    }\n",
       "    table.matreprmatrix > tbody tr th {\n",
       "        font-size: smaller;\n",
       "        vertical-align: middle;\n",
       "        text-align: right;\n",
       "    }\n",
       "    table.matreprmatrix > thead tr th {\n",
       "        font-size: smaller;\n",
       "        vertical-align: middle;\n",
       "        text-align: center;\n",
       "    }\n",
       "    table.matreprmatrix > tbody tr td {\n",
       "        vertical-align: middle;\n",
       "        text-align: center;\n",
       "        position: relative;\n",
       "    }\n",
       "    table.matreprmatrix > tbody tr td:first-of-type {\n",
       "        border-left: solid 2px;\n",
       "    }\n",
       "    table.matreprmatrix > tbody tr td:last-of-type {\n",
       "        border-right: solid 2px;\n",
       "    }\n",
       "    table.matreprmatrix > tbody tr td:empty::before {\n",
       "        content: \"\\00a0\\00a0\\00a0\";\n",
       "        visibility: hidden;\n",
       "    }\n",
       "    table.matreprmatrix > tbody tr td:empty::after {\n",
       "        content: \"\\00a0\\00a0\\00a0\";\n",
       "        visibility: hidden;\n",
       "    }\n",
       "    table.matreprmatrix > tbody > tr:first-child > td:first-of-type::before {\n",
       "        content: \"\";\n",
       "        width: 4px;\n",
       "        position: absolute;\n",
       "        top: 0;\n",
       "        bottom: 0;\n",
       "        visibility: visible;\n",
       "        left: 0;\n",
       "        right: auto;\n",
       "        border-top: solid 2px;\n",
       "    }\n",
       "    table.matreprmatrix > tbody > tr:last-child > td:first-of-type::before {\n",
       "        content: \"\";\n",
       "        width: 4px;\n",
       "        position: absolute;\n",
       "        top: 0;\n",
       "        bottom: 0;\n",
       "        visibility: visible;\n",
       "        left: 0;\n",
       "        right: auto;\n",
       "        border-bottom: solid 2px;\n",
       "    }\n",
       "    table.matreprmatrix > tbody > tr:first-child > td:last-of-type::after {\n",
       "        content: \"\";\n",
       "        width: 4px;\n",
       "        position: absolute;\n",
       "        top: 0;\n",
       "        bottom: 0;\n",
       "        visibility: visible;\n",
       "        left: auto;\n",
       "        right: 0;\n",
       "        border-top: solid 2px;\n",
       "    }\n",
       "    table.matreprmatrix > tbody > tr:last-child > td:last-of-type::after {\n",
       "        content: \"\";\n",
       "        width: 4px;\n",
       "        position: absolute;\n",
       "        top: 0;\n",
       "        bottom: 0;\n",
       "        visibility: visible;\n",
       "        left: auto;\n",
       "        right: 0;\n",
       "        border-bottom: solid 2px;\n",
       "    }\n",
       "    table.matreprtensor > tbody tr th {\n",
       "        font-size: smaller;\n",
       "        vertical-align: middle;\n",
       "        text-align: right;\n",
       "    }\n",
       "    table.matreprtensor > thead tr th {\n",
       "        font-size: smaller;\n",
       "        vertical-align: middle;\n",
       "        text-align: center;\n",
       "    }\n",
       "    table.matreprtensor > tbody tr td {\n",
       "        vertical-align: middle;\n",
       "        text-align: center;\n",
       "        position: relative;\n",
       "    }\n",
       "    table.matreprtensor > tbody tr th:last-of-type {\n",
       "        border-right: solid 2px;\n",
       "    }\n",
       "</style>\n",
       "<p>1000×1000, 212345 'float64' elements, coo</p>\n",
       "<table class=\"matreprmatrix\">\n",
       "    <thead>\n",
       "    <tr>\n",
       "        <th></th>\n",
       "        <th style=\"text-align: center;\">0</th>\n",
       "        <th style=\"text-align: center;\">1</th>\n",
       "        <th style=\"text-align: center;\">2</th>\n",
       "        <th style=\"text-align: center;\">3</th>\n",
       "        <th style=\"text-align: center;\">4</th>\n",
       "        <th style=\"text-align: center;\">5</th>\n",
       "        <th style=\"text-align: center;\"></th>\n",
       "    </tr>\n",
       "    </thead>\n",
       "    <tbody>\n",
       "    <tr>\n",
       "        <th>0</th>\n",
       "        <td></td>\n",
       "        <td></td>\n",
       "        <td></td>\n",
       "        <td></td>\n",
       "        <td>0.3876</td>\n",
       "        <td></td>\n",
       "        <td>&ctdot;</td>\n",
       "    </tr>\n",
       "    <tr>\n",
       "        <th>1</th>\n",
       "        <td>0.5801</td>\n",
       "        <td>0.5085</td>\n",
       "        <td></td>\n",
       "        <td>0.8927</td>\n",
       "        <td></td>\n",
       "        <td></td>\n",
       "        <td>&ctdot;</td>\n",
       "    </tr>\n",
       "    <tr>\n",
       "        <th>2</th>\n",
       "        <td></td>\n",
       "        <td></td>\n",
       "        <td></td>\n",
       "        <td></td>\n",
       "        <td></td>\n",
       "        <td></td>\n",
       "        <td>&ctdot;</td>\n",
       "    </tr>\n",
       "    <tr>\n",
       "        <th>3</th>\n",
       "        <td></td>\n",
       "        <td></td>\n",
       "        <td>0.7142</td>\n",
       "        <td></td>\n",
       "        <td></td>\n",
       "        <td></td>\n",
       "        <td>&ctdot;</td>\n",
       "    </tr>\n",
       "    <tr>\n",
       "        <th>4</th>\n",
       "        <td></td>\n",
       "        <td></td>\n",
       "        <td></td>\n",
       "        <td></td>\n",
       "        <td></td>\n",
       "        <td>0.8631</td>\n",
       "        <td>&ctdot;</td>\n",
       "    </tr>\n",
       "    <tr>\n",
       "        <th>5</th>\n",
       "        <td>0.7863</td>\n",
       "        <td>0.1298</td>\n",
       "        <td>0.9918</td>\n",
       "        <td>0.71</td>\n",
       "        <td></td>\n",
       "        <td></td>\n",
       "        <td>&ctdot;</td>\n",
       "    </tr>\n",
       "    <tr>\n",
       "        <th>6</th>\n",
       "        <td></td>\n",
       "        <td></td>\n",
       "        <td>0.9481</td>\n",
       "        <td></td>\n",
       "        <td></td>\n",
       "        <td></td>\n",
       "        <td>&ctdot;</td>\n",
       "    </tr>\n",
       "    <tr>\n",
       "        <th>7</th>\n",
       "        <td></td>\n",
       "        <td></td>\n",
       "        <td></td>\n",
       "        <td></td>\n",
       "        <td></td>\n",
       "        <td></td>\n",
       "        <td>&ctdot;</td>\n",
       "    </tr>\n",
       "    <tr>\n",
       "        <th>8</th>\n",
       "        <td></td>\n",
       "        <td></td>\n",
       "        <td></td>\n",
       "        <td></td>\n",
       "        <td>0.4023</td>\n",
       "        <td></td>\n",
       "        <td>&ctdot;</td>\n",
       "    </tr>\n",
       "    <tr>\n",
       "        <th></th>\n",
       "        <td>&vellip;</td>\n",
       "        <td>&vellip;</td>\n",
       "        <td>&vellip;</td>\n",
       "        <td>&vellip;</td>\n",
       "        <td>&vellip;</td>\n",
       "        <td>&vellip;</td>\n",
       "        <td>&dtdot;</td>\n",
       "    </tr>\n",
       "    </tbody>\n",
       "</table>\n",
       "</div>"
      ],
      "text/plain": [
       "<IPython.core.display.HTML object>"
      ]
     },
     "metadata": {},
     "output_type": "display_data"
    }
   ],
   "source": [
    "matrepr.mdisplay(A)"
   ]
  },
  {
   "cell_type": "code",
   "execution_count": 8,
   "metadata": {
    "ExecuteTime": {
     "end_time": "2023-08-28T20:49:26.108290Z",
     "start_time": "2023-08-28T20:49:26.103564Z"
    },
    "collapsed": false,
    "jupyter": {
     "outputs_hidden": false
    }
   },
   "outputs": [
    {
     "data": {
      "text/latex": [
       "$\\begin{bmatrix}\n",
       "    & & & & 0.3876 & & \\dots \\\\\n",
       "    0.5801 & 0.5085 & & 0.8927 & & & \\dots \\\\\n",
       "    & & & & & & \\dots \\\\\n",
       "    & & 0.7142 & & & & \\dots \\\\\n",
       "    & & & & & 0.8631 & \\dots \\\\\n",
       "    0.7863 & 0.1298 & 0.9918 & 0.71 & & & \\dots \\\\\n",
       "    & & 0.9481 & & & & \\dots \\\\\n",
       "    & & & & & & \\dots \\\\\n",
       "    & & & & 0.4023 & & \\dots \\\\\n",
       "    \\vdots & \\vdots & \\vdots & \\vdots & \\vdots & \\vdots & \\ddots\n",
       "\\end{bmatrix}$"
      ],
      "text/plain": [
       "<IPython.core.display.Latex object>"
      ]
     },
     "metadata": {},
     "output_type": "display_data"
    }
   ],
   "source": [
    "matrepr.mdisplay(A, \"latex\")"
   ]
  },
  {
   "cell_type": "code",
   "execution_count": 9,
   "metadata": {
    "ExecuteTime": {
     "end_time": "2023-08-28T20:49:26.118358Z",
     "start_time": "2023-08-28T20:49:26.108163Z"
    }
   },
   "outputs": [
    {
     "data": {
      "text/plain": [
       "1000×1000, 212345 'float64' elements, coo\n",
       "        0        1        2        3        4        5\n",
       "    ┌                                                           ┐\n",
       "  0 │                                     0.3876            ... │\n",
       "  1 │ 0.5801   0.5085            0.8927                     ... │\n",
       "  2 │                                                       ... │\n",
       "  3 │                   0.7142                              ... │\n",
       "  4 │                                              0.8631   ... │\n",
       "  5 │ 0.7863   0.1298   0.9918    0.71                      ... │\n",
       "  6 │                   0.9481                              ... │\n",
       "  7 │                                                       ... │\n",
       "  8 │                                     0.4023            ... │\n",
       "    │   :        :        :        :        :        :      ... │\n",
       "    └                                                           ┘"
      ]
     },
     "metadata": {},
     "output_type": "display_data"
    }
   ],
   "source": [
    "matrepr.mdisplay(A, \"str\")"
   ]
  },
  {
   "cell_type": "code",
   "execution_count": null,
   "metadata": {
    "ExecuteTime": {
     "end_time": "2023-08-28T20:49:26.118474Z",
     "start_time": "2023-08-28T20:49:26.115678Z"
    }
   },
   "outputs": [],
   "source": []
  }
 ],
 "metadata": {
  "kernelspec": {
   "display_name": "Python 3 (ipykernel)",
   "language": "python",
   "name": "python3"
  },
  "language_info": {
   "codemirror_mode": {
    "name": "ipython",
    "version": 3
   },
   "file_extension": ".py",
   "mimetype": "text/x-python",
   "name": "python",
   "nbconvert_exporter": "python",
   "pygments_lexer": "ipython3",
   "version": "3.11.2"
  }
 },
 "nbformat": 4,
 "nbformat_minor": 4
}
