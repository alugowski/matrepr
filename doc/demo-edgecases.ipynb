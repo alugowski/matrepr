{
 "cells": [
  {
   "cell_type": "markdown",
   "metadata": {
    "collapsed": false,
    "jupyter": {
     "outputs_hidden": false
    }
   },
   "source": [
    "# MatRepr - edge cases"
   ]
  },
  {
   "cell_type": "code",
   "execution_count": 1,
   "metadata": {
    "collapsed": false,
    "jupyter": {
     "outputs_hidden": false
    },
    "ExecuteTime": {
     "end_time": "2023-08-26T20:22:20.633783Z",
     "start_time": "2023-08-26T20:22:20.619445Z"
    }
   },
   "outputs": [],
   "source": [
    "# so matrepr can be imported from the source tree.\n",
    "import sys\n",
    "sys.path.insert(0, '..')\n",
    "\n",
    "from matrepr.jupyter import mdisplay"
   ]
  },
  {
   "cell_type": "markdown",
   "metadata": {
    "collapsed": false,
    "jupyter": {
     "outputs_hidden": false
    }
   },
   "source": [
    "## SciPy\n",
    "\n",
    "* duplicate entries\n",
    "* explicit zero"
   ]
  },
  {
   "cell_type": "code",
   "execution_count": 2,
   "metadata": {
    "collapsed": false,
    "jupyter": {
     "outputs_hidden": false
    },
    "ExecuteTime": {
     "end_time": "2023-08-26T20:22:20.796758Z",
     "start_time": "2023-08-26T20:22:20.630302Z"
    }
   },
   "outputs": [],
   "source": [
    "import scipy\n",
    "\n",
    "row = [0, 0, 1, 2, 2, 3, 3, 3, 4]\n",
    "col = [0, 1, 0, 2, 2, 3, 3, 3, 4]\n",
    "val = [1, 12e34, 1e-6, 2.1, 2.2, 3.1, 3.2, 3.3, 0]\n",
    "A = scipy.sparse.coo_array((val, (row, col)), shape=(5, 5))"
   ]
  },
  {
   "cell_type": "code",
   "execution_count": 3,
   "metadata": {
    "collapsed": false,
    "jupyter": {
     "outputs_hidden": false
    },
    "ExecuteTime": {
     "end_time": "2023-08-26T20:22:20.801563Z",
     "start_time": "2023-08-26T20:22:20.797197Z"
    }
   },
   "outputs": [
    {
     "data": {
      "text/plain": "<5x5 sparse array of type '<class 'numpy.float64'>'\n\twith 9 stored elements in COOrdinate format>",
      "text/html": "<div>\n<style scoped>\n    table.matrepr  {\n        border-collapse: collapse;\n    }\n    table.matrepr thead  {\n        border: 0px;\n    }\n    table.matrepr tbody tr th {\n        font-size: smaller;\n        vertical-align: middle;\n        text-align: right;\n    }\n    table.matrepr thead tr th {\n        font-size: smaller;\n        vertical-align: middle;\n        text-align: center;\n    }\n    table.matrepr tbody tr td {\n        vertical-align: middle;\n        text-align: center;\n        position: relative;\n    }\n    table.matrepr tbody tr td:first-of-type {\n        border-left: solid 2px;\n    }\n    table.matrepr tbody tr td:last-of-type {\n        border-right: solid 2px;\n    }\n    table.matrepr tbody tr td:empty::before {\n        content: \"\\00a0\\00a0\\00a0\";\n        visibility: hidden;\n    }\n    table.matrepr tbody tr td:empty::after {\n        content: \"\\00a0\\00a0\\00a0\";\n        visibility: hidden;\n    }\n    table.matrepr tbody tr:first-child td:first-of-type::before {\n        content: \"\";\n        width: 4px;\n        position: absolute;\n        top: 0;\n        bottom: 0;\n        visibility: visible;\n        left: 0;\n        right: auto;\n        border-top: solid 2px;\n    }\n    table.matrepr tbody tr:last-child td:first-of-type::before {\n        content: \"\";\n        width: 4px;\n        position: absolute;\n        top: 0;\n        bottom: 0;\n        visibility: visible;\n        left: 0;\n        right: auto;\n        border-bottom: solid 2px;\n    }\n    table.matrepr tbody tr:first-child td:last-of-type::after {\n        content: \"\";\n        width: 4px;\n        position: absolute;\n        top: 0;\n        bottom: 0;\n        visibility: visible;\n        left: auto;\n        right: 0;\n        border-top: solid 2px;\n    }\n    table.matrepr tbody tr:last-child td:last-of-type::after {\n        content: \"\";\n        width: 4px;\n        position: absolute;\n        top: 0;\n        bottom: 0;\n        visibility: visible;\n        left: auto;\n        right: 0;\n        border-bottom: solid 2px;\n    }\n</style>\n<p>5×5, 9 'float64' elements, coo</p>\n<table class=\"matrepr\">\n    <thead>\n    <tr>\n        <th></th>\n        <th style=\"text-align: center;\">0</th>\n        <th style=\"text-align: center;\">1</th>\n        <th style=\"text-align: center;\">2</th>\n        <th style=\"text-align: center;\">3</th>\n        <th style=\"text-align: center;\">4</th>\n    </tr>\n    </thead>\n    <tbody>\n    <tr>\n        <th>0</th>\n        <td>1</td>\n        <td>1.2e+35</td>\n        <td></td>\n        <td></td>\n        <td></td>\n    </tr>\n    <tr>\n        <th>1</th>\n        <td>1e-06</td>\n        <td></td>\n        <td></td>\n        <td></td>\n        <td></td>\n    </tr>\n    <tr>\n        <th>2</th>\n        <td></td>\n        <td></td>\n        <td>2.1<br>2.2</td>\n        <td></td>\n        <td></td>\n    </tr>\n    <tr>\n        <th>3</th>\n        <td></td>\n        <td></td>\n        <td></td>\n        <td>3.1<br>3.2<br>3.3</td>\n        <td></td>\n    </tr>\n    <tr>\n        <th>4</th>\n        <td></td>\n        <td></td>\n        <td></td>\n        <td></td>\n        <td>0</td>\n    </tr>\n    </tbody>\n</table>\n</div>"
     },
     "execution_count": 3,
     "metadata": {},
     "output_type": "execute_result"
    }
   ],
   "source": [
    "A"
   ]
  },
  {
   "cell_type": "code",
   "execution_count": 4,
   "metadata": {
    "collapsed": false,
    "jupyter": {
     "outputs_hidden": false
    },
    "ExecuteTime": {
     "end_time": "2023-08-26T20:22:20.807823Z",
     "start_time": "2023-08-26T20:22:20.803429Z"
    }
   },
   "outputs": [
    {
     "data": {
      "text/plain": "<IPython.core.display.Latex object>",
      "text/latex": "$\\begin{bmatrix}\n    1 & 1.2 \\times 10^{35} & & & \\\\\n    1 \\times 10^{-6} & & & & \\\\\n    & & \\begin{Bmatrix}\n    2.1 \\\\\n    2.2\n\\end{Bmatrix} & & \\\\\n    & & & \\begin{Bmatrix}\n    3.1 \\\\\n    3.2 \\\\\n    3.3\n\\end{Bmatrix} & \\\\\n    & & & & 0\n\\end{bmatrix}$"
     },
     "metadata": {},
     "output_type": "display_data"
    }
   ],
   "source": [
    "mdisplay(A, \"latex\")"
   ]
  },
  {
   "cell_type": "code",
   "execution_count": 5,
   "metadata": {
    "collapsed": false,
    "jupyter": {
     "outputs_hidden": false
    },
    "ExecuteTime": {
     "end_time": "2023-08-26T20:22:20.813993Z",
     "start_time": "2023-08-26T20:22:20.808090Z"
    }
   },
   "outputs": [
    {
     "data": {
      "text/plain": "5×5, 9 'float64' elements, coo\n        0        1          2               3           4\n    ┌                                                      ┐\n  0 │   1     1.2e+35                                      │\n  1 │ 1e-06                                                │\n  2 │                   [2.1, 2.2]                         │\n  3 │                                [3.1, 3.2, 3.3]       │\n  4 │                                                   0  │\n    └                                                      ┘"
     },
     "metadata": {},
     "output_type": "display_data"
    }
   ],
   "source": [
    "mdisplay(A, \"str\")"
   ]
  },
  {
   "cell_type": "markdown",
   "metadata": {
    "collapsed": false,
    "jupyter": {
     "outputs_hidden": false
    }
   },
   "source": [
    "## Lists\n",
    "\n",
    "* uneven row lengths\n",
    "* varying row types\n",
    "* explicit zero\n",
    "* contains nested lists\n",
    "* contains other supported matrix types, like a SciPy matrix\n",
    "* Strings elements with HTML and LaTeX control characters\n",
    "* Complex numbers\n",
    "* User-defined numpy dtypes\n"
   ]
  },
  {
   "cell_type": "code",
   "execution_count": 6,
   "metadata": {
    "collapsed": false,
    "jupyter": {
     "outputs_hidden": false
    },
    "ExecuteTime": {
     "end_time": "2023-08-26T20:22:20.915181Z",
     "start_time": "2023-08-26T20:22:20.907829Z"
    }
   },
   "outputs": [],
   "source": [
    "import numpy as np\n",
    "\n",
    "sps_mat = scipy.sparse.coo_array(([1, 2, 3, 4], ([0, 0, 1, 1], [0, 1, 0, 1])), shape=(2, 2))\n",
    "\n",
    "dtype_a = np.dtype([(\"x\", np.bool_), (\"y\", np.int64)], align=True)\n",
    "np_a = np.array([(False, 2)], dtype=dtype_a)[0]\n",
    "dtype_b = np.dtype(\"(3,)uint16\")\n",
    "np_b = np.array([(1, 2, 3)], dtype=dtype_b)[0]\n",
    "np_2D = None  # np.array([[11, 22], [33, 44]])\n",
    "\n",
    "list_mat = [\n",
    "    (0, 12e34, 1e-6, None, 123456789),\n",
    "    1,\n",
    "    [complex(1, 2), complex(123456, 0.123456)],\n",
    "    [[1], sps_mat, [2.1, 2.2], [[1.1, 2.2], [3.3, 4.4]]],\n",
    "    [\"multiline\\nstring\", \"<escape!>\", \"\\\\begin{escape!}\", {\"a Python set\"}],\n",
    "    [np_a, np_b, np_2D]\n",
    "]"
   ]
  },
  {
   "cell_type": "code",
   "execution_count": 7,
   "metadata": {
    "collapsed": false,
    "jupyter": {
     "outputs_hidden": false
    },
    "ExecuteTime": {
     "end_time": "2023-08-26T20:22:20.921607Z",
     "start_time": "2023-08-26T20:22:20.915949Z"
    }
   },
   "outputs": [
    {
     "data": {
      "text/plain": "<IPython.core.display.HTML object>",
      "text/html": "<div>\n<style scoped>\n    table.matrepr  {\n        border-collapse: collapse;\n    }\n    table.matrepr thead  {\n        border: 0px;\n    }\n    table.matrepr tbody tr th {\n        font-size: smaller;\n        vertical-align: middle;\n        text-align: right;\n    }\n    table.matrepr thead tr th {\n        font-size: smaller;\n        vertical-align: middle;\n        text-align: center;\n    }\n    table.matrepr tbody tr td {\n        vertical-align: middle;\n        text-align: center;\n        position: relative;\n    }\n    table.matrepr tbody tr td:first-of-type {\n        border-left: solid 2px;\n    }\n    table.matrepr tbody tr td:last-of-type {\n        border-right: solid 2px;\n    }\n    table.matrepr tbody tr td:empty::before {\n        content: \"\\00a0\\00a0\\00a0\";\n        visibility: hidden;\n    }\n    table.matrepr tbody tr td:empty::after {\n        content: \"\\00a0\\00a0\\00a0\";\n        visibility: hidden;\n    }\n    table.matrepr tbody tr:first-child td:first-of-type::before {\n        content: \"\";\n        width: 4px;\n        position: absolute;\n        top: 0;\n        bottom: 0;\n        visibility: visible;\n        left: 0;\n        right: auto;\n        border-top: solid 2px;\n    }\n    table.matrepr tbody tr:last-child td:first-of-type::before {\n        content: \"\";\n        width: 4px;\n        position: absolute;\n        top: 0;\n        bottom: 0;\n        visibility: visible;\n        left: 0;\n        right: auto;\n        border-bottom: solid 2px;\n    }\n    table.matrepr tbody tr:first-child td:last-of-type::after {\n        content: \"\";\n        width: 4px;\n        position: absolute;\n        top: 0;\n        bottom: 0;\n        visibility: visible;\n        left: auto;\n        right: 0;\n        border-top: solid 2px;\n    }\n    table.matrepr tbody tr:last-child td:last-of-type::after {\n        content: \"\";\n        width: 4px;\n        position: absolute;\n        top: 0;\n        bottom: 0;\n        visibility: visible;\n        left: auto;\n        right: 0;\n        border-bottom: solid 2px;\n    }\n</style>\n<p>6×5, 17 elements</p>\n<table class=\"matrepr\">\n    <thead>\n    <tr>\n        <th></th>\n        <th style=\"text-align: center;\">0</th>\n        <th style=\"text-align: center;\">1</th>\n        <th style=\"text-align: center;\">2</th>\n        <th style=\"text-align: center;\">3</th>\n        <th style=\"text-align: center;\">4</th>\n    </tr>\n    </thead>\n    <tbody>\n    <tr>\n        <th>0</th>\n        <td>0</td>\n        <td>1.2e+35</td>\n        <td>1e-06</td>\n        <td></td>\n        <td>1.235e+08</td>\n    </tr>\n    <tr>\n        <th>1</th>\n        <td>1</td>\n        <td></td>\n        <td></td>\n        <td></td>\n        <td></td>\n    </tr>\n    <tr>\n        <th>2</th>\n        <td>1+2<i>i</i></td>\n        <td>1.235e05 + 0.1235<i>i</i></td>\n        <td></td>\n        <td></td>\n        <td></td>\n    </tr>\n    <tr>\n        <th>3</th>\n        <td>\n<div>\n            <table class=\"matrepr\" style=\"margin: 0 auto;\">\n                <tbody>\n                <tr>\n                    <td>1</td>\n                </tr>\n                </tbody>\n            </table>\n</div></td>\n        <td>\n<div>\n            <table class=\"matrepr\" style=\"margin: 0 auto;\">\n                <tbody>\n                <tr>\n                    <td>1</td>\n                    <td>2</td>\n                </tr>\n                <tr>\n                    <td>3</td>\n                    <td>4</td>\n                </tr>\n                </tbody>\n            </table>\n</div></td>\n        <td>\n<div>\n            <table class=\"matrepr\" style=\"margin: 0 auto;\">\n                <tbody>\n                <tr>\n                    <td>2.1</td>\n                    <td>2.2</td>\n                </tr>\n                </tbody>\n            </table>\n</div></td>\n        <td>\n<div>\n            <table class=\"matrepr\" style=\"margin: 0 auto;\">\n                <tbody>\n                <tr>\n                    <td>1.1</td>\n                    <td>2.2</td>\n                </tr>\n                <tr>\n                    <td>3.3</td>\n                    <td>4.4</td>\n                </tr>\n                </tbody>\n            </table>\n</div></td>\n        <td></td>\n    </tr>\n    <tr>\n        <th>4</th>\n        <td>multiline<br>string</td>\n        <td>&lt;escape!&gt;</td>\n        <td>\\begin{escape!}</td>\n        <td>{&#x27;a Python set&#x27;}</td>\n        <td></td>\n    </tr>\n    <tr>\n        <th>5</th>\n        <td>(False, 2)</td>\n        <td>[1 2 3]</td>\n        <td></td>\n        <td></td>\n        <td></td>\n    </tr>\n    </tbody>\n</table>\n</div>"
     },
     "metadata": {},
     "output_type": "display_data"
    }
   ],
   "source": [
    "mdisplay(list_mat, \"html\")"
   ]
  },
  {
   "cell_type": "code",
   "execution_count": 8,
   "metadata": {
    "collapsed": false,
    "jupyter": {
     "outputs_hidden": false
    },
    "ExecuteTime": {
     "end_time": "2023-08-26T20:22:20.929759Z",
     "start_time": "2023-08-26T20:22:20.921850Z"
    }
   },
   "outputs": [
    {
     "data": {
      "text/plain": "<IPython.core.display.Latex object>",
      "text/latex": "$\\begin{bmatrix}\n    0 & 1.2 \\times 10^{35} & 1 \\times 10^{-6} & & 1.235 \\times 10^{8} \\\\\n    1 & & & & \\\\\n    1+2i & 1.235 \\times 10^{5}+0.1235i & & & \\\\\n    \\begin{bmatrix}\n    1\n\\end{bmatrix} & \\begin{bmatrix}\n    \\textrm{1} & \\textrm{2} \\\\\n    \\textrm{3} & \\textrm{4}\n\\end{bmatrix} & \\begin{bmatrix}\n    2.1 & 2.2\n\\end{bmatrix} & \\begin{bmatrix}\n    1.1 & 2.2 \\\\\n    3.3 & 4.4\n\\end{bmatrix} & \\\\\n    \\begin{matrix}\n    \\textrm{multiline} \\\\\n    \\textrm{string}\n\\end{matrix} & \\textrm{<escape!>} & \\textrm{\\\\begin\\{escape!\\}} & \\textrm{\\{'a Python set'\\}} & \\\\\n    \\textrm{(False, 2)} & \\textrm{[1 2 3]} & & &\n\\end{bmatrix}$"
     },
     "metadata": {},
     "output_type": "display_data"
    }
   ],
   "source": [
    "mdisplay(list_mat, \"latex\")"
   ]
  },
  {
   "cell_type": "code",
   "execution_count": 9,
   "metadata": {
    "collapsed": false,
    "jupyter": {
     "outputs_hidden": false
    },
    "ExecuteTime": {
     "end_time": "2023-08-26T20:22:20.945240Z",
     "start_time": "2023-08-26T20:22:20.931806Z"
    }
   },
   "outputs": [
    {
     "data": {
      "text/plain": "6×5, 17 elements\n               0                    1                    2                       3                   4\n    ┌                                                                                                      ┐\n  0 │          0                 1.2e+35               1e-06                                     1.235e+08 │\n  1 │          1                                                                                           │\n  2 │        1+2i           1.235e05 + 0.1235i                                                             │\n  3 │         [1]            [[1, 2], [3, 4]]        [2.1, 2.2]       [[1.1, 2.2], [3.3, 4.4]]             │\n  4 │ 'multiline\\nstring'      '<escape!>'       '\\\\begin{escape!}'       {'a Python set'}                 │\n  5 │     (False, 2)             [1 2 3]                                                                   │\n    └                                                                                                      ┘"
     },
     "metadata": {},
     "output_type": "display_data"
    }
   ],
   "source": [
    "mdisplay(list_mat, \"str\")"
   ]
  },
  {
   "cell_type": "code",
   "execution_count": 9,
   "metadata": {
    "ExecuteTime": {
     "end_time": "2023-08-26T20:22:20.962692Z",
     "start_time": "2023-08-26T20:22:20.940200Z"
    }
   },
   "outputs": [],
   "source": []
  }
 ],
 "metadata": {
  "kernelspec": {
   "display_name": "Python 3 (ipykernel)",
   "language": "python",
   "name": "python3"
  },
  "language_info": {
   "codemirror_mode": {
    "name": "ipython",
    "version": 3
   },
   "file_extension": ".py",
   "mimetype": "text/x-python",
   "name": "python",
   "nbconvert_exporter": "python",
   "pygments_lexer": "ipython3",
   "version": "3.11.2"
  }
 },
 "nbformat": 4,
 "nbformat_minor": 4
}
