{
 "cells": [
  {
   "cell_type": "markdown",
   "metadata": {
    "collapsed": false,
    "jupyter": {
     "outputs_hidden": false
    }
   },
   "source": [
    "# MatRepr - edge cases"
   ]
  },
  {
   "cell_type": "code",
   "execution_count": 1,
   "metadata": {
    "ExecuteTime": {
     "end_time": "2023-08-24T05:18:00.902147Z",
     "start_time": "2023-08-24T05:18:00.864572Z"
    },
    "collapsed": false,
    "jupyter": {
     "outputs_hidden": false
    }
   },
   "outputs": [],
   "source": [
    "# so matrepr can be imported from the source tree.\n",
    "import sys\n",
    "sys.path.insert(0, '..')\n",
    "\n",
    "from matrepr.jupyter import mdisplay"
   ]
  },
  {
   "cell_type": "markdown",
   "metadata": {
    "collapsed": false,
    "jupyter": {
     "outputs_hidden": false
    }
   },
   "source": [
    "## SciPy\n",
    "\n",
    "* duplicate entries\n",
    "* explicit zero"
   ]
  },
  {
   "cell_type": "code",
   "execution_count": 2,
   "metadata": {
    "ExecuteTime": {
     "end_time": "2023-08-24T05:18:01.096620Z",
     "start_time": "2023-08-24T05:18:00.873218Z"
    },
    "collapsed": false,
    "jupyter": {
     "outputs_hidden": false
    }
   },
   "outputs": [],
   "source": [
    "import scipy\n",
    "\n",
    "row = [0, 0, 1, 2, 2, 3, 3, 3, 4]\n",
    "col = [0, 1, 0, 2, 2, 3, 3, 3, 4]\n",
    "val = [1, 12e34, 1e-6, 2.1, 2.2, 3.1, 3.2, 3.3, 0]\n",
    "A = scipy.sparse.coo_array((val, (row, col)), shape=(5, 5))"
   ]
  },
  {
   "cell_type": "code",
   "execution_count": 3,
   "metadata": {
    "ExecuteTime": {
     "end_time": "2023-08-24T05:18:01.107057Z",
     "start_time": "2023-08-24T05:18:01.097167Z"
    },
    "collapsed": false,
    "jupyter": {
     "outputs_hidden": false
    }
   },
   "outputs": [
    {
     "data": {
      "text/html": [
       "<div>\n",
       "<style scoped>\n",
       "    table.matrepr  {\n",
       "        border-collapse: collapse;\n",
       "    }\n",
       "    table.matrepr thead  {\n",
       "        border: 0px;\n",
       "    }\n",
       "    table.matrepr tbody tr th {\n",
       "        font-size: smaller;\n",
       "        vertical-align: middle;\n",
       "        text-align: right;\n",
       "    }\n",
       "    table.matrepr thead tr th {\n",
       "        font-size: smaller;\n",
       "        vertical-align: middle;\n",
       "        text-align: center;\n",
       "    }\n",
       "    table.matrepr tbody tr td {\n",
       "        vertical-align: middle;\n",
       "        text-align: center;\n",
       "        position: relative;\n",
       "    }\n",
       "    table.matrepr tbody tr td:first-of-type {\n",
       "        border-left: solid 2px;\n",
       "    }\n",
       "    table.matrepr tbody tr td:last-of-type {\n",
       "        border-right: solid 2px;\n",
       "    }\n",
       "    table.matrepr tbody tr td:empty::before {\n",
       "        content: \"\\00a0\\00a0\\00a0\";\n",
       "        visibility: hidden;\n",
       "    }\n",
       "    table.matrepr tbody tr td:empty::after {\n",
       "        content: \"\\00a0\\00a0\\00a0\";\n",
       "        visibility: hidden;\n",
       "    }\n",
       "    table.matrepr tbody tr:first-child td:first-of-type::before {\n",
       "        content: \"\";\n",
       "        width: 4px;\n",
       "        position: absolute;\n",
       "        top: 0;\n",
       "        bottom: 0;\n",
       "        visibility: visible;\n",
       "        left: 0;\n",
       "        right: auto;\n",
       "        border-top: solid 2px;\n",
       "    }\n",
       "    table.matrepr tbody tr:last-child td:first-of-type::before {\n",
       "        content: \"\";\n",
       "        width: 4px;\n",
       "        position: absolute;\n",
       "        top: 0;\n",
       "        bottom: 0;\n",
       "        visibility: visible;\n",
       "        left: 0;\n",
       "        right: auto;\n",
       "        border-bottom: solid 2px;\n",
       "    }\n",
       "    table.matrepr tbody tr:first-child td:last-of-type:not(:empty)::after {\n",
       "        content: \"\";\n",
       "        width: 4px;\n",
       "        position: absolute;\n",
       "        top: 0;\n",
       "        bottom: 0;\n",
       "        visibility: visible;\n",
       "        left: auto;\n",
       "        right: 0;\n",
       "        border-top: solid 2px;\n",
       "    }\n",
       "    table.matrepr tbody tr:last-child td:last-of-type:not(:empty)::after {\n",
       "        content: \"\";\n",
       "        width: 4px;\n",
       "        position: absolute;\n",
       "        top: 0;\n",
       "        bottom: 0;\n",
       "        visibility: visible;\n",
       "        left: auto;\n",
       "        right: 0;\n",
       "        border-bottom: solid 2px;\n",
       "    }\n",
       "    table.matrepr tbody tr:first-child td:last-of-type:empty::after {\n",
       "        content: \"\\00a0\\00a0\\00a0\";\n",
       "        width: 4px;\n",
       "        position: absolute;\n",
       "        top: 0;\n",
       "        bottom: 0;\n",
       "        visibility: visible;\n",
       "        left: auto;\n",
       "        right: 0;\n",
       "        border-top: solid 2px;\n",
       "    }\n",
       "    table.matrepr tbody tr:last-child td:last-of-type:empty::after {\n",
       "        content: \"\\00a0\\00a0\\00a0\";\n",
       "        width: 4px;\n",
       "        position: absolute;\n",
       "        top: 0;\n",
       "        bottom: 0;\n",
       "        visibility: visible;\n",
       "        left: auto;\n",
       "        right: 0;\n",
       "        border-bottom: solid 2px;\n",
       "    }\n",
       "</style>\n",
       "<p>5×5, 9 'float64' elements, coo</p>\n",
       "<table class=\"matrepr\">\n",
       "    <thead>\n",
       "    <tr>\n",
       "        <th></th>\n",
       "        <th style=\"text-align: center;\">0</th>\n",
       "        <th style=\"text-align: center;\">1</th>\n",
       "        <th style=\"text-align: center;\">2</th>\n",
       "        <th style=\"text-align: center;\">3</th>\n",
       "        <th style=\"text-align: center;\">4</th>\n",
       "    </tr>\n",
       "    </thead>\n",
       "    <tbody>\n",
       "    <tr>\n",
       "        <th>0</th>\n",
       "        <td>1</td>\n",
       "        <td>1.2e+35</td>\n",
       "        <td></td>\n",
       "        <td></td>\n",
       "        <td></td>\n",
       "    </tr>\n",
       "    <tr>\n",
       "        <th>1</th>\n",
       "        <td>1e-06</td>\n",
       "        <td></td>\n",
       "        <td></td>\n",
       "        <td></td>\n",
       "        <td></td>\n",
       "    </tr>\n",
       "    <tr>\n",
       "        <th>2</th>\n",
       "        <td></td>\n",
       "        <td></td>\n",
       "        <td>2.1<br>2.2</td>\n",
       "        <td></td>\n",
       "        <td></td>\n",
       "    </tr>\n",
       "    <tr>\n",
       "        <th>3</th>\n",
       "        <td></td>\n",
       "        <td></td>\n",
       "        <td></td>\n",
       "        <td>3.1<br>3.2<br>3.3</td>\n",
       "        <td></td>\n",
       "    </tr>\n",
       "    <tr>\n",
       "        <th>4</th>\n",
       "        <td></td>\n",
       "        <td></td>\n",
       "        <td></td>\n",
       "        <td></td>\n",
       "        <td>0</td>\n",
       "    </tr>\n",
       "    </tbody>\n",
       "</table>\n",
       "</div>"
      ],
      "text/plain": [
       "<5x5 sparse array of type '<class 'numpy.float64'>'\n",
       "\twith 9 stored elements in COOrdinate format>"
      ]
     },
     "execution_count": 3,
     "metadata": {},
     "output_type": "execute_result"
    }
   ],
   "source": [
    "A"
   ]
  },
  {
   "cell_type": "code",
   "execution_count": 4,
   "metadata": {
    "ExecuteTime": {
     "end_time": "2023-08-24T05:18:01.117848Z",
     "start_time": "2023-08-24T05:18:01.109136Z"
    },
    "collapsed": false,
    "jupyter": {
     "outputs_hidden": false
    }
   },
   "outputs": [
    {
     "data": {
      "text/latex": [
       "$\\begin{bmatrix}\n",
       "    1 & 1.2 \\times 10^{35} & & & \\\\\n",
       "    1 \\times 10^{-6} & & & & \\\\\n",
       "    & & \\begin{Bmatrix}\n",
       "    2.1 \\\\\n",
       "    2.2\n",
       "\\end{Bmatrix} & & \\\\\n",
       "    & & & \\begin{Bmatrix}\n",
       "    3.1 \\\\\n",
       "    3.2 \\\\\n",
       "    3.3\n",
       "\\end{Bmatrix} & \\\\\n",
       "    & & & & 0\n",
       "\\end{bmatrix}$"
      ],
      "text/plain": [
       "<IPython.core.display.Latex object>"
      ]
     },
     "metadata": {},
     "output_type": "display_data"
    }
   ],
   "source": [
    "mdisplay(A, \"latex\")"
   ]
  },
  {
   "cell_type": "code",
   "execution_count": 5,
   "metadata": {
    "ExecuteTime": {
     "end_time": "2023-08-24T05:18:01.139867Z",
     "start_time": "2023-08-24T05:18:01.124836Z"
    },
    "collapsed": false,
    "jupyter": {
     "outputs_hidden": false
    }
   },
   "outputs": [
    {
     "data": {
      "text/plain": [
       "5×5, 9 'float64' elements, coo\n",
       "        0        1            2                    3              4\n",
       "    ┌                                                                ┐\n",
       "  0 │   1     1.2e+35                                                │\n",
       "  1 │ 1e-06                                                          │\n",
       "  2 │                   ['2.1', '2.2']                               │\n",
       "  3 │                                    ['3.1', '3.2', '3.3']       │\n",
       "  4 │                                                             0  │\n",
       "    └                                                                ┘"
      ]
     },
     "metadata": {},
     "output_type": "display_data"
    }
   ],
   "source": [
    "mdisplay(A, \"str\")"
   ]
  },
  {
   "cell_type": "markdown",
   "metadata": {
    "collapsed": false,
    "jupyter": {
     "outputs_hidden": false
    }
   },
   "source": [
    "## Lists\n",
    "\n",
    "* uneven row lengths\n",
    "* varying row types\n",
    "* explicit zero\n",
    "* contains nested lists\n",
    "* contains other supported matrix types, like a SciPy matrix\n",
    "* Strings elements with HTML and LaTeX control characters\n",
    "* Complex numbers\n"
   ]
  },
  {
   "cell_type": "code",
   "execution_count": 6,
   "metadata": {
    "ExecuteTime": {
     "end_time": "2023-08-24T05:18:01.151550Z",
     "start_time": "2023-08-24T05:18:01.136980Z"
    },
    "collapsed": false,
    "jupyter": {
     "outputs_hidden": false
    }
   },
   "outputs": [],
   "source": [
    "sps_mat = scipy.sparse.coo_array(([1, 2, 3, 4], ([0, 0, 1, 1], [0, 1, 0, 1])), shape=(2, 2))\n",
    "\n",
    "list_mat = [\n",
    "    (0, 12e34, 1e-6, None, 123456789),\n",
    "    1,\n",
    "    [complex(1, 2), complex(123456, 0.123456)],\n",
    "    [[1], sps_mat, [3.1, 3.2, 3.3], [[1.1, 2.2], [3.3, 4.4]]],\n",
    "    [\"multiline\\nstring\", \"<escape!>\", \"\\\\begin{escape!}\", {\"a Python set\"}],\n",
    "]"
   ]
  },
  {
   "cell_type": "code",
   "execution_count": 7,
   "metadata": {
    "ExecuteTime": {
     "end_time": "2023-08-24T05:18:01.156748Z",
     "start_time": "2023-08-24T05:18:01.149961Z"
    },
    "collapsed": false,
    "jupyter": {
     "outputs_hidden": false
    }
   },
   "outputs": [
    {
     "data": {
      "text/html": [
       "<div>\n",
       "<style scoped>\n",
       "    table.matrepr  {\n",
       "        border-collapse: collapse;\n",
       "    }\n",
       "    table.matrepr thead  {\n",
       "        border: 0px;\n",
       "    }\n",
       "    table.matrepr tbody tr th {\n",
       "        font-size: smaller;\n",
       "        vertical-align: middle;\n",
       "        text-align: right;\n",
       "    }\n",
       "    table.matrepr thead tr th {\n",
       "        font-size: smaller;\n",
       "        vertical-align: middle;\n",
       "        text-align: center;\n",
       "    }\n",
       "    table.matrepr tbody tr td {\n",
       "        vertical-align: middle;\n",
       "        text-align: center;\n",
       "        position: relative;\n",
       "    }\n",
       "    table.matrepr tbody tr td:first-of-type {\n",
       "        border-left: solid 2px;\n",
       "    }\n",
       "    table.matrepr tbody tr td:last-of-type {\n",
       "        border-right: solid 2px;\n",
       "    }\n",
       "    table.matrepr tbody tr td:empty::before {\n",
       "        content: \"\\00a0\\00a0\\00a0\";\n",
       "        visibility: hidden;\n",
       "    }\n",
       "    table.matrepr tbody tr td:empty::after {\n",
       "        content: \"\\00a0\\00a0\\00a0\";\n",
       "        visibility: hidden;\n",
       "    }\n",
       "    table.matrepr tbody tr:first-child td:first-of-type::before {\n",
       "        content: \"\";\n",
       "        width: 4px;\n",
       "        position: absolute;\n",
       "        top: 0;\n",
       "        bottom: 0;\n",
       "        visibility: visible;\n",
       "        left: 0;\n",
       "        right: auto;\n",
       "        border-top: solid 2px;\n",
       "    }\n",
       "    table.matrepr tbody tr:last-child td:first-of-type::before {\n",
       "        content: \"\";\n",
       "        width: 4px;\n",
       "        position: absolute;\n",
       "        top: 0;\n",
       "        bottom: 0;\n",
       "        visibility: visible;\n",
       "        left: 0;\n",
       "        right: auto;\n",
       "        border-bottom: solid 2px;\n",
       "    }\n",
       "    table.matrepr tbody tr:first-child td:last-of-type:not(:empty)::after {\n",
       "        content: \"\";\n",
       "        width: 4px;\n",
       "        position: absolute;\n",
       "        top: 0;\n",
       "        bottom: 0;\n",
       "        visibility: visible;\n",
       "        left: auto;\n",
       "        right: 0;\n",
       "        border-top: solid 2px;\n",
       "    }\n",
       "    table.matrepr tbody tr:last-child td:last-of-type:not(:empty)::after {\n",
       "        content: \"\";\n",
       "        width: 4px;\n",
       "        position: absolute;\n",
       "        top: 0;\n",
       "        bottom: 0;\n",
       "        visibility: visible;\n",
       "        left: auto;\n",
       "        right: 0;\n",
       "        border-bottom: solid 2px;\n",
       "    }\n",
       "    table.matrepr tbody tr:first-child td:last-of-type:empty::after {\n",
       "        content: \"\\00a0\\00a0\\00a0\";\n",
       "        width: 4px;\n",
       "        position: absolute;\n",
       "        top: 0;\n",
       "        bottom: 0;\n",
       "        visibility: visible;\n",
       "        left: auto;\n",
       "        right: 0;\n",
       "        border-top: solid 2px;\n",
       "    }\n",
       "    table.matrepr tbody tr:last-child td:last-of-type:empty::after {\n",
       "        content: \"\\00a0\\00a0\\00a0\";\n",
       "        width: 4px;\n",
       "        position: absolute;\n",
       "        top: 0;\n",
       "        bottom: 0;\n",
       "        visibility: visible;\n",
       "        left: auto;\n",
       "        right: 0;\n",
       "        border-bottom: solid 2px;\n",
       "    }\n",
       "</style>\n",
       "<p>5×5, 15 elements</p>\n",
       "<table class=\"matrepr\">\n",
       "    <thead>\n",
       "    <tr>\n",
       "        <th></th>\n",
       "        <th style=\"text-align: center;\">0</th>\n",
       "        <th style=\"text-align: center;\">1</th>\n",
       "        <th style=\"text-align: center;\">2</th>\n",
       "        <th style=\"text-align: center;\">3</th>\n",
       "        <th style=\"text-align: center;\">4</th>\n",
       "    </tr>\n",
       "    </thead>\n",
       "    <tbody>\n",
       "    <tr>\n",
       "        <th>0</th>\n",
       "        <td>0</td>\n",
       "        <td>1.2e+35</td>\n",
       "        <td>1e-06</td>\n",
       "        <td></td>\n",
       "        <td>1.235e+08</td>\n",
       "    </tr>\n",
       "    <tr>\n",
       "        <th>1</th>\n",
       "        <td>1</td>\n",
       "        <td></td>\n",
       "        <td></td>\n",
       "        <td></td>\n",
       "        <td></td>\n",
       "    </tr>\n",
       "    <tr>\n",
       "        <th>2</th>\n",
       "        <td>1+2<i>i</i></td>\n",
       "        <td>1.235e05 + 0.1235<i>i</i></td>\n",
       "        <td></td>\n",
       "        <td></td>\n",
       "        <td></td>\n",
       "    </tr>\n",
       "    <tr>\n",
       "        <th>3</th>\n",
       "        <td>\n",
       "<div>\n",
       "            <table class=\"matrepr\" style=\"margin: 0 auto;\">\n",
       "                <tbody>\n",
       "                <tr>\n",
       "                    <td>1</td>\n",
       "                </tr>\n",
       "                </tbody>\n",
       "            </table>\n",
       "</div></td>\n",
       "        <td>\n",
       "<div>\n",
       "            <table class=\"matrepr\" style=\"margin: 0 auto;\">\n",
       "                <tbody>\n",
       "                <tr>\n",
       "                    <td>1</td>\n",
       "                    <td>2</td>\n",
       "                </tr>\n",
       "                <tr>\n",
       "                    <td>3</td>\n",
       "                    <td>4</td>\n",
       "                </tr>\n",
       "                </tbody>\n",
       "            </table>\n",
       "</div></td>\n",
       "        <td>\n",
       "<div>\n",
       "            <table class=\"matrepr\" style=\"margin: 0 auto;\">\n",
       "                <tbody>\n",
       "                <tr>\n",
       "                    <td>3.1</td>\n",
       "                </tr>\n",
       "                <tr>\n",
       "                    <td>3.2</td>\n",
       "                </tr>\n",
       "                <tr>\n",
       "                    <td>3.3</td>\n",
       "                </tr>\n",
       "                </tbody>\n",
       "            </table>\n",
       "</div></td>\n",
       "        <td>\n",
       "<div>\n",
       "            <table class=\"matrepr\" style=\"margin: 0 auto;\">\n",
       "                <tbody>\n",
       "                <tr>\n",
       "                    <td>1.1</td>\n",
       "                    <td>2.2</td>\n",
       "                </tr>\n",
       "                <tr>\n",
       "                    <td>3.3</td>\n",
       "                    <td>4.4</td>\n",
       "                </tr>\n",
       "                </tbody>\n",
       "            </table>\n",
       "</div></td>\n",
       "        <td></td>\n",
       "    </tr>\n",
       "    <tr>\n",
       "        <th>4</th>\n",
       "        <td>multiline<br>string</td>\n",
       "        <td>&lt;escape!&gt;</td>\n",
       "        <td>\\begin{escape!}</td>\n",
       "        <td>{&#x27;a Python set&#x27;}</td>\n",
       "        <td></td>\n",
       "    </tr>\n",
       "    </tbody>\n",
       "</table>\n",
       "</div>"
      ],
      "text/plain": [
       "<IPython.core.display.HTML object>"
      ]
     },
     "metadata": {},
     "output_type": "display_data"
    }
   ],
   "source": [
    "mdisplay(list_mat, \"html\")"
   ]
  },
  {
   "cell_type": "code",
   "execution_count": 8,
   "metadata": {
    "ExecuteTime": {
     "end_time": "2023-08-24T05:18:01.194674Z",
     "start_time": "2023-08-24T05:18:01.156773Z"
    },
    "collapsed": false,
    "jupyter": {
     "outputs_hidden": false
    }
   },
   "outputs": [
    {
     "data": {
      "text/latex": [
       "$\\begin{bmatrix}\n",
       "    0 & 1.2 \\times 10^{35} & 1 \\times 10^{-6} & & 1.235 \\times 10^{8} \\\\\n",
       "    1 & & & & \\\\\n",
       "    1+2i & 1.235 \\times 10^{5}+0.1235i & & & \\\\\n",
       "    \\begin{bmatrix}\n",
       "    1\n",
       "\\end{bmatrix} & \\begin{bmatrix}\n",
       "    \\textrm{1} & \\textrm{2} \\\\\n",
       "    \\textrm{3} & \\textrm{4}\n",
       "\\end{bmatrix} & \\begin{bmatrix}\n",
       "    3.1 \\\\\n",
       "    3.2 \\\\\n",
       "    3.3\n",
       "\\end{bmatrix} & \\begin{bmatrix}\n",
       "    1.1 & 2.2 \\\\\n",
       "    3.3 & 4.4\n",
       "\\end{bmatrix} & \\\\\n",
       "    \\begin{matrix}\n",
       "    \\textrm{multiline} \\\\\n",
       "    \\textrm{string}\n",
       "\\end{matrix} & \\textrm{<escape!>} & \\textrm{\\\\begin\\{escape!\\}} & \\textrm{\\{'a Python set'\\}} &\n",
       "\\end{bmatrix}$"
      ],
      "text/plain": [
       "<IPython.core.display.Latex object>"
      ]
     },
     "metadata": {},
     "output_type": "display_data"
    }
   ],
   "source": [
    "mdisplay(list_mat, \"latex\")"
   ]
  },
  {
   "cell_type": "code",
   "execution_count": 9,
   "metadata": {
    "ExecuteTime": {
     "end_time": "2023-08-24T05:18:01.195078Z",
     "start_time": "2023-08-24T05:18:01.168135Z"
    },
    "collapsed": false,
    "jupyter": {
     "outputs_hidden": false
    }
   },
   "outputs": [
    {
     "data": {
      "text/plain": [
       "5×5, 15 elements\n",
       "┌                                                                                                                          ┐\n",
       "│ 0                  1.2e+35                    1e-06                                                            1.235e+08 │\n",
       "│ 1                                                                                                                        │\n",
       "│ 1+2i               1.235e05 + 0.1235i                                                                                    │\n",
       "│ [['1']]            [['1', '2'], ['3', '4']]   [['3.1'], ['3.2'], ['3.3']]   [['1.1', '2.2'], ['3.3', '4.4']]             │\n",
       "│ multiline string   <escape!>                  \\begin{escape!}               {'a Python set'}                             │\n",
       "└                                                                                                                          ┘"
      ]
     },
     "metadata": {},
     "output_type": "display_data"
    }
   ],
   "source": [
    "mdisplay(list_mat, \"str\", indices=False)\n",
    "# no indices to fit in GitHub's narrower notebook view"
   ]
  },
  {
   "cell_type": "code",
   "execution_count": 10,
   "metadata": {
    "ExecuteTime": {
     "end_time": "2023-08-24T05:18:01.195127Z",
     "start_time": "2023-08-24T05:18:01.177302Z"
    },
    "collapsed": false,
    "jupyter": {
     "outputs_hidden": false
    }
   },
   "outputs": [
    {
     "name": "stdout",
     "output_type": "stream",
     "text": [
      "<div>\n",
      "<style scoped>\n",
      "    table.matrepr  {\n",
      "        border-collapse: collapse;\n",
      "    }\n",
      "    table.matrepr thead  {\n",
      "        border: 0px;\n",
      "    }\n",
      "    table.matrepr tbody tr th {\n",
      "        font-size: smaller;\n",
      "        vertical-align: middle;\n",
      "        text-align: right;\n",
      "    }\n",
      "    table.matrepr thead tr th {\n",
      "        font-size: smaller;\n",
      "        vertical-align: middle;\n",
      "        text-align: center;\n",
      "    }\n",
      "    table.matrepr tbody tr td {\n",
      "        vertical-align: middle;\n",
      "        text-align: center;\n",
      "        position: relative;\n",
      "    }\n",
      "    table.matrepr tbody tr td:first-of-type {\n",
      "        border-left: solid 2px;\n",
      "    }\n",
      "    table.matrepr tbody tr td:last-of-type {\n",
      "        border-right: solid 2px;\n",
      "    }\n",
      "    table.matrepr tbody tr td:empty::before {\n",
      "        content: \"\\00a0\\00a0\\00a0\";\n",
      "        visibility: hidden;\n",
      "    }\n",
      "    table.matrepr tbody tr td:empty::after {\n",
      "        content: \"\\00a0\\00a0\\00a0\";\n",
      "        visibility: hidden;\n",
      "    }\n",
      "    table.matrepr tbody tr:first-child td:first-of-type::before {\n",
      "        content: \"\";\n",
      "        width: 4px;\n",
      "        position: absolute;\n",
      "        top: 0;\n",
      "        bottom: 0;\n",
      "        visibility: visible;\n",
      "        left: 0;\n",
      "        right: auto;\n",
      "        border-top: solid 2px;\n",
      "    }\n",
      "    table.matrepr tbody tr:last-child td:first-of-type::before {\n",
      "        content: \"\";\n",
      "        width: 4px;\n",
      "        position: absolute;\n",
      "        top: 0;\n",
      "        bottom: 0;\n",
      "        visibility: visible;\n",
      "        left: 0;\n",
      "        right: auto;\n",
      "        border-bottom: solid 2px;\n",
      "    }\n",
      "    table.matrepr tbody tr:first-child td:last-of-type:not(:empty)::after {\n",
      "        content: \"\";\n",
      "        width: 4px;\n",
      "        position: absolute;\n",
      "        top: 0;\n",
      "        bottom: 0;\n",
      "        visibility: visible;\n",
      "        left: auto;\n",
      "        right: 0;\n",
      "        border-top: solid 2px;\n",
      "    }\n",
      "    table.matrepr tbody tr:last-child td:last-of-type:not(:empty)::after {\n",
      "        content: \"\";\n",
      "        width: 4px;\n",
      "        position: absolute;\n",
      "        top: 0;\n",
      "        bottom: 0;\n",
      "        visibility: visible;\n",
      "        left: auto;\n",
      "        right: 0;\n",
      "        border-bottom: solid 2px;\n",
      "    }\n",
      "    table.matrepr tbody tr:first-child td:last-of-type:empty::after {\n",
      "        content: \"\\00a0\\00a0\\00a0\";\n",
      "        width: 4px;\n",
      "        position: absolute;\n",
      "        top: 0;\n",
      "        bottom: 0;\n",
      "        visibility: visible;\n",
      "        left: auto;\n",
      "        right: 0;\n",
      "        border-top: solid 2px;\n",
      "    }\n",
      "    table.matrepr tbody tr:last-child td:last-of-type:empty::after {\n",
      "        content: \"\\00a0\\00a0\\00a0\";\n",
      "        width: 4px;\n",
      "        position: absolute;\n",
      "        top: 0;\n",
      "        bottom: 0;\n",
      "        visibility: visible;\n",
      "        left: auto;\n",
      "        right: 0;\n",
      "        border-bottom: solid 2px;\n",
      "    }\n",
      "</style>\n",
      "<p>5×5, 15 elements</p>\n",
      "<table class=\"matrepr\">\n",
      "    <thead>\n",
      "    <tr>\n",
      "        <th></th>\n",
      "        <th style=\"text-align: center;\">0</th>\n",
      "        <th style=\"text-align: center;\">1</th>\n",
      "        <th style=\"text-align: center;\">2</th>\n",
      "        <th style=\"text-align: center;\">3</th>\n",
      "        <th style=\"text-align: center;\">4</th>\n",
      "    </tr>\n",
      "    </thead>\n",
      "    <tbody>\n",
      "    <tr>\n",
      "        <th>0</th>\n",
      "        <td>0</td>\n",
      "        <td>1.2e+35</td>\n",
      "        <td>1e-06</td>\n",
      "        <td></td>\n",
      "        <td>1.235e+08</td>\n",
      "    </tr>\n",
      "    <tr>\n",
      "        <th>1</th>\n",
      "        <td>1</td>\n",
      "        <td></td>\n",
      "        <td></td>\n",
      "        <td></td>\n",
      "        <td></td>\n",
      "    </tr>\n",
      "    <tr>\n",
      "        <th>2</th>\n",
      "        <td>1+2<i>i</i></td>\n",
      "        <td>1.235e05 + 0.1235<i>i</i></td>\n",
      "        <td></td>\n",
      "        <td></td>\n",
      "        <td></td>\n",
      "    </tr>\n",
      "    <tr>\n",
      "        <th>3</th>\n",
      "        <td>\n",
      "<div>\n",
      "            <table class=\"matrepr\" style=\"margin: 0 auto;\">\n",
      "                <tbody>\n",
      "                <tr>\n",
      "                    <td>1</td>\n",
      "                </tr>\n",
      "                </tbody>\n",
      "            </table>\n",
      "</div></td>\n",
      "        <td>\n",
      "<div>\n",
      "            <table class=\"matrepr\" style=\"margin: 0 auto;\">\n",
      "                <tbody>\n",
      "                <tr>\n",
      "                    <td>1</td>\n",
      "                    <td>2</td>\n",
      "                </tr>\n",
      "                <tr>\n",
      "                    <td>3</td>\n",
      "                    <td>4</td>\n",
      "                </tr>\n",
      "                </tbody>\n",
      "            </table>\n",
      "</div></td>\n",
      "        <td>\n",
      "<div>\n",
      "            <table class=\"matrepr\" style=\"margin: 0 auto;\">\n",
      "                <tbody>\n",
      "                <tr>\n",
      "                    <td>3.1</td>\n",
      "                </tr>\n",
      "                <tr>\n",
      "                    <td>3.2</td>\n",
      "                </tr>\n",
      "                <tr>\n",
      "                    <td>3.3</td>\n",
      "                </tr>\n",
      "                </tbody>\n",
      "            </table>\n",
      "</div></td>\n",
      "        <td>\n",
      "<div>\n",
      "            <table class=\"matrepr\" style=\"margin: 0 auto;\">\n",
      "                <tbody>\n",
      "                <tr>\n",
      "                    <td>1.1</td>\n",
      "                    <td>2.2</td>\n",
      "                </tr>\n",
      "                <tr>\n",
      "                    <td>3.3</td>\n",
      "                    <td>4.4</td>\n",
      "                </tr>\n",
      "                </tbody>\n",
      "            </table>\n",
      "</div></td>\n",
      "        <td></td>\n",
      "    </tr>\n",
      "    <tr>\n",
      "        <th>4</th>\n",
      "        <td>multiline<br>string</td>\n",
      "        <td>&lt;escape!&gt;</td>\n",
      "        <td>\\begin{escape!}</td>\n",
      "        <td>{&#x27;a Python set&#x27;}</td>\n",
      "        <td></td>\n",
      "    </tr>\n",
      "    </tbody>\n",
      "</table>\n",
      "</div>\n"
     ]
    }
   ],
   "source": [
    "from matrepr import to_html\n",
    "print(to_html(list_mat, notebook=True))"
   ]
  },
  {
   "cell_type": "code",
   "execution_count": null,
   "metadata": {},
   "outputs": [],
   "source": []
  }
 ],
 "metadata": {
  "kernelspec": {
   "display_name": "Python 3 (ipykernel)",
   "language": "python",
   "name": "python3"
  },
  "language_info": {
   "codemirror_mode": {
    "name": "ipython",
    "version": 3
   },
   "file_extension": ".py",
   "mimetype": "text/x-python",
   "name": "python",
   "nbconvert_exporter": "python",
   "pygments_lexer": "ipython3",
   "version": "3.11.2"
  }
 },
 "nbformat": 4,
 "nbformat_minor": 4
}
