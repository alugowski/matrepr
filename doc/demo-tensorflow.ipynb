{
 "cells": [
  {
   "cell_type": "markdown",
   "metadata": {
    "collapsed": false,
    "jupyter": {
     "outputs_hidden": false
    }
   },
   "source": [
    "# MatRepr TensorFlow\n",
    "\n",
    "Neatly format dense `tf.Tensor` and sparse `tf.SparseTensor`.\n",
    "\n",
    "1D dense and sparse tensors are formatted as row vectors.\n",
    "\n",
    "2D dense and sparse tensors are formatted as matrices.\n",
    "\n",
    "3D+ sparse tensors are formatted as a list of index/value tuples. Dense 3D+ tensors rendered with native TensorFlow formatter."
   ]
  },
  {
   "cell_type": "code",
   "execution_count": 1,
   "metadata": {
    "jupyter": {
     "source_hidden": true
    },
    "ExecuteTime": {
     "end_time": "2023-09-07T02:24:07.719162Z",
     "start_time": "2023-09-07T02:24:05.388424Z"
    }
   },
   "outputs": [],
   "source": [
    "import tensorflow as tf\n",
    "\n",
    "tf.random.set_seed(1234)\n",
    "\n",
    "# so matrepr can be imported from the source tree.\n",
    "import sys\n",
    "sys.path.insert(0, '..')\n",
    "\n",
    "from matrepr import mdisplay, mprint"
   ]
  },
  {
   "cell_type": "code",
   "execution_count": 2,
   "metadata": {
    "collapsed": false,
    "jupyter": {
     "outputs_hidden": false
    },
    "ExecuteTime": {
     "end_time": "2023-09-07T02:24:07.731957Z",
     "start_time": "2023-09-07T02:24:07.726804Z"
    }
   },
   "outputs": [],
   "source": [
    "scalar = tf.constant(5)\n",
    "\n",
    "dense1D = tf.random.uniform(shape=(5000,))\n",
    "\n",
    "rand2D = tf.random.uniform(shape=(128, 64)).numpy()\n",
    "rand2D[rand2D < 0.6] = 0\n",
    "rand2D_sparse = tf.sparse.from_dense(tf.convert_to_tensor(rand2D))\n",
    "\n",
    "small3D = tf.constant([[[1., 0], [2., 3.]], [[4., 0], [5., 6.]]])\n",
    "coo3D = tf.sparse.from_dense(small3D)"
   ]
  },
  {
   "cell_type": "code",
   "execution_count": 3,
   "metadata": {
    "collapsed": false,
    "jupyter": {
     "outputs_hidden": false
    },
    "ExecuteTime": {
     "end_time": "2023-09-07T02:24:07.736208Z",
     "start_time": "2023-09-07T02:24:07.733681Z"
    }
   },
   "outputs": [
    {
     "data": {
      "text/plain": "<tf.Tensor: shape=(5000,), dtype=float32, numpy=\narray([0.5380393 , 0.36461866, 0.5816301 , ..., 0.5440619 , 0.8671317 ,\n       0.5084995 ], dtype=float32)>"
     },
     "execution_count": 3,
     "metadata": {},
     "output_type": "execute_result"
    }
   ],
   "source": [
    "dense1D"
   ]
  },
  {
   "cell_type": "code",
   "execution_count": 4,
   "metadata": {
    "ExecuteTime": {
     "end_time": "2023-09-07T02:24:07.738960Z",
     "start_time": "2023-09-07T02:24:07.736841Z"
    }
   },
   "outputs": [
    {
     "data": {
      "text/plain": "SparseTensor(indices=tf.Tensor(\n[[  0   2]\n [  0   6]\n [  0   7]\n ...\n [127  44]\n [127  45]\n [127  46]], shape=(3304, 2), dtype=int64), values=tf.Tensor([0.64804935 0.7057973  0.7185966  ... 0.79349816 0.85203743 0.95652413], shape=(3304,), dtype=float32), dense_shape=tf.Tensor([128  64], shape=(2,), dtype=int64))"
     },
     "execution_count": 4,
     "metadata": {},
     "output_type": "execute_result"
    }
   ],
   "source": [
    "rand2D_sparse"
   ]
  },
  {
   "cell_type": "code",
   "execution_count": 5,
   "metadata": {
    "ExecuteTime": {
     "end_time": "2023-09-07T02:24:07.757535Z",
     "start_time": "2023-09-07T02:24:07.739939Z"
    }
   },
   "outputs": [
    {
     "data": {
      "text/plain": "SparseTensor(indices=tf.Tensor(\n[[0 0 0]\n [0 1 0]\n [0 1 1]\n [1 0 0]\n [1 1 0]\n [1 1 1]], shape=(6, 3), dtype=int64), values=tf.Tensor([1. 2. 3. 4. 5. 6.], shape=(6,), dtype=float32), dense_shape=tf.Tensor([2 2 2], shape=(3,), dtype=int64))"
     },
     "execution_count": 5,
     "metadata": {},
     "output_type": "execute_result"
    }
   ],
   "source": [
    "coo3D"
   ]
  },
  {
   "cell_type": "code",
   "execution_count": 6,
   "metadata": {
    "ExecuteTime": {
     "end_time": "2023-09-07T02:24:07.757704Z",
     "start_time": "2023-09-07T02:24:07.743212Z"
    }
   },
   "outputs": [
    {
     "data": {
      "text/plain": "<tf.Tensor: shape=(), dtype=int32, numpy=5>"
     },
     "execution_count": 6,
     "metadata": {},
     "output_type": "execute_result"
    }
   ],
   "source": [
    "scalar"
   ]
  },
  {
   "cell_type": "markdown",
   "metadata": {
    "ExecuteTime": {
     "end_time": "2023-09-06T22:34:13.317717Z",
     "start_time": "2023-09-06T22:34:13.315433Z"
    }
   },
   "source": [
    "## MatRepr default\n",
    "\n",
    "Load the MatRepr Jupyter extension with `%load_ext matrepr` to render tensors with MatRepr by default.\n",
    "\n",
    "A single-use alternative is to use `matrepr.mdisplay()`. For console use `matrepr.mprint()`. "
   ]
  },
  {
   "cell_type": "code",
   "execution_count": 7,
   "metadata": {
    "collapsed": false,
    "jupyter": {
     "outputs_hidden": false
    },
    "ExecuteTime": {
     "end_time": "2023-09-07T02:24:07.757779Z",
     "start_time": "2023-09-07T02:24:07.746603Z"
    }
   },
   "outputs": [],
   "source": [
    "%load_ext matrepr"
   ]
  },
  {
   "cell_type": "code",
   "execution_count": 8,
   "metadata": {
    "ExecuteTime": {
     "end_time": "2023-09-07T02:24:07.757920Z",
     "start_time": "2023-09-07T02:24:07.748819Z"
    }
   },
   "outputs": [
    {
     "data": {
      "text/plain": "<tf.Tensor: shape=(5000,), dtype=float32, numpy=\narray([0.5380393 , 0.36461866, 0.5816301 , ..., 0.5440619 , 0.8671317 ,\n       0.5084995 ], dtype=float32)>",
      "text/html": "<div>\n<style scoped>\n    table.matreprmatrix caption {\n        white-space: pre;\n        text-align: center;\n    }\n    table.matreprmatrix  {\n        border-collapse: collapse;\n    }\n    table.matreprmatrix > thead  {\n        border: 0px;\n    }\n    table.matreprmatrix > tbody tr th {\n        font-size: smaller;\n        vertical-align: middle;\n        text-align: right;\n    }\n    table.matreprmatrix > thead tr th {\n        font-size: smaller;\n        vertical-align: middle;\n        text-align: center;\n    }\n    table.matreprmatrix > tbody tr td {\n        vertical-align: middle;\n        text-align: center;\n        position: relative;\n    }\n    table.matreprmatrix > tbody tr td:first-of-type {\n        border-left: solid 2px;\n    }\n    table.matreprmatrix > tbody tr td:last-of-type {\n        border-right: solid 2px;\n    }\n    table.matreprmatrix > tbody tr td:empty::before {\n        content: \"\\00a0\\00a0\\00a0\";\n        visibility: hidden;\n    }\n    table.matreprmatrix > tbody tr td:empty::after {\n        content: \"\\00a0\\00a0\\00a0\";\n        visibility: hidden;\n    }\n    table.matreprmatrix > tbody > tr:first-child > td:first-of-type::before {\n        content: \"\";\n        width: 4px;\n        position: absolute;\n        top: 0;\n        bottom: 0;\n        visibility: visible;\n        left: 0;\n        right: auto;\n        border-top: solid 2px;\n    }\n    table.matreprmatrix > tbody > tr:last-child > td:first-of-type::before {\n        content: \"\";\n        width: 4px;\n        position: absolute;\n        top: 0;\n        bottom: 0;\n        visibility: visible;\n        left: 0;\n        right: auto;\n        border-bottom: solid 2px;\n    }\n    table.matreprmatrix > tbody > tr:first-child > td:last-of-type::after {\n        content: \"\";\n        width: 4px;\n        position: absolute;\n        top: 0;\n        bottom: 0;\n        visibility: visible;\n        left: auto;\n        right: 0;\n        border-top: solid 2px;\n    }\n    table.matreprmatrix > tbody > tr:last-child > td:last-of-type::after {\n        content: \"\";\n        width: 4px;\n        position: absolute;\n        top: 0;\n        bottom: 0;\n        visibility: visible;\n        left: auto;\n        right: 0;\n        border-bottom: solid 2px;\n    }\n    table.matreprtensor caption {\n        white-space: pre;\n        text-align: center;\n    }\n    table.matreprtensor > thead  {\n        border: 0px;\n    }\n    table.matreprtensor > tbody tr th {\n        font-size: smaller;\n        vertical-align: middle;\n        text-align: right;\n    }\n    table.matreprtensor > thead tr th {\n        font-size: smaller;\n        vertical-align: middle;\n        text-align: center;\n    }\n    table.matreprtensor > tbody tr td {\n        vertical-align: middle;\n        text-align: center;\n        position: relative;\n    }\n    table.matreprtensor > tbody tr th:last-of-type {\n        border-right: solid 2px;\n    }\n</style>\n<table class=\"matreprmatrix\">\n<caption>length=5000, &#x27;&lt;dtype: &#x27;float32&#x27;&gt;&#x27; elements, tf.Tensor</caption>\n    <thead>\n    <tr>\n        <th style=\"text-align: center;\">0</th>\n        <th style=\"text-align: center;\">1</th>\n        <th style=\"text-align: center;\">2</th>\n        <th style=\"text-align: center;\">3</th>\n        <th style=\"text-align: center;\">4</th>\n        <th style=\"text-align: center;\">5</th>\n        <th style=\"text-align: center;\">6</th>\n        <th style=\"text-align: center;\"></th>\n        <th style=\"text-align: center;\">4993</th>\n        <th style=\"text-align: center;\">4994</th>\n        <th style=\"text-align: center;\">4995</th>\n        <th style=\"text-align: center;\">4996</th>\n        <th style=\"text-align: center;\">4997</th>\n        <th style=\"text-align: center;\">4998</th>\n        <th style=\"text-align: center;\">4999</th>\n    </tr>\n    </thead>\n    <tbody>\n    <tr>\n        <td style=\"text-align: center;\">0.538</td>\n        <td style=\"text-align: center;\">0.3646</td>\n        <td style=\"text-align: center;\">0.5816</td>\n        <td style=\"text-align: center;\">0.2438</td>\n        <td style=\"text-align: center;\">0.4303</td>\n        <td style=\"text-align: center;\">0.9062</td>\n        <td style=\"text-align: center;\">0.5072</td>\n        <td style=\"text-align: center;\">&ctdot;</td>\n        <td style=\"text-align: center;\">0.5899</td>\n        <td style=\"text-align: center;\">0.6322</td>\n        <td style=\"text-align: center;\">0.241</td>\n        <td style=\"text-align: center;\">0.8375</td>\n        <td style=\"text-align: center;\">0.5441</td>\n        <td style=\"text-align: center;\">0.8671</td>\n        <td style=\"text-align: center;\">0.5085</td>\n    </tr>\n    </tbody>\n</table>\n</div>"
     },
     "execution_count": 8,
     "metadata": {},
     "output_type": "execute_result"
    }
   ],
   "source": [
    "dense1D"
   ]
  },
  {
   "cell_type": "code",
   "execution_count": 9,
   "metadata": {
    "collapsed": false,
    "jupyter": {
     "outputs_hidden": false
    },
    "ExecuteTime": {
     "end_time": "2023-09-07T02:24:07.762976Z",
     "start_time": "2023-09-07T02:24:07.757361Z"
    }
   },
   "outputs": [
    {
     "data": {
      "text/plain": "SparseTensor(indices=tf.Tensor(\n[[  0   2]\n [  0   6]\n [  0   7]\n ...\n [127  44]\n [127  45]\n [127  46]], shape=(3304, 2), dtype=int64), values=tf.Tensor([0.64804935 0.7057973  0.7185966  ... 0.79349816 0.85203743 0.95652413], shape=(3304,), dtype=float32), dense_shape=tf.Tensor([128  64], shape=(2,), dtype=int64))",
      "text/html": "<div>\n<style scoped>\n    table.matreprmatrix caption {\n        white-space: pre;\n        text-align: center;\n    }\n    table.matreprmatrix  {\n        border-collapse: collapse;\n    }\n    table.matreprmatrix > thead  {\n        border: 0px;\n    }\n    table.matreprmatrix > tbody tr th {\n        font-size: smaller;\n        vertical-align: middle;\n        text-align: right;\n    }\n    table.matreprmatrix > thead tr th {\n        font-size: smaller;\n        vertical-align: middle;\n        text-align: center;\n    }\n    table.matreprmatrix > tbody tr td {\n        vertical-align: middle;\n        text-align: center;\n        position: relative;\n    }\n    table.matreprmatrix > tbody tr td:first-of-type {\n        border-left: solid 2px;\n    }\n    table.matreprmatrix > tbody tr td:last-of-type {\n        border-right: solid 2px;\n    }\n    table.matreprmatrix > tbody tr td:empty::before {\n        content: \"\\00a0\\00a0\\00a0\";\n        visibility: hidden;\n    }\n    table.matreprmatrix > tbody tr td:empty::after {\n        content: \"\\00a0\\00a0\\00a0\";\n        visibility: hidden;\n    }\n    table.matreprmatrix > tbody > tr:first-child > td:first-of-type::before {\n        content: \"\";\n        width: 4px;\n        position: absolute;\n        top: 0;\n        bottom: 0;\n        visibility: visible;\n        left: 0;\n        right: auto;\n        border-top: solid 2px;\n    }\n    table.matreprmatrix > tbody > tr:last-child > td:first-of-type::before {\n        content: \"\";\n        width: 4px;\n        position: absolute;\n        top: 0;\n        bottom: 0;\n        visibility: visible;\n        left: 0;\n        right: auto;\n        border-bottom: solid 2px;\n    }\n    table.matreprmatrix > tbody > tr:first-child > td:last-of-type::after {\n        content: \"\";\n        width: 4px;\n        position: absolute;\n        top: 0;\n        bottom: 0;\n        visibility: visible;\n        left: auto;\n        right: 0;\n        border-top: solid 2px;\n    }\n    table.matreprmatrix > tbody > tr:last-child > td:last-of-type::after {\n        content: \"\";\n        width: 4px;\n        position: absolute;\n        top: 0;\n        bottom: 0;\n        visibility: visible;\n        left: auto;\n        right: 0;\n        border-bottom: solid 2px;\n    }\n    table.matreprtensor caption {\n        white-space: pre;\n        text-align: center;\n    }\n    table.matreprtensor > thead  {\n        border: 0px;\n    }\n    table.matreprtensor > tbody tr th {\n        font-size: smaller;\n        vertical-align: middle;\n        text-align: right;\n    }\n    table.matreprtensor > thead tr th {\n        font-size: smaller;\n        vertical-align: middle;\n        text-align: center;\n    }\n    table.matreprtensor > tbody tr td {\n        vertical-align: middle;\n        text-align: center;\n        position: relative;\n    }\n    table.matreprtensor > tbody tr th:last-of-type {\n        border-right: solid 2px;\n    }\n</style>\n<table class=\"matreprmatrix\">\n<caption>128×64, 3304 &#x27;&lt;dtype: &#x27;float32&#x27;&gt;&#x27; elements, tf.SparseTensor</caption>\n    <thead>\n    <tr>\n        <th></th>\n        <th style=\"text-align: center;\">0</th>\n        <th style=\"text-align: center;\">1</th>\n        <th style=\"text-align: center;\">2</th>\n        <th style=\"text-align: center;\">3</th>\n        <th style=\"text-align: center;\">4</th>\n        <th style=\"text-align: center;\">5</th>\n        <th style=\"text-align: center;\">6</th>\n        <th style=\"text-align: center;\"></th>\n        <th style=\"text-align: center;\">57</th>\n        <th style=\"text-align: center;\">58</th>\n        <th style=\"text-align: center;\">59</th>\n        <th style=\"text-align: center;\">60</th>\n        <th style=\"text-align: center;\">61</th>\n        <th style=\"text-align: center;\">62</th>\n        <th style=\"text-align: center;\">63</th>\n    </tr>\n    </thead>\n    <tbody>\n    <tr>\n        <th>0</th>\n        <td style=\"text-align: center;\"></td>\n        <td style=\"text-align: center;\"></td>\n        <td style=\"text-align: center;\">0.648</td>\n        <td style=\"text-align: center;\"></td>\n        <td style=\"text-align: center;\"></td>\n        <td style=\"text-align: center;\"></td>\n        <td style=\"text-align: center;\">0.7058</td>\n        <td style=\"text-align: center;\">&ctdot;</td>\n        <td style=\"text-align: center;\">0.6198</td>\n        <td style=\"text-align: center;\"></td>\n        <td style=\"text-align: center;\">0.7738</td>\n        <td style=\"text-align: center;\"></td>\n        <td style=\"text-align: center;\"></td>\n        <td style=\"text-align: center;\">0.8016</td>\n        <td style=\"text-align: center;\"></td>\n    </tr>\n    <tr>\n        <th>1</th>\n        <td style=\"text-align: center;\"></td>\n        <td style=\"text-align: center;\"></td>\n        <td style=\"text-align: center;\"></td>\n        <td style=\"text-align: center;\">0.8406</td>\n        <td style=\"text-align: center;\"></td>\n        <td style=\"text-align: center;\"></td>\n        <td style=\"text-align: center;\">0.73</td>\n        <td style=\"text-align: center;\">&ctdot;</td>\n        <td style=\"text-align: center;\">0.7861</td>\n        <td style=\"text-align: center;\">0.6525</td>\n        <td style=\"text-align: center;\">0.9052</td>\n        <td style=\"text-align: center;\"></td>\n        <td style=\"text-align: center;\">0.8348</td>\n        <td style=\"text-align: center;\">0.6638</td>\n        <td style=\"text-align: center;\">0.735</td>\n    </tr>\n    <tr>\n        <th>2</th>\n        <td style=\"text-align: center;\"></td>\n        <td style=\"text-align: center;\"></td>\n        <td style=\"text-align: center;\"></td>\n        <td style=\"text-align: center;\"></td>\n        <td style=\"text-align: center;\"></td>\n        <td style=\"text-align: center;\">0.6736</td>\n        <td style=\"text-align: center;\"></td>\n        <td style=\"text-align: center;\">&ctdot;</td>\n        <td style=\"text-align: center;\">0.9276</td>\n        <td style=\"text-align: center;\">0.8374</td>\n        <td style=\"text-align: center;\"></td>\n        <td style=\"text-align: center;\"></td>\n        <td style=\"text-align: center;\">0.8845</td>\n        <td style=\"text-align: center;\"></td>\n        <td style=\"text-align: center;\">0.6323</td>\n    </tr>\n    <tr>\n        <th>3</th>\n        <td style=\"text-align: center;\">0.7025</td>\n        <td style=\"text-align: center;\"></td>\n        <td style=\"text-align: center;\">0.8244</td>\n        <td style=\"text-align: center;\"></td>\n        <td style=\"text-align: center;\">0.7593</td>\n        <td style=\"text-align: center;\">0.9223</td>\n        <td style=\"text-align: center;\">0.854</td>\n        <td style=\"text-align: center;\">&ctdot;</td>\n        <td style=\"text-align: center;\"></td>\n        <td style=\"text-align: center;\"></td>\n        <td style=\"text-align: center;\">0.6256</td>\n        <td style=\"text-align: center;\">0.7132</td>\n        <td style=\"text-align: center;\">0.6676</td>\n        <td style=\"text-align: center;\">0.7929</td>\n        <td style=\"text-align: center;\"></td>\n    </tr>\n    <tr>\n        <th>4</th>\n        <td style=\"text-align: center;\">0.9482</td>\n        <td style=\"text-align: center;\">0.7316</td>\n        <td style=\"text-align: center;\"></td>\n        <td style=\"text-align: center;\">0.8779</td>\n        <td style=\"text-align: center;\"></td>\n        <td style=\"text-align: center;\">0.7649</td>\n        <td style=\"text-align: center;\"></td>\n        <td style=\"text-align: center;\">&ctdot;</td>\n        <td style=\"text-align: center;\"></td>\n        <td style=\"text-align: center;\"></td>\n        <td style=\"text-align: center;\">0.7884</td>\n        <td style=\"text-align: center;\">0.656</td>\n        <td style=\"text-align: center;\">0.9197</td>\n        <td style=\"text-align: center;\"></td>\n        <td style=\"text-align: center;\"></td>\n    </tr>\n    <tr>\n        <th></th>\n        <td style=\"text-align: center;\">&vellip;</td>\n        <td style=\"text-align: center;\">&vellip;</td>\n        <td style=\"text-align: center;\">&vellip;</td>\n        <td style=\"text-align: center;\">&vellip;</td>\n        <td style=\"text-align: center;\">&vellip;</td>\n        <td style=\"text-align: center;\">&vellip;</td>\n        <td style=\"text-align: center;\">&vellip;</td>\n        <td style=\"text-align: center;\">&dtdot;</td>\n        <td style=\"text-align: center;\">&vellip;</td>\n        <td style=\"text-align: center;\">&vellip;</td>\n        <td style=\"text-align: center;\">&vellip;</td>\n        <td style=\"text-align: center;\">&vellip;</td>\n        <td style=\"text-align: center;\">&vellip;</td>\n        <td style=\"text-align: center;\">&vellip;</td>\n        <td style=\"text-align: center;\">&vellip;</td>\n    </tr>\n    <tr>\n        <th>123</th>\n        <td style=\"text-align: center;\"></td>\n        <td style=\"text-align: center;\">0.8794</td>\n        <td style=\"text-align: center;\"></td>\n        <td style=\"text-align: center;\"></td>\n        <td style=\"text-align: center;\"></td>\n        <td style=\"text-align: center;\"></td>\n        <td style=\"text-align: center;\"></td>\n        <td style=\"text-align: center;\">&ctdot;</td>\n        <td style=\"text-align: center;\"></td>\n        <td style=\"text-align: center;\"></td>\n        <td style=\"text-align: center;\"></td>\n        <td style=\"text-align: center;\"></td>\n        <td style=\"text-align: center;\"></td>\n        <td style=\"text-align: center;\"></td>\n        <td style=\"text-align: center;\"></td>\n    </tr>\n    <tr>\n        <th>124</th>\n        <td style=\"text-align: center;\">0.9892</td>\n        <td style=\"text-align: center;\">0.8918</td>\n        <td style=\"text-align: center;\"></td>\n        <td style=\"text-align: center;\">0.8295</td>\n        <td style=\"text-align: center;\">0.6683</td>\n        <td style=\"text-align: center;\">0.6479</td>\n        <td style=\"text-align: center;\"></td>\n        <td style=\"text-align: center;\">&ctdot;</td>\n        <td style=\"text-align: center;\">0.7828</td>\n        <td style=\"text-align: center;\"></td>\n        <td style=\"text-align: center;\">0.9091</td>\n        <td style=\"text-align: center;\">0.9966</td>\n        <td style=\"text-align: center;\"></td>\n        <td style=\"text-align: center;\">0.6415</td>\n        <td style=\"text-align: center;\"></td>\n    </tr>\n    <tr>\n        <th>125</th>\n        <td style=\"text-align: center;\"></td>\n        <td style=\"text-align: center;\"></td>\n        <td style=\"text-align: center;\">0.7946</td>\n        <td style=\"text-align: center;\"></td>\n        <td style=\"text-align: center;\"></td>\n        <td style=\"text-align: center;\"></td>\n        <td style=\"text-align: center;\"></td>\n        <td style=\"text-align: center;\">&ctdot;</td>\n        <td style=\"text-align: center;\">0.729</td>\n        <td style=\"text-align: center;\">0.9576</td>\n        <td style=\"text-align: center;\"></td>\n        <td style=\"text-align: center;\"></td>\n        <td style=\"text-align: center;\"></td>\n        <td style=\"text-align: center;\"></td>\n        <td style=\"text-align: center;\">0.6766</td>\n    </tr>\n    <tr>\n        <th>126</th>\n        <td style=\"text-align: center;\"></td>\n        <td style=\"text-align: center;\">0.9059</td>\n        <td style=\"text-align: center;\">0.8707</td>\n        <td style=\"text-align: center;\"></td>\n        <td style=\"text-align: center;\"></td>\n        <td style=\"text-align: center;\"></td>\n        <td style=\"text-align: center;\"></td>\n        <td style=\"text-align: center;\">&ctdot;</td>\n        <td style=\"text-align: center;\"></td>\n        <td style=\"text-align: center;\">0.9899</td>\n        <td style=\"text-align: center;\"></td>\n        <td style=\"text-align: center;\">0.9893</td>\n        <td style=\"text-align: center;\">0.7788</td>\n        <td style=\"text-align: center;\">0.7175</td>\n        <td style=\"text-align: center;\">0.6775</td>\n    </tr>\n    <tr>\n        <th>127</th>\n        <td style=\"text-align: center;\"></td>\n        <td style=\"text-align: center;\">0.9523</td>\n        <td style=\"text-align: center;\">0.6485</td>\n        <td style=\"text-align: center;\"></td>\n        <td style=\"text-align: center;\">0.9866</td>\n        <td style=\"text-align: center;\">0.8537</td>\n        <td style=\"text-align: center;\">0.8772</td>\n        <td style=\"text-align: center;\">&ctdot;</td>\n        <td style=\"text-align: center;\"></td>\n        <td style=\"text-align: center;\"></td>\n        <td style=\"text-align: center;\"></td>\n        <td style=\"text-align: center;\"></td>\n        <td style=\"text-align: center;\"></td>\n        <td style=\"text-align: center;\"></td>\n        <td style=\"text-align: center;\"></td>\n    </tr>\n    </tbody>\n</table>\n</div>"
     },
     "execution_count": 9,
     "metadata": {},
     "output_type": "execute_result"
    }
   ],
   "source": [
    "rand2D_sparse"
   ]
  },
  {
   "cell_type": "code",
   "execution_count": 10,
   "metadata": {
    "ExecuteTime": {
     "end_time": "2023-09-07T02:24:07.767371Z",
     "start_time": "2023-09-07T02:24:07.763316Z"
    }
   },
   "outputs": [
    {
     "data": {
      "text/plain": "SparseTensor(indices=tf.Tensor(\n[[0 0 0]\n [0 1 0]\n [0 1 1]\n [1 0 0]\n [1 1 0]\n [1 1 1]], shape=(6, 3), dtype=int64), values=tf.Tensor([1. 2. 3. 4. 5. 6.], shape=(6,), dtype=float32), dense_shape=tf.Tensor([2 2 2], shape=(3,), dtype=int64))",
      "text/html": "<div>\n<style scoped>\n    table.matreprmatrix caption {\n        white-space: pre;\n        text-align: center;\n    }\n    table.matreprmatrix  {\n        border-collapse: collapse;\n    }\n    table.matreprmatrix > thead  {\n        border: 0px;\n    }\n    table.matreprmatrix > tbody tr th {\n        font-size: smaller;\n        vertical-align: middle;\n        text-align: right;\n    }\n    table.matreprmatrix > thead tr th {\n        font-size: smaller;\n        vertical-align: middle;\n        text-align: center;\n    }\n    table.matreprmatrix > tbody tr td {\n        vertical-align: middle;\n        text-align: center;\n        position: relative;\n    }\n    table.matreprmatrix > tbody tr td:first-of-type {\n        border-left: solid 2px;\n    }\n    table.matreprmatrix > tbody tr td:last-of-type {\n        border-right: solid 2px;\n    }\n    table.matreprmatrix > tbody tr td:empty::before {\n        content: \"\\00a0\\00a0\\00a0\";\n        visibility: hidden;\n    }\n    table.matreprmatrix > tbody tr td:empty::after {\n        content: \"\\00a0\\00a0\\00a0\";\n        visibility: hidden;\n    }\n    table.matreprmatrix > tbody > tr:first-child > td:first-of-type::before {\n        content: \"\";\n        width: 4px;\n        position: absolute;\n        top: 0;\n        bottom: 0;\n        visibility: visible;\n        left: 0;\n        right: auto;\n        border-top: solid 2px;\n    }\n    table.matreprmatrix > tbody > tr:last-child > td:first-of-type::before {\n        content: \"\";\n        width: 4px;\n        position: absolute;\n        top: 0;\n        bottom: 0;\n        visibility: visible;\n        left: 0;\n        right: auto;\n        border-bottom: solid 2px;\n    }\n    table.matreprmatrix > tbody > tr:first-child > td:last-of-type::after {\n        content: \"\";\n        width: 4px;\n        position: absolute;\n        top: 0;\n        bottom: 0;\n        visibility: visible;\n        left: auto;\n        right: 0;\n        border-top: solid 2px;\n    }\n    table.matreprmatrix > tbody > tr:last-child > td:last-of-type::after {\n        content: \"\";\n        width: 4px;\n        position: absolute;\n        top: 0;\n        bottom: 0;\n        visibility: visible;\n        left: auto;\n        right: 0;\n        border-bottom: solid 2px;\n    }\n    table.matreprtensor caption {\n        white-space: pre;\n        text-align: center;\n    }\n    table.matreprtensor > thead  {\n        border: 0px;\n    }\n    table.matreprtensor > tbody tr th {\n        font-size: smaller;\n        vertical-align: middle;\n        text-align: right;\n    }\n    table.matreprtensor > thead tr th {\n        font-size: smaller;\n        vertical-align: middle;\n        text-align: center;\n    }\n    table.matreprtensor > tbody tr td {\n        vertical-align: middle;\n        text-align: center;\n        position: relative;\n    }\n    table.matreprtensor > tbody tr th:last-of-type {\n        border-right: solid 2px;\n    }\n</style>\n<table class=\"matreprtensor\">\n<caption>shape=(2,2,2), 6 &#x27;&lt;dtype: &#x27;float32&#x27;&gt;&#x27; elements, tf.SparseTensor</caption>\n    <thead>\n    <tr>\n        <th></th>\n        <th style=\"text-align: right;\">0</th>\n        <th style=\"text-align: right;\">1</th>\n        <th style=\"text-align: right;\">2</th>\n        <th style=\"text-align: center;\">val</th>\n    </tr>\n    </thead>\n    <tbody>\n    <tr>\n        <th>0</th>\n        <td style=\"text-align: right;\">0</td>\n        <td style=\"text-align: right;\">0</td>\n        <td style=\"text-align: right;\">0</td>\n        <td style=\"text-align: center;\">1</td>\n    </tr>\n    <tr>\n        <th>1</th>\n        <td style=\"text-align: right;\">0</td>\n        <td style=\"text-align: right;\">1</td>\n        <td style=\"text-align: right;\">0</td>\n        <td style=\"text-align: center;\">2</td>\n    </tr>\n    <tr>\n        <th>2</th>\n        <td style=\"text-align: right;\">0</td>\n        <td style=\"text-align: right;\">1</td>\n        <td style=\"text-align: right;\">1</td>\n        <td style=\"text-align: center;\">3</td>\n    </tr>\n    <tr>\n        <th>3</th>\n        <td style=\"text-align: right;\">1</td>\n        <td style=\"text-align: right;\">0</td>\n        <td style=\"text-align: right;\">0</td>\n        <td style=\"text-align: center;\">4</td>\n    </tr>\n    <tr>\n        <th>4</th>\n        <td style=\"text-align: right;\">1</td>\n        <td style=\"text-align: right;\">1</td>\n        <td style=\"text-align: right;\">0</td>\n        <td style=\"text-align: center;\">5</td>\n    </tr>\n    <tr>\n        <th>5</th>\n        <td style=\"text-align: right;\">1</td>\n        <td style=\"text-align: right;\">1</td>\n        <td style=\"text-align: right;\">1</td>\n        <td style=\"text-align: center;\">6</td>\n    </tr>\n    </tbody>\n</table>\n</div>"
     },
     "execution_count": 10,
     "metadata": {},
     "output_type": "execute_result"
    }
   ],
   "source": [
    "coo3D"
   ]
  },
  {
   "cell_type": "code",
   "execution_count": 11,
   "metadata": {
    "ExecuteTime": {
     "end_time": "2023-09-07T02:24:07.771256Z",
     "start_time": "2023-09-07T02:24:07.766799Z"
    }
   },
   "outputs": [
    {
     "data": {
      "text/plain": "<tf.Tensor: shape=(), dtype=int32, numpy=5>"
     },
     "execution_count": 11,
     "metadata": {},
     "output_type": "execute_result"
    }
   ],
   "source": [
    "scalar"
   ]
  },
  {
   "cell_type": "markdown",
   "metadata": {},
   "source": [
    "# Labels\n",
    "\n",
    "Specify title, row and/or column labels to help the reader quickly understand what they are looking at."
   ]
  },
  {
   "cell_type": "code",
   "execution_count": 12,
   "metadata": {
    "ExecuteTime": {
     "end_time": "2023-09-07T02:24:07.773032Z",
     "start_time": "2023-09-07T02:24:07.770201Z"
    }
   },
   "outputs": [],
   "source": [
    "dense = tf.random.uniform(shape=(64, 32)).numpy()\n",
    "dense[dense < 0.3] = 0\n",
    "tensor = tf.sparse.from_dense(tf.convert_to_tensor(dense))\n",
    "\n",
    "obs_labels = [f\"observation {i}\" for i in range(tensor.shape[0])]  # list of labels\n",
    "feature_labels = {i: f\"feature {i+1}\" for i in range(tensor.shape[1])}  # map index to label works too"
   ]
  },
  {
   "cell_type": "code",
   "execution_count": 13,
   "metadata": {
    "ExecuteTime": {
     "end_time": "2023-09-07T02:24:07.805805Z",
     "start_time": "2023-09-07T02:24:07.773744Z"
    }
   },
   "outputs": [
    {
     "data": {
      "text/plain": "<IPython.core.display.HTML object>",
      "text/html": "<div>\n<style scoped>\n    table.matreprmatrix caption {\n        white-space: pre;\n        text-align: center;\n    }\n    table.matreprmatrix  {\n        border-collapse: collapse;\n    }\n    table.matreprmatrix > thead  {\n        border: 0px;\n    }\n    table.matreprmatrix > tbody tr th {\n        font-size: smaller;\n        vertical-align: middle;\n        text-align: right;\n    }\n    table.matreprmatrix > thead tr th {\n        font-size: smaller;\n        vertical-align: middle;\n        text-align: center;\n    }\n    table.matreprmatrix > tbody tr td {\n        vertical-align: middle;\n        text-align: center;\n        position: relative;\n    }\n    table.matreprmatrix > tbody tr td:first-of-type {\n        border-left: solid 2px;\n    }\n    table.matreprmatrix > tbody tr td:last-of-type {\n        border-right: solid 2px;\n    }\n    table.matreprmatrix > tbody tr td:empty::before {\n        content: \"\\00a0\\00a0\\00a0\";\n        visibility: hidden;\n    }\n    table.matreprmatrix > tbody tr td:empty::after {\n        content: \"\\00a0\\00a0\\00a0\";\n        visibility: hidden;\n    }\n    table.matreprmatrix > tbody > tr:first-child > td:first-of-type::before {\n        content: \"\";\n        width: 4px;\n        position: absolute;\n        top: 0;\n        bottom: 0;\n        visibility: visible;\n        left: 0;\n        right: auto;\n        border-top: solid 2px;\n    }\n    table.matreprmatrix > tbody > tr:last-child > td:first-of-type::before {\n        content: \"\";\n        width: 4px;\n        position: absolute;\n        top: 0;\n        bottom: 0;\n        visibility: visible;\n        left: 0;\n        right: auto;\n        border-bottom: solid 2px;\n    }\n    table.matreprmatrix > tbody > tr:first-child > td:last-of-type::after {\n        content: \"\";\n        width: 4px;\n        position: absolute;\n        top: 0;\n        bottom: 0;\n        visibility: visible;\n        left: auto;\n        right: 0;\n        border-top: solid 2px;\n    }\n    table.matreprmatrix > tbody > tr:last-child > td:last-of-type::after {\n        content: \"\";\n        width: 4px;\n        position: absolute;\n        top: 0;\n        bottom: 0;\n        visibility: visible;\n        left: auto;\n        right: 0;\n        border-bottom: solid 2px;\n    }\n    table.matreprtensor caption {\n        white-space: pre;\n        text-align: center;\n    }\n    table.matreprtensor > thead  {\n        border: 0px;\n    }\n    table.matreprtensor > tbody tr th {\n        font-size: smaller;\n        vertical-align: middle;\n        text-align: right;\n    }\n    table.matreprtensor > thead tr th {\n        font-size: smaller;\n        vertical-align: middle;\n        text-align: center;\n    }\n    table.matreprtensor > tbody tr td {\n        vertical-align: middle;\n        text-align: center;\n        position: relative;\n    }\n    table.matreprtensor > tbody tr th:last-of-type {\n        border-right: solid 2px;\n    }\n</style>\n<table class=\"matreprmatrix\">\n<caption>Random Dataset</caption>\n    <thead>\n    <tr>\n        <th></th>\n        <th style=\"text-align: center;\">feature 1</th>\n        <th style=\"text-align: center;\">feature 2</th>\n        <th style=\"text-align: center;\">feature 3</th>\n        <th style=\"text-align: center;\">feature 4</th>\n        <th style=\"text-align: center;\">feature 5</th>\n        <th style=\"text-align: center;\">feature 6</th>\n        <th style=\"text-align: center;\">feature 7</th>\n        <th style=\"text-align: center;\"></th>\n        <th style=\"text-align: center;\">feature 26</th>\n        <th style=\"text-align: center;\">feature 27</th>\n        <th style=\"text-align: center;\">feature 28</th>\n        <th style=\"text-align: center;\">feature 29</th>\n        <th style=\"text-align: center;\">feature 30</th>\n        <th style=\"text-align: center;\">feature 31</th>\n        <th style=\"text-align: center;\">feature 32</th>\n    </tr>\n    </thead>\n    <tbody>\n    <tr>\n        <th>observation 0</th>\n        <td style=\"text-align: center;\">0.5975</td>\n        <td style=\"text-align: center;\">0.3031</td>\n        <td style=\"text-align: center;\">0.9977</td>\n        <td style=\"text-align: center;\">0.8083</td>\n        <td style=\"text-align: center;\">0.4171</td>\n        <td style=\"text-align: center;\"></td>\n        <td style=\"text-align: center;\">0.6105</td>\n        <td style=\"text-align: center;\">&ctdot;</td>\n        <td style=\"text-align: center;\">0.7231</td>\n        <td style=\"text-align: center;\">0.3532</td>\n        <td style=\"text-align: center;\">0.3522</td>\n        <td style=\"text-align: center;\">0.8834</td>\n        <td style=\"text-align: center;\"></td>\n        <td style=\"text-align: center;\">0.9973</td>\n        <td style=\"text-align: center;\"></td>\n    </tr>\n    <tr>\n        <th>observation 1</th>\n        <td style=\"text-align: center;\">0.3844</td>\n        <td style=\"text-align: center;\">0.5702</td>\n        <td style=\"text-align: center;\"></td>\n        <td style=\"text-align: center;\">0.339</td>\n        <td style=\"text-align: center;\">0.5319</td>\n        <td style=\"text-align: center;\">0.6415</td>\n        <td style=\"text-align: center;\">0.5032</td>\n        <td style=\"text-align: center;\">&ctdot;</td>\n        <td style=\"text-align: center;\"></td>\n        <td style=\"text-align: center;\">0.8356</td>\n        <td style=\"text-align: center;\">0.4936</td>\n        <td style=\"text-align: center;\">0.9332</td>\n        <td style=\"text-align: center;\">0.9475</td>\n        <td style=\"text-align: center;\">0.4226</td>\n        <td style=\"text-align: center;\">0.6899</td>\n    </tr>\n    <tr>\n        <th>observation 2</th>\n        <td style=\"text-align: center;\"></td>\n        <td style=\"text-align: center;\"></td>\n        <td style=\"text-align: center;\">0.5964</td>\n        <td style=\"text-align: center;\"></td>\n        <td style=\"text-align: center;\">0.5283</td>\n        <td style=\"text-align: center;\">0.3982</td>\n        <td style=\"text-align: center;\">0.3899</td>\n        <td style=\"text-align: center;\">&ctdot;</td>\n        <td style=\"text-align: center;\"></td>\n        <td style=\"text-align: center;\">0.7932</td>\n        <td style=\"text-align: center;\">0.5676</td>\n        <td style=\"text-align: center;\">0.9334</td>\n        <td style=\"text-align: center;\">0.9149</td>\n        <td style=\"text-align: center;\">0.7552</td>\n        <td style=\"text-align: center;\"></td>\n    </tr>\n    <tr>\n        <th>observation 3</th>\n        <td style=\"text-align: center;\"></td>\n        <td style=\"text-align: center;\"></td>\n        <td style=\"text-align: center;\">0.5233</td>\n        <td style=\"text-align: center;\">0.5205</td>\n        <td style=\"text-align: center;\">0.5863</td>\n        <td style=\"text-align: center;\">0.9982</td>\n        <td style=\"text-align: center;\"></td>\n        <td style=\"text-align: center;\">&ctdot;</td>\n        <td style=\"text-align: center;\"></td>\n        <td style=\"text-align: center;\">0.6952</td>\n        <td style=\"text-align: center;\"></td>\n        <td style=\"text-align: center;\">0.4436</td>\n        <td style=\"text-align: center;\"></td>\n        <td style=\"text-align: center;\"></td>\n        <td style=\"text-align: center;\">0.7584</td>\n    </tr>\n    <tr>\n        <th>observation 4</th>\n        <td style=\"text-align: center;\">0.6105</td>\n        <td style=\"text-align: center;\"></td>\n        <td style=\"text-align: center;\"></td>\n        <td style=\"text-align: center;\"></td>\n        <td style=\"text-align: center;\">0.957</td>\n        <td style=\"text-align: center;\">0.6381</td>\n        <td style=\"text-align: center;\">0.685</td>\n        <td style=\"text-align: center;\">&ctdot;</td>\n        <td style=\"text-align: center;\">0.7776</td>\n        <td style=\"text-align: center;\">0.3006</td>\n        <td style=\"text-align: center;\">0.3044</td>\n        <td style=\"text-align: center;\"></td>\n        <td style=\"text-align: center;\">0.9721</td>\n        <td style=\"text-align: center;\"></td>\n        <td style=\"text-align: center;\">0.3244</td>\n    </tr>\n    <tr>\n        <th></th>\n        <td style=\"text-align: center;\">&vellip;</td>\n        <td style=\"text-align: center;\">&vellip;</td>\n        <td style=\"text-align: center;\">&vellip;</td>\n        <td style=\"text-align: center;\">&vellip;</td>\n        <td style=\"text-align: center;\">&vellip;</td>\n        <td style=\"text-align: center;\">&vellip;</td>\n        <td style=\"text-align: center;\">&vellip;</td>\n        <td style=\"text-align: center;\">&dtdot;</td>\n        <td style=\"text-align: center;\">&vellip;</td>\n        <td style=\"text-align: center;\">&vellip;</td>\n        <td style=\"text-align: center;\">&vellip;</td>\n        <td style=\"text-align: center;\">&vellip;</td>\n        <td style=\"text-align: center;\">&vellip;</td>\n        <td style=\"text-align: center;\">&vellip;</td>\n        <td style=\"text-align: center;\">&vellip;</td>\n    </tr>\n    <tr>\n        <th>observation 59</th>\n        <td style=\"text-align: center;\"></td>\n        <td style=\"text-align: center;\">0.7909</td>\n        <td style=\"text-align: center;\">0.8313</td>\n        <td style=\"text-align: center;\"></td>\n        <td style=\"text-align: center;\">0.8369</td>\n        <td style=\"text-align: center;\"></td>\n        <td style=\"text-align: center;\">0.9005</td>\n        <td style=\"text-align: center;\">&ctdot;</td>\n        <td style=\"text-align: center;\">0.6093</td>\n        <td style=\"text-align: center;\"></td>\n        <td style=\"text-align: center;\">0.4884</td>\n        <td style=\"text-align: center;\">0.4428</td>\n        <td style=\"text-align: center;\">0.8436</td>\n        <td style=\"text-align: center;\">0.5978</td>\n        <td style=\"text-align: center;\"></td>\n    </tr>\n    <tr>\n        <th>observation 60</th>\n        <td style=\"text-align: center;\">0.3902</td>\n        <td style=\"text-align: center;\">0.667</td>\n        <td style=\"text-align: center;\">0.4358</td>\n        <td style=\"text-align: center;\">0.3827</td>\n        <td style=\"text-align: center;\"></td>\n        <td style=\"text-align: center;\">0.5785</td>\n        <td style=\"text-align: center;\"></td>\n        <td style=\"text-align: center;\">&ctdot;</td>\n        <td style=\"text-align: center;\"></td>\n        <td style=\"text-align: center;\">0.9549</td>\n        <td style=\"text-align: center;\"></td>\n        <td style=\"text-align: center;\"></td>\n        <td style=\"text-align: center;\">0.6173</td>\n        <td style=\"text-align: center;\"></td>\n        <td style=\"text-align: center;\">0.5166</td>\n    </tr>\n    <tr>\n        <th>observation 61</th>\n        <td style=\"text-align: center;\">0.7613</td>\n        <td style=\"text-align: center;\"></td>\n        <td style=\"text-align: center;\">0.5393</td>\n        <td style=\"text-align: center;\">0.6266</td>\n        <td style=\"text-align: center;\">0.9674</td>\n        <td style=\"text-align: center;\"></td>\n        <td style=\"text-align: center;\">0.5147</td>\n        <td style=\"text-align: center;\">&ctdot;</td>\n        <td style=\"text-align: center;\">0.674</td>\n        <td style=\"text-align: center;\">0.4118</td>\n        <td style=\"text-align: center;\">0.6996</td>\n        <td style=\"text-align: center;\">0.7329</td>\n        <td style=\"text-align: center;\">0.8275</td>\n        <td style=\"text-align: center;\">0.6695</td>\n        <td style=\"text-align: center;\">0.7466</td>\n    </tr>\n    <tr>\n        <th>observation 62</th>\n        <td style=\"text-align: center;\">0.9173</td>\n        <td style=\"text-align: center;\">0.7029</td>\n        <td style=\"text-align: center;\">0.7995</td>\n        <td style=\"text-align: center;\">0.4793</td>\n        <td style=\"text-align: center;\"></td>\n        <td style=\"text-align: center;\">0.3444</td>\n        <td style=\"text-align: center;\">0.4601</td>\n        <td style=\"text-align: center;\">&ctdot;</td>\n        <td style=\"text-align: center;\">0.4184</td>\n        <td style=\"text-align: center;\">0.3094</td>\n        <td style=\"text-align: center;\"></td>\n        <td style=\"text-align: center;\">0.5578</td>\n        <td style=\"text-align: center;\">0.9082</td>\n        <td style=\"text-align: center;\">0.6766</td>\n        <td style=\"text-align: center;\">0.7963</td>\n    </tr>\n    <tr>\n        <th>observation 63</th>\n        <td style=\"text-align: center;\">0.7321</td>\n        <td style=\"text-align: center;\">0.4044</td>\n        <td style=\"text-align: center;\">0.7396</td>\n        <td style=\"text-align: center;\">0.5492</td>\n        <td style=\"text-align: center;\">0.7415</td>\n        <td style=\"text-align: center;\"></td>\n        <td style=\"text-align: center;\">0.7327</td>\n        <td style=\"text-align: center;\">&ctdot;</td>\n        <td style=\"text-align: center;\">0.3194</td>\n        <td style=\"text-align: center;\">0.3959</td>\n        <td style=\"text-align: center;\"></td>\n        <td style=\"text-align: center;\">0.9889</td>\n        <td style=\"text-align: center;\">0.5187</td>\n        <td style=\"text-align: center;\">0.8223</td>\n        <td style=\"text-align: center;\">0.6995</td>\n    </tr>\n    </tbody>\n</table>\n</div>"
     },
     "metadata": {},
     "output_type": "display_data"
    }
   ],
   "source": [
    "mdisplay(tensor, row_labels=obs_labels, col_labels=feature_labels, title=\"Random Dataset\")"
   ]
  },
  {
   "cell_type": "markdown",
   "metadata": {
    "ExecuteTime": {
     "end_time": "2023-09-06T22:34:13.356497Z",
     "start_time": "2023-09-06T22:34:13.338373Z"
    }
   },
   "source": [
    "## LaTeX"
   ]
  },
  {
   "cell_type": "code",
   "execution_count": 14,
   "metadata": {
    "collapsed": false,
    "jupyter": {
     "outputs_hidden": false
    },
    "ExecuteTime": {
     "end_time": "2023-09-07T02:24:07.810622Z",
     "start_time": "2023-09-07T02:24:07.780488Z"
    }
   },
   "outputs": [
    {
     "data": {
      "text/plain": "<IPython.core.display.Latex object>",
      "text/latex": "$\\begin{bmatrix}\n     &  & 0.648 &  &  &  & 0.7058 & \\dots & 0.6198 &  & 0.7738 &  &  & 0.8016 &  \\\\\n     &  &  & 0.8406 &  &  & 0.73 & \\dots & 0.7861 & 0.6525 & 0.9052 &  & 0.8348 & 0.6638 & 0.735 \\\\\n     &  &  &  &  & 0.6736 &  & \\dots & 0.9276 & 0.8374 &  &  & 0.8845 &  & 0.6323 \\\\\n    0.7025 &  & 0.8244 &  & 0.7593 & 0.9223 & 0.854 & \\dots &  &  & 0.6256 & 0.7132 & 0.6676 & 0.7929 &  \\\\\n    0.9482 & 0.7316 &  & 0.8779 &  & 0.7649 &  & \\dots &  &  & 0.7884 & 0.656 & 0.9197 &  &  \\\\\n    \\vdots & \\vdots & \\vdots & \\vdots & \\vdots & \\vdots & \\vdots & \\ddots & \\vdots & \\vdots & \\vdots & \\vdots & \\vdots & \\vdots & \\vdots \\\\\n     & 0.8794 &  &  &  &  &  & \\dots &  &  &  &  &  &  &  \\\\\n    0.9892 & 0.8918 &  & 0.8295 & 0.6683 & 0.6479 &  & \\dots & 0.7828 &  & 0.9091 & 0.9966 &  & 0.6415 &  \\\\\n     &  & 0.7946 &  &  &  &  & \\dots & 0.729 & 0.9576 &  &  &  &  & 0.6766 \\\\\n     & 0.9059 & 0.8707 &  &  &  &  & \\dots &  & 0.9899 &  & 0.9893 & 0.7788 & 0.7175 & 0.6775 \\\\\n     & 0.9523 & 0.6485 &  & 0.9866 & 0.8537 & 0.8772 & \\dots &  &  &  &  &  &  & \n\\end{bmatrix}$"
     },
     "metadata": {},
     "output_type": "display_data"
    }
   ],
   "source": [
    "mdisplay(rand2D_sparse, \"latex\")"
   ]
  },
  {
   "cell_type": "markdown",
   "metadata": {
    "ExecuteTime": {
     "end_time": "2023-09-06T22:34:13.360119Z",
     "start_time": "2023-09-06T22:34:13.354250Z"
    },
    "collapsed": false,
    "jupyter": {
     "outputs_hidden": false
    }
   },
   "source": [
    "## String"
   ]
  },
  {
   "cell_type": "code",
   "execution_count": 15,
   "metadata": {
    "collapsed": false,
    "jupyter": {
     "outputs_hidden": false
    },
    "ExecuteTime": {
     "end_time": "2023-09-07T02:24:07.814564Z",
     "start_time": "2023-09-07T02:24:07.786166Z"
    }
   },
   "outputs": [
    {
     "name": "stdout",
     "output_type": "stream",
     "text": [
      "<128×64, 3304 '<dtype: 'float32'>' elements, tf.SparseTensor>\n",
      "        0       1       2       3            60      61      62      63\n",
      "    ┌                                                                     ┐\n",
      "  0 │                 0.648           ...                  0.8016         │\n",
      "  1 │                         0.6572  ...          0.8348  0.6638  0.735  │\n",
      "  2 │                                 ...          0.8845          0.6323 │\n",
      "  3 │ 0.7025          0.8244  0.9619  ...  0.7132  0.6676  0.7929         │\n",
      "  4 │ 0.9482  0.7316                  ...  0.656   0.9197                 │\n",
      "    │   :       :       :       :     ...    :       :       :       :    │\n",
      "123 │         0.8794                  ...                                 │\n",
      "124 │ 0.9892  0.8918          0.8262  ...  0.9966          0.6415         │\n",
      "125 │                 0.7946          ...                          0.6766 │\n",
      "126 │         0.9059  0.8707          ...  0.9893  0.7788  0.7175  0.6775 │\n",
      "127 │         0.9523  0.6485  0.9578  ...                                 │\n",
      "    └                                                                     ┘\n"
     ]
    }
   ],
   "source": [
    "mprint(rand2D_sparse)"
   ]
  },
  {
   "cell_type": "markdown",
   "metadata": {
    "ExecuteTime": {
     "end_time": "2023-09-06T22:34:13.387721Z",
     "start_time": "2023-09-06T22:34:13.384682Z"
    }
   },
   "source": [
    "## More compact size"
   ]
  },
  {
   "cell_type": "code",
   "execution_count": 16,
   "metadata": {
    "collapsed": false,
    "jupyter": {
     "outputs_hidden": false
    },
    "ExecuteTime": {
     "end_time": "2023-09-07T02:24:07.816173Z",
     "start_time": "2023-09-07T02:24:07.813042Z"
    }
   },
   "outputs": [],
   "source": [
    "import matrepr\n",
    "matrepr.params.max_rows = 10\n",
    "matrepr.params.max_cols = 7\n",
    "matrepr.params.num_after_dots = 0"
   ]
  },
  {
   "cell_type": "code",
   "execution_count": 17,
   "metadata": {
    "collapsed": false,
    "jupyter": {
     "outputs_hidden": false
    },
    "ExecuteTime": {
     "end_time": "2023-09-07T02:24:07.819530Z",
     "start_time": "2023-09-07T02:24:07.816963Z"
    }
   },
   "outputs": [
    {
     "data": {
      "text/plain": "SparseTensor(indices=tf.Tensor(\n[[  0   2]\n [  0   6]\n [  0   7]\n ...\n [127  44]\n [127  45]\n [127  46]], shape=(3304, 2), dtype=int64), values=tf.Tensor([0.64804935 0.7057973  0.7185966  ... 0.79349816 0.85203743 0.95652413], shape=(3304,), dtype=float32), dense_shape=tf.Tensor([128  64], shape=(2,), dtype=int64))",
      "text/html": "<div>\n<style scoped>\n    table.matreprmatrix caption {\n        white-space: pre;\n        text-align: center;\n    }\n    table.matreprmatrix  {\n        border-collapse: collapse;\n    }\n    table.matreprmatrix > thead  {\n        border: 0px;\n    }\n    table.matreprmatrix > tbody tr th {\n        font-size: smaller;\n        vertical-align: middle;\n        text-align: right;\n    }\n    table.matreprmatrix > thead tr th {\n        font-size: smaller;\n        vertical-align: middle;\n        text-align: center;\n    }\n    table.matreprmatrix > tbody tr td {\n        vertical-align: middle;\n        text-align: center;\n        position: relative;\n    }\n    table.matreprmatrix > tbody tr td:first-of-type {\n        border-left: solid 2px;\n    }\n    table.matreprmatrix > tbody tr td:last-of-type {\n        border-right: solid 2px;\n    }\n    table.matreprmatrix > tbody tr td:empty::before {\n        content: \"\\00a0\\00a0\\00a0\";\n        visibility: hidden;\n    }\n    table.matreprmatrix > tbody tr td:empty::after {\n        content: \"\\00a0\\00a0\\00a0\";\n        visibility: hidden;\n    }\n    table.matreprmatrix > tbody > tr:first-child > td:first-of-type::before {\n        content: \"\";\n        width: 4px;\n        position: absolute;\n        top: 0;\n        bottom: 0;\n        visibility: visible;\n        left: 0;\n        right: auto;\n        border-top: solid 2px;\n    }\n    table.matreprmatrix > tbody > tr:last-child > td:first-of-type::before {\n        content: \"\";\n        width: 4px;\n        position: absolute;\n        top: 0;\n        bottom: 0;\n        visibility: visible;\n        left: 0;\n        right: auto;\n        border-bottom: solid 2px;\n    }\n    table.matreprmatrix > tbody > tr:first-child > td:last-of-type::after {\n        content: \"\";\n        width: 4px;\n        position: absolute;\n        top: 0;\n        bottom: 0;\n        visibility: visible;\n        left: auto;\n        right: 0;\n        border-top: solid 2px;\n    }\n    table.matreprmatrix > tbody > tr:last-child > td:last-of-type::after {\n        content: \"\";\n        width: 4px;\n        position: absolute;\n        top: 0;\n        bottom: 0;\n        visibility: visible;\n        left: auto;\n        right: 0;\n        border-bottom: solid 2px;\n    }\n    table.matreprtensor caption {\n        white-space: pre;\n        text-align: center;\n    }\n    table.matreprtensor > thead  {\n        border: 0px;\n    }\n    table.matreprtensor > tbody tr th {\n        font-size: smaller;\n        vertical-align: middle;\n        text-align: right;\n    }\n    table.matreprtensor > thead tr th {\n        font-size: smaller;\n        vertical-align: middle;\n        text-align: center;\n    }\n    table.matreprtensor > tbody tr td {\n        vertical-align: middle;\n        text-align: center;\n        position: relative;\n    }\n    table.matreprtensor > tbody tr th:last-of-type {\n        border-right: solid 2px;\n    }\n</style>\n<table class=\"matreprmatrix\">\n<caption>128×64, 3304 &#x27;&lt;dtype: &#x27;float32&#x27;&gt;&#x27; elements, tf.SparseTensor</caption>\n    <thead>\n    <tr>\n        <th></th>\n        <th style=\"text-align: center;\">0</th>\n        <th style=\"text-align: center;\">1</th>\n        <th style=\"text-align: center;\">2</th>\n        <th style=\"text-align: center;\">3</th>\n        <th style=\"text-align: center;\">4</th>\n        <th style=\"text-align: center;\">5</th>\n        <th style=\"text-align: center;\"></th>\n    </tr>\n    </thead>\n    <tbody>\n    <tr>\n        <th>0</th>\n        <td style=\"text-align: center;\"></td>\n        <td style=\"text-align: center;\"></td>\n        <td style=\"text-align: center;\">0.648</td>\n        <td style=\"text-align: center;\"></td>\n        <td style=\"text-align: center;\"></td>\n        <td style=\"text-align: center;\"></td>\n        <td style=\"text-align: center;\">&ctdot;</td>\n    </tr>\n    <tr>\n        <th>1</th>\n        <td style=\"text-align: center;\"></td>\n        <td style=\"text-align: center;\"></td>\n        <td style=\"text-align: center;\"></td>\n        <td style=\"text-align: center;\">0.8406</td>\n        <td style=\"text-align: center;\"></td>\n        <td style=\"text-align: center;\"></td>\n        <td style=\"text-align: center;\">&ctdot;</td>\n    </tr>\n    <tr>\n        <th>2</th>\n        <td style=\"text-align: center;\"></td>\n        <td style=\"text-align: center;\"></td>\n        <td style=\"text-align: center;\"></td>\n        <td style=\"text-align: center;\"></td>\n        <td style=\"text-align: center;\"></td>\n        <td style=\"text-align: center;\">0.6736</td>\n        <td style=\"text-align: center;\">&ctdot;</td>\n    </tr>\n    <tr>\n        <th>3</th>\n        <td style=\"text-align: center;\">0.7025</td>\n        <td style=\"text-align: center;\"></td>\n        <td style=\"text-align: center;\">0.8244</td>\n        <td style=\"text-align: center;\"></td>\n        <td style=\"text-align: center;\">0.7593</td>\n        <td style=\"text-align: center;\">0.9223</td>\n        <td style=\"text-align: center;\">&ctdot;</td>\n    </tr>\n    <tr>\n        <th>4</th>\n        <td style=\"text-align: center;\">0.9482</td>\n        <td style=\"text-align: center;\">0.7316</td>\n        <td style=\"text-align: center;\"></td>\n        <td style=\"text-align: center;\">0.8779</td>\n        <td style=\"text-align: center;\"></td>\n        <td style=\"text-align: center;\">0.7649</td>\n        <td style=\"text-align: center;\">&ctdot;</td>\n    </tr>\n    <tr>\n        <th>5</th>\n        <td style=\"text-align: center;\">0.89</td>\n        <td style=\"text-align: center;\"></td>\n        <td style=\"text-align: center;\"></td>\n        <td style=\"text-align: center;\"></td>\n        <td style=\"text-align: center;\">0.6193</td>\n        <td style=\"text-align: center;\"></td>\n        <td style=\"text-align: center;\">&ctdot;</td>\n    </tr>\n    <tr>\n        <th>6</th>\n        <td style=\"text-align: center;\"></td>\n        <td style=\"text-align: center;\"></td>\n        <td style=\"text-align: center;\"></td>\n        <td style=\"text-align: center;\">0.9639</td>\n        <td style=\"text-align: center;\"></td>\n        <td style=\"text-align: center;\">0.7124</td>\n        <td style=\"text-align: center;\">&ctdot;</td>\n    </tr>\n    <tr>\n        <th>7</th>\n        <td style=\"text-align: center;\"></td>\n        <td style=\"text-align: center;\"></td>\n        <td style=\"text-align: center;\">0.9725</td>\n        <td style=\"text-align: center;\"></td>\n        <td style=\"text-align: center;\"></td>\n        <td style=\"text-align: center;\"></td>\n        <td style=\"text-align: center;\">&ctdot;</td>\n    </tr>\n    <tr>\n        <th>8</th>\n        <td style=\"text-align: center;\">0.9652</td>\n        <td style=\"text-align: center;\">0.7869</td>\n        <td style=\"text-align: center;\"></td>\n        <td style=\"text-align: center;\">0.9834</td>\n        <td style=\"text-align: center;\">0.7422</td>\n        <td style=\"text-align: center;\">0.776</td>\n        <td style=\"text-align: center;\">&ctdot;</td>\n    </tr>\n    <tr>\n        <th></th>\n        <td style=\"text-align: center;\">&vellip;</td>\n        <td style=\"text-align: center;\">&vellip;</td>\n        <td style=\"text-align: center;\">&vellip;</td>\n        <td style=\"text-align: center;\">&vellip;</td>\n        <td style=\"text-align: center;\">&vellip;</td>\n        <td style=\"text-align: center;\">&vellip;</td>\n        <td style=\"text-align: center;\">&dtdot;</td>\n    </tr>\n    </tbody>\n</table>\n</div>"
     },
     "execution_count": 17,
     "metadata": {},
     "output_type": "execute_result"
    }
   ],
   "source": [
    "rand2D_sparse"
   ]
  },
  {
   "cell_type": "code",
   "execution_count": 17,
   "metadata": {
    "collapsed": false,
    "jupyter": {
     "outputs_hidden": false
    },
    "ExecuteTime": {
     "end_time": "2023-09-07T02:24:07.821175Z",
     "start_time": "2023-09-07T02:24:07.819658Z"
    }
   },
   "outputs": [],
   "source": []
  }
 ],
 "metadata": {
  "kernelspec": {
   "display_name": "Python 3 (ipykernel)",
   "language": "python",
   "name": "python3"
  },
  "language_info": {
   "codemirror_mode": {
    "name": "ipython",
    "version": 3
   },
   "file_extension": ".py",
   "mimetype": "text/x-python",
   "name": "python",
   "nbconvert_exporter": "python",
   "pygments_lexer": "ipython3",
   "version": "3.11.5"
  }
 },
 "nbformat": 4,
 "nbformat_minor": 4
}
